{
 "cells": [
  {
   "cell_type": "markdown",
   "metadata": {},
   "source": [
    "# Imports"
   ]
  },
  {
   "cell_type": "code",
   "execution_count": 28,
   "metadata": {},
   "outputs": [],
   "source": [
    "import pyarrow as pa\n",
    "import pyarrow.parquet as pq\n",
    "\n",
    "import pandas as pd\n",
    "\n",
    "import matplotlib.pyplot as plt\n",
    "\n",
    "import matplotlib.pyplot as plt\n",
    "from ipywidgets import interact, fixed\n",
    "import numpy as np\n",
    "\n",
    "from scipy.stats import pearsonr, spearmanr\n",
    "\n",
    "import geopandas as gpd #heatmap\n",
    "import plotly.graph_objects as go"
   ]
  },
  {
   "cell_type": "code",
   "execution_count": 29,
   "metadata": {},
   "outputs": [],
   "source": [
    "MRD = 10**9"
   ]
  },
  {
   "cell_type": "markdown",
   "metadata": {},
   "source": [
    "# Data loading"
   ]
  },
  {
   "cell_type": "markdown",
   "metadata": {},
   "source": [
    "### BTC data"
   ]
  },
  {
   "cell_type": "code",
   "execution_count": 30,
   "metadata": {},
   "outputs": [
    {
     "data": {
      "text/html": [
       "<div>\n",
       "<style scoped>\n",
       "    .dataframe tbody tr th:only-of-type {\n",
       "        vertical-align: middle;\n",
       "    }\n",
       "\n",
       "    .dataframe tbody tr th {\n",
       "        vertical-align: top;\n",
       "    }\n",
       "\n",
       "    .dataframe thead th {\n",
       "        text-align: right;\n",
       "    }\n",
       "</style>\n",
       "<table border=\"1\" class=\"dataframe\">\n",
       "  <thead>\n",
       "    <tr style=\"text-align: right;\">\n",
       "      <th></th>\n",
       "      <th>high</th>\n",
       "      <th>date</th>\n",
       "      <th>year</th>\n",
       "    </tr>\n",
       "  </thead>\n",
       "  <tbody>\n",
       "    <tr>\n",
       "      <th>726</th>\n",
       "      <td>26550.072937</td>\n",
       "      <td>2023-05-04</td>\n",
       "      <td>2023</td>\n",
       "    </tr>\n",
       "    <tr>\n",
       "      <th>727</th>\n",
       "      <td>25148.010374</td>\n",
       "      <td>2023-05-11</td>\n",
       "      <td>2023</td>\n",
       "    </tr>\n",
       "    <tr>\n",
       "      <th>728</th>\n",
       "      <td>25338.472061</td>\n",
       "      <td>2023-05-17</td>\n",
       "      <td>2023</td>\n",
       "    </tr>\n",
       "    <tr>\n",
       "      <th>729</th>\n",
       "      <td>25279.405768</td>\n",
       "      <td>2023-05-24</td>\n",
       "      <td>2023</td>\n",
       "    </tr>\n",
       "    <tr>\n",
       "      <th>730</th>\n",
       "      <td>26131.181703</td>\n",
       "      <td>2023-05-30</td>\n",
       "      <td>2023</td>\n",
       "    </tr>\n",
       "  </tbody>\n",
       "</table>\n",
       "</div>"
      ],
      "text/plain": [
       "             high        date  year\n",
       "726  26550.072937  2023-05-04  2023\n",
       "727  25148.010374  2023-05-11  2023\n",
       "728  25338.472061  2023-05-17  2023\n",
       "729  25279.405768  2023-05-24  2023\n",
       "730  26131.181703  2023-05-30  2023"
      ]
     },
     "metadata": {},
     "output_type": "display_data"
    }
   ],
   "source": [
    "btc_price_data = pd.read_csv(\"data/BTC_ALL_graph_coinmarketcap.csv\",sep=\";\")\n",
    "\n",
    "#split off time of day\n",
    "btc_price_data[\"timestamp\"] = btc_price_data[\"timestamp\"].apply(lambda x: str(x).split(\"T\")[0]) \n",
    "btc_price_data = btc_price_data[[\"high\", \"timestamp\"]]\n",
    "btc_price_data.rename(columns={\"timestamp\": \"date\"}, inplace=True)\n",
    "\n",
    "\n",
    "btc_price_data[\"year\"] = btc_price_data[\"date\"].apply(lambda x: int(str(x).split(\"-\")[0]))\n",
    "\n",
    "btc_price_data = btc_price_data[btc_price_data['year'] >= 2011]\n",
    "\n",
    "display(btc_price_data.tail())"
   ]
  },
  {
   "cell_type": "markdown",
   "metadata": {},
   "source": [
    "### Actors data"
   ]
  },
  {
   "cell_type": "code",
   "execution_count": 31,
   "metadata": {},
   "outputs": [
    {
     "data": {
      "text/html": [
       "<div>\n",
       "<style scoped>\n",
       "    .dataframe tbody tr th:only-of-type {\n",
       "        vertical-align: middle;\n",
       "    }\n",
       "\n",
       "    .dataframe tbody tr th {\n",
       "        vertical-align: top;\n",
       "    }\n",
       "\n",
       "    .dataframe thead th {\n",
       "        text-align: right;\n",
       "    }\n",
       "</style>\n",
       "<table border=\"1\" class=\"dataframe\">\n",
       "  <thead>\n",
       "    <tr style=\"text-align: right;\">\n",
       "      <th></th>\n",
       "      <th>id</th>\n",
       "      <th>uri</th>\n",
       "      <th>label</th>\n",
       "      <th>jurisdictions</th>\n",
       "      <th>categories</th>\n",
       "    </tr>\n",
       "  </thead>\n",
       "  <tbody>\n",
       "    <tr>\n",
       "      <th>0</th>\n",
       "      <td>bilaxy</td>\n",
       "      <td>bilaxy.com</td>\n",
       "      <td>Bilaxy</td>\n",
       "      <td>HK</td>\n",
       "      <td>exchange</td>\n",
       "    </tr>\n",
       "    <tr>\n",
       "      <th>1</th>\n",
       "      <td>banxa</td>\n",
       "      <td>banxa.com</td>\n",
       "      <td>Banxa</td>\n",
       "      <td>AU, NL, US</td>\n",
       "      <td>exchange</td>\n",
       "    </tr>\n",
       "    <tr>\n",
       "      <th>2</th>\n",
       "      <td>aax</td>\n",
       "      <td>www.aax.com</td>\n",
       "      <td>Aax</td>\n",
       "      <td>SC</td>\n",
       "      <td>exchange</td>\n",
       "    </tr>\n",
       "    <tr>\n",
       "      <th>3</th>\n",
       "      <td>altcointrader</td>\n",
       "      <td>www.altcointrader.co.za</td>\n",
       "      <td>AltcoinTrader</td>\n",
       "      <td>ZA</td>\n",
       "      <td>exchange</td>\n",
       "    </tr>\n",
       "    <tr>\n",
       "      <th>4</th>\n",
       "      <td>azbit</td>\n",
       "      <td>azbit.com</td>\n",
       "      <td>Azbit</td>\n",
       "      <td>MH</td>\n",
       "      <td>exchange</td>\n",
       "    </tr>\n",
       "    <tr>\n",
       "      <th>...</th>\n",
       "      <td>...</td>\n",
       "      <td>...</td>\n",
       "      <td>...</td>\n",
       "      <td>...</td>\n",
       "      <td>...</td>\n",
       "    </tr>\n",
       "    <tr>\n",
       "      <th>309</th>\n",
       "      <td>stocksexchange</td>\n",
       "      <td>stex.com</td>\n",
       "      <td>Stex</td>\n",
       "      <td>EE</td>\n",
       "      <td>exchange</td>\n",
       "    </tr>\n",
       "    <tr>\n",
       "      <th>310</th>\n",
       "      <td>smenarnabitcoin</td>\n",
       "      <td>smenarnabitcoin.cz</td>\n",
       "      <td>Smenarnabitcoin</td>\n",
       "      <td>CZ</td>\n",
       "      <td>exchange</td>\n",
       "    </tr>\n",
       "    <tr>\n",
       "      <th>311</th>\n",
       "      <td>xapo</td>\n",
       "      <td>xapo.com</td>\n",
       "      <td>Xapo</td>\n",
       "      <td>US</td>\n",
       "      <td>exchange, service</td>\n",
       "    </tr>\n",
       "    <tr>\n",
       "      <th>312</th>\n",
       "      <td>yobit</td>\n",
       "      <td>yobit.net</td>\n",
       "      <td>YoBit</td>\n",
       "      <td>RU</td>\n",
       "      <td>exchange</td>\n",
       "    </tr>\n",
       "    <tr>\n",
       "      <th>313</th>\n",
       "      <td>woonetwork</td>\n",
       "      <td>woo.org</td>\n",
       "      <td>Woo Network (Exchange, Earn)</td>\n",
       "      <td>TW, VG</td>\n",
       "      <td>defi_dex, exchange, organization</td>\n",
       "    </tr>\n",
       "  </tbody>\n",
       "</table>\n",
       "<p>314 rows × 5 columns</p>\n",
       "</div>"
      ],
      "text/plain": [
       "                  id                      uri                         label  \\\n",
       "0             bilaxy               bilaxy.com                        Bilaxy   \n",
       "1              banxa                banxa.com                         Banxa   \n",
       "2                aax              www.aax.com                           Aax   \n",
       "3      altcointrader  www.altcointrader.co.za                 AltcoinTrader   \n",
       "4              azbit                azbit.com                         Azbit   \n",
       "..               ...                      ...                           ...   \n",
       "309   stocksexchange                 stex.com                          Stex   \n",
       "310  smenarnabitcoin       smenarnabitcoin.cz               Smenarnabitcoin   \n",
       "311             xapo                 xapo.com                          Xapo   \n",
       "312            yobit                yobit.net                         YoBit   \n",
       "313       woonetwork                  woo.org  Woo Network (Exchange, Earn)   \n",
       "\n",
       "    jurisdictions                        categories  \n",
       "0              HK                          exchange  \n",
       "1      AU, NL, US                          exchange  \n",
       "2              SC                          exchange  \n",
       "3              ZA                          exchange  \n",
       "4              MH                          exchange  \n",
       "..            ...                               ...  \n",
       "309            EE                          exchange  \n",
       "310            CZ                          exchange  \n",
       "311            US                 exchange, service  \n",
       "312            RU                          exchange  \n",
       "313        TW, VG  defi_dex, exchange, organization  \n",
       "\n",
       "[314 rows x 5 columns]"
      ]
     },
     "execution_count": 31,
     "metadata": {},
     "output_type": "execute_result"
    }
   ],
   "source": [
    "actors = pq.read_table(\"data/actors.parquet\")\n",
    "actors_df = actors.to_pandas()\n",
    "\n",
    "actors_df"
   ]
  },
  {
   "cell_type": "markdown",
   "metadata": {},
   "source": [
    "### Flow data"
   ]
  },
  {
   "cell_type": "code",
   "execution_count": 32,
   "metadata": {},
   "outputs": [
    {
     "data": {
      "text/html": [
       "<div>\n",
       "<style scoped>\n",
       "    .dataframe tbody tr th:only-of-type {\n",
       "        vertical-align: middle;\n",
       "    }\n",
       "\n",
       "    .dataframe tbody tr th {\n",
       "        vertical-align: top;\n",
       "    }\n",
       "\n",
       "    .dataframe thead th {\n",
       "        text-align: right;\n",
       "    }\n",
       "</style>\n",
       "<table border=\"1\" class=\"dataframe\">\n",
       "  <thead>\n",
       "    <tr style=\"text-align: right;\">\n",
       "      <th></th>\n",
       "      <th>src_id</th>\n",
       "      <th>dst_id</th>\n",
       "      <th>value_asset</th>\n",
       "      <th>value_USD</th>\n",
       "      <th>date</th>\n",
       "    </tr>\n",
       "  </thead>\n",
       "  <tbody>\n",
       "    <tr>\n",
       "      <th>0</th>\n",
       "      <td>1coin</td>\n",
       "      <td>1coin</td>\n",
       "      <td>36870000</td>\n",
       "      <td>243.755870</td>\n",
       "      <td>2014-03-03</td>\n",
       "    </tr>\n",
       "    <tr>\n",
       "      <th>1</th>\n",
       "      <td>1coin</td>\n",
       "      <td>1coin</td>\n",
       "      <td>380120000</td>\n",
       "      <td>2378.899210</td>\n",
       "      <td>2014-03-10</td>\n",
       "    </tr>\n",
       "    <tr>\n",
       "      <th>2</th>\n",
       "      <td>1coin</td>\n",
       "      <td>1coin</td>\n",
       "      <td>429150403</td>\n",
       "      <td>2738.687542</td>\n",
       "      <td>2014-03-13</td>\n",
       "    </tr>\n",
       "    <tr>\n",
       "      <th>3</th>\n",
       "      <td>1coin</td>\n",
       "      <td>1coin</td>\n",
       "      <td>333900098</td>\n",
       "      <td>2092.574397</td>\n",
       "      <td>2014-03-14</td>\n",
       "    </tr>\n",
       "    <tr>\n",
       "      <th>4</th>\n",
       "      <td>1coin</td>\n",
       "      <td>1coin</td>\n",
       "      <td>779334803</td>\n",
       "      <td>4938.373652</td>\n",
       "      <td>2014-03-15</td>\n",
       "    </tr>\n",
       "    <tr>\n",
       "      <th>...</th>\n",
       "      <td>...</td>\n",
       "      <td>...</td>\n",
       "      <td>...</td>\n",
       "      <td>...</td>\n",
       "      <td>...</td>\n",
       "    </tr>\n",
       "    <tr>\n",
       "      <th>1939582</th>\n",
       "      <td>zyado</td>\n",
       "      <td>zyado</td>\n",
       "      <td>1019592</td>\n",
       "      <td>11.368847</td>\n",
       "      <td>2017-03-21</td>\n",
       "    </tr>\n",
       "    <tr>\n",
       "      <th>1939583</th>\n",
       "      <td>zyado</td>\n",
       "      <td>zyado</td>\n",
       "      <td>1004152</td>\n",
       "      <td>13.325487</td>\n",
       "      <td>2017-04-29</td>\n",
       "    </tr>\n",
       "    <tr>\n",
       "      <th>1939584</th>\n",
       "      <td>zyado</td>\n",
       "      <td>zyado</td>\n",
       "      <td>39850720</td>\n",
       "      <td>5966.967603</td>\n",
       "      <td>2018-01-10</td>\n",
       "    </tr>\n",
       "    <tr>\n",
       "      <th>1939585</th>\n",
       "      <td>zyado</td>\n",
       "      <td>zyado</td>\n",
       "      <td>19251202</td>\n",
       "      <td>1730.115174</td>\n",
       "      <td>2018-04-27</td>\n",
       "    </tr>\n",
       "    <tr>\n",
       "      <th>1939586</th>\n",
       "      <td>zyado</td>\n",
       "      <td>zyado</td>\n",
       "      <td>9314002</td>\n",
       "      <td>740.610294</td>\n",
       "      <td>2018-07-26</td>\n",
       "    </tr>\n",
       "  </tbody>\n",
       "</table>\n",
       "<p>1939587 rows × 5 columns</p>\n",
       "</div>"
      ],
      "text/plain": [
       "        src_id dst_id  value_asset    value_USD        date\n",
       "0        1coin  1coin     36870000   243.755870  2014-03-03\n",
       "1        1coin  1coin    380120000  2378.899210  2014-03-10\n",
       "2        1coin  1coin    429150403  2738.687542  2014-03-13\n",
       "3        1coin  1coin    333900098  2092.574397  2014-03-14\n",
       "4        1coin  1coin    779334803  4938.373652  2014-03-15\n",
       "...        ...    ...          ...          ...         ...\n",
       "1939582  zyado  zyado      1019592    11.368847  2017-03-21\n",
       "1939583  zyado  zyado      1004152    13.325487  2017-04-29\n",
       "1939584  zyado  zyado     39850720  5966.967603  2018-01-10\n",
       "1939585  zyado  zyado     19251202  1730.115174  2018-04-27\n",
       "1939586  zyado  zyado      9314002   740.610294  2018-07-26\n",
       "\n",
       "[1939587 rows x 5 columns]"
      ]
     },
     "execution_count": 32,
     "metadata": {},
     "output_type": "execute_result"
    }
   ],
   "source": [
    "flows = pq.read_table(\"data/flows.parquet\")\n",
    "flows_df = flows.to_pandas()\n",
    "\n",
    "flows_df"
   ]
  },
  {
   "cell_type": "markdown",
   "metadata": {},
   "source": [
    "### Country Codes"
   ]
  },
  {
   "cell_type": "code",
   "execution_count": 33,
   "metadata": {},
   "outputs": [
    {
     "data": {
      "text/html": [
       "<div>\n",
       "<style scoped>\n",
       "    .dataframe tbody tr th:only-of-type {\n",
       "        vertical-align: middle;\n",
       "    }\n",
       "\n",
       "    .dataframe tbody tr th {\n",
       "        vertical-align: top;\n",
       "    }\n",
       "\n",
       "    .dataframe thead th {\n",
       "        text-align: right;\n",
       "    }\n",
       "</style>\n",
       "<table border=\"1\" class=\"dataframe\">\n",
       "  <thead>\n",
       "    <tr style=\"text-align: right;\">\n",
       "      <th></th>\n",
       "      <th>name</th>\n",
       "      <th>alpha-2</th>\n",
       "      <th>alpha-3</th>\n",
       "      <th>country-code</th>\n",
       "      <th>iso_3166-2</th>\n",
       "      <th>region</th>\n",
       "      <th>sub-region</th>\n",
       "      <th>intermediate-region</th>\n",
       "      <th>region-code</th>\n",
       "      <th>sub-region-code</th>\n",
       "      <th>intermediate-region-code</th>\n",
       "    </tr>\n",
       "  </thead>\n",
       "  <tbody>\n",
       "    <tr>\n",
       "      <th>0</th>\n",
       "      <td>Afghanistan</td>\n",
       "      <td>AF</td>\n",
       "      <td>AFG</td>\n",
       "      <td>4</td>\n",
       "      <td>ISO 3166-2:AF</td>\n",
       "      <td>Asia</td>\n",
       "      <td>Southern Asia</td>\n",
       "      <td>NaN</td>\n",
       "      <td>142.0</td>\n",
       "      <td>34.0</td>\n",
       "      <td>NaN</td>\n",
       "    </tr>\n",
       "    <tr>\n",
       "      <th>1</th>\n",
       "      <td>Åland Islands</td>\n",
       "      <td>AX</td>\n",
       "      <td>ALA</td>\n",
       "      <td>248</td>\n",
       "      <td>ISO 3166-2:AX</td>\n",
       "      <td>Europe</td>\n",
       "      <td>Northern Europe</td>\n",
       "      <td>NaN</td>\n",
       "      <td>150.0</td>\n",
       "      <td>154.0</td>\n",
       "      <td>NaN</td>\n",
       "    </tr>\n",
       "    <tr>\n",
       "      <th>2</th>\n",
       "      <td>Albania</td>\n",
       "      <td>AL</td>\n",
       "      <td>ALB</td>\n",
       "      <td>8</td>\n",
       "      <td>ISO 3166-2:AL</td>\n",
       "      <td>Europe</td>\n",
       "      <td>Southern Europe</td>\n",
       "      <td>NaN</td>\n",
       "      <td>150.0</td>\n",
       "      <td>39.0</td>\n",
       "      <td>NaN</td>\n",
       "    </tr>\n",
       "    <tr>\n",
       "      <th>3</th>\n",
       "      <td>Algeria</td>\n",
       "      <td>DZ</td>\n",
       "      <td>DZA</td>\n",
       "      <td>12</td>\n",
       "      <td>ISO 3166-2:DZ</td>\n",
       "      <td>Africa</td>\n",
       "      <td>Northern Africa</td>\n",
       "      <td>NaN</td>\n",
       "      <td>2.0</td>\n",
       "      <td>15.0</td>\n",
       "      <td>NaN</td>\n",
       "    </tr>\n",
       "    <tr>\n",
       "      <th>4</th>\n",
       "      <td>American Samoa</td>\n",
       "      <td>AS</td>\n",
       "      <td>ASM</td>\n",
       "      <td>16</td>\n",
       "      <td>ISO 3166-2:AS</td>\n",
       "      <td>Oceania</td>\n",
       "      <td>Polynesia</td>\n",
       "      <td>NaN</td>\n",
       "      <td>9.0</td>\n",
       "      <td>61.0</td>\n",
       "      <td>NaN</td>\n",
       "    </tr>\n",
       "  </tbody>\n",
       "</table>\n",
       "</div>"
      ],
      "text/plain": [
       "             name alpha-2 alpha-3  country-code     iso_3166-2   region  \\\n",
       "0     Afghanistan      AF     AFG             4  ISO 3166-2:AF     Asia   \n",
       "1   Åland Islands      AX     ALA           248  ISO 3166-2:AX   Europe   \n",
       "2         Albania      AL     ALB             8  ISO 3166-2:AL   Europe   \n",
       "3         Algeria      DZ     DZA            12  ISO 3166-2:DZ   Africa   \n",
       "4  American Samoa      AS     ASM            16  ISO 3166-2:AS  Oceania   \n",
       "\n",
       "        sub-region intermediate-region  region-code  sub-region-code  \\\n",
       "0    Southern Asia                 NaN        142.0             34.0   \n",
       "1  Northern Europe                 NaN        150.0            154.0   \n",
       "2  Southern Europe                 NaN        150.0             39.0   \n",
       "3  Northern Africa                 NaN          2.0             15.0   \n",
       "4        Polynesia                 NaN          9.0             61.0   \n",
       "\n",
       "   intermediate-region-code  \n",
       "0                       NaN  \n",
       "1                       NaN  \n",
       "2                       NaN  \n",
       "3                       NaN  \n",
       "4                       NaN  "
      ]
     },
     "metadata": {},
     "output_type": "display_data"
    }
   ],
   "source": [
    "# Load country codes (source: https://github.com/lukes/ISO-3166-Countries-with-Regional-Codes)\n",
    "country_codes = pd.read_csv('data/country_codes.csv')\n",
    "\n",
    "display(country_codes.head())"
   ]
  },
  {
   "cell_type": "markdown",
   "metadata": {},
   "source": [
    "### GDP (PPP) Data"
   ]
  },
  {
   "cell_type": "code",
   "execution_count": 34,
   "metadata": {},
   "outputs": [
    {
     "data": {
      "text/html": [
       "<div>\n",
       "<style scoped>\n",
       "    .dataframe tbody tr th:only-of-type {\n",
       "        vertical-align: middle;\n",
       "    }\n",
       "\n",
       "    .dataframe tbody tr th {\n",
       "        vertical-align: top;\n",
       "    }\n",
       "\n",
       "    .dataframe thead th {\n",
       "        text-align: right;\n",
       "    }\n",
       "</style>\n",
       "<table border=\"1\" class=\"dataframe\">\n",
       "  <thead>\n",
       "    <tr style=\"text-align: right;\">\n",
       "      <th></th>\n",
       "      <th>Country Name</th>\n",
       "      <th>Country Code</th>\n",
       "      <th>Indicator Name</th>\n",
       "      <th>Indicator Code</th>\n",
       "      <th>1960</th>\n",
       "      <th>1961</th>\n",
       "      <th>1962</th>\n",
       "      <th>1963</th>\n",
       "      <th>1964</th>\n",
       "      <th>1965</th>\n",
       "      <th>...</th>\n",
       "      <th>2014</th>\n",
       "      <th>2015</th>\n",
       "      <th>2016</th>\n",
       "      <th>2017</th>\n",
       "      <th>2018</th>\n",
       "      <th>2019</th>\n",
       "      <th>2020</th>\n",
       "      <th>2021</th>\n",
       "      <th>2022</th>\n",
       "      <th>Unnamed: 67</th>\n",
       "    </tr>\n",
       "  </thead>\n",
       "  <tbody>\n",
       "    <tr>\n",
       "      <th>0</th>\n",
       "      <td>Aruba</td>\n",
       "      <td>ABW</td>\n",
       "      <td>GDP per capita, PPP (current international $)</td>\n",
       "      <td>NY.GDP.PCAP.PP.CD</td>\n",
       "      <td>NaN</td>\n",
       "      <td>NaN</td>\n",
       "      <td>NaN</td>\n",
       "      <td>NaN</td>\n",
       "      <td>NaN</td>\n",
       "      <td>NaN</td>\n",
       "      <td>...</td>\n",
       "      <td>36846.848285</td>\n",
       "      <td>37343.912963</td>\n",
       "      <td>37583.840323</td>\n",
       "      <td>38865.188195</td>\n",
       "      <td>41679.238190</td>\n",
       "      <td>42501.641554</td>\n",
       "      <td>34971.009913</td>\n",
       "      <td>42698.359872</td>\n",
       "      <td>NaN</td>\n",
       "      <td>NaN</td>\n",
       "    </tr>\n",
       "    <tr>\n",
       "      <th>1</th>\n",
       "      <td>Africa Eastern and Southern</td>\n",
       "      <td>AFE</td>\n",
       "      <td>GDP per capita, PPP (current international $)</td>\n",
       "      <td>NY.GDP.PCAP.PP.CD</td>\n",
       "      <td>NaN</td>\n",
       "      <td>NaN</td>\n",
       "      <td>NaN</td>\n",
       "      <td>NaN</td>\n",
       "      <td>NaN</td>\n",
       "      <td>NaN</td>\n",
       "      <td>...</td>\n",
       "      <td>3470.550675</td>\n",
       "      <td>3498.125396</td>\n",
       "      <td>3591.099809</td>\n",
       "      <td>3635.564622</td>\n",
       "      <td>3724.868177</td>\n",
       "      <td>3777.972368</td>\n",
       "      <td>3621.058106</td>\n",
       "      <td>3839.470058</td>\n",
       "      <td>NaN</td>\n",
       "      <td>NaN</td>\n",
       "    </tr>\n",
       "    <tr>\n",
       "      <th>2</th>\n",
       "      <td>Afghanistan</td>\n",
       "      <td>AFG</td>\n",
       "      <td>GDP per capita, PPP (current international $)</td>\n",
       "      <td>NY.GDP.PCAP.PP.CD</td>\n",
       "      <td>NaN</td>\n",
       "      <td>NaN</td>\n",
       "      <td>NaN</td>\n",
       "      <td>NaN</td>\n",
       "      <td>NaN</td>\n",
       "      <td>NaN</td>\n",
       "      <td>...</td>\n",
       "      <td>2110.829568</td>\n",
       "      <td>2128.125938</td>\n",
       "      <td>2023.834656</td>\n",
       "      <td>2096.093111</td>\n",
       "      <td>2109.929296</td>\n",
       "      <td>2167.704111</td>\n",
       "      <td>2076.138380</td>\n",
       "      <td>1665.805842</td>\n",
       "      <td>NaN</td>\n",
       "      <td>NaN</td>\n",
       "    </tr>\n",
       "    <tr>\n",
       "      <th>3</th>\n",
       "      <td>Africa Western and Central</td>\n",
       "      <td>AFW</td>\n",
       "      <td>GDP per capita, PPP (current international $)</td>\n",
       "      <td>NY.GDP.PCAP.PP.CD</td>\n",
       "      <td>NaN</td>\n",
       "      <td>NaN</td>\n",
       "      <td>NaN</td>\n",
       "      <td>NaN</td>\n",
       "      <td>NaN</td>\n",
       "      <td>NaN</td>\n",
       "      <td>...</td>\n",
       "      <td>4143.177054</td>\n",
       "      <td>4075.994459</td>\n",
       "      <td>3998.951876</td>\n",
       "      <td>4045.303263</td>\n",
       "      <td>4160.540965</td>\n",
       "      <td>4264.731035</td>\n",
       "      <td>4174.504565</td>\n",
       "      <td>4409.450961</td>\n",
       "      <td>NaN</td>\n",
       "      <td>NaN</td>\n",
       "    </tr>\n",
       "    <tr>\n",
       "      <th>4</th>\n",
       "      <td>Angola</td>\n",
       "      <td>AGO</td>\n",
       "      <td>GDP per capita, PPP (current international $)</td>\n",
       "      <td>NY.GDP.PCAP.PP.CD</td>\n",
       "      <td>NaN</td>\n",
       "      <td>NaN</td>\n",
       "      <td>NaN</td>\n",
       "      <td>NaN</td>\n",
       "      <td>NaN</td>\n",
       "      <td>NaN</td>\n",
       "      <td>...</td>\n",
       "      <td>8123.048065</td>\n",
       "      <td>7274.090475</td>\n",
       "      <td>7027.146634</td>\n",
       "      <td>7216.061373</td>\n",
       "      <td>7042.923829</td>\n",
       "      <td>6881.076241</td>\n",
       "      <td>6362.636076</td>\n",
       "      <td>6491.125578</td>\n",
       "      <td>NaN</td>\n",
       "      <td>NaN</td>\n",
       "    </tr>\n",
       "  </tbody>\n",
       "</table>\n",
       "<p>5 rows × 68 columns</p>\n",
       "</div>"
      ],
      "text/plain": [
       "                  Country Name Country Code  \\\n",
       "0                        Aruba          ABW   \n",
       "1  Africa Eastern and Southern          AFE   \n",
       "2                  Afghanistan          AFG   \n",
       "3   Africa Western and Central          AFW   \n",
       "4                       Angola          AGO   \n",
       "\n",
       "                                  Indicator Name     Indicator Code  1960  \\\n",
       "0  GDP per capita, PPP (current international $)  NY.GDP.PCAP.PP.CD   NaN   \n",
       "1  GDP per capita, PPP (current international $)  NY.GDP.PCAP.PP.CD   NaN   \n",
       "2  GDP per capita, PPP (current international $)  NY.GDP.PCAP.PP.CD   NaN   \n",
       "3  GDP per capita, PPP (current international $)  NY.GDP.PCAP.PP.CD   NaN   \n",
       "4  GDP per capita, PPP (current international $)  NY.GDP.PCAP.PP.CD   NaN   \n",
       "\n",
       "   1961  1962  1963  1964  1965  ...          2014          2015  \\\n",
       "0   NaN   NaN   NaN   NaN   NaN  ...  36846.848285  37343.912963   \n",
       "1   NaN   NaN   NaN   NaN   NaN  ...   3470.550675   3498.125396   \n",
       "2   NaN   NaN   NaN   NaN   NaN  ...   2110.829568   2128.125938   \n",
       "3   NaN   NaN   NaN   NaN   NaN  ...   4143.177054   4075.994459   \n",
       "4   NaN   NaN   NaN   NaN   NaN  ...   8123.048065   7274.090475   \n",
       "\n",
       "           2016          2017          2018          2019          2020  \\\n",
       "0  37583.840323  38865.188195  41679.238190  42501.641554  34971.009913   \n",
       "1   3591.099809   3635.564622   3724.868177   3777.972368   3621.058106   \n",
       "2   2023.834656   2096.093111   2109.929296   2167.704111   2076.138380   \n",
       "3   3998.951876   4045.303263   4160.540965   4264.731035   4174.504565   \n",
       "4   7027.146634   7216.061373   7042.923829   6881.076241   6362.636076   \n",
       "\n",
       "           2021  2022  Unnamed: 67  \n",
       "0  42698.359872   NaN          NaN  \n",
       "1   3839.470058   NaN          NaN  \n",
       "2   1665.805842   NaN          NaN  \n",
       "3   4409.450961   NaN          NaN  \n",
       "4   6491.125578   NaN          NaN  \n",
       "\n",
       "[5 rows x 68 columns]"
      ]
     },
     "metadata": {},
     "output_type": "display_data"
    },
    {
     "data": {
      "text/html": [
       "<div>\n",
       "<style scoped>\n",
       "    .dataframe tbody tr th:only-of-type {\n",
       "        vertical-align: middle;\n",
       "    }\n",
       "\n",
       "    .dataframe tbody tr th {\n",
       "        vertical-align: top;\n",
       "    }\n",
       "\n",
       "    .dataframe thead th {\n",
       "        text-align: right;\n",
       "    }\n",
       "</style>\n",
       "<table border=\"1\" class=\"dataframe\">\n",
       "  <thead>\n",
       "    <tr style=\"text-align: right;\">\n",
       "      <th></th>\n",
       "      <th>Country Code</th>\n",
       "      <th>Region</th>\n",
       "      <th>IncomeGroup</th>\n",
       "      <th>SpecialNotes</th>\n",
       "      <th>TableName</th>\n",
       "      <th>Unnamed: 5</th>\n",
       "    </tr>\n",
       "  </thead>\n",
       "  <tbody>\n",
       "    <tr>\n",
       "      <th>0</th>\n",
       "      <td>ABW</td>\n",
       "      <td>Latin America &amp; Caribbean</td>\n",
       "      <td>High income</td>\n",
       "      <td>NaN</td>\n",
       "      <td>Aruba</td>\n",
       "      <td>NaN</td>\n",
       "    </tr>\n",
       "    <tr>\n",
       "      <th>1</th>\n",
       "      <td>AFE</td>\n",
       "      <td>NaN</td>\n",
       "      <td>NaN</td>\n",
       "      <td>26 countries, stretching from the Red Sea in t...</td>\n",
       "      <td>Africa Eastern and Southern</td>\n",
       "      <td>NaN</td>\n",
       "    </tr>\n",
       "    <tr>\n",
       "      <th>2</th>\n",
       "      <td>AFG</td>\n",
       "      <td>South Asia</td>\n",
       "      <td>Low income</td>\n",
       "      <td>The reporting period for national accounts dat...</td>\n",
       "      <td>Afghanistan</td>\n",
       "      <td>NaN</td>\n",
       "    </tr>\n",
       "    <tr>\n",
       "      <th>3</th>\n",
       "      <td>AFW</td>\n",
       "      <td>NaN</td>\n",
       "      <td>NaN</td>\n",
       "      <td>22 countries, stretching from the westernmost ...</td>\n",
       "      <td>Africa Western and Central</td>\n",
       "      <td>NaN</td>\n",
       "    </tr>\n",
       "    <tr>\n",
       "      <th>4</th>\n",
       "      <td>AGO</td>\n",
       "      <td>Sub-Saharan Africa</td>\n",
       "      <td>Lower middle income</td>\n",
       "      <td>The World Bank systematically assesses the app...</td>\n",
       "      <td>Angola</td>\n",
       "      <td>NaN</td>\n",
       "    </tr>\n",
       "  </tbody>\n",
       "</table>\n",
       "</div>"
      ],
      "text/plain": [
       "  Country Code                     Region          IncomeGroup  \\\n",
       "0          ABW  Latin America & Caribbean          High income   \n",
       "1          AFE                        NaN                  NaN   \n",
       "2          AFG                 South Asia           Low income   \n",
       "3          AFW                        NaN                  NaN   \n",
       "4          AGO         Sub-Saharan Africa  Lower middle income   \n",
       "\n",
       "                                        SpecialNotes  \\\n",
       "0                                                NaN   \n",
       "1  26 countries, stretching from the Red Sea in t...   \n",
       "2  The reporting period for national accounts dat...   \n",
       "3  22 countries, stretching from the westernmost ...   \n",
       "4  The World Bank systematically assesses the app...   \n",
       "\n",
       "                     TableName  Unnamed: 5  \n",
       "0                        Aruba         NaN  \n",
       "1  Africa Eastern and Southern         NaN  \n",
       "2                  Afghanistan         NaN  \n",
       "3   Africa Western and Central         NaN  \n",
       "4                       Angola         NaN  "
      ]
     },
     "metadata": {},
     "output_type": "display_data"
    }
   ],
   "source": [
    "# Load GDP data (PPP) (Source: https://data.worldbank.org/indicator/NY.GDP.PCAP.PP.CD)\n",
    "gdp = pd.read_csv('data/gdp.csv', skiprows=3)\n",
    "gdp_meta = pd.read_csv('data/gdp_meta.csv')\n",
    "\n",
    "display(gdp.head())\n",
    "display(gdp_meta.head())"
   ]
  },
  {
   "cell_type": "markdown",
   "metadata": {},
   "source": [
    "### Overall BTC Trading Volume"
   ]
  },
  {
   "cell_type": "code",
   "execution_count": 35,
   "metadata": {},
   "outputs": [
    {
     "data": {
      "text/html": [
       "<div>\n",
       "<style scoped>\n",
       "    .dataframe tbody tr th:only-of-type {\n",
       "        vertical-align: middle;\n",
       "    }\n",
       "\n",
       "    .dataframe tbody tr th {\n",
       "        vertical-align: top;\n",
       "    }\n",
       "\n",
       "    .dataframe thead th {\n",
       "        text-align: right;\n",
       "    }\n",
       "</style>\n",
       "<table border=\"1\" class=\"dataframe\">\n",
       "  <thead>\n",
       "    <tr style=\"text-align: right;\">\n",
       "      <th></th>\n",
       "      <th>Time</th>\n",
       "      <th>price</th>\n",
       "      <th>volume</th>\n",
       "      <th>year</th>\n",
       "    </tr>\n",
       "  </thead>\n",
       "  <tbody>\n",
       "    <tr>\n",
       "      <th>0</th>\n",
       "      <td>2010-07-01 00:00:00+00:00</td>\n",
       "      <td>0.064460</td>\n",
       "      <td>1.966753e+03</td>\n",
       "      <td>2010</td>\n",
       "    </tr>\n",
       "    <tr>\n",
       "      <th>1</th>\n",
       "      <td>2010-08-01 00:00:00+00:00</td>\n",
       "      <td>0.064572</td>\n",
       "      <td>1.428969e+04</td>\n",
       "      <td>2010</td>\n",
       "    </tr>\n",
       "    <tr>\n",
       "      <th>2</th>\n",
       "      <td>2010-09-01 00:00:00+00:00</td>\n",
       "      <td>0.061903</td>\n",
       "      <td>1.344608e+04</td>\n",
       "      <td>2010</td>\n",
       "    </tr>\n",
       "    <tr>\n",
       "      <th>3</th>\n",
       "      <td>2010-10-01 00:00:00+00:00</td>\n",
       "      <td>0.108899</td>\n",
       "      <td>1.173847e+05</td>\n",
       "      <td>2010</td>\n",
       "    </tr>\n",
       "    <tr>\n",
       "      <th>4</th>\n",
       "      <td>2010-11-01 00:00:00+00:00</td>\n",
       "      <td>0.258841</td>\n",
       "      <td>2.237274e+05</td>\n",
       "      <td>2010</td>\n",
       "    </tr>\n",
       "    <tr>\n",
       "      <th>...</th>\n",
       "      <td>...</td>\n",
       "      <td>...</td>\n",
       "      <td>...</td>\n",
       "      <td>...</td>\n",
       "    </tr>\n",
       "    <tr>\n",
       "      <th>150</th>\n",
       "      <td>2023-01-01 00:00:00+00:00</td>\n",
       "      <td>20415.513027</td>\n",
       "      <td>2.299786e+10</td>\n",
       "      <td>2023</td>\n",
       "    </tr>\n",
       "    <tr>\n",
       "      <th>151</th>\n",
       "      <td>2023-02-01 00:00:00+00:00</td>\n",
       "      <td>23743.338494</td>\n",
       "      <td>1.333384e+10</td>\n",
       "      <td>2023</td>\n",
       "    </tr>\n",
       "    <tr>\n",
       "      <th>152</th>\n",
       "      <td>2023-03-01 00:00:00+00:00</td>\n",
       "      <td>25618.094071</td>\n",
       "      <td>2.468627e+10</td>\n",
       "      <td>2023</td>\n",
       "    </tr>\n",
       "    <tr>\n",
       "      <th>153</th>\n",
       "      <td>2023-04-01 00:00:00+00:00</td>\n",
       "      <td>29181.453834</td>\n",
       "      <td>1.686690e+10</td>\n",
       "      <td>2023</td>\n",
       "    </tr>\n",
       "    <tr>\n",
       "      <th>154</th>\n",
       "      <td>2023-05-01 00:00:00+00:00</td>\n",
       "      <td>27586.248919</td>\n",
       "      <td>1.452529e+10</td>\n",
       "      <td>2023</td>\n",
       "    </tr>\n",
       "  </tbody>\n",
       "</table>\n",
       "<p>155 rows × 4 columns</p>\n",
       "</div>"
      ],
      "text/plain": [
       "                         Time         price        volume  year\n",
       "0   2010-07-01 00:00:00+00:00      0.064460  1.966753e+03  2010\n",
       "1   2010-08-01 00:00:00+00:00      0.064572  1.428969e+04  2010\n",
       "2   2010-09-01 00:00:00+00:00      0.061903  1.344608e+04  2010\n",
       "3   2010-10-01 00:00:00+00:00      0.108899  1.173847e+05  2010\n",
       "4   2010-11-01 00:00:00+00:00      0.258841  2.237274e+05  2010\n",
       "..                        ...           ...           ...   ...\n",
       "150 2023-01-01 00:00:00+00:00  20415.513027  2.299786e+10  2023\n",
       "151 2023-02-01 00:00:00+00:00  23743.338494  1.333384e+10  2023\n",
       "152 2023-03-01 00:00:00+00:00  25618.094071  2.468627e+10  2023\n",
       "153 2023-04-01 00:00:00+00:00  29181.453834  1.686690e+10  2023\n",
       "154 2023-05-01 00:00:00+00:00  27586.248919  1.452529e+10  2023\n",
       "\n",
       "[155 rows x 4 columns]"
      ]
     },
     "metadata": {},
     "output_type": "display_data"
    }
   ],
   "source": [
    "trading_volume = pd.read_csv('data/bitcoin_trading_volume.csv')\n",
    "trading_volume.Time = pd.to_datetime(trading_volume.Time)\n",
    "trading_volume['year'] = trading_volume.Time.dt.year\n",
    "\n",
    "display(trading_volume)"
   ]
  },
  {
   "cell_type": "markdown",
   "metadata": {},
   "source": [
    "### Population data"
   ]
  },
  {
   "cell_type": "code",
   "execution_count": 36,
   "metadata": {},
   "outputs": [
    {
     "data": {
      "text/html": [
       "<div>\n",
       "<style scoped>\n",
       "    .dataframe tbody tr th:only-of-type {\n",
       "        vertical-align: middle;\n",
       "    }\n",
       "\n",
       "    .dataframe tbody tr th {\n",
       "        vertical-align: top;\n",
       "    }\n",
       "\n",
       "    .dataframe thead th {\n",
       "        text-align: right;\n",
       "    }\n",
       "</style>\n",
       "<table border=\"1\" class=\"dataframe\">\n",
       "  <thead>\n",
       "    <tr style=\"text-align: right;\">\n",
       "      <th></th>\n",
       "      <th>Country Name</th>\n",
       "      <th>Country Code</th>\n",
       "      <th>Indicator Name</th>\n",
       "      <th>Indicator Code</th>\n",
       "      <th>1960</th>\n",
       "      <th>1961</th>\n",
       "      <th>1962</th>\n",
       "      <th>1963</th>\n",
       "      <th>1964</th>\n",
       "      <th>1965</th>\n",
       "      <th>...</th>\n",
       "      <th>2014</th>\n",
       "      <th>2015</th>\n",
       "      <th>2016</th>\n",
       "      <th>2017</th>\n",
       "      <th>2018</th>\n",
       "      <th>2019</th>\n",
       "      <th>2020</th>\n",
       "      <th>2021</th>\n",
       "      <th>2022</th>\n",
       "      <th>Unnamed: 67</th>\n",
       "    </tr>\n",
       "  </thead>\n",
       "  <tbody>\n",
       "    <tr>\n",
       "      <th>0</th>\n",
       "      <td>Aruba</td>\n",
       "      <td>ABW</td>\n",
       "      <td>Population, total</td>\n",
       "      <td>SP.POP.TOTL</td>\n",
       "      <td>54608.0</td>\n",
       "      <td>55811.0</td>\n",
       "      <td>56682.0</td>\n",
       "      <td>57475.0</td>\n",
       "      <td>58178.0</td>\n",
       "      <td>58782.0</td>\n",
       "      <td>...</td>\n",
       "      <td>103594.0</td>\n",
       "      <td>104257.0</td>\n",
       "      <td>104874.0</td>\n",
       "      <td>105439.0</td>\n",
       "      <td>105962.0</td>\n",
       "      <td>106442.0</td>\n",
       "      <td>106585.0</td>\n",
       "      <td>106537.0</td>\n",
       "      <td>NaN</td>\n",
       "      <td>NaN</td>\n",
       "    </tr>\n",
       "    <tr>\n",
       "      <th>1</th>\n",
       "      <td>Africa Eastern and Southern</td>\n",
       "      <td>AFE</td>\n",
       "      <td>Population, total</td>\n",
       "      <td>SP.POP.TOTL</td>\n",
       "      <td>130692579.0</td>\n",
       "      <td>134169237.0</td>\n",
       "      <td>137835590.0</td>\n",
       "      <td>141630546.0</td>\n",
       "      <td>145605995.0</td>\n",
       "      <td>149742351.0</td>\n",
       "      <td>...</td>\n",
       "      <td>583650827.0</td>\n",
       "      <td>600008150.0</td>\n",
       "      <td>616377331.0</td>\n",
       "      <td>632746296.0</td>\n",
       "      <td>649756874.0</td>\n",
       "      <td>667242712.0</td>\n",
       "      <td>685112705.0</td>\n",
       "      <td>702976832.0</td>\n",
       "      <td>NaN</td>\n",
       "      <td>NaN</td>\n",
       "    </tr>\n",
       "    <tr>\n",
       "      <th>2</th>\n",
       "      <td>Afghanistan</td>\n",
       "      <td>AFG</td>\n",
       "      <td>Population, total</td>\n",
       "      <td>SP.POP.TOTL</td>\n",
       "      <td>8622466.0</td>\n",
       "      <td>8790140.0</td>\n",
       "      <td>8969047.0</td>\n",
       "      <td>9157465.0</td>\n",
       "      <td>9355514.0</td>\n",
       "      <td>9565147.0</td>\n",
       "      <td>...</td>\n",
       "      <td>32716210.0</td>\n",
       "      <td>33753499.0</td>\n",
       "      <td>34636207.0</td>\n",
       "      <td>35643418.0</td>\n",
       "      <td>36686784.0</td>\n",
       "      <td>37769499.0</td>\n",
       "      <td>38972230.0</td>\n",
       "      <td>40099462.0</td>\n",
       "      <td>NaN</td>\n",
       "      <td>NaN</td>\n",
       "    </tr>\n",
       "    <tr>\n",
       "      <th>3</th>\n",
       "      <td>Africa Western and Central</td>\n",
       "      <td>AFW</td>\n",
       "      <td>Population, total</td>\n",
       "      <td>SP.POP.TOTL</td>\n",
       "      <td>97256290.0</td>\n",
       "      <td>99314028.0</td>\n",
       "      <td>101445032.0</td>\n",
       "      <td>103667517.0</td>\n",
       "      <td>105959979.0</td>\n",
       "      <td>108336203.0</td>\n",
       "      <td>...</td>\n",
       "      <td>397855507.0</td>\n",
       "      <td>408690375.0</td>\n",
       "      <td>419778384.0</td>\n",
       "      <td>431138704.0</td>\n",
       "      <td>442646825.0</td>\n",
       "      <td>454306063.0</td>\n",
       "      <td>466189102.0</td>\n",
       "      <td>478185907.0</td>\n",
       "      <td>NaN</td>\n",
       "      <td>NaN</td>\n",
       "    </tr>\n",
       "    <tr>\n",
       "      <th>4</th>\n",
       "      <td>Angola</td>\n",
       "      <td>AGO</td>\n",
       "      <td>Population, total</td>\n",
       "      <td>SP.POP.TOTL</td>\n",
       "      <td>5357195.0</td>\n",
       "      <td>5441333.0</td>\n",
       "      <td>5521400.0</td>\n",
       "      <td>5599827.0</td>\n",
       "      <td>5673199.0</td>\n",
       "      <td>5736582.0</td>\n",
       "      <td>...</td>\n",
       "      <td>27128337.0</td>\n",
       "      <td>28127721.0</td>\n",
       "      <td>29154746.0</td>\n",
       "      <td>30208628.0</td>\n",
       "      <td>31273533.0</td>\n",
       "      <td>32353588.0</td>\n",
       "      <td>33428486.0</td>\n",
       "      <td>34503774.0</td>\n",
       "      <td>NaN</td>\n",
       "      <td>NaN</td>\n",
       "    </tr>\n",
       "  </tbody>\n",
       "</table>\n",
       "<p>5 rows × 68 columns</p>\n",
       "</div>"
      ],
      "text/plain": [
       "                  Country Name Country Code     Indicator Name Indicator Code  \\\n",
       "0                        Aruba          ABW  Population, total    SP.POP.TOTL   \n",
       "1  Africa Eastern and Southern          AFE  Population, total    SP.POP.TOTL   \n",
       "2                  Afghanistan          AFG  Population, total    SP.POP.TOTL   \n",
       "3   Africa Western and Central          AFW  Population, total    SP.POP.TOTL   \n",
       "4                       Angola          AGO  Population, total    SP.POP.TOTL   \n",
       "\n",
       "          1960         1961         1962         1963         1964  \\\n",
       "0      54608.0      55811.0      56682.0      57475.0      58178.0   \n",
       "1  130692579.0  134169237.0  137835590.0  141630546.0  145605995.0   \n",
       "2    8622466.0    8790140.0    8969047.0    9157465.0    9355514.0   \n",
       "3   97256290.0   99314028.0  101445032.0  103667517.0  105959979.0   \n",
       "4    5357195.0    5441333.0    5521400.0    5599827.0    5673199.0   \n",
       "\n",
       "          1965  ...         2014         2015         2016         2017  \\\n",
       "0      58782.0  ...     103594.0     104257.0     104874.0     105439.0   \n",
       "1  149742351.0  ...  583650827.0  600008150.0  616377331.0  632746296.0   \n",
       "2    9565147.0  ...   32716210.0   33753499.0   34636207.0   35643418.0   \n",
       "3  108336203.0  ...  397855507.0  408690375.0  419778384.0  431138704.0   \n",
       "4    5736582.0  ...   27128337.0   28127721.0   29154746.0   30208628.0   \n",
       "\n",
       "          2018         2019         2020         2021  2022  Unnamed: 67  \n",
       "0     105962.0     106442.0     106585.0     106537.0   NaN          NaN  \n",
       "1  649756874.0  667242712.0  685112705.0  702976832.0   NaN          NaN  \n",
       "2   36686784.0   37769499.0   38972230.0   40099462.0   NaN          NaN  \n",
       "3  442646825.0  454306063.0  466189102.0  478185907.0   NaN          NaN  \n",
       "4   31273533.0   32353588.0   33428486.0   34503774.0   NaN          NaN  \n",
       "\n",
       "[5 rows x 68 columns]"
      ]
     },
     "metadata": {},
     "output_type": "display_data"
    }
   ],
   "source": [
    "# Load Population data (Source: https://data.worldbank.org/indicator/SP.POP.TOTL)\n",
    "population = pd.read_csv('data/population.csv', skiprows=3)\n",
    "\n",
    "display(population.head())"
   ]
  },
  {
   "cell_type": "markdown",
   "metadata": {},
   "source": [
    "### Tax Haven data"
   ]
  },
  {
   "cell_type": "code",
   "execution_count": 37,
   "metadata": {},
   "outputs": [
    {
     "name": "stdout",
     "output_type": "stream",
     "text": [
      "Shape 77\n"
     ]
    },
    {
     "data": {
      "text/html": [
       "<div>\n",
       "<style scoped>\n",
       "    .dataframe tbody tr th:only-of-type {\n",
       "        vertical-align: middle;\n",
       "    }\n",
       "\n",
       "    .dataframe tbody tr th {\n",
       "        vertical-align: top;\n",
       "    }\n",
       "\n",
       "    .dataframe thead th {\n",
       "        text-align: right;\n",
       "    }\n",
       "</style>\n",
       "<table border=\"1\" class=\"dataframe\">\n",
       "  <thead>\n",
       "    <tr style=\"text-align: right;\">\n",
       "      <th></th>\n",
       "      <th>Country</th>\n",
       "      <th>Haven Score</th>\n",
       "    </tr>\n",
       "  </thead>\n",
       "  <tbody>\n",
       "    <tr>\n",
       "      <th>0</th>\n",
       "      <td>Andorra</td>\n",
       "      <td>65.175</td>\n",
       "    </tr>\n",
       "    <tr>\n",
       "      <th>1</th>\n",
       "      <td>Anguilla</td>\n",
       "      <td>100.000</td>\n",
       "    </tr>\n",
       "    <tr>\n",
       "      <th>2</th>\n",
       "      <td>Aruba</td>\n",
       "      <td>67.245</td>\n",
       "    </tr>\n",
       "    <tr>\n",
       "      <th>3</th>\n",
       "      <td>Austria</td>\n",
       "      <td>53.645</td>\n",
       "    </tr>\n",
       "    <tr>\n",
       "      <th>4</th>\n",
       "      <td>Bahamas</td>\n",
       "      <td>100.000</td>\n",
       "    </tr>\n",
       "  </tbody>\n",
       "</table>\n",
       "</div>"
      ],
      "text/plain": [
       "    Country  Haven Score\n",
       "0   Andorra       65.175\n",
       "1  Anguilla      100.000\n",
       "2     Aruba       67.245\n",
       "3   Austria       53.645\n",
       "4   Bahamas      100.000"
      ]
     },
     "metadata": {},
     "output_type": "display_data"
    }
   ],
   "source": [
    "# Load tax haven data (Source: https://www.taxjustice.net)\n",
    "cthi_2021 = pd.read_csv('data/cthi_2021.csv', sep=';')[['Country', 'Haven Score']]\n",
    "cthi_2019 = pd.read_csv('data/cthi_2019.csv', sep=';')[['Country', 'Haven Score']]\n",
    "cthi_2019['Haven Score'] = cthi_2019['Haven Score'].str.replace(',', '.').astype('float')\n",
    "cthi_2021['Haven Score'] = cthi_2021['Haven Score'].str.replace(',', '.').astype('float')\n",
    "\n",
    "# If both datapoints are available for a country we average over the 2021 and 2019 score\n",
    "\n",
    "cthi = pd.merge(cthi_2019, cthi_2021, on='Country', how='outer')\n",
    "print(f'Shape {cthi.shape[0]}')\n",
    "cthi['Haven Score'] = cthi[['Haven Score_x', 'Haven Score_y']].mean(axis=1, skipna=True).fillna(0)\n",
    "cthi.drop(columns=['Haven Score_x', 'Haven Score_y'], inplace=True)\n",
    "\n",
    "display(cthi.head())"
   ]
  },
  {
   "cell_type": "markdown",
   "metadata": {},
   "source": [
    "### Corruption data"
   ]
  },
  {
   "cell_type": "code",
   "execution_count": 38,
   "metadata": {},
   "outputs": [
    {
     "data": {
      "text/html": [
       "<div>\n",
       "<style scoped>\n",
       "    .dataframe tbody tr th:only-of-type {\n",
       "        vertical-align: middle;\n",
       "    }\n",
       "\n",
       "    .dataframe tbody tr th {\n",
       "        vertical-align: top;\n",
       "    }\n",
       "\n",
       "    .dataframe thead th {\n",
       "        text-align: right;\n",
       "    }\n",
       "</style>\n",
       "<table border=\"1\" class=\"dataframe\">\n",
       "  <thead>\n",
       "    <tr style=\"text-align: right;\">\n",
       "      <th></th>\n",
       "      <th>Year</th>\n",
       "      <th>Country</th>\n",
       "      <th>CPI Score</th>\n",
       "      <th>Rank</th>\n",
       "      <th>Number of Sources</th>\n",
       "      <th>Minimum score</th>\n",
       "      <th>Maximum score</th>\n",
       "      <th>Standard Error</th>\n",
       "      <th>90% Confidence Interval (Higher bound)</th>\n",
       "      <th>90% Confidence Interval (Lower bound)</th>\n",
       "      <th>...</th>\n",
       "      <th>WJP</th>\n",
       "      <th>ISO3</th>\n",
       "      <th>Region</th>\n",
       "      <th>WB Code</th>\n",
       "      <th>OECD</th>\n",
       "      <th>G20</th>\n",
       "      <th>BRICS</th>\n",
       "      <th>EU</th>\n",
       "      <th>Arab states</th>\n",
       "      <th>IFS Code</th>\n",
       "    </tr>\n",
       "  </thead>\n",
       "  <tbody>\n",
       "    <tr>\n",
       "      <th>0</th>\n",
       "      <td>2010</td>\n",
       "      <td>Denmark</td>\n",
       "      <td>93.0</td>\n",
       "      <td>1</td>\n",
       "      <td>6</td>\n",
       "      <td>89.0</td>\n",
       "      <td>95.0</td>\n",
       "      <td>2.0</td>\n",
       "      <td>94.0</td>\n",
       "      <td>91.0</td>\n",
       "      <td>...</td>\n",
       "      <td>NaN</td>\n",
       "      <td>DNK</td>\n",
       "      <td>WE/EU</td>\n",
       "      <td>DNK</td>\n",
       "      <td>y</td>\n",
       "      <td>NaN</td>\n",
       "      <td>NaN</td>\n",
       "      <td>y</td>\n",
       "      <td>NaN</td>\n",
       "      <td>128.0</td>\n",
       "    </tr>\n",
       "    <tr>\n",
       "      <th>1</th>\n",
       "      <td>2010</td>\n",
       "      <td>New Zealand</td>\n",
       "      <td>93.0</td>\n",
       "      <td>1</td>\n",
       "      <td>6</td>\n",
       "      <td>89.0</td>\n",
       "      <td>95.0</td>\n",
       "      <td>2.0</td>\n",
       "      <td>95.0</td>\n",
       "      <td>92.0</td>\n",
       "      <td>...</td>\n",
       "      <td>NaN</td>\n",
       "      <td>NZL</td>\n",
       "      <td>AP</td>\n",
       "      <td>NZL</td>\n",
       "      <td>y</td>\n",
       "      <td>NaN</td>\n",
       "      <td>NaN</td>\n",
       "      <td>NaN</td>\n",
       "      <td>NaN</td>\n",
       "      <td>196.0</td>\n",
       "    </tr>\n",
       "    <tr>\n",
       "      <th>2</th>\n",
       "      <td>2010</td>\n",
       "      <td>Singapore</td>\n",
       "      <td>93.0</td>\n",
       "      <td>1</td>\n",
       "      <td>9</td>\n",
       "      <td>89.0</td>\n",
       "      <td>95.0</td>\n",
       "      <td>2.0</td>\n",
       "      <td>94.0</td>\n",
       "      <td>92.0</td>\n",
       "      <td>...</td>\n",
       "      <td>NaN</td>\n",
       "      <td>SGP</td>\n",
       "      <td>AP</td>\n",
       "      <td>SGP</td>\n",
       "      <td>NaN</td>\n",
       "      <td>NaN</td>\n",
       "      <td>NaN</td>\n",
       "      <td>NaN</td>\n",
       "      <td>NaN</td>\n",
       "      <td>576.0</td>\n",
       "    </tr>\n",
       "    <tr>\n",
       "      <th>3</th>\n",
       "      <td>2010</td>\n",
       "      <td>Finland</td>\n",
       "      <td>92.0</td>\n",
       "      <td>4</td>\n",
       "      <td>6</td>\n",
       "      <td>89.0</td>\n",
       "      <td>95.0</td>\n",
       "      <td>2.0</td>\n",
       "      <td>93.0</td>\n",
       "      <td>91.0</td>\n",
       "      <td>...</td>\n",
       "      <td>NaN</td>\n",
       "      <td>FIN</td>\n",
       "      <td>WE/EU</td>\n",
       "      <td>FIN</td>\n",
       "      <td>y</td>\n",
       "      <td>NaN</td>\n",
       "      <td>NaN</td>\n",
       "      <td>y</td>\n",
       "      <td>NaN</td>\n",
       "      <td>172.0</td>\n",
       "    </tr>\n",
       "    <tr>\n",
       "      <th>4</th>\n",
       "      <td>2010</td>\n",
       "      <td>Sweden</td>\n",
       "      <td>92.0</td>\n",
       "      <td>4</td>\n",
       "      <td>6</td>\n",
       "      <td>89.0</td>\n",
       "      <td>95.0</td>\n",
       "      <td>2.0</td>\n",
       "      <td>94.0</td>\n",
       "      <td>91.0</td>\n",
       "      <td>...</td>\n",
       "      <td>NaN</td>\n",
       "      <td>SWE</td>\n",
       "      <td>WE/EU</td>\n",
       "      <td>SWE</td>\n",
       "      <td>y</td>\n",
       "      <td>NaN</td>\n",
       "      <td>NaN</td>\n",
       "      <td>y</td>\n",
       "      <td>NaN</td>\n",
       "      <td>144.0</td>\n",
       "    </tr>\n",
       "  </tbody>\n",
       "</table>\n",
       "<p>5 rows × 34 columns</p>\n",
       "</div>"
      ],
      "text/plain": [
       "   Year      Country  CPI Score  Rank  Number of Sources  Minimum score  \\\n",
       "0  2010      Denmark       93.0     1                  6           89.0   \n",
       "1  2010  New Zealand       93.0     1                  6           89.0   \n",
       "2  2010    Singapore       93.0     1                  9           89.0   \n",
       "3  2010      Finland       92.0     4                  6           89.0   \n",
       "4  2010       Sweden       92.0     4                  6           89.0   \n",
       "\n",
       "   Maximum score  Standard Error  90% Confidence Interval (Higher bound)  \\\n",
       "0           95.0             2.0                                    94.0   \n",
       "1           95.0             2.0                                    95.0   \n",
       "2           95.0             2.0                                    94.0   \n",
       "3           95.0             2.0                                    93.0   \n",
       "4           95.0             2.0                                    94.0   \n",
       "\n",
       "   90% Confidence Interval (Lower bound)  ...  WJP  ISO3  Region  WB Code  \\\n",
       "0                                   91.0  ...  NaN   DNK   WE/EU      DNK   \n",
       "1                                   92.0  ...  NaN   NZL      AP      NZL   \n",
       "2                                   92.0  ...  NaN   SGP      AP      SGP   \n",
       "3                                   91.0  ...  NaN   FIN   WE/EU      FIN   \n",
       "4                                   91.0  ...  NaN   SWE   WE/EU      SWE   \n",
       "\n",
       "   OECD  G20  BRICS   EU  Arab states  IFS Code  \n",
       "0     y  NaN    NaN    y          NaN     128.0  \n",
       "1     y  NaN    NaN  NaN          NaN     196.0  \n",
       "2   NaN  NaN    NaN  NaN          NaN     576.0  \n",
       "3     y  NaN    NaN    y          NaN     172.0  \n",
       "4     y  NaN    NaN    y          NaN     144.0  \n",
       "\n",
       "[5 rows x 34 columns]"
      ]
     },
     "metadata": {},
     "output_type": "display_data"
    }
   ],
   "source": [
    "# Load Corruption Perception data (Source: https://www.transparency.org via https://www.kaggle.com/datasets/jeegarmaru/corruption-perceptions-index-for-10-years?select=merged_cpi_data.csv)\n",
    "cpi = pd.read_csv('data/cpi_data.csv')\n",
    "\n",
    "display(cpi.head())"
   ]
  },
  {
   "cell_type": "markdown",
   "metadata": {},
   "source": [
    "# Data exploration"
   ]
  },
  {
   "cell_type": "markdown",
   "metadata": {},
   "source": [
    "Inspect general information about the flow dataset"
   ]
  },
  {
   "cell_type": "code",
   "execution_count": 39,
   "metadata": {},
   "outputs": [
    {
     "name": "stdout",
     "output_type": "stream",
     "text": [
      "Number of rows in the flow dataset 1939587\n",
      "First flow: 2011-05-13, last flow: 2023-04-12\n",
      "Entity Count: 290\n"
     ]
    }
   ],
   "source": [
    "print(f'Number of rows in the flow dataset {flows_df.shape[0]}')\n",
    "print(f'First flow: {flows_df.date.min()}, last flow: {flows_df.date.max()}')\n",
    "\n",
    "common_values = flows_df.src_id.value_counts().index.union(flows_df.dst_id.value_counts().index)\n",
    "print(f\"Entity Count: {len(common_values)}\")\n",
    "\n",
    "\n",
    "\n",
    "# TODO RETHINK THIS\n",
    "'''\n",
    "filtered_flows_df = flows_df.loc[flows_df.src_id != flows_df.dst_id]\n",
    "\n",
    "print(f'Number of rows with different src/dst  the flow dataset {filtered_flows_df.shape[0]}')\n",
    "\n",
    "sum_before = int(flows_df[\"value_USD\"].sum() / MRD)\n",
    "sum_after = int(filtered_flows_df[\"value_USD\"].sum() / MRD)\n",
    "\n",
    "count_before = flows_df[\"value_USD\"].count()\n",
    "count_after = filtered_flows_df[\"value_USD\"].count()\n",
    "\n",
    "print(f'Filtering trimmed the dataset from {sum_before} MRD USD to {sum_after} MRD USD ({100*(sum_after/sum_before)}% left)')\n",
    "print(f'Filtering trimmed the dataset from {count_before} TX  to {count_after} TX  ({100*(count_after/count_before)}% left)')\n",
    "'''\n",
    "\n",
    "\n",
    "filtered_flows_df = flows_df"
   ]
  },
  {
   "cell_type": "code",
   "execution_count": 40,
   "metadata": {},
   "outputs": [
    {
     "name": "stdout",
     "output_type": "stream",
     "text": [
      "Category distribution\n"
     ]
    },
    {
     "data": {
      "image/png": "[encoded data removed]",
      "text/plain": [
       "<Figure size 500x500 with 1 Axes>"
      ]
     },
     "metadata": {},
     "output_type": "display_data"
    }
   ],
   "source": [
    "print('Category distribution')\n",
    "counts = actors_df.categories.value_counts()\n",
    "#print(counts)\n",
    "\n",
    "values = actors_df.categories.unique()\n",
    "actual_values = {}\n",
    "for value in values:\n",
    "    for v in value.split(\", \"):\n",
    "        if not v in actual_values:\n",
    "            actual_values[v] =0\n",
    "        actual_values[v] = actual_values[v]+counts[value]\n",
    "\n",
    "#print(actual_values)\n",
    "\n",
    "plt.figure(figsize=(5, 5)) \n",
    "plt.bar(actual_values.keys(), actual_values.values())\n",
    "plt.xlabel('Number of jurisdictions')\n",
    "plt.ylabel('Category')\n",
    "plt.title('Distribution of catagory tags')\n",
    "plt.tick_params(axis='x', rotation=60)\n",
    "plt.show()"
   ]
  },
  {
   "cell_type": "markdown",
   "metadata": {},
   "source": [
    "Lets see how the jurisdictions are \"distributed\""
   ]
  },
  {
   "cell_type": "code",
   "execution_count": 41,
   "metadata": {},
   "outputs": [
    {
     "data": {
      "image/png": "[encoded data removed]",
      "text/plain": [
       "<Figure size 500x500 with 1 Axes>"
      ]
     },
     "metadata": {},
     "output_type": "display_data"
    },
    {
     "data": {
      "text/plain": [
       "jurisdictions\n",
       "1     261\n",
       "2      13\n",
       "3       3\n",
       "16      1\n",
       "Name: count, dtype: int64"
      ]
     },
     "execution_count": 41,
     "metadata": {},
     "output_type": "execute_result"
    }
   ],
   "source": [
    "# Compute the comma count for each value in the \"jurisdictions\" column\n",
    "all_actors_in_flow_data = flows_df.src_id.value_counts().index.union(flows_df.dst_id.value_counts().index)\n",
    "filtered_actors = actors_df[actors_df.id.str.lower().isin(all_actors_in_flow_data)]\n",
    "comma_count_stats = filtered_actors['jurisdictions'].apply(lambda x: str(x).count(',')+1).value_counts().sort_index()\n",
    "\n",
    "plt.figure(figsize=(5, 5)) \n",
    "plt.bar(comma_count_stats.index, comma_count_stats.values)\n",
    "plt.xlabel('Number of jurisdictions')\n",
    "plt.ylabel('Number of Entities')\n",
    "plt.xticks(range(1, max(comma_count_stats.index) + 1), range(1, max(comma_count_stats.index) + 1))\n",
    "plt.title('Distribution of Jurisdiction tags')\n",
    "plt.show()\n",
    "\n",
    "comma_count_stats"
   ]
  },
  {
   "cell_type": "code",
   "execution_count": 42,
   "metadata": {},
   "outputs": [
    {
     "data": {
      "image/png": "[encoded data removed]",
      "text/plain": [
       "<Figure size 500x500 with 1 Axes>"
      ]
     },
     "metadata": {},
     "output_type": "display_data"
    }
   ],
   "source": [
    "# Check distribution of jurisdictions\n",
    "actors_jurisdictions = filtered_actors.assign(jurisdictions=filtered_actors.jurisdictions.str.split(','))\n",
    "actors_jurisdictions = actors_jurisdictions.explode('jurisdictions')\n",
    "jurisdiction_distribution = actors_jurisdictions.jurisdictions.value_counts().head(20)\n",
    "\n",
    "plt.figure(figsize=(5, 5)) \n",
    "plt.barh(jurisdiction_distribution.index[::-1], jurisdiction_distribution.values[::-1])\n",
    "plt.xlabel('Number of Entities')\n",
    "plt.ylabel('Country')\n",
    "#plt.xticks(range(1, 25), range(1, 25))\n",
    "plt.title('Top 20 Countries by Entities')\n",
    "plt.show()"
   ]
  },
  {
   "cell_type": "markdown",
   "metadata": {},
   "source": [
    "In which timeframe was the flow data collected?"
   ]
  },
  {
   "cell_type": "code",
   "execution_count": 43,
   "metadata": {},
   "outputs": [
    {
     "name": "stdout",
     "output_type": "stream",
     "text": [
      "Flow data recorded from 2011-05-13 to 2023-04-12\n"
     ]
    }
   ],
   "source": [
    "# Flow data from - to\n",
    "print(f'Flow data recorded from {flows_df.date.min()} to {flows_df.date.max()}')"
   ]
  },
  {
   "cell_type": "code",
   "execution_count": 78,
   "metadata": {},
   "outputs": [
    {
     "name": "stdout",
     "output_type": "stream",
     "text": [
      "Flows before merging actor data 1939587\n",
      "Flows after merging actor data 1904481\n"
     ]
    },
    {
     "data": {
      "text/html": [
       "<div>\n",
       "<style scoped>\n",
       "    .dataframe tbody tr th:only-of-type {\n",
       "        vertical-align: middle;\n",
       "    }\n",
       "\n",
       "    .dataframe tbody tr th {\n",
       "        vertical-align: top;\n",
       "    }\n",
       "\n",
       "    .dataframe thead th {\n",
       "        text-align: right;\n",
       "    }\n",
       "</style>\n",
       "<table border=\"1\" class=\"dataframe\">\n",
       "  <thead>\n",
       "    <tr style=\"text-align: right;\">\n",
       "      <th></th>\n",
       "      <th>src_id</th>\n",
       "      <th>dst_id</th>\n",
       "      <th>value_asset</th>\n",
       "      <th>value_USD</th>\n",
       "      <th>date</th>\n",
       "      <th>src_uri</th>\n",
       "      <th>src_label</th>\n",
       "      <th>src_jurisdictions</th>\n",
       "      <th>src_categories</th>\n",
       "      <th>dst_uri</th>\n",
       "      <th>dst_label</th>\n",
       "      <th>dst_jurisdictions</th>\n",
       "      <th>dst_categories</th>\n",
       "    </tr>\n",
       "  </thead>\n",
       "  <tbody>\n",
       "    <tr>\n",
       "      <th>0</th>\n",
       "      <td>1coin</td>\n",
       "      <td>1coin</td>\n",
       "      <td>36870000</td>\n",
       "      <td>243.755870</td>\n",
       "      <td>2014-03-03</td>\n",
       "      <td>1coin.io</td>\n",
       "      <td>1Coin</td>\n",
       "      <td>CA, US</td>\n",
       "      <td>exchange</td>\n",
       "      <td>1coin.io</td>\n",
       "      <td>1Coin</td>\n",
       "      <td>CA, US</td>\n",
       "      <td>exchange</td>\n",
       "    </tr>\n",
       "    <tr>\n",
       "      <th>1</th>\n",
       "      <td>1coin</td>\n",
       "      <td>1coin</td>\n",
       "      <td>380120000</td>\n",
       "      <td>2378.899210</td>\n",
       "      <td>2014-03-10</td>\n",
       "      <td>1coin.io</td>\n",
       "      <td>1Coin</td>\n",
       "      <td>CA, US</td>\n",
       "      <td>exchange</td>\n",
       "      <td>1coin.io</td>\n",
       "      <td>1Coin</td>\n",
       "      <td>CA, US</td>\n",
       "      <td>exchange</td>\n",
       "    </tr>\n",
       "    <tr>\n",
       "      <th>2</th>\n",
       "      <td>1coin</td>\n",
       "      <td>1coin</td>\n",
       "      <td>429150403</td>\n",
       "      <td>2738.687542</td>\n",
       "      <td>2014-03-13</td>\n",
       "      <td>1coin.io</td>\n",
       "      <td>1Coin</td>\n",
       "      <td>CA, US</td>\n",
       "      <td>exchange</td>\n",
       "      <td>1coin.io</td>\n",
       "      <td>1Coin</td>\n",
       "      <td>CA, US</td>\n",
       "      <td>exchange</td>\n",
       "    </tr>\n",
       "    <tr>\n",
       "      <th>3</th>\n",
       "      <td>1coin</td>\n",
       "      <td>1coin</td>\n",
       "      <td>333900098</td>\n",
       "      <td>2092.574397</td>\n",
       "      <td>2014-03-14</td>\n",
       "      <td>1coin.io</td>\n",
       "      <td>1Coin</td>\n",
       "      <td>CA, US</td>\n",
       "      <td>exchange</td>\n",
       "      <td>1coin.io</td>\n",
       "      <td>1Coin</td>\n",
       "      <td>CA, US</td>\n",
       "      <td>exchange</td>\n",
       "    </tr>\n",
       "    <tr>\n",
       "      <th>4</th>\n",
       "      <td>1coin</td>\n",
       "      <td>1coin</td>\n",
       "      <td>779334803</td>\n",
       "      <td>4938.373652</td>\n",
       "      <td>2014-03-15</td>\n",
       "      <td>1coin.io</td>\n",
       "      <td>1Coin</td>\n",
       "      <td>CA, US</td>\n",
       "      <td>exchange</td>\n",
       "      <td>1coin.io</td>\n",
       "      <td>1Coin</td>\n",
       "      <td>CA, US</td>\n",
       "      <td>exchange</td>\n",
       "    </tr>\n",
       "  </tbody>\n",
       "</table>\n",
       "</div>"
      ],
      "text/plain": [
       "  src_id dst_id  value_asset    value_USD        date   src_uri src_label  \\\n",
       "0  1coin  1coin     36870000   243.755870  2014-03-03  1coin.io     1Coin   \n",
       "1  1coin  1coin    380120000  2378.899210  2014-03-10  1coin.io     1Coin   \n",
       "2  1coin  1coin    429150403  2738.687542  2014-03-13  1coin.io     1Coin   \n",
       "3  1coin  1coin    333900098  2092.574397  2014-03-14  1coin.io     1Coin   \n",
       "4  1coin  1coin    779334803  4938.373652  2014-03-15  1coin.io     1Coin   \n",
       "\n",
       "  src_jurisdictions src_categories   dst_uri dst_label dst_jurisdictions  \\\n",
       "0            CA, US       exchange  1coin.io     1Coin            CA, US   \n",
       "1            CA, US       exchange  1coin.io     1Coin            CA, US   \n",
       "2            CA, US       exchange  1coin.io     1Coin            CA, US   \n",
       "3            CA, US       exchange  1coin.io     1Coin            CA, US   \n",
       "4            CA, US       exchange  1coin.io     1Coin            CA, US   \n",
       "\n",
       "  dst_categories  \n",
       "0       exchange  \n",
       "1       exchange  \n",
       "2       exchange  \n",
       "3       exchange  \n",
       "4       exchange  "
      ]
     },
     "metadata": {},
     "output_type": "display_data"
    }
   ],
   "source": [
    "print(f'Flows before merging actor data {flows_df.shape[0]}')\n",
    "merged_df = pd.merge(filtered_flows_df, actors_df.add_prefix('src_'), on='src_id', how='inner')\n",
    "merged_df = pd.merge(merged_df, actors_df.add_prefix('dst_'), on='dst_id', how='inner')\n",
    "print(f'Flows after merging actor data {merged_df.shape[0]}')\n",
    "display(merged_df.head())"
   ]
  },
  {
   "cell_type": "code",
   "execution_count": 79,
   "metadata": {},
   "outputs": [],
   "source": [
    "# merge in btc course data\n",
    "merged_df = pd.merge(merged_df,btc_price_data,on=\"date\",how='inner')"
   ]
  },
  {
   "cell_type": "code",
   "execution_count": 80,
   "metadata": {},
   "outputs": [],
   "source": [
    "# Types\n",
    "merged_df['date'] = pd.to_datetime(merged_df['date'])"
   ]
  },
  {
   "cell_type": "markdown",
   "metadata": {},
   "source": [
    "lets see how much of the traffic is from or to binance"
   ]
  },
  {
   "cell_type": "code",
   "execution_count": 81,
   "metadata": {},
   "outputs": [
    {
     "data": {
      "text/html": [
       "<div>\n",
       "<style scoped>\n",
       "    .dataframe tbody tr th:only-of-type {\n",
       "        vertical-align: middle;\n",
       "    }\n",
       "\n",
       "    .dataframe tbody tr th {\n",
       "        vertical-align: top;\n",
       "    }\n",
       "\n",
       "    .dataframe thead th {\n",
       "        text-align: right;\n",
       "    }\n",
       "</style>\n",
       "<table border=\"1\" class=\"dataframe\">\n",
       "  <thead>\n",
       "    <tr style=\"text-align: right;\">\n",
       "      <th></th>\n",
       "      <th>value_usd_with</th>\n",
       "      <th>value_usd_without</th>\n",
       "      <th>binance portion</th>\n",
       "    </tr>\n",
       "    <tr>\n",
       "      <th>year</th>\n",
       "      <th></th>\n",
       "      <th></th>\n",
       "      <th></th>\n",
       "    </tr>\n",
       "  </thead>\n",
       "  <tbody>\n",
       "    <tr>\n",
       "      <th>2011</th>\n",
       "      <td>1.345420e+04</td>\n",
       "      <td>1.345420e+04</td>\n",
       "      <td>0.000000</td>\n",
       "    </tr>\n",
       "    <tr>\n",
       "      <th>2012</th>\n",
       "      <td>3.172178e+05</td>\n",
       "      <td>3.172178e+05</td>\n",
       "      <td>0.000000</td>\n",
       "    </tr>\n",
       "    <tr>\n",
       "      <th>2013</th>\n",
       "      <td>4.137246e+07</td>\n",
       "      <td>4.137246e+07</td>\n",
       "      <td>0.000000</td>\n",
       "    </tr>\n",
       "    <tr>\n",
       "      <th>2014</th>\n",
       "      <td>3.008547e+08</td>\n",
       "      <td>3.008547e+08</td>\n",
       "      <td>0.000000</td>\n",
       "    </tr>\n",
       "    <tr>\n",
       "      <th>2015</th>\n",
       "      <td>8.015531e+08</td>\n",
       "      <td>8.015531e+08</td>\n",
       "      <td>0.000000</td>\n",
       "    </tr>\n",
       "    <tr>\n",
       "      <th>2016</th>\n",
       "      <td>1.853461e+09</td>\n",
       "      <td>1.853461e+09</td>\n",
       "      <td>0.000000</td>\n",
       "    </tr>\n",
       "    <tr>\n",
       "      <th>2017</th>\n",
       "      <td>1.606032e+10</td>\n",
       "      <td>1.447801e+10</td>\n",
       "      <td>9.852298</td>\n",
       "    </tr>\n",
       "    <tr>\n",
       "      <th>2018</th>\n",
       "      <td>2.139878e+10</td>\n",
       "      <td>1.502060e+10</td>\n",
       "      <td>29.806291</td>\n",
       "    </tr>\n",
       "    <tr>\n",
       "      <th>2019</th>\n",
       "      <td>2.866707e+10</td>\n",
       "      <td>2.417080e+10</td>\n",
       "      <td>15.684417</td>\n",
       "    </tr>\n",
       "    <tr>\n",
       "      <th>2020</th>\n",
       "      <td>4.159369e+10</td>\n",
       "      <td>2.928045e+10</td>\n",
       "      <td>29.603633</td>\n",
       "    </tr>\n",
       "    <tr>\n",
       "      <th>2021</th>\n",
       "      <td>2.804199e+11</td>\n",
       "      <td>2.379458e+11</td>\n",
       "      <td>15.146611</td>\n",
       "    </tr>\n",
       "    <tr>\n",
       "      <th>2022</th>\n",
       "      <td>9.719403e+10</td>\n",
       "      <td>7.925441e+10</td>\n",
       "      <td>18.457538</td>\n",
       "    </tr>\n",
       "    <tr>\n",
       "      <th>2023</th>\n",
       "      <td>7.719186e+09</td>\n",
       "      <td>3.588323e+09</td>\n",
       "      <td>53.514233</td>\n",
       "    </tr>\n",
       "  </tbody>\n",
       "</table>\n",
       "</div>"
      ],
      "text/plain": [
       "      value_usd_with  value_usd_without  binance portion\n",
       "year                                                    \n",
       "2011    1.345420e+04       1.345420e+04         0.000000\n",
       "2012    3.172178e+05       3.172178e+05         0.000000\n",
       "2013    4.137246e+07       4.137246e+07         0.000000\n",
       "2014    3.008547e+08       3.008547e+08         0.000000\n",
       "2015    8.015531e+08       8.015531e+08         0.000000\n",
       "2016    1.853461e+09       1.853461e+09         0.000000\n",
       "2017    1.606032e+10       1.447801e+10         9.852298\n",
       "2018    2.139878e+10       1.502060e+10        29.806291\n",
       "2019    2.866707e+10       2.417080e+10        15.684417\n",
       "2020    4.159369e+10       2.928045e+10        29.603633\n",
       "2021    2.804199e+11       2.379458e+11        15.146611\n",
       "2022    9.719403e+10       7.925441e+10        18.457538\n",
       "2023    7.719186e+09       3.588323e+09        53.514233"
      ]
     },
     "metadata": {},
     "output_type": "display_data"
    },
    {
     "data": {
      "image/png": "[encoded data removed]",
      "text/plain": [
       "<Figure size 640x480 with 1 Axes>"
      ]
     },
     "metadata": {},
     "output_type": "display_data"
    }
   ],
   "source": [
    "# calc overall traffic per year\n",
    "yearly = merged_df.groupby([\"year\"])[\"value_USD\"].sum().reset_index()\n",
    "yearly.rename(columns={\"value_USD\":\"value_usd_with\"},inplace=True)\n",
    "\n",
    "yearly_without_binance = merged_df[merged_df[\"src_label\"].str.contains(\"inance\") == False]\n",
    "yearly_without_binance = yearly_without_binance[yearly_without_binance[\"dst_label\"].str.contains(\"inance\") == False]\n",
    "\n",
    "yearly[\"value_usd_without\"] = yearly_without_binance.groupby([\"year\"])[\"value_USD\"].sum().reset_index()[\"value_USD\"]\n",
    "yearly[\"binance portion\"] = (1-(yearly[\"value_usd_without\"]/yearly[\"value_usd_with\"]))*100\n",
    "\n",
    "yearly.set_index('year',inplace=True)\n",
    "display(yearly)\n",
    "\n",
    "\n",
    "\n",
    "# Create a figure and axes\n",
    "fig, ax = plt.subplots()\n",
    "\n",
    "# Plot the data\n",
    "ax.plot(yearly.index, yearly['binance portion'], color='blue',marker=\"x\",linestyle=\"dashdot\",label=\"BTC FLOW\")\n",
    "\n",
    "# Set labels and title\n",
    "ax.set_xlabel('Year')\n",
    "ax.set_ylabel('Portion of Binance Traffic [%]')\n",
    "ax.set_title('Portion of Binance Traffic over the years')\n",
    "\n",
    "# Display the plot\n",
    "plt.show()\n"
   ]
  },
  {
   "cell_type": "code",
   "execution_count": 22,
   "metadata": {},
   "outputs": [
    {
     "data": {
      "text/plain": [
       "'\\nyearly_flow = yearly.copy()\\nvolume_year = trading_volume.groupby([\"year\"])[\\'volume\\'].sum().reset_index()\\nmerged_volume = pd.merge(yearly_flow, volume_year, on=\\'year\\', how=\\'inner\\').reset_index()\\n\\ndisplay(merged_volume)\\n\\nfig, ax = plt.subplots()\\nbottom = np.zeros(3)\\nwidth=0.8\\n\\nfor yearly_volume in merged_volume.iterrows():\\n    year = yearly_volume[1].year\\n    value_flow = yearly_volume[1].value_usd_with\\n    relative_value_flow = value_flow / volume\\n    volume = yearly_volume[1].volume\\n    ax.bar(year, relative_value_flow, width, label=year, bottom=0, color=\\'blue\\')\\n    ax.bar(year, 1 - relative_value_flow, width, label=year, bottom=relative_value_flow, color=\\'gray\\')\\n\\nax.set_title(\"Share of overall trading volume captured\")\\n\\nplt.show()\\n'"
      ]
     },
     "execution_count": 22,
     "metadata": {},
     "output_type": "execute_result"
    }
   ],
   "source": [
    "# Compare value per year with overall BTC trading volume\n",
    "# TODO FIX THIS\n",
    "# NameError: name 'volume' is not defined\n",
    "'''\n",
    "yearly_flow = yearly.copy()\n",
    "volume_year = trading_volume.groupby([\"year\"])['volume'].sum().reset_index()\n",
    "merged_volume = pd.merge(yearly_flow, volume_year, on='year', how='inner').reset_index()\n",
    "\n",
    "display(merged_volume)\n",
    "\n",
    "fig, ax = plt.subplots()\n",
    "bottom = np.zeros(3)\n",
    "width=0.8\n",
    "\n",
    "for yearly_volume in merged_volume.iterrows():\n",
    "    year = yearly_volume[1].year\n",
    "    value_flow = yearly_volume[1].value_usd_with\n",
    "    relative_value_flow = value_flow / volume\n",
    "    volume = yearly_volume[1].volume\n",
    "    ax.bar(year, relative_value_flow, width, label=year, bottom=0, color='blue')\n",
    "    ax.bar(year, 1 - relative_value_flow, width, label=year, bottom=relative_value_flow, color='gray')\n",
    "\n",
    "ax.set_title(\"Share of overall trading volume captured\")\n",
    "\n",
    "plt.show()\n",
    "'''"
   ]
  },
  {
   "cell_type": "code",
   "execution_count": 90,
   "metadata": {},
   "outputs": [
    {
     "data": {
      "text/html": [
       "<div>\n",
       "<style scoped>\n",
       "    .dataframe tbody tr th:only-of-type {\n",
       "        vertical-align: middle;\n",
       "    }\n",
       "\n",
       "    .dataframe tbody tr th {\n",
       "        vertical-align: top;\n",
       "    }\n",
       "\n",
       "    .dataframe thead th {\n",
       "        text-align: right;\n",
       "    }\n",
       "</style>\n",
       "<table border=\"1\" class=\"dataframe\">\n",
       "  <thead>\n",
       "    <tr style=\"text-align: right;\">\n",
       "      <th></th>\n",
       "      <th>year</th>\n",
       "      <th>jurisdictions</th>\n",
       "      <th>value_USD</th>\n",
       "      <th>value_asset</th>\n",
       "      <th>value_BTC</th>\n",
       "      <th>src_label</th>\n",
       "      <th>dst_label</th>\n",
       "    </tr>\n",
       "  </thead>\n",
       "  <tbody>\n",
       "    <tr>\n",
       "      <th>0</th>\n",
       "      <td>2011</td>\n",
       "      <td>AT</td>\n",
       "      <td>3.777198e-09</td>\n",
       "      <td>0.119933</td>\n",
       "      <td>1.100505e-09</td>\n",
       "      <td>Btc-EBtc-EBtc-E</td>\n",
       "      <td>VirwoxVirwoxVirwox</td>\n",
       "    </tr>\n",
       "    <tr>\n",
       "      <th>1</th>\n",
       "      <td>2011</td>\n",
       "      <td>AU</td>\n",
       "      <td>1.386919e-08</td>\n",
       "      <td>0.425962</td>\n",
       "      <td>4.217523e-09</td>\n",
       "      <td>bitcoin.deVircurexVircurexVircurexVircurexCavi...</td>\n",
       "      <td>Btc-EBtc-EBtc-EBtc-EBtc-EBtc-EBtc-EBtc-EBtc-E</td>\n",
       "    </tr>\n",
       "    <tr>\n",
       "      <th>2</th>\n",
       "      <td>2011</td>\n",
       "      <td>BZ</td>\n",
       "      <td>3.434500e-10</td>\n",
       "      <td>0.008701</td>\n",
       "      <td>7.507914e-11</td>\n",
       "      <td>Btc-EVircurexVircurex</td>\n",
       "      <td>VircurexVircurexVircurex</td>\n",
       "    </tr>\n",
       "    <tr>\n",
       "      <th>3</th>\n",
       "      <td>2011</td>\n",
       "      <td>CA</td>\n",
       "      <td>4.761744e-09</td>\n",
       "      <td>0.119983</td>\n",
       "      <td>1.074864e-09</td>\n",
       "      <td>Btc-EBtc-EBtc-EBtc-E</td>\n",
       "      <td>CavirtexCavirtexCavirtexCavirtex</td>\n",
       "    </tr>\n",
       "    <tr>\n",
       "      <th>4</th>\n",
       "      <td>2011</td>\n",
       "      <td>CN</td>\n",
       "      <td>3.434500e-10</td>\n",
       "      <td>0.008701</td>\n",
       "      <td>7.507914e-11</td>\n",
       "      <td>Btc-EVircurexVircurex</td>\n",
       "      <td>VircurexVircurexVircurex</td>\n",
       "    </tr>\n",
       "    <tr>\n",
       "      <th>...</th>\n",
       "      <td>...</td>\n",
       "      <td>...</td>\n",
       "      <td>...</td>\n",
       "      <td>...</td>\n",
       "      <td>...</td>\n",
       "      <td>...</td>\n",
       "      <td>...</td>\n",
       "    </tr>\n",
       "    <tr>\n",
       "      <th>528</th>\n",
       "      <td>2023</td>\n",
       "      <td>TW</td>\n",
       "      <td>7.774650e-05</td>\n",
       "      <td>0.288493</td>\n",
       "      <td>3.055327e-09</td>\n",
       "      <td>Binance (US, DEX)Binance (US, DEX)Binance (US,...</td>\n",
       "      <td>Max MaicoinMax MaicoinMax MaicoinMax MaicoinMa...</td>\n",
       "    </tr>\n",
       "    <tr>\n",
       "      <th>529</th>\n",
       "      <td>2023</td>\n",
       "      <td>US</td>\n",
       "      <td>5.569530e-01</td>\n",
       "      <td>2397.626708</td>\n",
       "      <td>2.506441e-05</td>\n",
       "      <td>Binance (US, DEX)Binance (US, DEX)Binance (US,...</td>\n",
       "      <td>Binance (US, DEX)Binance (US, DEX)Binance (US,...</td>\n",
       "    </tr>\n",
       "    <tr>\n",
       "      <th>530</th>\n",
       "      <td>2023</td>\n",
       "      <td>VG</td>\n",
       "      <td>2.110884e-04</td>\n",
       "      <td>0.795955</td>\n",
       "      <td>8.266760e-09</td>\n",
       "      <td>Binance (US, DEX)Binance (US, DEX)Binance (US,...</td>\n",
       "      <td>LBankLBankLBankLBankLBankLBankLBankLBankLBankL...</td>\n",
       "    </tr>\n",
       "    <tr>\n",
       "      <th>531</th>\n",
       "      <td>2023</td>\n",
       "      <td>VN</td>\n",
       "      <td>3.265873e-07</td>\n",
       "      <td>0.001360</td>\n",
       "      <td>1.450888e-11</td>\n",
       "      <td>Binance (US, DEX)Binance (US, DEX)Binance (US,...</td>\n",
       "      <td>VindaxVindaxVindaxVindaxVindaxVindaxVindaxVind...</td>\n",
       "    </tr>\n",
       "    <tr>\n",
       "      <th>532</th>\n",
       "      <td>2023</td>\n",
       "      <td>ZA</td>\n",
       "      <td>4.982355e-01</td>\n",
       "      <td>2142.908223</td>\n",
       "      <td>2.240293e-05</td>\n",
       "      <td>Binance (US, DEX)Binance (US, DEX)Binance (US,...</td>\n",
       "      <td>Binance (US, DEX)Binance (US, DEX)Binance (US,...</td>\n",
       "    </tr>\n",
       "  </tbody>\n",
       "</table>\n",
       "<p>533 rows × 7 columns</p>\n",
       "</div>"
      ],
      "text/plain": [
       "     year jurisdictions     value_USD  value_asset     value_BTC  \\\n",
       "0    2011            AT  3.777198e-09     0.119933  1.100505e-09   \n",
       "1    2011            AU  1.386919e-08     0.425962  4.217523e-09   \n",
       "2    2011            BZ  3.434500e-10     0.008701  7.507914e-11   \n",
       "3    2011            CA  4.761744e-09     0.119983  1.074864e-09   \n",
       "4    2011            CN  3.434500e-10     0.008701  7.507914e-11   \n",
       "..    ...           ...           ...          ...           ...   \n",
       "528  2023            TW  7.774650e-05     0.288493  3.055327e-09   \n",
       "529  2023            US  5.569530e-01  2397.626708  2.506441e-05   \n",
       "530  2023            VG  2.110884e-04     0.795955  8.266760e-09   \n",
       "531  2023            VN  3.265873e-07     0.001360  1.450888e-11   \n",
       "532  2023            ZA  4.982355e-01  2142.908223  2.240293e-05   \n",
       "\n",
       "                                             src_label  \\\n",
       "0                                      Btc-EBtc-EBtc-E   \n",
       "1    bitcoin.deVircurexVircurexVircurexVircurexCavi...   \n",
       "2                                Btc-EVircurexVircurex   \n",
       "3                                 Btc-EBtc-EBtc-EBtc-E   \n",
       "4                                Btc-EVircurexVircurex   \n",
       "..                                                 ...   \n",
       "528  Binance (US, DEX)Binance (US, DEX)Binance (US,...   \n",
       "529  Binance (US, DEX)Binance (US, DEX)Binance (US,...   \n",
       "530  Binance (US, DEX)Binance (US, DEX)Binance (US,...   \n",
       "531  Binance (US, DEX)Binance (US, DEX)Binance (US,...   \n",
       "532  Binance (US, DEX)Binance (US, DEX)Binance (US,...   \n",
       "\n",
       "                                             dst_label  \n",
       "0                                   VirwoxVirwoxVirwox  \n",
       "1        Btc-EBtc-EBtc-EBtc-EBtc-EBtc-EBtc-EBtc-EBtc-E  \n",
       "2                             VircurexVircurexVircurex  \n",
       "3                     CavirtexCavirtexCavirtexCavirtex  \n",
       "4                             VircurexVircurexVircurex  \n",
       "..                                                 ...  \n",
       "528  Max MaicoinMax MaicoinMax MaicoinMax MaicoinMa...  \n",
       "529  Binance (US, DEX)Binance (US, DEX)Binance (US,...  \n",
       "530  LBankLBankLBankLBankLBankLBankLBankLBankLBankL...  \n",
       "531  VindaxVindaxVindaxVindaxVindaxVindaxVindaxVind...  \n",
       "532  Binance (US, DEX)Binance (US, DEX)Binance (US,...  \n",
       "\n",
       "[533 rows x 7 columns]"
      ]
     },
     "metadata": {},
     "output_type": "display_data"
    },
    {
     "data": {
      "text/html": [
       "<div>\n",
       "<style scoped>\n",
       "    .dataframe tbody tr th:only-of-type {\n",
       "        vertical-align: middle;\n",
       "    }\n",
       "\n",
       "    .dataframe tbody tr th {\n",
       "        vertical-align: top;\n",
       "    }\n",
       "\n",
       "    .dataframe thead th {\n",
       "        text-align: right;\n",
       "    }\n",
       "</style>\n",
       "<table border=\"1\" class=\"dataframe\">\n",
       "  <thead>\n",
       "    <tr style=\"text-align: right;\">\n",
       "      <th></th>\n",
       "      <th>year</th>\n",
       "      <th>jurisdictions</th>\n",
       "      <th>value_USD</th>\n",
       "      <th>value_asset</th>\n",
       "      <th>value_BTC</th>\n",
       "      <th>src_label</th>\n",
       "      <th>dst_label</th>\n",
       "    </tr>\n",
       "  </thead>\n",
       "  <tbody>\n",
       "    <tr>\n",
       "      <th>0</th>\n",
       "      <td>2011</td>\n",
       "      <td>AT</td>\n",
       "      <td>3.176460e-08</td>\n",
       "      <td>0.805896</td>\n",
       "      <td>6.964770e-09</td>\n",
       "      <td>VirwoxVirwox</td>\n",
       "      <td>BtccTheRockTrading</td>\n",
       "    </tr>\n",
       "    <tr>\n",
       "      <th>1</th>\n",
       "      <td>2011</td>\n",
       "      <td>AU</td>\n",
       "      <td>1.060348e-08</td>\n",
       "      <td>0.303070</td>\n",
       "      <td>2.705439e-09</td>\n",
       "      <td>Btc-EBtc-EBtc-EBtc-EBtc-EBtc-EBtc-EBtc-EBtc-EB...</td>\n",
       "      <td>CavirtexCavirtexBtccVircurexVircurexVirwoxBitc...</td>\n",
       "    </tr>\n",
       "    <tr>\n",
       "      <th>2</th>\n",
       "      <td>2011</td>\n",
       "      <td>BZ</td>\n",
       "      <td>1.687979e-09</td>\n",
       "      <td>0.040673</td>\n",
       "      <td>3.540411e-10</td>\n",
       "      <td>VircurexVircurexVircurexVircurex</td>\n",
       "      <td>Btc-EVircurexBtc-EVircurex</td>\n",
       "    </tr>\n",
       "    <tr>\n",
       "      <th>3</th>\n",
       "      <td>2011</td>\n",
       "      <td>CA</td>\n",
       "      <td>5.832591e-10</td>\n",
       "      <td>0.019446</td>\n",
       "      <td>1.606952e-10</td>\n",
       "      <td>CavirtexCavirtexCavirtexCavirtexCavirtex</td>\n",
       "      <td>BitcoinicaBtc-EBtc-EBitcoinicaBitcoinica</td>\n",
       "    </tr>\n",
       "    <tr>\n",
       "      <th>4</th>\n",
       "      <td>2011</td>\n",
       "      <td>CN</td>\n",
       "      <td>1.687979e-09</td>\n",
       "      <td>0.040673</td>\n",
       "      <td>3.540411e-10</td>\n",
       "      <td>VircurexVircurexVircurexVircurex</td>\n",
       "      <td>Btc-EVircurexBtc-EVircurex</td>\n",
       "    </tr>\n",
       "    <tr>\n",
       "      <th>...</th>\n",
       "      <td>...</td>\n",
       "      <td>...</td>\n",
       "      <td>...</td>\n",
       "      <td>...</td>\n",
       "      <td>...</td>\n",
       "      <td>...</td>\n",
       "      <td>...</td>\n",
       "    </tr>\n",
       "    <tr>\n",
       "      <th>505</th>\n",
       "      <td>2023</td>\n",
       "      <td>TR</td>\n",
       "      <td>2.391682e-03</td>\n",
       "      <td>10.869450</td>\n",
       "      <td>1.134934e-07</td>\n",
       "      <td>BtcTurk PROBtcTurk PROBtcTurk PROBtcTurk PROBt...</td>\n",
       "      <td>BiboxBinance (US, DEX)Binance (US, DEX)Binance...</td>\n",
       "    </tr>\n",
       "    <tr>\n",
       "      <th>506</th>\n",
       "      <td>2023</td>\n",
       "      <td>TW</td>\n",
       "      <td>8.022735e-04</td>\n",
       "      <td>3.307993</td>\n",
       "      <td>3.368624e-08</td>\n",
       "      <td>Max MaicoinMax MaicoinMax MaicoinMax MaicoinMa...</td>\n",
       "      <td>MEXC GlobalBinance (US, DEX)Binance (US, DEX)B...</td>\n",
       "    </tr>\n",
       "    <tr>\n",
       "      <th>507</th>\n",
       "      <td>2023</td>\n",
       "      <td>US</td>\n",
       "      <td>5.231659e-01</td>\n",
       "      <td>2253.021025</td>\n",
       "      <td>2.355962e-05</td>\n",
       "      <td>Binance (US, DEX)CoinbaseBinance (US, DEX)Coin...</td>\n",
       "      <td>CexCexHuobiHuobiHuobiBinance (US, DEX)Binance ...</td>\n",
       "    </tr>\n",
       "    <tr>\n",
       "      <th>508</th>\n",
       "      <td>2023</td>\n",
       "      <td>VG</td>\n",
       "      <td>1.030308e-05</td>\n",
       "      <td>0.044502</td>\n",
       "      <td>4.523790e-10</td>\n",
       "      <td>BKEXBKEXBKEXBKEXBKEXBKEXBKEXBKEXBKEXBKEXBKEXBK...</td>\n",
       "      <td>CoinbaseCoinbaseBinance (US, DEX)Binance (US, ...</td>\n",
       "    </tr>\n",
       "    <tr>\n",
       "      <th>509</th>\n",
       "      <td>2023</td>\n",
       "      <td>ZA</td>\n",
       "      <td>5.027338e-01</td>\n",
       "      <td>2162.362438</td>\n",
       "      <td>2.260686e-05</td>\n",
       "      <td>Binance (US, DEX)Binance (US, DEX)ValrBinance ...</td>\n",
       "      <td>CexHuobiHuobiBinance (US, DEX)Binance (US, DEX...</td>\n",
       "    </tr>\n",
       "  </tbody>\n",
       "</table>\n",
       "<p>510 rows × 7 columns</p>\n",
       "</div>"
      ],
      "text/plain": [
       "     year jurisdictions     value_USD  value_asset     value_BTC  \\\n",
       "0    2011            AT  3.176460e-08     0.805896  6.964770e-09   \n",
       "1    2011            AU  1.060348e-08     0.303070  2.705439e-09   \n",
       "2    2011            BZ  1.687979e-09     0.040673  3.540411e-10   \n",
       "3    2011            CA  5.832591e-10     0.019446  1.606952e-10   \n",
       "4    2011            CN  1.687979e-09     0.040673  3.540411e-10   \n",
       "..    ...           ...           ...          ...           ...   \n",
       "505  2023            TR  2.391682e-03    10.869450  1.134934e-07   \n",
       "506  2023            TW  8.022735e-04     3.307993  3.368624e-08   \n",
       "507  2023            US  5.231659e-01  2253.021025  2.355962e-05   \n",
       "508  2023            VG  1.030308e-05     0.044502  4.523790e-10   \n",
       "509  2023            ZA  5.027338e-01  2162.362438  2.260686e-05   \n",
       "\n",
       "                                             src_label  \\\n",
       "0                                         VirwoxVirwox   \n",
       "1    Btc-EBtc-EBtc-EBtc-EBtc-EBtc-EBtc-EBtc-EBtc-EB...   \n",
       "2                     VircurexVircurexVircurexVircurex   \n",
       "3             CavirtexCavirtexCavirtexCavirtexCavirtex   \n",
       "4                     VircurexVircurexVircurexVircurex   \n",
       "..                                                 ...   \n",
       "505  BtcTurk PROBtcTurk PROBtcTurk PROBtcTurk PROBt...   \n",
       "506  Max MaicoinMax MaicoinMax MaicoinMax MaicoinMa...   \n",
       "507  Binance (US, DEX)CoinbaseBinance (US, DEX)Coin...   \n",
       "508  BKEXBKEXBKEXBKEXBKEXBKEXBKEXBKEXBKEXBKEXBKEXBK...   \n",
       "509  Binance (US, DEX)Binance (US, DEX)ValrBinance ...   \n",
       "\n",
       "                                             dst_label  \n",
       "0                                   BtccTheRockTrading  \n",
       "1    CavirtexCavirtexBtccVircurexVircurexVirwoxBitc...  \n",
       "2                           Btc-EVircurexBtc-EVircurex  \n",
       "3             BitcoinicaBtc-EBtc-EBitcoinicaBitcoinica  \n",
       "4                           Btc-EVircurexBtc-EVircurex  \n",
       "..                                                 ...  \n",
       "505  BiboxBinance (US, DEX)Binance (US, DEX)Binance...  \n",
       "506  MEXC GlobalBinance (US, DEX)Binance (US, DEX)B...  \n",
       "507  CexCexHuobiHuobiHuobiBinance (US, DEX)Binance ...  \n",
       "508  CoinbaseCoinbaseBinance (US, DEX)Binance (US, ...  \n",
       "509  CexHuobiHuobiBinance (US, DEX)Binance (US, DEX...  \n",
       "\n",
       "[510 rows x 7 columns]"
      ]
     },
     "metadata": {},
     "output_type": "display_data"
    }
   ],
   "source": [
    "# Transform jurisdiction string into list element\n",
    "expanded_df = merged_df.copy()\n",
    "expanded_df.src_jurisdictions = expanded_df.src_jurisdictions.fillna(\"\")\n",
    "expanded_df.dst_jurisdictions = expanded_df.dst_jurisdictions.fillna(\"\")\n",
    "expanded_df = expanded_df.assign(src_jurisdictions=expanded_df.src_jurisdictions.str.split(','))\n",
    "expanded_df = expanded_df.assign(dst_jurisdictions=expanded_df.dst_jurisdictions.str.split(','))\n",
    "\n",
    "# Split up amounts by number of src and dst countries\n",
    "expanded_df['value_asset'] = expanded_df.apply(lambda row: row['value_asset'] / max(len(merged_df.src_jurisdictions) * len(merged_df.dst_jurisdictions), 1) , axis=1)\n",
    "expanded_df['value_USD'] = expanded_df.apply(lambda row: row['value_USD'] / max(len(merged_df.src_jurisdictions) * len(merged_df.dst_jurisdictions), 1), axis=1)\n",
    "\n",
    "# Create separate columns for each jurisdiction (if we want to split the amounts we have to split amount before)\n",
    "expanded_df = expanded_df.explode('dst_jurisdictions')\n",
    "expanded_df = expanded_df.explode('src_jurisdictions')\n",
    "\n",
    "# Strip whitespace\n",
    "expanded_df.dst_jurisdictions = expanded_df.dst_jurisdictions.str.strip()\n",
    "expanded_df.src_jurisdictions = expanded_df.src_jurisdictions.str.strip()\n",
    "# Remove flows which aren't x-border\n",
    "expanded_df = expanded_df[expanded_df['dst_jurisdictions'] != expanded_df['src_jurisdictions']]\n",
    "\n",
    "#display(merged_df.groupby(['year', 'dst_jurisdictions'])[\"open\"].max())\n",
    "# divide by btc value\n",
    "# Do we really need this? Isn't value_asset already the number of tokens?\n",
    "expanded_df[\"value_BTC\"] = expanded_df[\"value_USD\"] / expanded_df[\"high\"]\n",
    "\n",
    "# Group by year and juristicion\n",
    "dst_amounts = expanded_df.groupby(['year', 'dst_jurisdictions'])[['value_USD', 'value_asset', 'value_BTC',\"src_label\",\"dst_label\"]].sum().reset_index()\n",
    "dst_amounts = dst_amounts.rename(columns={\"dst_jurisdictions\":\"jurisdictions\"})\n",
    "\n",
    "src_amounts = expanded_df.groupby(['year', 'src_jurisdictions'])[['value_USD', 'value_asset', 'value_BTC',\"src_label\",\"dst_label\"]].sum().reset_index()\n",
    "src_amounts = src_amounts.rename(columns={\"src_jurisdictions\":\"jurisdictions\"})\n",
    "\n",
    "display(dst_amounts)\n",
    "display(src_amounts)"
   ]
  },
  {
   "cell_type": "code",
   "execution_count": 651,
   "metadata": {},
   "outputs": [
    {
     "name": "stdout",
     "output_type": "stream",
     "text": [
      "Number of rows in the flow dataset 1021312\n"
     ]
    }
   ],
   "source": [
    "# Number of flows after merging and filtering for different locations\n",
    "print(f'Number of rows in the flow dataset {merged_df.shape[0]}')"
   ]
  },
  {
   "cell_type": "markdown",
   "metadata": {},
   "source": [
    "### Frequency of jurisidictions in the flow data"
   ]
  },
  {
   "cell_type": "code",
   "execution_count": 652,
   "metadata": {},
   "outputs": [
    {
     "data": {
      "image/png": "[encoded data removed]",
      "text/plain": [
       "<Figure size 640x480 with 1 Axes>"
      ]
     },
     "metadata": {},
     "output_type": "display_data"
    },
    {
     "data": {
      "text/html": [
       "<div>\n",
       "<style scoped>\n",
       "    .dataframe tbody tr th:only-of-type {\n",
       "        vertical-align: middle;\n",
       "    }\n",
       "\n",
       "    .dataframe tbody tr th {\n",
       "        vertical-align: top;\n",
       "    }\n",
       "\n",
       "    .dataframe thead th {\n",
       "        text-align: right;\n",
       "    }\n",
       "</style>\n",
       "<table border=\"1\" class=\"dataframe\">\n",
       "  <thead>\n",
       "    <tr style=\"text-align: right;\">\n",
       "      <th></th>\n",
       "      <th>count_x</th>\n",
       "      <th>count_y</th>\n",
       "    </tr>\n",
       "  </thead>\n",
       "  <tbody>\n",
       "    <tr>\n",
       "      <th>US</th>\n",
       "      <td>99146</td>\n",
       "      <td>82843</td>\n",
       "    </tr>\n",
       "    <tr>\n",
       "      <th>SC</th>\n",
       "      <td>81817</td>\n",
       "      <td>74956</td>\n",
       "    </tr>\n",
       "    <tr>\n",
       "      <th>GB</th>\n",
       "      <td>53979</td>\n",
       "      <td>61205</td>\n",
       "    </tr>\n",
       "    <tr>\n",
       "      <th>SG</th>\n",
       "      <td>47055</td>\n",
       "      <td>55383</td>\n",
       "    </tr>\n",
       "    <tr>\n",
       "      <th>MT</th>\n",
       "      <td>46630</td>\n",
       "      <td>43594</td>\n",
       "    </tr>\n",
       "    <tr>\n",
       "      <th>...</th>\n",
       "      <td>...</td>\n",
       "      <td>...</td>\n",
       "    </tr>\n",
       "    <tr>\n",
       "      <th>DK</th>\n",
       "      <td>144</td>\n",
       "      <td>236</td>\n",
       "    </tr>\n",
       "    <tr>\n",
       "      <th>GI</th>\n",
       "      <td>68</td>\n",
       "      <td>3230</td>\n",
       "    </tr>\n",
       "    <tr>\n",
       "      <th>VN</th>\n",
       "      <td>58</td>\n",
       "      <td>2034</td>\n",
       "    </tr>\n",
       "    <tr>\n",
       "      <th>BE</th>\n",
       "      <td>12</td>\n",
       "      <td>28</td>\n",
       "    </tr>\n",
       "    <tr>\n",
       "      <th>IN</th>\n",
       "      <td>2</td>\n",
       "      <td>14</td>\n",
       "    </tr>\n",
       "  </tbody>\n",
       "</table>\n",
       "<p>61 rows × 2 columns</p>\n",
       "</div>"
      ],
      "text/plain": [
       "    count_x  count_y\n",
       "US    99146    82843\n",
       "SC    81817    74956\n",
       "GB    53979    61205\n",
       "SG    47055    55383\n",
       "MT    46630    43594\n",
       "..      ...      ...\n",
       "DK      144      236\n",
       "GI       68     3230\n",
       "VN       58     2034\n",
       "BE       12       28\n",
       "IN        2       14\n",
       "\n",
       "[61 rows x 2 columns]"
      ]
     },
     "metadata": {},
     "output_type": "display_data"
    },
    {
     "data": {
      "text/html": [
       "<div>\n",
       "<style scoped>\n",
       "    .dataframe tbody tr th:only-of-type {\n",
       "        vertical-align: middle;\n",
       "    }\n",
       "\n",
       "    .dataframe tbody tr th {\n",
       "        vertical-align: top;\n",
       "    }\n",
       "\n",
       "    .dataframe thead th {\n",
       "        text-align: right;\n",
       "    }\n",
       "</style>\n",
       "<table border=\"1\" class=\"dataframe\">\n",
       "  <thead>\n",
       "    <tr style=\"text-align: right;\">\n",
       "      <th></th>\n",
       "      <th>count_x</th>\n",
       "      <th>count_y</th>\n",
       "    </tr>\n",
       "  </thead>\n",
       "  <tbody>\n",
       "    <tr>\n",
       "      <th>US</th>\n",
       "      <td>99146</td>\n",
       "      <td>82843</td>\n",
       "    </tr>\n",
       "    <tr>\n",
       "      <th>SC</th>\n",
       "      <td>81817</td>\n",
       "      <td>74956</td>\n",
       "    </tr>\n",
       "    <tr>\n",
       "      <th>GB</th>\n",
       "      <td>53979</td>\n",
       "      <td>61205</td>\n",
       "    </tr>\n",
       "    <tr>\n",
       "      <th>SG</th>\n",
       "      <td>47055</td>\n",
       "      <td>55383</td>\n",
       "    </tr>\n",
       "    <tr>\n",
       "      <th>MT</th>\n",
       "      <td>46630</td>\n",
       "      <td>43594</td>\n",
       "    </tr>\n",
       "    <tr>\n",
       "      <th>...</th>\n",
       "      <td>...</td>\n",
       "      <td>...</td>\n",
       "    </tr>\n",
       "    <tr>\n",
       "      <th>DK</th>\n",
       "      <td>144</td>\n",
       "      <td>236</td>\n",
       "    </tr>\n",
       "    <tr>\n",
       "      <th>GI</th>\n",
       "      <td>68</td>\n",
       "      <td>3230</td>\n",
       "    </tr>\n",
       "    <tr>\n",
       "      <th>VN</th>\n",
       "      <td>58</td>\n",
       "      <td>2034</td>\n",
       "    </tr>\n",
       "    <tr>\n",
       "      <th>BE</th>\n",
       "      <td>12</td>\n",
       "      <td>28</td>\n",
       "    </tr>\n",
       "    <tr>\n",
       "      <th>IN</th>\n",
       "      <td>2</td>\n",
       "      <td>14</td>\n",
       "    </tr>\n",
       "  </tbody>\n",
       "</table>\n",
       "<p>61 rows × 2 columns</p>\n",
       "</div>"
      ],
      "text/plain": [
       "    count_x  count_y\n",
       "US    99146    82843\n",
       "SC    81817    74956\n",
       "GB    53979    61205\n",
       "SG    47055    55383\n",
       "MT    46630    43594\n",
       "..      ...      ...\n",
       "DK      144      236\n",
       "GI       68     3230\n",
       "VN       58     2034\n",
       "BE       12       28\n",
       "IN        2       14\n",
       "\n",
       "[61 rows x 2 columns]"
      ]
     },
     "metadata": {},
     "output_type": "display_data"
    },
    {
     "data": {
      "text/html": [
       "<div>\n",
       "<style scoped>\n",
       "    .dataframe tbody tr th:only-of-type {\n",
       "        vertical-align: middle;\n",
       "    }\n",
       "\n",
       "    .dataframe tbody tr th {\n",
       "        vertical-align: top;\n",
       "    }\n",
       "\n",
       "    .dataframe thead th {\n",
       "        text-align: right;\n",
       "    }\n",
       "</style>\n",
       "<table border=\"1\" class=\"dataframe\">\n",
       "  <thead>\n",
       "    <tr style=\"text-align: right;\">\n",
       "      <th></th>\n",
       "      <th>count_x</th>\n",
       "      <th>count_y</th>\n",
       "    </tr>\n",
       "  </thead>\n",
       "  <tbody>\n",
       "    <tr>\n",
       "      <th>US</th>\n",
       "      <td>99146</td>\n",
       "      <td>82843</td>\n",
       "    </tr>\n",
       "    <tr>\n",
       "      <th>SC</th>\n",
       "      <td>81817</td>\n",
       "      <td>74956</td>\n",
       "    </tr>\n",
       "    <tr>\n",
       "      <th>GB</th>\n",
       "      <td>53979</td>\n",
       "      <td>61205</td>\n",
       "    </tr>\n",
       "    <tr>\n",
       "      <th>SG</th>\n",
       "      <td>47055</td>\n",
       "      <td>55383</td>\n",
       "    </tr>\n",
       "    <tr>\n",
       "      <th>MT</th>\n",
       "      <td>46630</td>\n",
       "      <td>43594</td>\n",
       "    </tr>\n",
       "    <tr>\n",
       "      <th>...</th>\n",
       "      <td>...</td>\n",
       "      <td>...</td>\n",
       "    </tr>\n",
       "    <tr>\n",
       "      <th>DK</th>\n",
       "      <td>144</td>\n",
       "      <td>236</td>\n",
       "    </tr>\n",
       "    <tr>\n",
       "      <th>HR</th>\n",
       "      <td>271</td>\n",
       "      <td>97</td>\n",
       "    </tr>\n",
       "    <tr>\n",
       "      <th>BE</th>\n",
       "      <td>12</td>\n",
       "      <td>28</td>\n",
       "    </tr>\n",
       "    <tr>\n",
       "      <th>IN</th>\n",
       "      <td>2</td>\n",
       "      <td>14</td>\n",
       "    </tr>\n",
       "    <tr>\n",
       "      <th>IE</th>\n",
       "      <td>1886</td>\n",
       "      <td>8</td>\n",
       "    </tr>\n",
       "  </tbody>\n",
       "</table>\n",
       "<p>61 rows × 2 columns</p>\n",
       "</div>"
      ],
      "text/plain": [
       "    count_x  count_y\n",
       "US    99146    82843\n",
       "SC    81817    74956\n",
       "GB    53979    61205\n",
       "SG    47055    55383\n",
       "MT    46630    43594\n",
       "..      ...      ...\n",
       "DK      144      236\n",
       "HR      271       97\n",
       "BE       12       28\n",
       "IN        2       14\n",
       "IE     1886        8\n",
       "\n",
       "[61 rows x 2 columns]"
      ]
     },
     "metadata": {},
     "output_type": "display_data"
    },
    {
     "data": {
      "text/plain": [
       "src_jurisdictions\n",
       "US    99146\n",
       "SC    81817\n",
       "GB    53979\n",
       "SG    47055\n",
       "MT    46630\n",
       "KY    44735\n",
       "ZA    34714\n",
       "NZ    31399\n",
       "IT    31252\n",
       "LT    31228\n",
       "Name: count, dtype: int64"
      ]
     },
     "metadata": {},
     "output_type": "display_data"
    },
    {
     "data": {
      "text/plain": [
       "dst_jurisdictions\n",
       "US    82843\n",
       "SC    74956\n",
       "GB    61205\n",
       "SG    55383\n",
       "MT    43594\n",
       "KY    38056\n",
       "ZA    37585\n",
       "AU    36502\n",
       "HK    31336\n",
       "CY    29115\n",
       "Name: count, dtype: int64"
      ]
     },
     "metadata": {},
     "output_type": "display_data"
    },
    {
     "data": {
      "text/plain": [
       "PearsonRResult(statistic=0.9740003651563885, pvalue=9.550091202741034e-40)"
      ]
     },
     "metadata": {},
     "output_type": "display_data"
    }
   ],
   "source": [
    "src_juri_freq = merged_df.src_jurisdictions.value_counts()\n",
    "dst_juri_freq = merged_df.dst_jurisdictions.value_counts()\n",
    "merged_freq = pd.merge(src_juri_freq, dst_juri_freq, left_index=True, right_index=True, how='inner')\n",
    "plt.scatter(x=merged_freq.count_x, y=merged_freq.count_y)\n",
    "plt.xlabel('No of Outgoing Txs')\n",
    "plt.ylabel('No of Incoming Txs')\n",
    "plt.title('Outcoming vs Incoming Txs')\n",
    "plt.grid(True)\n",
    "line = np.linspace(min(merged_freq.count_x), max(merged_freq.count_y), 100)\n",
    "plt.plot(line, line, color='r', linestyle='--')\n",
    "plt.savefig('distribute.png')\n",
    "plt.show()\n",
    "\n",
    "display(merged_freq)\n",
    "display(merged_freq.sort_values(by='count_x', ascending=False))\n",
    "display(merged_freq.sort_values(by='count_y', ascending=False))\n",
    "display(src_juri_freq.head(10))\n",
    "display(dst_juri_freq.head(10))\n",
    "\n",
    "corr = pearsonr(merged_freq.count_x, merged_freq.count_y)\n",
    "display(corr)\n"
   ]
  },
  {
   "cell_type": "code",
   "execution_count": 653,
   "metadata": {},
   "outputs": [
    {
     "data": {
      "image/png": "[encoded data removed]",
      "text/plain": [
       "<Figure size 500x500 with 1 Axes>"
      ]
     },
     "metadata": {},
     "output_type": "display_data"
    }
   ],
   "source": [
    "# Plot top 20 in terms of incoming tx\n",
    "top20_src = src_juri_freq.head(20)\n",
    "plt.figure(figsize=(5, 5)) \n",
    "plt.barh(top20_src.index[::-1], top20_src.values[::-1])\n",
    "plt.xlabel('Number of Outgoing TXs')\n",
    "plt.ylabel('Country')\n",
    "#plt.xticks(range(1, 25), range(1, 25))\n",
    "plt.title('Top 20 Countries by Outgoing TXs')\n",
    "plt.savefig('outgoing_top20.png')\n",
    "plt.show()"
   ]
  },
  {
   "cell_type": "code",
   "execution_count": 654,
   "metadata": {},
   "outputs": [
    {
     "data": {
      "image/png": "[encoded data removed]",
      "text/plain": [
       "<Figure size 640x480 with 1 Axes>"
      ]
     },
     "metadata": {},
     "output_type": "display_data"
    },
    {
     "data": {
      "text/html": [
       "<div>\n",
       "<style scoped>\n",
       "    .dataframe tbody tr th:only-of-type {\n",
       "        vertical-align: middle;\n",
       "    }\n",
       "\n",
       "    .dataframe tbody tr th {\n",
       "        vertical-align: top;\n",
       "    }\n",
       "\n",
       "    .dataframe thead th {\n",
       "        text-align: right;\n",
       "    }\n",
       "</style>\n",
       "<table border=\"1\" class=\"dataframe\">\n",
       "  <thead>\n",
       "    <tr style=\"text-align: right;\">\n",
       "      <th></th>\n",
       "      <th>src_value_USD</th>\n",
       "      <th>dst_value_USD</th>\n",
       "    </tr>\n",
       "  </thead>\n",
       "  <tbody>\n",
       "    <tr>\n",
       "      <th>SC</th>\n",
       "      <td>9.482338e+10</td>\n",
       "      <td>7.448250e+10</td>\n",
       "    </tr>\n",
       "    <tr>\n",
       "      <th>US</th>\n",
       "      <td>8.651482e+10</td>\n",
       "      <td>1.434015e+11</td>\n",
       "    </tr>\n",
       "    <tr>\n",
       "      <th>KY</th>\n",
       "      <td>6.386358e+10</td>\n",
       "      <td>6.395127e+10</td>\n",
       "    </tr>\n",
       "    <tr>\n",
       "      <th>MT</th>\n",
       "      <td>6.380894e+10</td>\n",
       "      <td>6.399439e+10</td>\n",
       "    </tr>\n",
       "    <tr>\n",
       "      <th>AE</th>\n",
       "      <td>6.036182e+10</td>\n",
       "      <td>5.822994e+10</td>\n",
       "    </tr>\n",
       "    <tr>\n",
       "      <th>...</th>\n",
       "      <td>...</td>\n",
       "      <td>...</td>\n",
       "    </tr>\n",
       "    <tr>\n",
       "      <th>VC</th>\n",
       "      <td>1.788847e+05</td>\n",
       "      <td>4.125093e+04</td>\n",
       "    </tr>\n",
       "    <tr>\n",
       "      <th>IN</th>\n",
       "      <td>1.545862e+05</td>\n",
       "      <td>1.109911e+04</td>\n",
       "    </tr>\n",
       "    <tr>\n",
       "      <th>VN</th>\n",
       "      <td>4.026151e+04</td>\n",
       "      <td>1.491355e+06</td>\n",
       "    </tr>\n",
       "    <tr>\n",
       "      <th>GI</th>\n",
       "      <td>1.427420e+04</td>\n",
       "      <td>7.009536e+06</td>\n",
       "    </tr>\n",
       "    <tr>\n",
       "      <th>BE</th>\n",
       "      <td>4.569300e+03</td>\n",
       "      <td>1.523813e+04</td>\n",
       "    </tr>\n",
       "  </tbody>\n",
       "</table>\n",
       "<p>61 rows × 2 columns</p>\n",
       "</div>"
      ],
      "text/plain": [
       "    src_value_USD  dst_value_USD\n",
       "SC   9.482338e+10   7.448250e+10\n",
       "US   8.651482e+10   1.434015e+11\n",
       "KY   6.386358e+10   6.395127e+10\n",
       "MT   6.380894e+10   6.399439e+10\n",
       "AE   6.036182e+10   5.822994e+10\n",
       "..            ...            ...\n",
       "VC   1.788847e+05   4.125093e+04\n",
       "IN   1.545862e+05   1.109911e+04\n",
       "VN   4.026151e+04   1.491355e+06\n",
       "GI   1.427420e+04   7.009536e+06\n",
       "BE   4.569300e+03   1.523813e+04\n",
       "\n",
       "[61 rows x 2 columns]"
      ]
     },
     "metadata": {},
     "output_type": "display_data"
    },
    {
     "data": {
      "text/html": [
       "<div>\n",
       "<style scoped>\n",
       "    .dataframe tbody tr th:only-of-type {\n",
       "        vertical-align: middle;\n",
       "    }\n",
       "\n",
       "    .dataframe tbody tr th {\n",
       "        vertical-align: top;\n",
       "    }\n",
       "\n",
       "    .dataframe thead th {\n",
       "        text-align: right;\n",
       "    }\n",
       "</style>\n",
       "<table border=\"1\" class=\"dataframe\">\n",
       "  <thead>\n",
       "    <tr style=\"text-align: right;\">\n",
       "      <th></th>\n",
       "      <th>src_value_USD</th>\n",
       "      <th>dst_value_USD</th>\n",
       "    </tr>\n",
       "  </thead>\n",
       "  <tbody>\n",
       "    <tr>\n",
       "      <th>US</th>\n",
       "      <td>8.651482e+10</td>\n",
       "      <td>1.434015e+11</td>\n",
       "    </tr>\n",
       "    <tr>\n",
       "      <th>SC</th>\n",
       "      <td>9.482338e+10</td>\n",
       "      <td>7.448250e+10</td>\n",
       "    </tr>\n",
       "    <tr>\n",
       "      <th>MT</th>\n",
       "      <td>6.380894e+10</td>\n",
       "      <td>6.399439e+10</td>\n",
       "    </tr>\n",
       "    <tr>\n",
       "      <th>KY</th>\n",
       "      <td>6.386358e+10</td>\n",
       "      <td>6.395127e+10</td>\n",
       "    </tr>\n",
       "    <tr>\n",
       "      <th>ZA</th>\n",
       "      <td>5.973239e+10</td>\n",
       "      <td>6.091914e+10</td>\n",
       "    </tr>\n",
       "    <tr>\n",
       "      <th>...</th>\n",
       "      <td>...</td>\n",
       "      <td>...</td>\n",
       "    </tr>\n",
       "    <tr>\n",
       "      <th>HR</th>\n",
       "      <td>2.538962e+05</td>\n",
       "      <td>1.911880e+05</td>\n",
       "    </tr>\n",
       "    <tr>\n",
       "      <th>IE</th>\n",
       "      <td>2.169608e+06</td>\n",
       "      <td>6.429045e+04</td>\n",
       "    </tr>\n",
       "    <tr>\n",
       "      <th>VC</th>\n",
       "      <td>1.788847e+05</td>\n",
       "      <td>4.125093e+04</td>\n",
       "    </tr>\n",
       "    <tr>\n",
       "      <th>BE</th>\n",
       "      <td>4.569300e+03</td>\n",
       "      <td>1.523813e+04</td>\n",
       "    </tr>\n",
       "    <tr>\n",
       "      <th>IN</th>\n",
       "      <td>1.545862e+05</td>\n",
       "      <td>1.109911e+04</td>\n",
       "    </tr>\n",
       "  </tbody>\n",
       "</table>\n",
       "<p>61 rows × 2 columns</p>\n",
       "</div>"
      ],
      "text/plain": [
       "    src_value_USD  dst_value_USD\n",
       "US   8.651482e+10   1.434015e+11\n",
       "SC   9.482338e+10   7.448250e+10\n",
       "MT   6.380894e+10   6.399439e+10\n",
       "KY   6.386358e+10   6.395127e+10\n",
       "ZA   5.973239e+10   6.091914e+10\n",
       "..            ...            ...\n",
       "HR   2.538962e+05   1.911880e+05\n",
       "IE   2.169608e+06   6.429045e+04\n",
       "VC   1.788847e+05   4.125093e+04\n",
       "BE   4.569300e+03   1.523813e+04\n",
       "IN   1.545862e+05   1.109911e+04\n",
       "\n",
       "[61 rows x 2 columns]"
      ]
     },
     "metadata": {},
     "output_type": "display_data"
    },
    {
     "data": {
      "text/plain": [
       "PearsonRResult(statistic=0.9548981386815689, pvalue=8.335462344885294e-33)"
      ]
     },
     "metadata": {},
     "output_type": "display_data"
    }
   ],
   "source": [
    "# Total value of incoming / outgoing tx\n",
    "# TODO UNITS ON AXED also maybe scale to BN USD? \n",
    "src_juri_sum = merged_df.groupby('src_jurisdictions')['src_value_USD'].sum()\n",
    "dst_juri_sum = merged_df.groupby('dst_jurisdictions')['dst_value_USD'].sum()\n",
    "merged_sum = pd.merge(src_juri_sum, dst_juri_sum, left_index=True, right_index=True, how='inner')\n",
    "fig, ax = plt.subplots()\n",
    "scatter = ax.scatter(x=merged_sum.src_value_USD, y=merged_sum.dst_value_USD)\n",
    "plt.xlabel('USD value of Outgoing Txs')\n",
    "plt.ylabel('USD value of Incoming Txs')\n",
    "plt.title('Outcoming vs Incoming Txs USD value')\n",
    "plt.grid(True)\n",
    "\n",
    "line = np.linspace(min(merged_sum.src_value_USD), max(merged_sum.dst_value_USD), 100)\n",
    "plt.plot(line, line, color='r', linestyle='--')\n",
    "plt.show()\n",
    "\n",
    "display(merged_sum.sort_values(by='src_value_USD', ascending=False))\n",
    "display(merged_sum.sort_values(by='dst_value_USD', ascending=False))\n",
    "\n",
    "corr = pearsonr(merged_sum.src_value_USD, merged_sum.dst_value_USD)\n",
    "display(corr)"
   ]
  },
  {
   "cell_type": "markdown",
   "metadata": {},
   "source": [
    "### Trading Pairs frequency"
   ]
  },
  {
   "cell_type": "code",
   "execution_count": 655,
   "metadata": {},
   "outputs": [
    {
     "data": {
      "text/plain": [
       "<Axes: ylabel='trading_pairs'>"
      ]
     },
     "execution_count": 655,
     "metadata": {},
     "output_type": "execute_result"
    },
    {
     "data": {
      "image/png": "[encoded data removed]",
      "text/plain": [
       "<Figure size 500x500 with 1 Axes>"
      ]
     },
     "metadata": {},
     "output_type": "display_data"
    }
   ],
   "source": [
    "merged_df['trading_pairs'] = merged_df['src_jurisdictions'] + '->' + merged_df['dst_jurisdictions']\n",
    "\n",
    "merged_df.trading_pairs.value_counts().head(20)[::-1].plot.barh(figsize=(5, 5))"
   ]
  },
  {
   "cell_type": "code",
   "execution_count": 656,
   "metadata": {},
   "outputs": [
    {
     "data": {
      "text/html": [
       "<div>\n",
       "<style scoped>\n",
       "    .dataframe tbody tr th:only-of-type {\n",
       "        vertical-align: middle;\n",
       "    }\n",
       "\n",
       "    .dataframe tbody tr th {\n",
       "        vertical-align: top;\n",
       "    }\n",
       "\n",
       "    .dataframe thead th {\n",
       "        text-align: right;\n",
       "    }\n",
       "</style>\n",
       "<table border=\"1\" class=\"dataframe\">\n",
       "  <thead>\n",
       "    <tr style=\"text-align: right;\">\n",
       "      <th></th>\n",
       "      <th>src_id</th>\n",
       "      <th>dst_id</th>\n",
       "      <th>value_asset</th>\n",
       "      <th>value_USD</th>\n",
       "      <th>date</th>\n",
       "      <th>src_uri</th>\n",
       "      <th>src_label</th>\n",
       "      <th>src_jurisdictions</th>\n",
       "      <th>src_categories</th>\n",
       "      <th>dst_uri</th>\n",
       "      <th>...</th>\n",
       "      <th>dst_jurisdictions</th>\n",
       "      <th>dst_categories</th>\n",
       "      <th>high</th>\n",
       "      <th>year</th>\n",
       "      <th>src_value_asset</th>\n",
       "      <th>dst_value_asset</th>\n",
       "      <th>src_value_USD</th>\n",
       "      <th>dst_value_USD</th>\n",
       "      <th>value_BTC</th>\n",
       "      <th>trading_pairs</th>\n",
       "    </tr>\n",
       "  </thead>\n",
       "  <tbody>\n",
       "    <tr>\n",
       "      <th>0</th>\n",
       "      <td>1coin</td>\n",
       "      <td>1coin</td>\n",
       "      <td>333900098</td>\n",
       "      <td>2092.574397</td>\n",
       "      <td>2014-03-14</td>\n",
       "      <td>1coin.io</td>\n",
       "      <td>1Coin</td>\n",
       "      <td>US</td>\n",
       "      <td>exchange</td>\n",
       "      <td>1coin.io</td>\n",
       "      <td>...</td>\n",
       "      <td>CA</td>\n",
       "      <td>exchange</td>\n",
       "      <td>461.254980</td>\n",
       "      <td>2014</td>\n",
       "      <td>1.669500e+08</td>\n",
       "      <td>1.669500e+08</td>\n",
       "      <td>1046.287199</td>\n",
       "      <td>1046.287199</td>\n",
       "      <td>4.536698</td>\n",
       "      <td>US-&gt;CA</td>\n",
       "    </tr>\n",
       "    <tr>\n",
       "      <th>0</th>\n",
       "      <td>1coin</td>\n",
       "      <td>1coin</td>\n",
       "      <td>333900098</td>\n",
       "      <td>2092.574397</td>\n",
       "      <td>2014-03-14</td>\n",
       "      <td>1coin.io</td>\n",
       "      <td>1Coin</td>\n",
       "      <td>CA</td>\n",
       "      <td>exchange</td>\n",
       "      <td>1coin.io</td>\n",
       "      <td>...</td>\n",
       "      <td>US</td>\n",
       "      <td>exchange</td>\n",
       "      <td>461.254980</td>\n",
       "      <td>2014</td>\n",
       "      <td>1.669500e+08</td>\n",
       "      <td>1.669500e+08</td>\n",
       "      <td>1046.287199</td>\n",
       "      <td>1046.287199</td>\n",
       "      <td>4.536698</td>\n",
       "      <td>CA-&gt;US</td>\n",
       "    </tr>\n",
       "    <tr>\n",
       "      <th>2</th>\n",
       "      <td>bitstamp</td>\n",
       "      <td>bitfinex</td>\n",
       "      <td>2783769806</td>\n",
       "      <td>17446.072812</td>\n",
       "      <td>2014-03-14</td>\n",
       "      <td>bitstamp.net</td>\n",
       "      <td>Bitstamp</td>\n",
       "      <td>GB</td>\n",
       "      <td>exchange</td>\n",
       "      <td>bitfinex.com</td>\n",
       "      <td>...</td>\n",
       "      <td>VG</td>\n",
       "      <td>exchange</td>\n",
       "      <td>461.254980</td>\n",
       "      <td>2014</td>\n",
       "      <td>2.783770e+09</td>\n",
       "      <td>2.783770e+09</td>\n",
       "      <td>17446.072812</td>\n",
       "      <td>17446.072812</td>\n",
       "      <td>37.823056</td>\n",
       "      <td>GB-&gt;VG</td>\n",
       "    </tr>\n",
       "    <tr>\n",
       "      <th>3</th>\n",
       "      <td>cex</td>\n",
       "      <td>bitfinex</td>\n",
       "      <td>1000000</td>\n",
       "      <td>6.267068</td>\n",
       "      <td>2014-03-14</td>\n",
       "      <td>cex.io</td>\n",
       "      <td>Cex</td>\n",
       "      <td>GB</td>\n",
       "      <td>exchange</td>\n",
       "      <td>bitfinex.com</td>\n",
       "      <td>...</td>\n",
       "      <td>VG</td>\n",
       "      <td>exchange</td>\n",
       "      <td>461.254980</td>\n",
       "      <td>2014</td>\n",
       "      <td>1.000000e+06</td>\n",
       "      <td>1.000000e+06</td>\n",
       "      <td>6.267068</td>\n",
       "      <td>6.267068</td>\n",
       "      <td>0.013587</td>\n",
       "      <td>GB-&gt;VG</td>\n",
       "    </tr>\n",
       "    <tr>\n",
       "      <th>4</th>\n",
       "      <td>cryptsy</td>\n",
       "      <td>bitfinex</td>\n",
       "      <td>129885463</td>\n",
       "      <td>814.000978</td>\n",
       "      <td>2014-03-14</td>\n",
       "      <td>cryptsy.com</td>\n",
       "      <td>Cryptsy</td>\n",
       "      <td>US</td>\n",
       "      <td>exchange</td>\n",
       "      <td>bitfinex.com</td>\n",
       "      <td>...</td>\n",
       "      <td>VG</td>\n",
       "      <td>exchange</td>\n",
       "      <td>461.254980</td>\n",
       "      <td>2014</td>\n",
       "      <td>1.298855e+08</td>\n",
       "      <td>1.298855e+08</td>\n",
       "      <td>814.000978</td>\n",
       "      <td>814.000978</td>\n",
       "      <td>1.764753</td>\n",
       "      <td>US-&gt;VG</td>\n",
       "    </tr>\n",
       "    <tr>\n",
       "      <th>...</th>\n",
       "      <td>...</td>\n",
       "      <td>...</td>\n",
       "      <td>...</td>\n",
       "      <td>...</td>\n",
       "      <td>...</td>\n",
       "      <td>...</td>\n",
       "      <td>...</td>\n",
       "      <td>...</td>\n",
       "      <td>...</td>\n",
       "      <td>...</td>\n",
       "      <td>...</td>\n",
       "      <td>...</td>\n",
       "      <td>...</td>\n",
       "      <td>...</td>\n",
       "      <td>...</td>\n",
       "      <td>...</td>\n",
       "      <td>...</td>\n",
       "      <td>...</td>\n",
       "      <td>...</td>\n",
       "      <td>...</td>\n",
       "      <td>...</td>\n",
       "    </tr>\n",
       "    <tr>\n",
       "      <th>295723</th>\n",
       "      <td>coinbase</td>\n",
       "      <td>changehero</td>\n",
       "      <td>1678790</td>\n",
       "      <td>475.652421</td>\n",
       "      <td>2023-04-09</td>\n",
       "      <td>www.coinbase.com</td>\n",
       "      <td>Coinbase</td>\n",
       "      <td>US</td>\n",
       "      <td>exchange</td>\n",
       "      <td>changehero.io</td>\n",
       "      <td>...</td>\n",
       "      <td>HK</td>\n",
       "      <td>exchange</td>\n",
       "      <td>26150.966389</td>\n",
       "      <td>2023</td>\n",
       "      <td>1.678790e+06</td>\n",
       "      <td>1.678790e+06</td>\n",
       "      <td>475.652421</td>\n",
       "      <td>475.652421</td>\n",
       "      <td>0.018189</td>\n",
       "      <td>US-&gt;HK</td>\n",
       "    </tr>\n",
       "    <tr>\n",
       "      <th>295724</th>\n",
       "      <td>cryptocom</td>\n",
       "      <td>changehero</td>\n",
       "      <td>1151650</td>\n",
       "      <td>326.297569</td>\n",
       "      <td>2023-04-09</td>\n",
       "      <td>crypto.com</td>\n",
       "      <td>Crypto.com</td>\n",
       "      <td>KY</td>\n",
       "      <td>defi_dex, exchange, organization</td>\n",
       "      <td>changehero.io</td>\n",
       "      <td>...</td>\n",
       "      <td>HK</td>\n",
       "      <td>exchange</td>\n",
       "      <td>26150.966389</td>\n",
       "      <td>2023</td>\n",
       "      <td>3.838833e+05</td>\n",
       "      <td>1.151650e+06</td>\n",
       "      <td>108.765856</td>\n",
       "      <td>326.297569</td>\n",
       "      <td>0.012477</td>\n",
       "      <td>KY-&gt;HK</td>\n",
       "    </tr>\n",
       "    <tr>\n",
       "      <th>295724</th>\n",
       "      <td>cryptocom</td>\n",
       "      <td>changehero</td>\n",
       "      <td>1151650</td>\n",
       "      <td>326.297569</td>\n",
       "      <td>2023-04-09</td>\n",
       "      <td>crypto.com</td>\n",
       "      <td>Crypto.com</td>\n",
       "      <td>MT</td>\n",
       "      <td>defi_dex, exchange, organization</td>\n",
       "      <td>changehero.io</td>\n",
       "      <td>...</td>\n",
       "      <td>HK</td>\n",
       "      <td>exchange</td>\n",
       "      <td>26150.966389</td>\n",
       "      <td>2023</td>\n",
       "      <td>3.838833e+05</td>\n",
       "      <td>1.151650e+06</td>\n",
       "      <td>108.765856</td>\n",
       "      <td>326.297569</td>\n",
       "      <td>0.012477</td>\n",
       "      <td>MT-&gt;HK</td>\n",
       "    </tr>\n",
       "    <tr>\n",
       "      <th>295724</th>\n",
       "      <td>cryptocom</td>\n",
       "      <td>changehero</td>\n",
       "      <td>1151650</td>\n",
       "      <td>326.297569</td>\n",
       "      <td>2023-04-09</td>\n",
       "      <td>crypto.com</td>\n",
       "      <td>Crypto.com</td>\n",
       "      <td>SG</td>\n",
       "      <td>defi_dex, exchange, organization</td>\n",
       "      <td>changehero.io</td>\n",
       "      <td>...</td>\n",
       "      <td>HK</td>\n",
       "      <td>exchange</td>\n",
       "      <td>26150.966389</td>\n",
       "      <td>2023</td>\n",
       "      <td>3.838833e+05</td>\n",
       "      <td>1.151650e+06</td>\n",
       "      <td>108.765856</td>\n",
       "      <td>326.297569</td>\n",
       "      <td>0.012477</td>\n",
       "      <td>SG-&gt;HK</td>\n",
       "    </tr>\n",
       "    <tr>\n",
       "      <th>295726</th>\n",
       "      <td>coinbase</td>\n",
       "      <td>exir</td>\n",
       "      <td>88252</td>\n",
       "      <td>25.004485</td>\n",
       "      <td>2023-04-09</td>\n",
       "      <td>www.coinbase.com</td>\n",
       "      <td>Coinbase</td>\n",
       "      <td>US</td>\n",
       "      <td>exchange</td>\n",
       "      <td>www.exir.io</td>\n",
       "      <td>...</td>\n",
       "      <td>IR</td>\n",
       "      <td>exchange, organization</td>\n",
       "      <td>26150.966389</td>\n",
       "      <td>2023</td>\n",
       "      <td>8.825200e+04</td>\n",
       "      <td>8.825200e+04</td>\n",
       "      <td>25.004485</td>\n",
       "      <td>25.004485</td>\n",
       "      <td>0.000956</td>\n",
       "      <td>US-&gt;IR</td>\n",
       "    </tr>\n",
       "  </tbody>\n",
       "</table>\n",
       "<p>1021312 rows × 21 columns</p>\n",
       "</div>"
      ],
      "text/plain": [
       "           src_id      dst_id  value_asset     value_USD       date  \\\n",
       "0           1coin       1coin    333900098   2092.574397 2014-03-14   \n",
       "0           1coin       1coin    333900098   2092.574397 2014-03-14   \n",
       "2        bitstamp    bitfinex   2783769806  17446.072812 2014-03-14   \n",
       "3             cex    bitfinex      1000000      6.267068 2014-03-14   \n",
       "4         cryptsy    bitfinex    129885463    814.000978 2014-03-14   \n",
       "...           ...         ...          ...           ...        ...   \n",
       "295723   coinbase  changehero      1678790    475.652421 2023-04-09   \n",
       "295724  cryptocom  changehero      1151650    326.297569 2023-04-09   \n",
       "295724  cryptocom  changehero      1151650    326.297569 2023-04-09   \n",
       "295724  cryptocom  changehero      1151650    326.297569 2023-04-09   \n",
       "295726   coinbase        exir        88252     25.004485 2023-04-09   \n",
       "\n",
       "                 src_uri   src_label src_jurisdictions  \\\n",
       "0               1coin.io       1Coin                US   \n",
       "0               1coin.io       1Coin                CA   \n",
       "2           bitstamp.net    Bitstamp                GB   \n",
       "3                 cex.io         Cex                GB   \n",
       "4            cryptsy.com     Cryptsy                US   \n",
       "...                  ...         ...               ...   \n",
       "295723  www.coinbase.com    Coinbase                US   \n",
       "295724        crypto.com  Crypto.com                KY   \n",
       "295724        crypto.com  Crypto.com                MT   \n",
       "295724        crypto.com  Crypto.com                SG   \n",
       "295726  www.coinbase.com    Coinbase                US   \n",
       "\n",
       "                          src_categories        dst_uri  ...  \\\n",
       "0                               exchange       1coin.io  ...   \n",
       "0                               exchange       1coin.io  ...   \n",
       "2                               exchange   bitfinex.com  ...   \n",
       "3                               exchange   bitfinex.com  ...   \n",
       "4                               exchange   bitfinex.com  ...   \n",
       "...                                  ...            ...  ...   \n",
       "295723                          exchange  changehero.io  ...   \n",
       "295724  defi_dex, exchange, organization  changehero.io  ...   \n",
       "295724  defi_dex, exchange, organization  changehero.io  ...   \n",
       "295724  defi_dex, exchange, organization  changehero.io  ...   \n",
       "295726                          exchange    www.exir.io  ...   \n",
       "\n",
       "       dst_jurisdictions          dst_categories          high  year  \\\n",
       "0                     CA                exchange    461.254980  2014   \n",
       "0                     US                exchange    461.254980  2014   \n",
       "2                     VG                exchange    461.254980  2014   \n",
       "3                     VG                exchange    461.254980  2014   \n",
       "4                     VG                exchange    461.254980  2014   \n",
       "...                  ...                     ...           ...   ...   \n",
       "295723                HK                exchange  26150.966389  2023   \n",
       "295724                HK                exchange  26150.966389  2023   \n",
       "295724                HK                exchange  26150.966389  2023   \n",
       "295724                HK                exchange  26150.966389  2023   \n",
       "295726                IR  exchange, organization  26150.966389  2023   \n",
       "\n",
       "        src_value_asset  dst_value_asset  src_value_USD  dst_value_USD  \\\n",
       "0          1.669500e+08     1.669500e+08    1046.287199    1046.287199   \n",
       "0          1.669500e+08     1.669500e+08    1046.287199    1046.287199   \n",
       "2          2.783770e+09     2.783770e+09   17446.072812   17446.072812   \n",
       "3          1.000000e+06     1.000000e+06       6.267068       6.267068   \n",
       "4          1.298855e+08     1.298855e+08     814.000978     814.000978   \n",
       "...                 ...              ...            ...            ...   \n",
       "295723     1.678790e+06     1.678790e+06     475.652421     475.652421   \n",
       "295724     3.838833e+05     1.151650e+06     108.765856     326.297569   \n",
       "295724     3.838833e+05     1.151650e+06     108.765856     326.297569   \n",
       "295724     3.838833e+05     1.151650e+06     108.765856     326.297569   \n",
       "295726     8.825200e+04     8.825200e+04      25.004485      25.004485   \n",
       "\n",
       "        value_BTC  trading_pairs  \n",
       "0        4.536698         US->CA  \n",
       "0        4.536698         CA->US  \n",
       "2       37.823056         GB->VG  \n",
       "3        0.013587         GB->VG  \n",
       "4        1.764753         US->VG  \n",
       "...           ...            ...  \n",
       "295723   0.018189         US->HK  \n",
       "295724   0.012477         KY->HK  \n",
       "295724   0.012477         MT->HK  \n",
       "295724   0.012477         SG->HK  \n",
       "295726   0.000956         US->IR  \n",
       "\n",
       "[1021312 rows x 21 columns]"
      ]
     },
     "metadata": {},
     "output_type": "display_data"
    }
   ],
   "source": [
    "display(merged_df)"
   ]
  },
  {
   "cell_type": "code",
   "execution_count": 657,
   "metadata": {},
   "outputs": [
    {
     "data": {
      "text/html": [
       "<div>\n",
       "<style scoped>\n",
       "    .dataframe tbody tr th:only-of-type {\n",
       "        vertical-align: middle;\n",
       "    }\n",
       "\n",
       "    .dataframe tbody tr th {\n",
       "        vertical-align: top;\n",
       "    }\n",
       "\n",
       "    .dataframe thead th {\n",
       "        text-align: right;\n",
       "    }\n",
       "</style>\n",
       "<table border=\"1\" class=\"dataframe\">\n",
       "  <thead>\n",
       "    <tr style=\"text-align: right;\">\n",
       "      <th></th>\n",
       "      <th>name</th>\n",
       "      <th>alpha-2</th>\n",
       "      <th>alpha-3</th>\n",
       "      <th>country-code</th>\n",
       "      <th>iso_3166-2</th>\n",
       "      <th>region</th>\n",
       "      <th>sub-region</th>\n",
       "      <th>intermediate-region</th>\n",
       "      <th>region-code</th>\n",
       "      <th>sub-region-code</th>\n",
       "      <th>intermediate-region-code</th>\n",
       "    </tr>\n",
       "  </thead>\n",
       "  <tbody>\n",
       "    <tr>\n",
       "      <th>0</th>\n",
       "      <td>Afghanistan</td>\n",
       "      <td>AF</td>\n",
       "      <td>AFG</td>\n",
       "      <td>4</td>\n",
       "      <td>ISO 3166-2:AF</td>\n",
       "      <td>Asia</td>\n",
       "      <td>Southern Asia</td>\n",
       "      <td>NaN</td>\n",
       "      <td>142.0</td>\n",
       "      <td>34.0</td>\n",
       "      <td>NaN</td>\n",
       "    </tr>\n",
       "    <tr>\n",
       "      <th>1</th>\n",
       "      <td>Åland Islands</td>\n",
       "      <td>AX</td>\n",
       "      <td>ALA</td>\n",
       "      <td>248</td>\n",
       "      <td>ISO 3166-2:AX</td>\n",
       "      <td>Europe</td>\n",
       "      <td>Northern Europe</td>\n",
       "      <td>NaN</td>\n",
       "      <td>150.0</td>\n",
       "      <td>154.0</td>\n",
       "      <td>NaN</td>\n",
       "    </tr>\n",
       "    <tr>\n",
       "      <th>2</th>\n",
       "      <td>Albania</td>\n",
       "      <td>AL</td>\n",
       "      <td>ALB</td>\n",
       "      <td>8</td>\n",
       "      <td>ISO 3166-2:AL</td>\n",
       "      <td>Europe</td>\n",
       "      <td>Southern Europe</td>\n",
       "      <td>NaN</td>\n",
       "      <td>150.0</td>\n",
       "      <td>39.0</td>\n",
       "      <td>NaN</td>\n",
       "    </tr>\n",
       "    <tr>\n",
       "      <th>3</th>\n",
       "      <td>Algeria</td>\n",
       "      <td>DZ</td>\n",
       "      <td>DZA</td>\n",
       "      <td>12</td>\n",
       "      <td>ISO 3166-2:DZ</td>\n",
       "      <td>Africa</td>\n",
       "      <td>Northern Africa</td>\n",
       "      <td>NaN</td>\n",
       "      <td>2.0</td>\n",
       "      <td>15.0</td>\n",
       "      <td>NaN</td>\n",
       "    </tr>\n",
       "    <tr>\n",
       "      <th>4</th>\n",
       "      <td>American Samoa</td>\n",
       "      <td>AS</td>\n",
       "      <td>ASM</td>\n",
       "      <td>16</td>\n",
       "      <td>ISO 3166-2:AS</td>\n",
       "      <td>Oceania</td>\n",
       "      <td>Polynesia</td>\n",
       "      <td>NaN</td>\n",
       "      <td>9.0</td>\n",
       "      <td>61.0</td>\n",
       "      <td>NaN</td>\n",
       "    </tr>\n",
       "    <tr>\n",
       "      <th>...</th>\n",
       "      <td>...</td>\n",
       "      <td>...</td>\n",
       "      <td>...</td>\n",
       "      <td>...</td>\n",
       "      <td>...</td>\n",
       "      <td>...</td>\n",
       "      <td>...</td>\n",
       "      <td>...</td>\n",
       "      <td>...</td>\n",
       "      <td>...</td>\n",
       "      <td>...</td>\n",
       "    </tr>\n",
       "    <tr>\n",
       "      <th>244</th>\n",
       "      <td>Wallis and Futuna</td>\n",
       "      <td>WF</td>\n",
       "      <td>WLF</td>\n",
       "      <td>876</td>\n",
       "      <td>ISO 3166-2:WF</td>\n",
       "      <td>Oceania</td>\n",
       "      <td>Polynesia</td>\n",
       "      <td>NaN</td>\n",
       "      <td>9.0</td>\n",
       "      <td>61.0</td>\n",
       "      <td>NaN</td>\n",
       "    </tr>\n",
       "    <tr>\n",
       "      <th>245</th>\n",
       "      <td>Western Sahara</td>\n",
       "      <td>EH</td>\n",
       "      <td>ESH</td>\n",
       "      <td>732</td>\n",
       "      <td>ISO 3166-2:EH</td>\n",
       "      <td>Africa</td>\n",
       "      <td>Northern Africa</td>\n",
       "      <td>NaN</td>\n",
       "      <td>2.0</td>\n",
       "      <td>15.0</td>\n",
       "      <td>NaN</td>\n",
       "    </tr>\n",
       "    <tr>\n",
       "      <th>246</th>\n",
       "      <td>Yemen</td>\n",
       "      <td>YE</td>\n",
       "      <td>YEM</td>\n",
       "      <td>887</td>\n",
       "      <td>ISO 3166-2:YE</td>\n",
       "      <td>Asia</td>\n",
       "      <td>Western Asia</td>\n",
       "      <td>NaN</td>\n",
       "      <td>142.0</td>\n",
       "      <td>145.0</td>\n",
       "      <td>NaN</td>\n",
       "    </tr>\n",
       "    <tr>\n",
       "      <th>247</th>\n",
       "      <td>Zambia</td>\n",
       "      <td>ZM</td>\n",
       "      <td>ZMB</td>\n",
       "      <td>894</td>\n",
       "      <td>ISO 3166-2:ZM</td>\n",
       "      <td>Africa</td>\n",
       "      <td>Sub-Saharan Africa</td>\n",
       "      <td>Eastern Africa</td>\n",
       "      <td>2.0</td>\n",
       "      <td>202.0</td>\n",
       "      <td>14.0</td>\n",
       "    </tr>\n",
       "    <tr>\n",
       "      <th>248</th>\n",
       "      <td>Zimbabwe</td>\n",
       "      <td>ZW</td>\n",
       "      <td>ZWE</td>\n",
       "      <td>716</td>\n",
       "      <td>ISO 3166-2:ZW</td>\n",
       "      <td>Africa</td>\n",
       "      <td>Sub-Saharan Africa</td>\n",
       "      <td>Eastern Africa</td>\n",
       "      <td>2.0</td>\n",
       "      <td>202.0</td>\n",
       "      <td>14.0</td>\n",
       "    </tr>\n",
       "  </tbody>\n",
       "</table>\n",
       "<p>249 rows × 11 columns</p>\n",
       "</div>"
      ],
      "text/plain": [
       "                  name alpha-2 alpha-3  country-code     iso_3166-2   region  \\\n",
       "0          Afghanistan      AF     AFG             4  ISO 3166-2:AF     Asia   \n",
       "1        Åland Islands      AX     ALA           248  ISO 3166-2:AX   Europe   \n",
       "2              Albania      AL     ALB             8  ISO 3166-2:AL   Europe   \n",
       "3              Algeria      DZ     DZA            12  ISO 3166-2:DZ   Africa   \n",
       "4       American Samoa      AS     ASM            16  ISO 3166-2:AS  Oceania   \n",
       "..                 ...     ...     ...           ...            ...      ...   \n",
       "244  Wallis and Futuna      WF     WLF           876  ISO 3166-2:WF  Oceania   \n",
       "245     Western Sahara      EH     ESH           732  ISO 3166-2:EH   Africa   \n",
       "246              Yemen      YE     YEM           887  ISO 3166-2:YE     Asia   \n",
       "247             Zambia      ZM     ZMB           894  ISO 3166-2:ZM   Africa   \n",
       "248           Zimbabwe      ZW     ZWE           716  ISO 3166-2:ZW   Africa   \n",
       "\n",
       "             sub-region intermediate-region  region-code  sub-region-code  \\\n",
       "0         Southern Asia                 NaN        142.0             34.0   \n",
       "1       Northern Europe                 NaN        150.0            154.0   \n",
       "2       Southern Europe                 NaN        150.0             39.0   \n",
       "3       Northern Africa                 NaN          2.0             15.0   \n",
       "4             Polynesia                 NaN          9.0             61.0   \n",
       "..                  ...                 ...          ...              ...   \n",
       "244           Polynesia                 NaN          9.0             61.0   \n",
       "245     Northern Africa                 NaN          2.0             15.0   \n",
       "246        Western Asia                 NaN        142.0            145.0   \n",
       "247  Sub-Saharan Africa      Eastern Africa          2.0            202.0   \n",
       "248  Sub-Saharan Africa      Eastern Africa          2.0            202.0   \n",
       "\n",
       "     intermediate-region-code  \n",
       "0                         NaN  \n",
       "1                         NaN  \n",
       "2                         NaN  \n",
       "3                         NaN  \n",
       "4                         NaN  \n",
       "..                        ...  \n",
       "244                       NaN  \n",
       "245                       NaN  \n",
       "246                       NaN  \n",
       "247                      14.0  \n",
       "248                      14.0  \n",
       "\n",
       "[249 rows x 11 columns]"
      ]
     },
     "execution_count": 657,
     "metadata": {},
     "output_type": "execute_result"
    }
   ],
   "source": [
    "country_codes"
   ]
  },
  {
   "cell_type": "code",
   "execution_count": 658,
   "metadata": {},
   "outputs": [
    {
     "name": "stdout",
     "output_type": "stream",
     "text": [
      "16\n"
     ]
    },
    {
     "data": {
      "application/vnd.plotly.v1+json": {
       "config": {
        "plotlyServerURL": "https://plot.ly"
       },
       "data": [
        {
         "link": {
          "source": [
           23,
           2,
           56,
           52,
           33,
           15,
           0,
           42,
           5,
           3,
           9,
           21,
           48,
           35,
           55,
           11
          ],
          "target": [
           106,
           106,
           106,
           106,
           106,
           106,
           106,
           106,
           106,
           106,
           106,
           106,
           106,
           106,
           106,
           106
          ],
          "value": [
           12818975.35181312,
           12860764.70744636,
           12818269.52704512,
           12818269.52704512,
           12818269.52704512,
           12818269.52704512,
           12819571.29261568,
           12930310.48669696,
           12983155.81430528,
           12818269.52704512,
           12818269.52704512,
           12983114.76319744,
           12853703.13816256,
           12818269.52704512,
           18050316.078932993,
           12819700.13434816
          ]
         },
         "node": {
          "color": "gray",
          "label": [
           "FR",
           "FI",
           "AU",
           "KZ",
           "ID",
           "KY",
           "AG",
           "CN",
           "DK",
           "LT",
           "GI",
           "ZA",
           "BR",
           "LU",
           "BZ",
           "ES",
           "KR",
           "VU",
           "NO",
           "NG",
           "GE",
           "MT",
           "CH",
           "AE",
           "NL",
           "DE",
           "HR",
           "SG",
           "IN",
           "SK",
           "GB",
           "MH",
           "VN",
           "CY",
           "EE",
           "PL",
           "SC",
           "IL",
           "PA",
           "CZ",
           "TW",
           "IR",
           "IT",
           "AT",
           "RU",
           "KN",
           "MX",
           "VC",
           "NZ",
           "AR",
           "IE",
           "PT",
           "CA",
           "BE",
           "TR",
           "US",
           "BH",
           "HK",
           "TH",
           "AZ",
           "JP",
           "BS",
           "VG",
           "FR",
           "FI",
           "AU",
           "KZ",
           "ID",
           "KY",
           "AG",
           "CN",
           "DK",
           "LT",
           "GI",
           "ZA",
           "BR",
           "LU",
           "BZ",
           "ES",
           "KR",
           "VU",
           "NO",
           "NG",
           "GE",
           "MT",
           "CH",
           "AE",
           "NL",
           "DE",
           "HR",
           "SG",
           "IN",
           "SK",
           "GB",
           "MH",
           "VN",
           "CY",
           "EE",
           "PL",
           "SC",
           "IL",
           "PA",
           "CZ",
           "TW",
           "IR",
           "IT",
           "AT",
           "RU",
           "KN",
           "MX",
           "VC",
           "NZ",
           "AR",
           "IE",
           "PT",
           "CA",
           "BE",
           "TR",
           "US",
           "BH",
           "HK",
           "TH",
           "AZ",
           "JP",
           "BS",
           "VG"
          ],
          "line": {
           "color": "black",
           "width": 0.5
          },
          "pad": 15,
          "thickness": 20
         },
         "type": "sankey"
        }
       ],
       "layout": {
        "font": {
         "size": 10
        },
        "template": {
         "data": {
          "bar": [
           {
            "error_x": {
             "color": "#2a3f5f"
            },
            "error_y": {
             "color": "#2a3f5f"
            },
            "marker": {
             "line": {
              "color": "#E5ECF6",
              "width": 0.5
             },
             "pattern": {
              "fillmode": "overlay",
              "size": 10,
              "solidity": 0.2
             }
            },
            "type": "bar"
           }
          ],
          "barpolar": [
           {
            "marker": {
             "line": {
              "color": "#E5ECF6",
              "width": 0.5
             },
             "pattern": {
              "fillmode": "overlay",
              "size": 10,
              "solidity": 0.2
             }
            },
            "type": "barpolar"
           }
          ],
          "carpet": [
           {
            "aaxis": {
             "endlinecolor": "#2a3f5f",
             "gridcolor": "white",
             "linecolor": "white",
             "minorgridcolor": "white",
             "startlinecolor": "#2a3f5f"
            },
            "baxis": {
             "endlinecolor": "#2a3f5f",
             "gridcolor": "white",
             "linecolor": "white",
             "minorgridcolor": "white",
             "startlinecolor": "#2a3f5f"
            },
            "type": "carpet"
           }
          ],
          "choropleth": [
           {
            "colorbar": {
             "outlinewidth": 0,
             "ticks": ""
            },
            "type": "choropleth"
           }
          ],
          "contour": [
           {
            "colorbar": {
             "outlinewidth": 0,
             "ticks": ""
            },
            "colorscale": [
             [
              0,
              "#0d0887"
             ],
             [
              0.1111111111111111,
              "#46039f"
             ],
             [
              0.2222222222222222,
              "#7201a8"
             ],
             [
              0.3333333333333333,
              "#9c179e"
             ],
             [
              0.4444444444444444,
              "#bd3786"
             ],
             [
              0.5555555555555556,
              "#d8576b"
             ],
             [
              0.6666666666666666,
              "#ed7953"
             ],
             [
              0.7777777777777778,
              "#fb9f3a"
             ],
             [
              0.8888888888888888,
              "#fdca26"
             ],
             [
              1,
              "#f0f921"
             ]
            ],
            "type": "contour"
           }
          ],
          "contourcarpet": [
           {
            "colorbar": {
             "outlinewidth": 0,
             "ticks": ""
            },
            "type": "contourcarpet"
           }
          ],
          "heatmap": [
           {
            "colorbar": {
             "outlinewidth": 0,
             "ticks": ""
            },
            "colorscale": [
             [
              0,
              "#0d0887"
             ],
             [
              0.1111111111111111,
              "#46039f"
             ],
             [
              0.2222222222222222,
              "#7201a8"
             ],
             [
              0.3333333333333333,
              "#9c179e"
             ],
             [
              0.4444444444444444,
              "#bd3786"
             ],
             [
              0.5555555555555556,
              "#d8576b"
             ],
             [
              0.6666666666666666,
              "#ed7953"
             ],
             [
              0.7777777777777778,
              "#fb9f3a"
             ],
             [
              0.8888888888888888,
              "#fdca26"
             ],
             [
              1,
              "#f0f921"
             ]
            ],
            "type": "heatmap"
           }
          ],
          "heatmapgl": [
           {
            "colorbar": {
             "outlinewidth": 0,
             "ticks": ""
            },
            "colorscale": [
             [
              0,
              "#0d0887"
             ],
             [
              0.1111111111111111,
              "#46039f"
             ],
             [
              0.2222222222222222,
              "#7201a8"
             ],
             [
              0.3333333333333333,
              "#9c179e"
             ],
             [
              0.4444444444444444,
              "#bd3786"
             ],
             [
              0.5555555555555556,
              "#d8576b"
             ],
             [
              0.6666666666666666,
              "#ed7953"
             ],
             [
              0.7777777777777778,
              "#fb9f3a"
             ],
             [
              0.8888888888888888,
              "#fdca26"
             ],
             [
              1,
              "#f0f921"
             ]
            ],
            "type": "heatmapgl"
           }
          ],
          "histogram": [
           {
            "marker": {
             "pattern": {
              "fillmode": "overlay",
              "size": 10,
              "solidity": 0.2
             }
            },
            "type": "histogram"
           }
          ],
          "histogram2d": [
           {
            "colorbar": {
             "outlinewidth": 0,
             "ticks": ""
            },
            "colorscale": [
             [
              0,
              "#0d0887"
             ],
             [
              0.1111111111111111,
              "#46039f"
             ],
             [
              0.2222222222222222,
              "#7201a8"
             ],
             [
              0.3333333333333333,
              "#9c179e"
             ],
             [
              0.4444444444444444,
              "#bd3786"
             ],
             [
              0.5555555555555556,
              "#d8576b"
             ],
             [
              0.6666666666666666,
              "#ed7953"
             ],
             [
              0.7777777777777778,
              "#fb9f3a"
             ],
             [
              0.8888888888888888,
              "#fdca26"
             ],
             [
              1,
              "#f0f921"
             ]
            ],
            "type": "histogram2d"
           }
          ],
          "histogram2dcontour": [
           {
            "colorbar": {
             "outlinewidth": 0,
             "ticks": ""
            },
            "colorscale": [
             [
              0,
              "#0d0887"
             ],
             [
              0.1111111111111111,
              "#46039f"
             ],
             [
              0.2222222222222222,
              "#7201a8"
             ],
             [
              0.3333333333333333,
              "#9c179e"
             ],
             [
              0.4444444444444444,
              "#bd3786"
             ],
             [
              0.5555555555555556,
              "#d8576b"
             ],
             [
              0.6666666666666666,
              "#ed7953"
             ],
             [
              0.7777777777777778,
              "#fb9f3a"
             ],
             [
              0.8888888888888888,
              "#fdca26"
             ],
             [
              1,
              "#f0f921"
             ]
            ],
            "type": "histogram2dcontour"
           }
          ],
          "mesh3d": [
           {
            "colorbar": {
             "outlinewidth": 0,
             "ticks": ""
            },
            "type": "mesh3d"
           }
          ],
          "parcoords": [
           {
            "line": {
             "colorbar": {
              "outlinewidth": 0,
              "ticks": ""
             }
            },
            "type": "parcoords"
           }
          ],
          "pie": [
           {
            "automargin": true,
            "type": "pie"
           }
          ],
          "scatter": [
           {
            "fillpattern": {
             "fillmode": "overlay",
             "size": 10,
             "solidity": 0.2
            },
            "type": "scatter"
           }
          ],
          "scatter3d": [
           {
            "line": {
             "colorbar": {
              "outlinewidth": 0,
              "ticks": ""
             }
            },
            "marker": {
             "colorbar": {
              "outlinewidth": 0,
              "ticks": ""
             }
            },
            "type": "scatter3d"
           }
          ],
          "scattercarpet": [
           {
            "marker": {
             "colorbar": {
              "outlinewidth": 0,
              "ticks": ""
             }
            },
            "type": "scattercarpet"
           }
          ],
          "scattergeo": [
           {
            "marker": {
             "colorbar": {
              "outlinewidth": 0,
              "ticks": ""
             }
            },
            "type": "scattergeo"
           }
          ],
          "scattergl": [
           {
            "marker": {
             "colorbar": {
              "outlinewidth": 0,
              "ticks": ""
             }
            },
            "type": "scattergl"
           }
          ],
          "scattermapbox": [
           {
            "marker": {
             "colorbar": {
              "outlinewidth": 0,
              "ticks": ""
             }
            },
            "type": "scattermapbox"
           }
          ],
          "scatterpolar": [
           {
            "marker": {
             "colorbar": {
              "outlinewidth": 0,
              "ticks": ""
             }
            },
            "type": "scatterpolar"
           }
          ],
          "scatterpolargl": [
           {
            "marker": {
             "colorbar": {
              "outlinewidth": 0,
              "ticks": ""
             }
            },
            "type": "scatterpolargl"
           }
          ],
          "scatterternary": [
           {
            "marker": {
             "colorbar": {
              "outlinewidth": 0,
              "ticks": ""
             }
            },
            "type": "scatterternary"
           }
          ],
          "surface": [
           {
            "colorbar": {
             "outlinewidth": 0,
             "ticks": ""
            },
            "colorscale": [
             [
              0,
              "#0d0887"
             ],
             [
              0.1111111111111111,
              "#46039f"
             ],
             [
              0.2222222222222222,
              "#7201a8"
             ],
             [
              0.3333333333333333,
              "#9c179e"
             ],
             [
              0.4444444444444444,
              "#bd3786"
             ],
             [
              0.5555555555555556,
              "#d8576b"
             ],
             [
              0.6666666666666666,
              "#ed7953"
             ],
             [
              0.7777777777777778,
              "#fb9f3a"
             ],
             [
              0.8888888888888888,
              "#fdca26"
             ],
             [
              1,
              "#f0f921"
             ]
            ],
            "type": "surface"
           }
          ],
          "table": [
           {
            "cells": {
             "fill": {
              "color": "#EBF0F8"
             },
             "line": {
              "color": "white"
             }
            },
            "header": {
             "fill": {
              "color": "#C8D4E3"
             },
             "line": {
              "color": "white"
             }
            },
            "type": "table"
           }
          ]
         },
         "layout": {
          "annotationdefaults": {
           "arrowcolor": "#2a3f5f",
           "arrowhead": 0,
           "arrowwidth": 1
          },
          "autotypenumbers": "strict",
          "coloraxis": {
           "colorbar": {
            "outlinewidth": 0,
            "ticks": ""
           }
          },
          "colorscale": {
           "diverging": [
            [
             0,
             "#8e0152"
            ],
            [
             0.1,
             "#c51b7d"
            ],
            [
             0.2,
             "#de77ae"
            ],
            [
             0.3,
             "#f1b6da"
            ],
            [
             0.4,
             "#fde0ef"
            ],
            [
             0.5,
             "#f7f7f7"
            ],
            [
             0.6,
             "#e6f5d0"
            ],
            [
             0.7,
             "#b8e186"
            ],
            [
             0.8,
             "#7fbc41"
            ],
            [
             0.9,
             "#4d9221"
            ],
            [
             1,
             "#276419"
            ]
           ],
           "sequential": [
            [
             0,
             "#0d0887"
            ],
            [
             0.1111111111111111,
             "#46039f"
            ],
            [
             0.2222222222222222,
             "#7201a8"
            ],
            [
             0.3333333333333333,
             "#9c179e"
            ],
            [
             0.4444444444444444,
             "#bd3786"
            ],
            [
             0.5555555555555556,
             "#d8576b"
            ],
            [
             0.6666666666666666,
             "#ed7953"
            ],
            [
             0.7777777777777778,
             "#fb9f3a"
            ],
            [
             0.8888888888888888,
             "#fdca26"
            ],
            [
             1,
             "#f0f921"
            ]
           ],
           "sequentialminus": [
            [
             0,
             "#0d0887"
            ],
            [
             0.1111111111111111,
             "#46039f"
            ],
            [
             0.2222222222222222,
             "#7201a8"
            ],
            [
             0.3333333333333333,
             "#9c179e"
            ],
            [
             0.4444444444444444,
             "#bd3786"
            ],
            [
             0.5555555555555556,
             "#d8576b"
            ],
            [
             0.6666666666666666,
             "#ed7953"
            ],
            [
             0.7777777777777778,
             "#fb9f3a"
            ],
            [
             0.8888888888888888,
             "#fdca26"
            ],
            [
             1,
             "#f0f921"
            ]
           ]
          },
          "colorway": [
           "#636efa",
           "#EF553B",
           "#00cc96",
           "#ab63fa",
           "#FFA15A",
           "#19d3f3",
           "#FF6692",
           "#B6E880",
           "#FF97FF",
           "#FECB52"
          ],
          "font": {
           "color": "#2a3f5f"
          },
          "geo": {
           "bgcolor": "white",
           "lakecolor": "white",
           "landcolor": "#E5ECF6",
           "showlakes": true,
           "showland": true,
           "subunitcolor": "white"
          },
          "hoverlabel": {
           "align": "left"
          },
          "hovermode": "closest",
          "mapbox": {
           "style": "light"
          },
          "paper_bgcolor": "white",
          "plot_bgcolor": "#E5ECF6",
          "polar": {
           "angularaxis": {
            "gridcolor": "white",
            "linecolor": "white",
            "ticks": ""
           },
           "bgcolor": "#E5ECF6",
           "radialaxis": {
            "gridcolor": "white",
            "linecolor": "white",
            "ticks": ""
           }
          },
          "scene": {
           "xaxis": {
            "backgroundcolor": "#E5ECF6",
            "gridcolor": "white",
            "gridwidth": 2,
            "linecolor": "white",
            "showbackground": true,
            "ticks": "",
            "zerolinecolor": "white"
           },
           "yaxis": {
            "backgroundcolor": "#E5ECF6",
            "gridcolor": "white",
            "gridwidth": 2,
            "linecolor": "white",
            "showbackground": true,
            "ticks": "",
            "zerolinecolor": "white"
           },
           "zaxis": {
            "backgroundcolor": "#E5ECF6",
            "gridcolor": "white",
            "gridwidth": 2,
            "linecolor": "white",
            "showbackground": true,
            "ticks": "",
            "zerolinecolor": "white"
           }
          },
          "shapedefaults": {
           "line": {
            "color": "#2a3f5f"
           }
          },
          "ternary": {
           "aaxis": {
            "gridcolor": "white",
            "linecolor": "white",
            "ticks": ""
           },
           "baxis": {
            "gridcolor": "white",
            "linecolor": "white",
            "ticks": ""
           },
           "bgcolor": "#E5ECF6",
           "caxis": {
            "gridcolor": "white",
            "linecolor": "white",
            "ticks": ""
           }
          },
          "title": {
           "x": 0.05
          },
          "xaxis": {
           "automargin": true,
           "gridcolor": "white",
           "linecolor": "white",
           "ticks": "",
           "title": {
            "standoff": 15
           },
           "zerolinecolor": "white",
           "zerolinewidth": 2
          },
          "yaxis": {
           "automargin": true,
           "gridcolor": "white",
           "linecolor": "white",
           "ticks": "",
           "title": {
            "standoff": 15
           },
           "zerolinecolor": "white",
           "zerolinewidth": 2
          }
         }
        },
        "title": {
         "text": "Crypto Flow"
        }
       }
      },
      "text/html": [
       "<div>                            <div id=\"94e027f7-1913-457c-9bad-3f58f2746a25\" class=\"plotly-graph-div\" style=\"height:525px; width:100%;\"></div>            <script type=\"text/javascript\">                require([\"plotly\"], function(Plotly) {                    window.PLOTLYENV=window.PLOTLYENV || {};                                    if (document.getElementById(\"94e027f7-1913-457c-9bad-3f58f2746a25\")) {                    Plotly.newPlot(                        \"94e027f7-1913-457c-9bad-3f58f2746a25\",                        [{\"link\":{\"source\":[23,2,56,52,33,15,0,42,5,3,9,21,48,35,55,11],\"target\":[106,106,106,106,106,106,106,106,106,106,106,106,106,106,106,106],\"value\":[12818975.35181312,12860764.70744636,12818269.52704512,12818269.52704512,12818269.52704512,12818269.52704512,12819571.29261568,12930310.48669696,12983155.81430528,12818269.52704512,12818269.52704512,12983114.76319744,12853703.13816256,12818269.52704512,18050316.078932993,12819700.13434816]},\"node\":{\"color\":\"gray\",\"label\":[\"FR\",\"FI\",\"AU\",\"KZ\",\"ID\",\"KY\",\"AG\",\"CN\",\"DK\",\"LT\",\"GI\",\"ZA\",\"BR\",\"LU\",\"BZ\",\"ES\",\"KR\",\"VU\",\"NO\",\"NG\",\"GE\",\"MT\",\"CH\",\"AE\",\"NL\",\"DE\",\"HR\",\"SG\",\"IN\",\"SK\",\"GB\",\"MH\",\"VN\",\"CY\",\"EE\",\"PL\",\"SC\",\"IL\",\"PA\",\"CZ\",\"TW\",\"IR\",\"IT\",\"AT\",\"RU\",\"KN\",\"MX\",\"VC\",\"NZ\",\"AR\",\"IE\",\"PT\",\"CA\",\"BE\",\"TR\",\"US\",\"BH\",\"HK\",\"TH\",\"AZ\",\"JP\",\"BS\",\"VG\",\"FR\",\"FI\",\"AU\",\"KZ\",\"ID\",\"KY\",\"AG\",\"CN\",\"DK\",\"LT\",\"GI\",\"ZA\",\"BR\",\"LU\",\"BZ\",\"ES\",\"KR\",\"VU\",\"NO\",\"NG\",\"GE\",\"MT\",\"CH\",\"AE\",\"NL\",\"DE\",\"HR\",\"SG\",\"IN\",\"SK\",\"GB\",\"MH\",\"VN\",\"CY\",\"EE\",\"PL\",\"SC\",\"IL\",\"PA\",\"CZ\",\"TW\",\"IR\",\"IT\",\"AT\",\"RU\",\"KN\",\"MX\",\"VC\",\"NZ\",\"AR\",\"IE\",\"PT\",\"CA\",\"BE\",\"TR\",\"US\",\"BH\",\"HK\",\"TH\",\"AZ\",\"JP\",\"BS\",\"VG\"],\"line\":{\"color\":\"black\",\"width\":0.5},\"pad\":15,\"thickness\":20},\"type\":\"sankey\"}],                        {\"template\":{\"data\":{\"histogram2dcontour\":[{\"type\":\"histogram2dcontour\",\"colorbar\":{\"outlinewidth\":0,\"ticks\":\"\"},\"colorscale\":[[0.0,\"#0d0887\"],[0.1111111111111111,\"#46039f\"],[0.2222222222222222,\"#7201a8\"],[0.3333333333333333,\"#9c179e\"],[0.4444444444444444,\"#bd3786\"],[0.5555555555555556,\"#d8576b\"],[0.6666666666666666,\"#ed7953\"],[0.7777777777777778,\"#fb9f3a\"],[0.8888888888888888,\"#fdca26\"],[1.0,\"#f0f921\"]]}],\"choropleth\":[{\"type\":\"choropleth\",\"colorbar\":{\"outlinewidth\":0,\"ticks\":\"\"}}],\"histogram2d\":[{\"type\":\"histogram2d\",\"colorbar\":{\"outlinewidth\":0,\"ticks\":\"\"},\"colorscale\":[[0.0,\"#0d0887\"],[0.1111111111111111,\"#46039f\"],[0.2222222222222222,\"#7201a8\"],[0.3333333333333333,\"#9c179e\"],[0.4444444444444444,\"#bd3786\"],[0.5555555555555556,\"#d8576b\"],[0.6666666666666666,\"#ed7953\"],[0.7777777777777778,\"#fb9f3a\"],[0.8888888888888888,\"#fdca26\"],[1.0,\"#f0f921\"]]}],\"heatmap\":[{\"type\":\"heatmap\",\"colorbar\":{\"outlinewidth\":0,\"ticks\":\"\"},\"colorscale\":[[0.0,\"#0d0887\"],[0.1111111111111111,\"#46039f\"],[0.2222222222222222,\"#7201a8\"],[0.3333333333333333,\"#9c179e\"],[0.4444444444444444,\"#bd3786\"],[0.5555555555555556,\"#d8576b\"],[0.6666666666666666,\"#ed7953\"],[0.7777777777777778,\"#fb9f3a\"],[0.8888888888888888,\"#fdca26\"],[1.0,\"#f0f921\"]]}],\"heatmapgl\":[{\"type\":\"heatmapgl\",\"colorbar\":{\"outlinewidth\":0,\"ticks\":\"\"},\"colorscale\":[[0.0,\"#0d0887\"],[0.1111111111111111,\"#46039f\"],[0.2222222222222222,\"#7201a8\"],[0.3333333333333333,\"#9c179e\"],[0.4444444444444444,\"#bd3786\"],[0.5555555555555556,\"#d8576b\"],[0.6666666666666666,\"#ed7953\"],[0.7777777777777778,\"#fb9f3a\"],[0.8888888888888888,\"#fdca26\"],[1.0,\"#f0f921\"]]}],\"contourcarpet\":[{\"type\":\"contourcarpet\",\"colorbar\":{\"outlinewidth\":0,\"ticks\":\"\"}}],\"contour\":[{\"type\":\"contour\",\"colorbar\":{\"outlinewidth\":0,\"ticks\":\"\"},\"colorscale\":[[0.0,\"#0d0887\"],[0.1111111111111111,\"#46039f\"],[0.2222222222222222,\"#7201a8\"],[0.3333333333333333,\"#9c179e\"],[0.4444444444444444,\"#bd3786\"],[0.5555555555555556,\"#d8576b\"],[0.6666666666666666,\"#ed7953\"],[0.7777777777777778,\"#fb9f3a\"],[0.8888888888888888,\"#fdca26\"],[1.0,\"#f0f921\"]]}],\"surface\":[{\"type\":\"surface\",\"colorbar\":{\"outlinewidth\":0,\"ticks\":\"\"},\"colorscale\":[[0.0,\"#0d0887\"],[0.1111111111111111,\"#46039f\"],[0.2222222222222222,\"#7201a8\"],[0.3333333333333333,\"#9c179e\"],[0.4444444444444444,\"#bd3786\"],[0.5555555555555556,\"#d8576b\"],[0.6666666666666666,\"#ed7953\"],[0.7777777777777778,\"#fb9f3a\"],[0.8888888888888888,\"#fdca26\"],[1.0,\"#f0f921\"]]}],\"mesh3d\":[{\"type\":\"mesh3d\",\"colorbar\":{\"outlinewidth\":0,\"ticks\":\"\"}}],\"scatter\":[{\"fillpattern\":{\"fillmode\":\"overlay\",\"size\":10,\"solidity\":0.2},\"type\":\"scatter\"}],\"parcoords\":[{\"type\":\"parcoords\",\"line\":{\"colorbar\":{\"outlinewidth\":0,\"ticks\":\"\"}}}],\"scatterpolargl\":[{\"type\":\"scatterpolargl\",\"marker\":{\"colorbar\":{\"outlinewidth\":0,\"ticks\":\"\"}}}],\"bar\":[{\"error_x\":{\"color\":\"#2a3f5f\"},\"error_y\":{\"color\":\"#2a3f5f\"},\"marker\":{\"line\":{\"color\":\"#E5ECF6\",\"width\":0.5},\"pattern\":{\"fillmode\":\"overlay\",\"size\":10,\"solidity\":0.2}},\"type\":\"bar\"}],\"scattergeo\":[{\"type\":\"scattergeo\",\"marker\":{\"colorbar\":{\"outlinewidth\":0,\"ticks\":\"\"}}}],\"scatterpolar\":[{\"type\":\"scatterpolar\",\"marker\":{\"colorbar\":{\"outlinewidth\":0,\"ticks\":\"\"}}}],\"histogram\":[{\"marker\":{\"pattern\":{\"fillmode\":\"overlay\",\"size\":10,\"solidity\":0.2}},\"type\":\"histogram\"}],\"scattergl\":[{\"type\":\"scattergl\",\"marker\":{\"colorbar\":{\"outlinewidth\":0,\"ticks\":\"\"}}}],\"scatter3d\":[{\"type\":\"scatter3d\",\"line\":{\"colorbar\":{\"outlinewidth\":0,\"ticks\":\"\"}},\"marker\":{\"colorbar\":{\"outlinewidth\":0,\"ticks\":\"\"}}}],\"scattermapbox\":[{\"type\":\"scattermapbox\",\"marker\":{\"colorbar\":{\"outlinewidth\":0,\"ticks\":\"\"}}}],\"scatterternary\":[{\"type\":\"scatterternary\",\"marker\":{\"colorbar\":{\"outlinewidth\":0,\"ticks\":\"\"}}}],\"scattercarpet\":[{\"type\":\"scattercarpet\",\"marker\":{\"colorbar\":{\"outlinewidth\":0,\"ticks\":\"\"}}}],\"carpet\":[{\"aaxis\":{\"endlinecolor\":\"#2a3f5f\",\"gridcolor\":\"white\",\"linecolor\":\"white\",\"minorgridcolor\":\"white\",\"startlinecolor\":\"#2a3f5f\"},\"baxis\":{\"endlinecolor\":\"#2a3f5f\",\"gridcolor\":\"white\",\"linecolor\":\"white\",\"minorgridcolor\":\"white\",\"startlinecolor\":\"#2a3f5f\"},\"type\":\"carpet\"}],\"table\":[{\"cells\":{\"fill\":{\"color\":\"#EBF0F8\"},\"line\":{\"color\":\"white\"}},\"header\":{\"fill\":{\"color\":\"#C8D4E3\"},\"line\":{\"color\":\"white\"}},\"type\":\"table\"}],\"barpolar\":[{\"marker\":{\"line\":{\"color\":\"#E5ECF6\",\"width\":0.5},\"pattern\":{\"fillmode\":\"overlay\",\"size\":10,\"solidity\":0.2}},\"type\":\"barpolar\"}],\"pie\":[{\"automargin\":true,\"type\":\"pie\"}]},\"layout\":{\"autotypenumbers\":\"strict\",\"colorway\":[\"#636efa\",\"#EF553B\",\"#00cc96\",\"#ab63fa\",\"#FFA15A\",\"#19d3f3\",\"#FF6692\",\"#B6E880\",\"#FF97FF\",\"#FECB52\"],\"font\":{\"color\":\"#2a3f5f\"},\"hovermode\":\"closest\",\"hoverlabel\":{\"align\":\"left\"},\"paper_bgcolor\":\"white\",\"plot_bgcolor\":\"#E5ECF6\",\"polar\":{\"bgcolor\":\"#E5ECF6\",\"angularaxis\":{\"gridcolor\":\"white\",\"linecolor\":\"white\",\"ticks\":\"\"},\"radialaxis\":{\"gridcolor\":\"white\",\"linecolor\":\"white\",\"ticks\":\"\"}},\"ternary\":{\"bgcolor\":\"#E5ECF6\",\"aaxis\":{\"gridcolor\":\"white\",\"linecolor\":\"white\",\"ticks\":\"\"},\"baxis\":{\"gridcolor\":\"white\",\"linecolor\":\"white\",\"ticks\":\"\"},\"caxis\":{\"gridcolor\":\"white\",\"linecolor\":\"white\",\"ticks\":\"\"}},\"coloraxis\":{\"colorbar\":{\"outlinewidth\":0,\"ticks\":\"\"}},\"colorscale\":{\"sequential\":[[0.0,\"#0d0887\"],[0.1111111111111111,\"#46039f\"],[0.2222222222222222,\"#7201a8\"],[0.3333333333333333,\"#9c179e\"],[0.4444444444444444,\"#bd3786\"],[0.5555555555555556,\"#d8576b\"],[0.6666666666666666,\"#ed7953\"],[0.7777777777777778,\"#fb9f3a\"],[0.8888888888888888,\"#fdca26\"],[1.0,\"#f0f921\"]],\"sequentialminus\":[[0.0,\"#0d0887\"],[0.1111111111111111,\"#46039f\"],[0.2222222222222222,\"#7201a8\"],[0.3333333333333333,\"#9c179e\"],[0.4444444444444444,\"#bd3786\"],[0.5555555555555556,\"#d8576b\"],[0.6666666666666666,\"#ed7953\"],[0.7777777777777778,\"#fb9f3a\"],[0.8888888888888888,\"#fdca26\"],[1.0,\"#f0f921\"]],\"diverging\":[[0,\"#8e0152\"],[0.1,\"#c51b7d\"],[0.2,\"#de77ae\"],[0.3,\"#f1b6da\"],[0.4,\"#fde0ef\"],[0.5,\"#f7f7f7\"],[0.6,\"#e6f5d0\"],[0.7,\"#b8e186\"],[0.8,\"#7fbc41\"],[0.9,\"#4d9221\"],[1,\"#276419\"]]},\"xaxis\":{\"gridcolor\":\"white\",\"linecolor\":\"white\",\"ticks\":\"\",\"title\":{\"standoff\":15},\"zerolinecolor\":\"white\",\"automargin\":true,\"zerolinewidth\":2},\"yaxis\":{\"gridcolor\":\"white\",\"linecolor\":\"white\",\"ticks\":\"\",\"title\":{\"standoff\":15},\"zerolinecolor\":\"white\",\"automargin\":true,\"zerolinewidth\":2},\"scene\":{\"xaxis\":{\"backgroundcolor\":\"#E5ECF6\",\"gridcolor\":\"white\",\"linecolor\":\"white\",\"showbackground\":true,\"ticks\":\"\",\"zerolinecolor\":\"white\",\"gridwidth\":2},\"yaxis\":{\"backgroundcolor\":\"#E5ECF6\",\"gridcolor\":\"white\",\"linecolor\":\"white\",\"showbackground\":true,\"ticks\":\"\",\"zerolinecolor\":\"white\",\"gridwidth\":2},\"zaxis\":{\"backgroundcolor\":\"#E5ECF6\",\"gridcolor\":\"white\",\"linecolor\":\"white\",\"showbackground\":true,\"ticks\":\"\",\"zerolinecolor\":\"white\",\"gridwidth\":2}},\"shapedefaults\":{\"line\":{\"color\":\"#2a3f5f\"}},\"annotationdefaults\":{\"arrowcolor\":\"#2a3f5f\",\"arrowhead\":0,\"arrowwidth\":1},\"geo\":{\"bgcolor\":\"white\",\"landcolor\":\"#E5ECF6\",\"subunitcolor\":\"white\",\"showland\":true,\"showlakes\":true,\"lakecolor\":\"white\"},\"title\":{\"x\":0.05},\"mapbox\":{\"style\":\"light\"}}},\"title\":{\"text\":\"Crypto Flow\"},\"font\":{\"size\":10}},                        {\"responsive\": true}                    ).then(function(){\n",
       "                            \n",
       "var gd = document.getElementById('94e027f7-1913-457c-9bad-3f58f2746a25');\n",
       "var x = new MutationObserver(function (mutations, observer) {{\n",
       "        var display = window.getComputedStyle(gd).display;\n",
       "        if (!display || display === 'none') {{\n",
       "            console.log([gd, 'removed!']);\n",
       "            Plotly.purge(gd);\n",
       "            observer.disconnect();\n",
       "        }}\n",
       "}});\n",
       "\n",
       "// Listen for the removal of the full notebook cells\n",
       "var notebookContainer = gd.closest('#notebook-container');\n",
       "if (notebookContainer) {{\n",
       "    x.observe(notebookContainer, {childList: true});\n",
       "}}\n",
       "\n",
       "// Listen for the clearing of the current output cell\n",
       "var outputEl = gd.closest('.output');\n",
       "if (outputEl) {{\n",
       "    x.observe(outputEl, {childList: true});\n",
       "}}\n",
       "\n",
       "                        })                };                });            </script>        </div>"
      ]
     },
     "metadata": {},
     "output_type": "display_data"
    }
   ],
   "source": [
    "pairs = merged_df.copy()\n",
    "grouped_df = pairs.groupby(['src_jurisdictions', 'dst_jurisdictions'])['value_USD'].sum()\n",
    "src_countries = list(grouped_df.index.get_level_values(0).unique())\n",
    "dst_countries = list(grouped_df.index.get_level_values(1).unique())\n",
    "all_countries = list(set(src_countries + dst_countries))\n",
    "\n",
    "countries_index = {}\n",
    "for i, country in enumerate(all_countries):\n",
    "    countries_index[country] = i\n",
    "\n",
    "sources = []\n",
    "target = []\n",
    "values = []\n",
    "for element in grouped_df.index:\n",
    "    src = element[0]\n",
    "    dst = element[1]\n",
    "    value = grouped_df[element]\n",
    "    \n",
    "    #if value > 5000000000:\n",
    "    if dst == 'AT' and value > 10000000:\n",
    "        sources.append(countries_index[src])\n",
    "        target.append(countries_index[dst] + len(countries_index))\n",
    "        values.append(value)\n",
    "\n",
    "print(len(values))\n",
    "# Sankey Diagram\n",
    "fig = go.Figure(data=[go.Sankey(\n",
    "    node = dict(\n",
    "      pad = 15,\n",
    "      thickness = 20,\n",
    "      line = dict(color = \"black\", width = 0.5),\n",
    "      label = all_countries + all_countries,\n",
    "      color = \"gray\"\n",
    "    ),\n",
    "    link = dict(\n",
    "      source = sources, # indices correspond to labels, eg A1, A2, A1, B1, ...\n",
    "      target = target,\n",
    "      value = values\n",
    "  ))])\n",
    "\n",
    "fig.update_layout(title_text=\"Crypto Flow\", font_size=10)\n",
    "fig.show()"
   ]
  },
  {
   "cell_type": "markdown",
   "metadata": {},
   "source": [
    "### How does the general trend look like?"
   ]
  },
  {
   "cell_type": "code",
   "execution_count": 659,
   "metadata": {},
   "outputs": [
    {
     "data": {
      "image/png": "[encoded data removed]",
      "text/plain": [
       "<Figure size 640x480 with 2 Axes>"
      ]
     },
     "metadata": {},
     "output_type": "display_data"
    }
   ],
   "source": [
    "def test_plot(flow_data, btc_data):\n",
    "    _flow_data = flow_data.groupby('year')[\"src_value_USD\"].sum()/1000000000\n",
    "    _btc_data = btc_data.groupby('year')[\"high\"].max()\n",
    "\n",
    "    fig, ax1 = plt.subplots()\n",
    "\n",
    "    # Plotting the bar plot\n",
    "    ax1.plot(_flow_data.index, _flow_data.values, color='blue',marker=\"x\",linestyle=\"dashdot\",label=\"USD FLOW\")\n",
    "    ax1.set_ylabel('Flow Values [MRD USD]')\n",
    "    ax2 = ax1.twinx()\n",
    "\n",
    "    # Plotting the line plot\n",
    "    ax2.plot(_flow_data.index, _btc_data.values, color='red', marker='o', linestyle=\"dashed\",label=\"BTC MARKET VALUE (YEARLY HIGH)\")\n",
    "    ax2.set_ylabel('BTC YEARLY HIGH [USD]')\n",
    "    ax1.set_xlabel('Years')\n",
    "    fig.legend(loc='upper left',ncol=1)\n",
    "\n",
    "    #plt.tight_layout()\n",
    "\n",
    "test_plot(src_amounts, btc_price_data)\n",
    "#test_plot(dst_amounts)"
   ]
  },
  {
   "cell_type": "markdown",
   "metadata": {},
   "source": [
    "looks like Flow value and the BTC market value correlate - does that mean that the amount of BTC flowing (=flow value/ btc market value) is constant? Lets see"
   ]
  },
  {
   "cell_type": "code",
   "execution_count": 660,
   "metadata": {},
   "outputs": [
    {
     "data": {
      "image/png": "[encoded data removed]",
      "text/plain": [
       "<Figure size 640x480 with 2 Axes>"
      ]
     },
     "metadata": {},
     "output_type": "display_data"
    }
   ],
   "source": [
    "def test_plot2(flow_data,btc_data):\n",
    "    # TODO: can we use the assets or should we use BTC_value?\n",
    "    _flow_data = flow_data.groupby('year')[\"src_value_asset\"].sum()/1000000\n",
    "    _btc_data = btc_data.groupby('year')[\"high\"].max()\n",
    "\n",
    "    fig, ax1 = plt.subplots()\n",
    "\n",
    "    # Plotting the bar plot\n",
    "    ax1.plot(_flow_data.index, _flow_data.values, color='blue',marker=\"x\",linestyle=\"dashdot\",label=\"BTC FLOW\")\n",
    "    ax1.set_ylabel('Flow Values [MIO BTC]')\n",
    "    ax2 = ax1.twinx()\n",
    "\n",
    "    # Plotting the line plot\n",
    "    ax2.plot(_flow_data.index, _btc_data.values, color='red', marker='o', linestyle=\"dashed\",label=\"BTC MARKET VALUE (YEARLY HIGH)\")\n",
    "    ax2.set_ylabel('BTC YEARLY HIGH [USD]')\n",
    "    ax1.set_xlabel('Years')\n",
    "    fig.legend(loc='upper left',ncol=1)\n",
    "\n",
    "test_plot2(src_amounts,btc_price_data)"
   ]
  },
  {
   "cell_type": "markdown",
   "metadata": {},
   "source": [
    "how are the flows distributed over the jurisdictions?"
   ]
  },
  {
   "cell_type": "code",
   "execution_count": 661,
   "metadata": {},
   "outputs": [
    {
     "data": {
      "application/vnd.jupyter.widget-view+json": {
       "model_id": "ecebefd4f4f840c19dc9ff1c5bfb05da",
       "version_major": 2,
       "version_minor": 0
      },
      "text/plain": [
       "interactive(children=(IntSlider(value=2017, description='year', max=2022, min=2012), Output()), _dom_classes=(…"
      ]
     },
     "metadata": {},
     "output_type": "display_data"
    },
    {
     "data": {
      "text/plain": [
       "<function __main__.plot_juri_bars(data1, data2, l1, l2, year, label)>"
      ]
     },
     "execution_count": 661,
     "metadata": {},
     "output_type": "execute_result"
    }
   ],
   "source": [
    "def plot_juri_bars(data1,data2,l1,l2,year,label):\n",
    "    #x = dst_amounts[\"jurisdictions\"].unique()\n",
    "    data1 = data1.sort_values(\"jurisdictions\",ascending=False)\n",
    "    filtered_data1 = [d for d in zip(data1['year'],data1['jurisdictions'], data1['src_value_USD']/1000000000) if d[0] == year]\n",
    "\n",
    "    data2 = data2.sort_values(\"jurisdictions\",ascending=False)\n",
    "    filtered_data2 = [d for d in zip(data2['year'],data2['jurisdictions'], data2['dst_value_USD']/1000000000) if d[0] == year]\n",
    "\n",
    "    #display(filtered_data)\n",
    "    # Separate the x and y values\n",
    "    x1 = [d[1] for d in filtered_data1]\n",
    "    y1 = [d[2] for d in filtered_data1]\n",
    "\n",
    "    x2 = [d[1] for d in filtered_data2]\n",
    "    y2 = [d[2] for d in filtered_data2]\n",
    "\n",
    "    fig, (ax1,ax2)= plt.subplots(2,1,figsize=(10,5))\n",
    "\n",
    "    # Plot the bar chart\n",
    "    ax1.bar(x1, y1)\n",
    "    # Set labels and title\n",
    "    ax1.set_xlabel('Jurisdictions')\n",
    "    ax1.set_ylabel(f'{l1} Value (MRD USD)')\n",
    "\n",
    "    # Plot the bar chart\n",
    "    ax2.bar(x2, y2)\n",
    "    # Set labels and title\n",
    "    ax2.set_xlabel('Jurisdictions')\n",
    "    ax2.set_ylabel(f'{l2} Value (MRD USD)')\n",
    "\n",
    "    # Rotate x-axis labels for better visibility\n",
    "    ax1.tick_params(axis='x', rotation=90)\n",
    "    ax2.tick_params(axis='x', rotation=90)\n",
    "\n",
    "    # Add a label to the plot\n",
    "    plt.suptitle(label, fontsize=14)\n",
    "\n",
    "   \n",
    "    # Display the plot\n",
    "    plt.show()\n",
    "\n",
    "interact(plot_juri_bars,data1=fixed(src_amounts),data2=fixed(dst_amounts),l1=fixed(\"Source\"),l2=fixed(\"Destination\"),year=(2012,2022,1),label=fixed(\"Yearly flow values by jursidictions\"))"
   ]
  },
  {
   "cell_type": "markdown",
   "metadata": {},
   "source": [
    "they are all prettymuch \"the same\" - maybe because binance is in just those juris? lets see"
   ]
  },
  {
   "cell_type": "code",
   "execution_count": 662,
   "metadata": {},
   "outputs": [
    {
     "data": {
      "application/vnd.jupyter.widget-view+json": {
       "model_id": "c62eb4bc0d81490388feb1b20ead72a0",
       "version_major": 2,
       "version_minor": 0
      },
      "text/plain": [
       "interactive(children=(IntSlider(value=2017, description='year', max=2022, min=2012), Output()), _dom_classes=(…"
      ]
     },
     "metadata": {},
     "output_type": "display_data"
    },
    {
     "data": {
      "text/plain": [
       "<function __main__.plot_juri_bars(data1, data2, l1, l2, year, label)>"
      ]
     },
     "execution_count": 662,
     "metadata": {},
     "output_type": "execute_result"
    }
   ],
   "source": [
    "src_filterd = src_amounts[src_amounts[\"src_label\"].str.contains(\"inance\") == False]\n",
    "src_filterd = src_filterd[src_filterd[\"dst_label\"].str.contains(\"inance\") == False]\n",
    "\n",
    "dst_filterd = dst_amounts[dst_amounts[\"src_label\"].str.contains(\"inance\") == False]\n",
    "dst_filterd = dst_filterd[dst_filterd[\"dst_label\"].str.contains(\"inance\") == False]\n",
    "\n",
    "\n",
    "interact(plot_juri_bars,data1=fixed(src_filterd),data2=fixed(dst_filterd),l1=fixed(\"Source\"),l2=fixed(\"Destination\"),year=(2012,2022,1),label=fixed(\"Yearly flow values by jursidictions without binance\"))"
   ]
  },
  {
   "cell_type": "code",
   "execution_count": 663,
   "metadata": {},
   "outputs": [],
   "source": [
    "result = src_amounts.copy()\n",
    "result['value_USD'] = src_amounts['src_value_USD'].sub(dst_amounts['dst_value_USD'], axis=0)\n",
    "#interact(plot_juri_bars,data1=fixed(result),data2=fixed(result),l1=fixed(\"Source\"),l2=fixed(\"Destination\"),year=(2012,2022,1),label=fixed(\"Holdings by jurisdictions in\"))"
   ]
  },
  {
   "cell_type": "code",
   "execution_count": 664,
   "metadata": {},
   "outputs": [
    {
     "data": {
      "image/png": "[encoded data removed]",
      "text/plain": [
       "<Figure size 1000x500 with 1 Axes>"
      ]
     },
     "metadata": {},
     "output_type": "display_data"
    },
    {
     "data": {
      "text/html": [
       "<div>\n",
       "<style scoped>\n",
       "    .dataframe tbody tr th:only-of-type {\n",
       "        vertical-align: middle;\n",
       "    }\n",
       "\n",
       "    .dataframe tbody tr th {\n",
       "        vertical-align: top;\n",
       "    }\n",
       "\n",
       "    .dataframe thead th {\n",
       "        text-align: right;\n",
       "    }\n",
       "</style>\n",
       "<table border=\"1\" class=\"dataframe\">\n",
       "  <thead>\n",
       "    <tr style=\"text-align: right;\">\n",
       "      <th></th>\n",
       "      <th>jurisdictions</th>\n",
       "      <th>value_USD</th>\n",
       "    </tr>\n",
       "  </thead>\n",
       "  <tbody>\n",
       "    <tr>\n",
       "      <th>0</th>\n",
       "      <td>AE</td>\n",
       "      <td>-42.206017</td>\n",
       "    </tr>\n",
       "    <tr>\n",
       "      <th>1</th>\n",
       "      <td>AG</td>\n",
       "      <td>28.169632</td>\n",
       "    </tr>\n",
       "    <tr>\n",
       "      <th>2</th>\n",
       "      <td>AR</td>\n",
       "      <td>2.710224</td>\n",
       "    </tr>\n",
       "    <tr>\n",
       "      <th>3</th>\n",
       "      <td>AT</td>\n",
       "      <td>26.709184</td>\n",
       "    </tr>\n",
       "    <tr>\n",
       "      <th>4</th>\n",
       "      <td>AU</td>\n",
       "      <td>-42.434353</td>\n",
       "    </tr>\n",
       "    <tr>\n",
       "      <th>...</th>\n",
       "      <td>...</td>\n",
       "      <td>...</td>\n",
       "    </tr>\n",
       "    <tr>\n",
       "      <th>56</th>\n",
       "      <td>US</td>\n",
       "      <td>-38.407672</td>\n",
       "    </tr>\n",
       "    <tr>\n",
       "      <th>57</th>\n",
       "      <td>VC</td>\n",
       "      <td>12.701548</td>\n",
       "    </tr>\n",
       "    <tr>\n",
       "      <th>58</th>\n",
       "      <td>VG</td>\n",
       "      <td>7.912514</td>\n",
       "    </tr>\n",
       "    <tr>\n",
       "      <th>59</th>\n",
       "      <td>VN</td>\n",
       "      <td>1.315664</td>\n",
       "    </tr>\n",
       "    <tr>\n",
       "      <th>60</th>\n",
       "      <td>ZA</td>\n",
       "      <td>-47.951597</td>\n",
       "    </tr>\n",
       "  </tbody>\n",
       "</table>\n",
       "<p>61 rows × 2 columns</p>\n",
       "</div>"
      ],
      "text/plain": [
       "   jurisdictions  value_USD\n",
       "0             AE -42.206017\n",
       "1             AG  28.169632\n",
       "2             AR   2.710224\n",
       "3             AT  26.709184\n",
       "4             AU -42.434353\n",
       "..           ...        ...\n",
       "56            US -38.407672\n",
       "57            VC  12.701548\n",
       "58            VG   7.912514\n",
       "59            VN   1.315664\n",
       "60            ZA -47.951597\n",
       "\n",
       "[61 rows x 2 columns]"
      ]
     },
     "metadata": {},
     "output_type": "display_data"
    }
   ],
   "source": [
    "result = src_amounts.copy()\n",
    "result['value_USD'] = dst_amounts['dst_value_USD'].sub(src_amounts['src_value_USD'], axis=0)\n",
    "\n",
    "result = result.groupby(['jurisdictions'])['value_USD'].sum().reset_index()\n",
    "result = result.sort_values(\"jurisdictions\",ascending=True)\n",
    "result[\"value_USD\"] = result[\"value_USD\"] / 10**9\n",
    "\n",
    "plt.figure(figsize=(10, 5))\n",
    "\n",
    "# Plot the bar chart\n",
    "bars = plt.bar(result['jurisdictions'], result['value_USD'])\n",
    "\n",
    "# Set labels and title\n",
    "plt.xlabel('Jurisdictions')\n",
    "plt.ylabel('Value (MRD USD)')\n",
    "plt.title('Aggregated net flows by jurisdictions')\n",
    "\n",
    "# Rotate x-axis labels for better visibility\n",
    "plt.xticks(rotation=90)\n",
    "\n",
    "# Color the bars based on a condition\n",
    "for bar, value in zip(bars, result['value_USD']):\n",
    "    if value < 0:\n",
    "        bar.set_color('red')\n",
    "    else:\n",
    "        bar.set_color('blue')\n",
    "\n",
    "# Display the plot\n",
    "plt.show()\n",
    "display(result)"
   ]
  },
  {
   "cell_type": "code",
   "execution_count": 665,
   "metadata": {},
   "outputs": [
    {
     "data": {
      "application/vnd.jupyter.widget-view+json": {
       "model_id": "6d4f4b48edf1426fbb2d532caad6aa97",
       "version_major": 2,
       "version_minor": 0
      },
      "text/plain": [
       "interactive(children=(IntSlider(value=2017, description='year', max=2022, min=2012), Output()), _dom_classes=(…"
      ]
     },
     "metadata": {},
     "output_type": "display_data"
    },
    {
     "data": {
      "text/plain": [
       "<function __main__.plot_net_flows_by_year(src_amounts, dst_amounts, year)>"
      ]
     },
     "execution_count": 665,
     "metadata": {},
     "output_type": "execute_result"
    }
   ],
   "source": [
    "def plot_net_flows_by_year(src_amounts,dst_amounts,year):\n",
    "    _src_amounts = src_amounts.copy()\n",
    "    _dst_amounts = dst_amounts.copy()\n",
    "\n",
    "    y_result = _src_amounts[_src_amounts['year'] == year]\n",
    "    y_result['value_USD'] = _dst_amounts['dst_value_USD'].sub(_src_amounts['src_value_USD'], axis=0)\n",
    "\n",
    "    y_result = y_result.groupby(['jurisdictions'])['value_USD'].sum().reset_index()\n",
    "    y_result = y_result.sort_values(\"jurisdictions\",ascending=True)\n",
    "    y_result[\"value_USD\"] = y_result[\"value_USD\"] / 10**9\n",
    "    \n",
    "    plt.figure(figsize=(10, 5))\n",
    "\n",
    "    # Plot the bar chart\n",
    "    bars = plt.bar(y_result['jurisdictions'], y_result['value_USD'])\n",
    "\n",
    "    # Set labels and title\n",
    "    plt.xlabel('Jurisdictions')\n",
    "    plt.ylabel('Value (MRD USD)')\n",
    "    plt.title('Aggregated net flows by jurisdictions ')\n",
    "\n",
    "    # Rotate x-axis labels for better visibility\n",
    "    plt.xticks(rotation=90)\n",
    "    plt.grid(True)\n",
    "\n",
    "    # Color the bars based on a condition\n",
    "    for bar, value in zip(bars, y_result['value_USD']):\n",
    "        if value < 0:\n",
    "            bar.set_color('red')\n",
    "        else:\n",
    "            bar.set_color('blue')\n",
    "\n",
    "    # Display the plot\n",
    "    plt.show()\n",
    "\n",
    "interact(plot_net_flows_by_year,src_amounts=fixed(src_amounts),dst_amounts=fixed(dst_amounts),year=(2012,2022,1))"
   ]
  },
  {
   "cell_type": "markdown",
   "metadata": {},
   "source": [
    "## What do the flows look like on a map?"
   ]
  },
  {
   "cell_type": "code",
   "execution_count": 666,
   "metadata": {},
   "outputs": [
    {
     "data": {
      "text/html": [
       "<div>\n",
       "<style scoped>\n",
       "    .dataframe tbody tr th:only-of-type {\n",
       "        vertical-align: middle;\n",
       "    }\n",
       "\n",
       "    .dataframe tbody tr th {\n",
       "        vertical-align: top;\n",
       "    }\n",
       "\n",
       "    .dataframe thead th {\n",
       "        text-align: right;\n",
       "    }\n",
       "</style>\n",
       "<table border=\"1\" class=\"dataframe\">\n",
       "  <thead>\n",
       "    <tr style=\"text-align: right;\">\n",
       "      <th></th>\n",
       "      <th>jurisdictions</th>\n",
       "      <th>value_USD</th>\n",
       "    </tr>\n",
       "  </thead>\n",
       "  <tbody>\n",
       "    <tr>\n",
       "      <th>0</th>\n",
       "      <td>AE</td>\n",
       "      <td>-42.206017</td>\n",
       "    </tr>\n",
       "    <tr>\n",
       "      <th>1</th>\n",
       "      <td>AG</td>\n",
       "      <td>28.169632</td>\n",
       "    </tr>\n",
       "    <tr>\n",
       "      <th>2</th>\n",
       "      <td>AR</td>\n",
       "      <td>2.710224</td>\n",
       "    </tr>\n",
       "    <tr>\n",
       "      <th>3</th>\n",
       "      <td>AT</td>\n",
       "      <td>26.709184</td>\n",
       "    </tr>\n",
       "    <tr>\n",
       "      <th>4</th>\n",
       "      <td>AU</td>\n",
       "      <td>-42.434353</td>\n",
       "    </tr>\n",
       "    <tr>\n",
       "      <th>...</th>\n",
       "      <td>...</td>\n",
       "      <td>...</td>\n",
       "    </tr>\n",
       "    <tr>\n",
       "      <th>56</th>\n",
       "      <td>US</td>\n",
       "      <td>-38.407672</td>\n",
       "    </tr>\n",
       "    <tr>\n",
       "      <th>57</th>\n",
       "      <td>VC</td>\n",
       "      <td>12.701548</td>\n",
       "    </tr>\n",
       "    <tr>\n",
       "      <th>58</th>\n",
       "      <td>VG</td>\n",
       "      <td>7.912514</td>\n",
       "    </tr>\n",
       "    <tr>\n",
       "      <th>59</th>\n",
       "      <td>VN</td>\n",
       "      <td>1.315664</td>\n",
       "    </tr>\n",
       "    <tr>\n",
       "      <th>60</th>\n",
       "      <td>ZA</td>\n",
       "      <td>-47.951597</td>\n",
       "    </tr>\n",
       "  </tbody>\n",
       "</table>\n",
       "<p>61 rows × 2 columns</p>\n",
       "</div>"
      ],
      "text/plain": [
       "   jurisdictions  value_USD\n",
       "0             AE -42.206017\n",
       "1             AG  28.169632\n",
       "2             AR   2.710224\n",
       "3             AT  26.709184\n",
       "4             AU -42.434353\n",
       "..           ...        ...\n",
       "56            US -38.407672\n",
       "57            VC  12.701548\n",
       "58            VG   7.912514\n",
       "59            VN   1.315664\n",
       "60            ZA -47.951597\n",
       "\n",
       "[61 rows x 2 columns]"
      ]
     },
     "metadata": {},
     "output_type": "display_data"
    },
    {
     "data": {
      "image/png": "[encoded data removed]",
      "text/plain": [
       "<Figure size 1000x800 with 2 Axes>"
      ]
     },
     "metadata": {},
     "output_type": "display_data"
    }
   ],
   "source": [
    "display(result)\n",
    "result.rename(columns={'jurisdictions':'alpha-2'},inplace=True)\n",
    "country_codes = pd.read_csv('data/country_codes.csv')\n",
    "country_codes = country_codes[['alpha-2','alpha-3']]\n",
    "c_merged_df= pd.merge(result, country_codes,on='alpha-2',how='inner')\n",
    "c_merged_df.rename(columns={'alpha-2':'ISO'},inplace=True)\n",
    "\n",
    "map_data = gpd.read_file('shapefile/World_Countries__Generalized_.shp')\n",
    "\n",
    "c_merged_data = map_data.merge(c_merged_df, on='ISO')\n",
    "fig, ax = plt.subplots(figsize=(10, 8))\n",
    "\n",
    "c_merged_data.plot(column='value_USD', cmap='seismic_r', linewidth=0.8, ax=ax, edgecolor='0.8', legend=True)\n",
    "ax.set_title('Holdings')\n",
    "plt.xticks([])\n",
    "plt.yticks([])\n",
    "plt.title('Aggregated net flows by jurisdictions (in BN USD)')\n",
    "plt.show()"
   ]
  },
  {
   "cell_type": "code",
   "execution_count": 667,
   "metadata": {},
   "outputs": [
    {
     "data": {
      "text/plain": [
       "\"\\n# Merge country codes first\\nprint(f'Dest Rows before merge: {dst_amounts.shape[0]}')\\ndst = pd.merge(dst_amounts, country_codes[['alpha-2', 'alpha-3', 'region', 'sub-region']], left_on='dst_jurisdictions', right_on='alpha-2', how='left')\\n\\nprint(f'Src rows before merge: {src_amounts.shape[0]}')\\nsrc = pd.merge(src_amounts, country_codes[['alpha-2', 'alpha-3', 'region', 'sub-region']], left_on='src_jurisdictions', right_on='alpha-2', how='inner')\\n#display(src.head())\\n\\n# Now merge gdp data\\ndst = pd.merge(dst, gdp, left_on='alpha-3', right_on='Country Code', how='left')\\nprint(f'Dest rows after merge: {dst.shape[0]}')\\n\\nsrc = pd.merge(src, gdp, left_on='alpha-3', right_on='Country Code', how='inner')\\nprint(f'Src rows after merge: {src.shape[0]}')\\n\\nprint(display(dst[dst['alpha-3'].isna()]))\\n\""
      ]
     },
     "execution_count": 667,
     "metadata": {},
     "output_type": "execute_result"
    }
   ],
   "source": [
    "# TODO: Merge with GDP Data\n",
    "# TODO: DELETE THIS????\n",
    "'''\n",
    "# Merge country codes first\n",
    "print(f'Dest Rows before merge: {dst_amounts.shape[0]}')\n",
    "dst = pd.merge(dst_amounts, country_codes[['alpha-2', 'alpha-3', 'region', 'sub-region']], left_on='dst_jurisdictions', right_on='alpha-2', how='left')\n",
    "\n",
    "print(f'Src rows before merge: {src_amounts.shape[0]}')\n",
    "src = pd.merge(src_amounts, country_codes[['alpha-2', 'alpha-3', 'region', 'sub-region']], left_on='src_jurisdictions', right_on='alpha-2', how='inner')\n",
    "#display(src.head())\n",
    "\n",
    "# Now merge gdp data\n",
    "dst = pd.merge(dst, gdp, left_on='alpha-3', right_on='Country Code', how='left')\n",
    "print(f'Dest rows after merge: {dst.shape[0]}')\n",
    "\n",
    "src = pd.merge(src, gdp, left_on='alpha-3', right_on='Country Code', how='inner')\n",
    "print(f'Src rows after merge: {src.shape[0]}')\n",
    "\n",
    "print(display(dst[dst['alpha-3'].isna()]))\n",
    "'''"
   ]
  },
  {
   "cell_type": "markdown",
   "metadata": {},
   "source": [
    "# Correlations"
   ]
  },
  {
   "cell_type": "code",
   "execution_count": 668,
   "metadata": {},
   "outputs": [],
   "source": [
    "# Prepare Population\n",
    "population_country = pd.merge(population, country_codes, left_on='Country Code', right_on='alpha-3', how='inner')"
   ]
  },
  {
   "cell_type": "code",
   "execution_count": 669,
   "metadata": {},
   "outputs": [
    {
     "data": {
      "text/plain": [
       "\"\\nfig, ax = plt.subplots()\\nscatter = ax.scatter(x=np.log10(population_gdp.dst_value_USD), y=population_gdp['2021'])\\nplt.xlabel('Received USD')\\nplt.ylabel('Population')\\nplt.title('Population / Received USD')\\nplt.grid(True)\\n\\ncorr = pearsonr(population_gdp.dst_value_USD, population_gdp['2021'])\\ndisplay(corr)\\ncorr = spearmanr(population_gdp.dst_value_USD, population_gdp['2021'])\\ndisplay(corr)\\n\""
      ]
     },
     "execution_count": 669,
     "metadata": {},
     "output_type": "execute_result"
    }
   ],
   "source": [
    "#TODO FIX THIS\n",
    "#NameError: name 'population_country' is not defined\n",
    "\n",
    "flow_data = merged_df.copy()\n",
    "dst_juri_sum = merged_df.groupby('dst_jurisdictions')['dst_value_USD'].sum()\n",
    "population_gdp = pd.merge(dst_juri_sum, population_country, left_on='dst_jurisdictions', right_on='alpha-2', how='inner')\n",
    "'''\n",
    "fig, ax = plt.subplots()\n",
    "scatter = ax.scatter(x=np.log10(population_gdp.dst_value_USD), y=population_gdp['2021'])\n",
    "plt.xlabel('Received USD')\n",
    "plt.ylabel('Population')\n",
    "plt.title('Population / Received USD')\n",
    "plt.grid(True)\n",
    "\n",
    "corr = pearsonr(population_gdp.dst_value_USD, population_gdp['2021'])\n",
    "display(corr)\n",
    "corr = spearmanr(population_gdp.dst_value_USD, population_gdp['2021'])\n",
    "display(corr)\n",
    "'''"
   ]
  },
  {
   "cell_type": "markdown",
   "metadata": {},
   "source": [
    "## TAX HAVEN VS RECIEVED"
   ]
  },
  {
   "cell_type": "code",
   "execution_count": 670,
   "metadata": {},
   "outputs": [
    {
     "ename": "KeyError",
     "evalue": "'name'",
     "output_type": "error",
     "traceback": [
      "\u001b[0;31m---------------------------------------------------------------------------\u001b[0m",
      "\u001b[0;31mKeyError\u001b[0m                                  Traceback (most recent call last)",
      "\u001b[0;32m/tmp/ipykernel_2300/2677370116.py\u001b[0m in \u001b[0;36m?\u001b[0;34m()\u001b[0m\n\u001b[1;32m      1\u001b[0m \u001b[0;31m# Prepare tax haven data\u001b[0m\u001b[0;34m\u001b[0m\u001b[0;34m\u001b[0m\u001b[0m\n\u001b[0;32m----> 2\u001b[0;31m \u001b[0mcthi_country\u001b[0m \u001b[0;34m=\u001b[0m \u001b[0mpd\u001b[0m\u001b[0;34m.\u001b[0m\u001b[0mmerge\u001b[0m\u001b[0;34m(\u001b[0m\u001b[0mcthi\u001b[0m\u001b[0;34m,\u001b[0m \u001b[0mcountry_codes\u001b[0m\u001b[0;34m,\u001b[0m \u001b[0mleft_on\u001b[0m\u001b[0;34m=\u001b[0m\u001b[0;34m'Country'\u001b[0m\u001b[0;34m,\u001b[0m \u001b[0mright_on\u001b[0m\u001b[0;34m=\u001b[0m\u001b[0;34m'name'\u001b[0m\u001b[0;34m,\u001b[0m \u001b[0mhow\u001b[0m\u001b[0;34m=\u001b[0m\u001b[0;34m'inner'\u001b[0m\u001b[0;34m)\u001b[0m\u001b[0;34m\u001b[0m\u001b[0;34m\u001b[0m\u001b[0m\n\u001b[0m",
      "\u001b[0;32m~/caana/MoneyFlow/.venv/lib/python3.10/site-packages/pandas/core/reshape/merge.py\u001b[0m in \u001b[0;36m?\u001b[0;34m(left, right, how, on, left_on, right_on, left_index, right_index, sort, suffixes, copy, indicator, validate)\u001b[0m\n\u001b[1;32m    144\u001b[0m     \u001b[0mcopy\u001b[0m\u001b[0;34m:\u001b[0m \u001b[0mbool\u001b[0m \u001b[0;34m|\u001b[0m \u001b[0;32mNone\u001b[0m \u001b[0;34m=\u001b[0m \u001b[0;32mNone\u001b[0m\u001b[0;34m,\u001b[0m\u001b[0;34m\u001b[0m\u001b[0;34m\u001b[0m\u001b[0m\n\u001b[1;32m    145\u001b[0m     \u001b[0mindicator\u001b[0m\u001b[0;34m:\u001b[0m \u001b[0mstr\u001b[0m \u001b[0;34m|\u001b[0m \u001b[0mbool\u001b[0m \u001b[0;34m=\u001b[0m \u001b[0;32mFalse\u001b[0m\u001b[0;34m,\u001b[0m\u001b[0;34m\u001b[0m\u001b[0;34m\u001b[0m\u001b[0m\n\u001b[1;32m    146\u001b[0m     \u001b[0mvalidate\u001b[0m\u001b[0;34m:\u001b[0m \u001b[0mstr\u001b[0m \u001b[0;34m|\u001b[0m \u001b[0;32mNone\u001b[0m \u001b[0;34m=\u001b[0m \u001b[0;32mNone\u001b[0m\u001b[0;34m,\u001b[0m\u001b[0;34m\u001b[0m\u001b[0;34m\u001b[0m\u001b[0m\n\u001b[1;32m    147\u001b[0m ) -> DataFrame:\n\u001b[0;32m--> 148\u001b[0;31m     op = _MergeOperation(\n\u001b[0m\u001b[1;32m    149\u001b[0m         \u001b[0mleft\u001b[0m\u001b[0;34m,\u001b[0m\u001b[0;34m\u001b[0m\u001b[0;34m\u001b[0m\u001b[0m\n\u001b[1;32m    150\u001b[0m         \u001b[0mright\u001b[0m\u001b[0;34m,\u001b[0m\u001b[0;34m\u001b[0m\u001b[0;34m\u001b[0m\u001b[0m\n\u001b[1;32m    151\u001b[0m         \u001b[0mhow\u001b[0m\u001b[0;34m=\u001b[0m\u001b[0mhow\u001b[0m\u001b[0;34m,\u001b[0m\u001b[0;34m\u001b[0m\u001b[0;34m\u001b[0m\u001b[0m\n",
      "\u001b[0;32m~/caana/MoneyFlow/.venv/lib/python3.10/site-packages/pandas/core/reshape/merge.py\u001b[0m in \u001b[0;36m?\u001b[0;34m(self, left, right, how, on, left_on, right_on, axis, left_index, right_index, sort, suffixes, indicator, validate)\u001b[0m\n\u001b[1;32m    733\u001b[0m         (\n\u001b[1;32m    734\u001b[0m             \u001b[0mself\u001b[0m\u001b[0;34m.\u001b[0m\u001b[0mleft_join_keys\u001b[0m\u001b[0;34m,\u001b[0m\u001b[0;34m\u001b[0m\u001b[0;34m\u001b[0m\u001b[0m\n\u001b[1;32m    735\u001b[0m             \u001b[0mself\u001b[0m\u001b[0;34m.\u001b[0m\u001b[0mright_join_keys\u001b[0m\u001b[0;34m,\u001b[0m\u001b[0;34m\u001b[0m\u001b[0;34m\u001b[0m\u001b[0m\n\u001b[1;32m    736\u001b[0m             \u001b[0mself\u001b[0m\u001b[0;34m.\u001b[0m\u001b[0mjoin_names\u001b[0m\u001b[0;34m,\u001b[0m\u001b[0;34m\u001b[0m\u001b[0;34m\u001b[0m\u001b[0m\n\u001b[0;32m--> 737\u001b[0;31m         ) = self._get_merge_keys()\n\u001b[0m\u001b[1;32m    738\u001b[0m \u001b[0;34m\u001b[0m\u001b[0m\n\u001b[1;32m    739\u001b[0m         \u001b[0;31m# validate the merge keys dtypes. We may need to coerce\u001b[0m\u001b[0;34m\u001b[0m\u001b[0;34m\u001b[0m\u001b[0m\n\u001b[1;32m    740\u001b[0m         \u001b[0;31m# to avoid incompatible dtypes\u001b[0m\u001b[0;34m\u001b[0m\u001b[0;34m\u001b[0m\u001b[0m\n",
      "\u001b[0;32m~/caana/MoneyFlow/.venv/lib/python3.10/site-packages/pandas/core/reshape/merge.py\u001b[0m in \u001b[0;36m?\u001b[0;34m(self)\u001b[0m\n\u001b[1;32m   1199\u001b[0m                         \u001b[0;31m# Then we're either Hashable or a wrong-length arraylike,\u001b[0m\u001b[0;34m\u001b[0m\u001b[0;34m\u001b[0m\u001b[0m\n\u001b[1;32m   1200\u001b[0m                         \u001b[0;31m#  the latter of which will raise\u001b[0m\u001b[0;34m\u001b[0m\u001b[0;34m\u001b[0m\u001b[0m\n\u001b[1;32m   1201\u001b[0m                         \u001b[0mrk\u001b[0m \u001b[0;34m=\u001b[0m \u001b[0mcast\u001b[0m\u001b[0;34m(\u001b[0m\u001b[0mHashable\u001b[0m\u001b[0;34m,\u001b[0m \u001b[0mrk\u001b[0m\u001b[0;34m)\u001b[0m\u001b[0;34m\u001b[0m\u001b[0;34m\u001b[0m\u001b[0m\n\u001b[1;32m   1202\u001b[0m                         \u001b[0;32mif\u001b[0m \u001b[0mrk\u001b[0m \u001b[0;32mis\u001b[0m \u001b[0;32mnot\u001b[0m \u001b[0;32mNone\u001b[0m\u001b[0;34m:\u001b[0m\u001b[0;34m\u001b[0m\u001b[0;34m\u001b[0m\u001b[0m\n\u001b[0;32m-> 1203\u001b[0;31m                             \u001b[0mright_keys\u001b[0m\u001b[0;34m.\u001b[0m\u001b[0mappend\u001b[0m\u001b[0;34m(\u001b[0m\u001b[0mright\u001b[0m\u001b[0;34m.\u001b[0m\u001b[0m_get_label_or_level_values\u001b[0m\u001b[0;34m(\u001b[0m\u001b[0mrk\u001b[0m\u001b[0;34m)\u001b[0m\u001b[0;34m)\u001b[0m\u001b[0;34m\u001b[0m\u001b[0;34m\u001b[0m\u001b[0m\n\u001b[0m\u001b[1;32m   1204\u001b[0m                         \u001b[0;32melse\u001b[0m\u001b[0;34m:\u001b[0m\u001b[0;34m\u001b[0m\u001b[0;34m\u001b[0m\u001b[0m\n\u001b[1;32m   1205\u001b[0m                             \u001b[0;31m# work-around for merge_asof(right_index=True)\u001b[0m\u001b[0;34m\u001b[0m\u001b[0;34m\u001b[0m\u001b[0m\n\u001b[1;32m   1206\u001b[0m                             \u001b[0mright_keys\u001b[0m\u001b[0;34m.\u001b[0m\u001b[0mappend\u001b[0m\u001b[0;34m(\u001b[0m\u001b[0mright\u001b[0m\u001b[0;34m.\u001b[0m\u001b[0mindex\u001b[0m\u001b[0;34m)\u001b[0m\u001b[0;34m\u001b[0m\u001b[0;34m\u001b[0m\u001b[0m\n",
      "\u001b[0;32m~/caana/MoneyFlow/.venv/lib/python3.10/site-packages/pandas/core/generic.py\u001b[0m in \u001b[0;36m?\u001b[0;34m(self, key, axis)\u001b[0m\n\u001b[1;32m   1774\u001b[0m             \u001b[0mvalues\u001b[0m \u001b[0;34m=\u001b[0m \u001b[0mself\u001b[0m\u001b[0;34m.\u001b[0m\u001b[0mxs\u001b[0m\u001b[0;34m(\u001b[0m\u001b[0mkey\u001b[0m\u001b[0;34m,\u001b[0m \u001b[0maxis\u001b[0m\u001b[0;34m=\u001b[0m\u001b[0mother_axes\u001b[0m\u001b[0;34m[\u001b[0m\u001b[0;36m0\u001b[0m\u001b[0;34m]\u001b[0m\u001b[0;34m)\u001b[0m\u001b[0;34m.\u001b[0m\u001b[0m_values\u001b[0m\u001b[0;34m\u001b[0m\u001b[0;34m\u001b[0m\u001b[0m\n\u001b[1;32m   1775\u001b[0m         \u001b[0;32melif\u001b[0m \u001b[0mself\u001b[0m\u001b[0;34m.\u001b[0m\u001b[0m_is_level_reference\u001b[0m\u001b[0;34m(\u001b[0m\u001b[0mkey\u001b[0m\u001b[0;34m,\u001b[0m \u001b[0maxis\u001b[0m\u001b[0;34m=\u001b[0m\u001b[0maxis\u001b[0m\u001b[0;34m)\u001b[0m\u001b[0;34m:\u001b[0m\u001b[0;34m\u001b[0m\u001b[0;34m\u001b[0m\u001b[0m\n\u001b[1;32m   1776\u001b[0m             \u001b[0mvalues\u001b[0m \u001b[0;34m=\u001b[0m \u001b[0mself\u001b[0m\u001b[0;34m.\u001b[0m\u001b[0maxes\u001b[0m\u001b[0;34m[\u001b[0m\u001b[0maxis\u001b[0m\u001b[0;34m]\u001b[0m\u001b[0;34m.\u001b[0m\u001b[0mget_level_values\u001b[0m\u001b[0;34m(\u001b[0m\u001b[0mkey\u001b[0m\u001b[0;34m)\u001b[0m\u001b[0;34m.\u001b[0m\u001b[0m_values\u001b[0m\u001b[0;34m\u001b[0m\u001b[0;34m\u001b[0m\u001b[0m\n\u001b[1;32m   1777\u001b[0m         \u001b[0;32melse\u001b[0m\u001b[0;34m:\u001b[0m\u001b[0;34m\u001b[0m\u001b[0;34m\u001b[0m\u001b[0m\n\u001b[0;32m-> 1778\u001b[0;31m             \u001b[0;32mraise\u001b[0m \u001b[0mKeyError\u001b[0m\u001b[0;34m(\u001b[0m\u001b[0mkey\u001b[0m\u001b[0;34m)\u001b[0m\u001b[0;34m\u001b[0m\u001b[0;34m\u001b[0m\u001b[0m\n\u001b[0m\u001b[1;32m   1779\u001b[0m \u001b[0;34m\u001b[0m\u001b[0m\n\u001b[1;32m   1780\u001b[0m         \u001b[0;31m# Check for duplicates\u001b[0m\u001b[0;34m\u001b[0m\u001b[0;34m\u001b[0m\u001b[0m\n\u001b[1;32m   1781\u001b[0m         \u001b[0;32mif\u001b[0m \u001b[0mvalues\u001b[0m\u001b[0;34m.\u001b[0m\u001b[0mndim\u001b[0m \u001b[0;34m>\u001b[0m \u001b[0;36m1\u001b[0m\u001b[0;34m:\u001b[0m\u001b[0;34m\u001b[0m\u001b[0;34m\u001b[0m\u001b[0m\n",
      "\u001b[0;31mKeyError\u001b[0m: 'name'"
     ]
    }
   ],
   "source": [
    "# Prepare tax haven data\n",
    "cthi_country = pd.merge(cthi, country_codes, left_on='Country', right_on='name', how='inner')"
   ]
  },
  {
   "cell_type": "code",
   "execution_count": null,
   "metadata": {},
   "outputs": [],
   "source": [
    "# CTHI (Tax Haven Score)\n",
    "# TODO UNITS ON AXED also maybe scale to BN USD? \n",
    "flow_data = merged_df.copy()\n",
    "dst_juri_sum = merged_df.groupby('dst_jurisdictions')['dst_value_USD'].sum()\n",
    "receivers_cthi = pd.merge(dst_juri_sum, cthi_country, left_on='dst_jurisdictions', right_on='alpha-2', how='inner')\n",
    "\n",
    "fig, ax = plt.subplots()\n",
    "scatter = ax.scatter(x=np.log10(receivers_cthi.dst_value_USD), y=receivers_cthi['Haven Score'])\n",
    "plt.xlabel('Received USD')\n",
    "plt.ylabel('CTHI')\n",
    "plt.title('CTHI / Received USD')\n",
    "plt.grid(True)\n",
    "corr = pearsonr(receivers_cthi.dst_value_USD, receivers_cthi['Haven Score'])\n",
    "display(corr)\n",
    "\n",
    "corr = spearmanr(receivers_cthi.dst_value_USD, receivers_cthi['Haven Score'])\n",
    "display(corr)\n"
   ]
  },
  {
   "cell_type": "markdown",
   "metadata": {},
   "source": [
    "## TAX HAVEN VS SENT\n",
    "TODO"
   ]
  },
  {
   "cell_type": "markdown",
   "metadata": {},
   "source": [
    "## CORRUPTION VS RECIEVED"
   ]
  },
  {
   "cell_type": "code",
   "execution_count": null,
   "metadata": {},
   "outputs": [],
   "source": [
    "# Prepare CPI\n",
    "cpi_country = pd.merge(cpi, country_codes, left_on='Country', right_on='name', how='inner')"
   ]
  },
  {
   "cell_type": "code",
   "execution_count": null,
   "metadata": {},
   "outputs": [],
   "source": [
    "# TODO UNITS ON AXED also maybe scale to BN USD? \n",
    "flow_data = merged_df.copy()\n",
    "dst_juri_sum = merged_df.groupby('dst_jurisdictions')['dst_value_USD'].sum()\n",
    "receivers_cpi = pd.merge(dst_juri_sum, cpi_country, left_on='dst_jurisdictions', right_on='alpha-2', how='inner')\n",
    "\n",
    "fig, ax = plt.subplots()\n",
    "scatter = ax.scatter(x=np.log10(receivers_cpi.dst_value_USD), y=receivers_cpi['CPI Score'])\n",
    "plt.xlabel('Received USD')\n",
    "plt.ylabel('CPI')\n",
    "plt.title('CPI / Received USD')\n",
    "plt.grid(True)\n",
    "\n",
    "corr = pearsonr(receivers_cpi.dst_value_USD, receivers_cpi['CPI Score'])\n",
    "display(corr)\n",
    "corr = spearmanr(receivers_cpi.dst_value_USD, receivers_cpi['CPI Score'])\n",
    "display(corr)"
   ]
  },
  {
   "cell_type": "markdown",
   "metadata": {},
   "source": [
    "## CORRUPTION VS SENT\n",
    "TODO"
   ]
  },
  {
   "cell_type": "markdown",
   "metadata": {},
   "source": [
    "## GDP VS RECIEVED"
   ]
  },
  {
   "cell_type": "code",
   "execution_count": null,
   "metadata": {},
   "outputs": [],
   "source": [
    "# Prepare GDP\n",
    "gdp_country = pd.merge(gdp, country_codes, left_on='Country Code', right_on='alpha-3', how='inner')"
   ]
  },
  {
   "cell_type": "code",
   "execution_count": null,
   "metadata": {},
   "outputs": [],
   "source": [
    "# TODO UNITS ON AXED also maybe scale to BN USD? \n",
    "\n",
    "flow_data = merged_df.copy()\n",
    "dst_juri_sum = merged_df.groupby('dst_jurisdictions')['dst_value_USD'].sum()\n",
    "receivers_gdp = pd.merge(dst_juri_sum, gdp_country, left_on='dst_jurisdictions', right_on='alpha-2', how='inner')\n",
    "receivers_gdp = receivers_gdp.dropna(subset=['2021'])\n",
    "\n",
    "fig, ax = plt.subplots()\n",
    "scatter = ax.scatter(x=np.log10(receivers_gdp.dst_value_USD), y=np.log10(receivers_gdp['2021']))\n",
    "plt.xlabel('Received USD')\n",
    "plt.ylabel('GDP')\n",
    "plt.title('GDP / Received USD')\n",
    "plt.grid(True)\n",
    "\n",
    "corr = pearsonr(population_gdp.dst_value_USD, population_gdp['2021'])\n",
    "display(corr)\n",
    "corr = spearmanr(population_gdp.dst_value_USD, population_gdp['2021'])\n",
    "display(corr)"
   ]
  },
  {
   "cell_type": "markdown",
   "metadata": {},
   "source": [
    "## GDP VS RECIEVED\n",
    "TODO"
   ]
  },
  {
   "cell_type": "code",
   "execution_count": null,
   "metadata": {},
   "outputs": [],
   "source": [
    "gdp_country['2021']"
   ]
  }
 ],
 "metadata": {
  "kernelspec": {
   "display_name": "Python 3 (ipykernel)",
   "language": "python",
   "name": "python3"
  },
  "language_info": {
   "codemirror_mode": {
    "name": "ipython",
    "version": 3
   },
   "file_extension": ".py",
   "mimetype": "text/x-python",
   "name": "python",
   "nbconvert_exporter": "python",
   "pygments_lexer": "ipython3",
   "version": "3.11.4"
  }
 },
 "nbformat": 4,
 "nbformat_minor": 2
}
