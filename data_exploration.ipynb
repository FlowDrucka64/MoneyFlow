{
 "cells": [
  {
   "cell_type": "markdown",
   "metadata": {},
   "source": [
    "# Imports"
   ]
  },
  {
   "cell_type": "code",
   "execution_count": 1,
   "metadata": {},
   "outputs": [],
   "source": [
    "import pyarrow as pa\n",
    "import pyarrow.parquet as pq\n",
    "\n",
    "import pandas as pd\n",
    "\n",
    "import matplotlib.pyplot as plt\n",
    "\n",
    "import matplotlib.pyplot as plt\n",
    "from ipywidgets import interact, fixed\n",
    "import numpy as np\n",
    "\n",
    "from scipy.stats import pearsonr, spearmanr\n",
    "\n",
    "import geopandas as gpd #heatmap\n",
    "import plotly.graph_objects as go"
   ]
  },
  {
   "cell_type": "code",
   "execution_count": 2,
   "metadata": {},
   "outputs": [],
   "source": [
    "MRD = 10**9"
   ]
  },
  {
   "cell_type": "markdown",
   "metadata": {},
   "source": [
    "# Data loading"
   ]
  },
  {
   "cell_type": "markdown",
   "metadata": {},
   "source": [
    "### BTC data"
   ]
  },
  {
   "cell_type": "code",
   "execution_count": 3,
   "metadata": {},
   "outputs": [
    {
     "data": {
      "text/html": [
       "<div>\n",
       "<style scoped>\n",
       "    .dataframe tbody tr th:only-of-type {\n",
       "        vertical-align: middle;\n",
       "    }\n",
       "\n",
       "    .dataframe tbody tr th {\n",
       "        vertical-align: top;\n",
       "    }\n",
       "\n",
       "    .dataframe thead th {\n",
       "        text-align: right;\n",
       "    }\n",
       "</style>\n",
       "<table border=\"1\" class=\"dataframe\">\n",
       "  <thead>\n",
       "    <tr style=\"text-align: right;\">\n",
       "      <th></th>\n",
       "      <th>high</th>\n",
       "      <th>date</th>\n",
       "      <th>year</th>\n",
       "    </tr>\n",
       "  </thead>\n",
       "  <tbody>\n",
       "    <tr>\n",
       "      <th>726</th>\n",
       "      <td>26550.072937</td>\n",
       "      <td>2023-05-04</td>\n",
       "      <td>2023</td>\n",
       "    </tr>\n",
       "    <tr>\n",
       "      <th>727</th>\n",
       "      <td>25148.010374</td>\n",
       "      <td>2023-05-11</td>\n",
       "      <td>2023</td>\n",
       "    </tr>\n",
       "    <tr>\n",
       "      <th>728</th>\n",
       "      <td>25338.472061</td>\n",
       "      <td>2023-05-17</td>\n",
       "      <td>2023</td>\n",
       "    </tr>\n",
       "    <tr>\n",
       "      <th>729</th>\n",
       "      <td>25279.405768</td>\n",
       "      <td>2023-05-24</td>\n",
       "      <td>2023</td>\n",
       "    </tr>\n",
       "    <tr>\n",
       "      <th>730</th>\n",
       "      <td>26131.181703</td>\n",
       "      <td>2023-05-30</td>\n",
       "      <td>2023</td>\n",
       "    </tr>\n",
       "  </tbody>\n",
       "</table>\n",
       "</div>"
      ],
      "text/plain": [
       "             high        date  year\n",
       "726  26550.072937  2023-05-04  2023\n",
       "727  25148.010374  2023-05-11  2023\n",
       "728  25338.472061  2023-05-17  2023\n",
       "729  25279.405768  2023-05-24  2023\n",
       "730  26131.181703  2023-05-30  2023"
      ]
     },
     "metadata": {},
     "output_type": "display_data"
    }
   ],
   "source": [
    "btc_price_data = pd.read_csv(\"data/BTC_ALL_graph_coinmarketcap.csv\",sep=\";\")\n",
    "\n",
    "#split off time of day\n",
    "btc_price_data[\"timestamp\"] = btc_price_data[\"timestamp\"].apply(lambda x: str(x).split(\"T\")[0]) \n",
    "btc_price_data = btc_price_data[[\"high\", \"timestamp\"]]\n",
    "btc_price_data.rename(columns={\"timestamp\": \"date\"}, inplace=True)\n",
    "\n",
    "\n",
    "btc_price_data[\"year\"] = btc_price_data[\"date\"].apply(lambda x: int(str(x).split(\"-\")[0]))\n",
    "\n",
    "btc_price_data = btc_price_data[btc_price_data['year'] >= 2011]\n",
    "\n",
    "display(btc_price_data.tail())"
   ]
  },
  {
   "cell_type": "markdown",
   "metadata": {},
   "source": [
    "### Actors data"
   ]
  },
  {
   "cell_type": "code",
   "execution_count": 4,
   "metadata": {},
   "outputs": [
    {
     "data": {
      "text/html": [
       "<div>\n",
       "<style scoped>\n",
       "    .dataframe tbody tr th:only-of-type {\n",
       "        vertical-align: middle;\n",
       "    }\n",
       "\n",
       "    .dataframe tbody tr th {\n",
       "        vertical-align: top;\n",
       "    }\n",
       "\n",
       "    .dataframe thead th {\n",
       "        text-align: right;\n",
       "    }\n",
       "</style>\n",
       "<table border=\"1\" class=\"dataframe\">\n",
       "  <thead>\n",
       "    <tr style=\"text-align: right;\">\n",
       "      <th></th>\n",
       "      <th>id</th>\n",
       "      <th>uri</th>\n",
       "      <th>label</th>\n",
       "      <th>jurisdictions</th>\n",
       "      <th>categories</th>\n",
       "    </tr>\n",
       "  </thead>\n",
       "  <tbody>\n",
       "    <tr>\n",
       "      <th>0</th>\n",
       "      <td>bilaxy</td>\n",
       "      <td>bilaxy.com</td>\n",
       "      <td>Bilaxy</td>\n",
       "      <td>HK</td>\n",
       "      <td>exchange</td>\n",
       "    </tr>\n",
       "    <tr>\n",
       "      <th>1</th>\n",
       "      <td>banxa</td>\n",
       "      <td>banxa.com</td>\n",
       "      <td>Banxa</td>\n",
       "      <td>AU, NL, US</td>\n",
       "      <td>exchange</td>\n",
       "    </tr>\n",
       "    <tr>\n",
       "      <th>2</th>\n",
       "      <td>aax</td>\n",
       "      <td>www.aax.com</td>\n",
       "      <td>Aax</td>\n",
       "      <td>SC</td>\n",
       "      <td>exchange</td>\n",
       "    </tr>\n",
       "    <tr>\n",
       "      <th>3</th>\n",
       "      <td>altcointrader</td>\n",
       "      <td>www.altcointrader.co.za</td>\n",
       "      <td>AltcoinTrader</td>\n",
       "      <td>ZA</td>\n",
       "      <td>exchange</td>\n",
       "    </tr>\n",
       "    <tr>\n",
       "      <th>4</th>\n",
       "      <td>azbit</td>\n",
       "      <td>azbit.com</td>\n",
       "      <td>Azbit</td>\n",
       "      <td>MH</td>\n",
       "      <td>exchange</td>\n",
       "    </tr>\n",
       "    <tr>\n",
       "      <th>...</th>\n",
       "      <td>...</td>\n",
       "      <td>...</td>\n",
       "      <td>...</td>\n",
       "      <td>...</td>\n",
       "      <td>...</td>\n",
       "    </tr>\n",
       "    <tr>\n",
       "      <th>309</th>\n",
       "      <td>stocksexchange</td>\n",
       "      <td>stex.com</td>\n",
       "      <td>Stex</td>\n",
       "      <td>EE</td>\n",
       "      <td>exchange</td>\n",
       "    </tr>\n",
       "    <tr>\n",
       "      <th>310</th>\n",
       "      <td>smenarnabitcoin</td>\n",
       "      <td>smenarnabitcoin.cz</td>\n",
       "      <td>Smenarnabitcoin</td>\n",
       "      <td>CZ</td>\n",
       "      <td>exchange</td>\n",
       "    </tr>\n",
       "    <tr>\n",
       "      <th>311</th>\n",
       "      <td>xapo</td>\n",
       "      <td>xapo.com</td>\n",
       "      <td>Xapo</td>\n",
       "      <td>US</td>\n",
       "      <td>exchange, service</td>\n",
       "    </tr>\n",
       "    <tr>\n",
       "      <th>312</th>\n",
       "      <td>yobit</td>\n",
       "      <td>yobit.net</td>\n",
       "      <td>YoBit</td>\n",
       "      <td>RU</td>\n",
       "      <td>exchange</td>\n",
       "    </tr>\n",
       "    <tr>\n",
       "      <th>313</th>\n",
       "      <td>woonetwork</td>\n",
       "      <td>woo.org</td>\n",
       "      <td>Woo Network (Exchange, Earn)</td>\n",
       "      <td>TW, VG</td>\n",
       "      <td>defi_dex, exchange, organization</td>\n",
       "    </tr>\n",
       "  </tbody>\n",
       "</table>\n",
       "<p>314 rows × 5 columns</p>\n",
       "</div>"
      ],
      "text/plain": [
       "                  id                      uri                         label  \\\n",
       "0             bilaxy               bilaxy.com                        Bilaxy   \n",
       "1              banxa                banxa.com                         Banxa   \n",
       "2                aax              www.aax.com                           Aax   \n",
       "3      altcointrader  www.altcointrader.co.za                 AltcoinTrader   \n",
       "4              azbit                azbit.com                         Azbit   \n",
       "..               ...                      ...                           ...   \n",
       "309   stocksexchange                 stex.com                          Stex   \n",
       "310  smenarnabitcoin       smenarnabitcoin.cz               Smenarnabitcoin   \n",
       "311             xapo                 xapo.com                          Xapo   \n",
       "312            yobit                yobit.net                         YoBit   \n",
       "313       woonetwork                  woo.org  Woo Network (Exchange, Earn)   \n",
       "\n",
       "    jurisdictions                        categories  \n",
       "0              HK                          exchange  \n",
       "1      AU, NL, US                          exchange  \n",
       "2              SC                          exchange  \n",
       "3              ZA                          exchange  \n",
       "4              MH                          exchange  \n",
       "..            ...                               ...  \n",
       "309            EE                          exchange  \n",
       "310            CZ                          exchange  \n",
       "311            US                 exchange, service  \n",
       "312            RU                          exchange  \n",
       "313        TW, VG  defi_dex, exchange, organization  \n",
       "\n",
       "[314 rows x 5 columns]"
      ]
     },
     "execution_count": 4,
     "metadata": {},
     "output_type": "execute_result"
    }
   ],
   "source": [
    "actors = pq.read_table(\"data/actors.parquet\")\n",
    "actors_df = actors.to_pandas()\n",
    "\n",
    "actors_df"
   ]
  },
  {
   "cell_type": "markdown",
   "metadata": {},
   "source": [
    "### Flow data"
   ]
  },
  {
   "cell_type": "code",
   "execution_count": 5,
   "metadata": {},
   "outputs": [
    {
     "data": {
      "text/html": [
       "<div>\n",
       "<style scoped>\n",
       "    .dataframe tbody tr th:only-of-type {\n",
       "        vertical-align: middle;\n",
       "    }\n",
       "\n",
       "    .dataframe tbody tr th {\n",
       "        vertical-align: top;\n",
       "    }\n",
       "\n",
       "    .dataframe thead th {\n",
       "        text-align: right;\n",
       "    }\n",
       "</style>\n",
       "<table border=\"1\" class=\"dataframe\">\n",
       "  <thead>\n",
       "    <tr style=\"text-align: right;\">\n",
       "      <th></th>\n",
       "      <th>src_id</th>\n",
       "      <th>dst_id</th>\n",
       "      <th>value_asset</th>\n",
       "      <th>value_USD</th>\n",
       "      <th>date</th>\n",
       "    </tr>\n",
       "  </thead>\n",
       "  <tbody>\n",
       "    <tr>\n",
       "      <th>0</th>\n",
       "      <td>1coin</td>\n",
       "      <td>1coin</td>\n",
       "      <td>36870000</td>\n",
       "      <td>243.755870</td>\n",
       "      <td>2014-03-03</td>\n",
       "    </tr>\n",
       "    <tr>\n",
       "      <th>1</th>\n",
       "      <td>1coin</td>\n",
       "      <td>1coin</td>\n",
       "      <td>380120000</td>\n",
       "      <td>2378.899210</td>\n",
       "      <td>2014-03-10</td>\n",
       "    </tr>\n",
       "    <tr>\n",
       "      <th>2</th>\n",
       "      <td>1coin</td>\n",
       "      <td>1coin</td>\n",
       "      <td>429150403</td>\n",
       "      <td>2738.687542</td>\n",
       "      <td>2014-03-13</td>\n",
       "    </tr>\n",
       "    <tr>\n",
       "      <th>3</th>\n",
       "      <td>1coin</td>\n",
       "      <td>1coin</td>\n",
       "      <td>333900098</td>\n",
       "      <td>2092.574397</td>\n",
       "      <td>2014-03-14</td>\n",
       "    </tr>\n",
       "    <tr>\n",
       "      <th>4</th>\n",
       "      <td>1coin</td>\n",
       "      <td>1coin</td>\n",
       "      <td>779334803</td>\n",
       "      <td>4938.373652</td>\n",
       "      <td>2014-03-15</td>\n",
       "    </tr>\n",
       "    <tr>\n",
       "      <th>...</th>\n",
       "      <td>...</td>\n",
       "      <td>...</td>\n",
       "      <td>...</td>\n",
       "      <td>...</td>\n",
       "      <td>...</td>\n",
       "    </tr>\n",
       "    <tr>\n",
       "      <th>1939582</th>\n",
       "      <td>zyado</td>\n",
       "      <td>zyado</td>\n",
       "      <td>1019592</td>\n",
       "      <td>11.368847</td>\n",
       "      <td>2017-03-21</td>\n",
       "    </tr>\n",
       "    <tr>\n",
       "      <th>1939583</th>\n",
       "      <td>zyado</td>\n",
       "      <td>zyado</td>\n",
       "      <td>1004152</td>\n",
       "      <td>13.325487</td>\n",
       "      <td>2017-04-29</td>\n",
       "    </tr>\n",
       "    <tr>\n",
       "      <th>1939584</th>\n",
       "      <td>zyado</td>\n",
       "      <td>zyado</td>\n",
       "      <td>39850720</td>\n",
       "      <td>5966.967603</td>\n",
       "      <td>2018-01-10</td>\n",
       "    </tr>\n",
       "    <tr>\n",
       "      <th>1939585</th>\n",
       "      <td>zyado</td>\n",
       "      <td>zyado</td>\n",
       "      <td>19251202</td>\n",
       "      <td>1730.115174</td>\n",
       "      <td>2018-04-27</td>\n",
       "    </tr>\n",
       "    <tr>\n",
       "      <th>1939586</th>\n",
       "      <td>zyado</td>\n",
       "      <td>zyado</td>\n",
       "      <td>9314002</td>\n",
       "      <td>740.610294</td>\n",
       "      <td>2018-07-26</td>\n",
       "    </tr>\n",
       "  </tbody>\n",
       "</table>\n",
       "<p>1939587 rows × 5 columns</p>\n",
       "</div>"
      ],
      "text/plain": [
       "        src_id dst_id  value_asset    value_USD        date\n",
       "0        1coin  1coin     36870000   243.755870  2014-03-03\n",
       "1        1coin  1coin    380120000  2378.899210  2014-03-10\n",
       "2        1coin  1coin    429150403  2738.687542  2014-03-13\n",
       "3        1coin  1coin    333900098  2092.574397  2014-03-14\n",
       "4        1coin  1coin    779334803  4938.373652  2014-03-15\n",
       "...        ...    ...          ...          ...         ...\n",
       "1939582  zyado  zyado      1019592    11.368847  2017-03-21\n",
       "1939583  zyado  zyado      1004152    13.325487  2017-04-29\n",
       "1939584  zyado  zyado     39850720  5966.967603  2018-01-10\n",
       "1939585  zyado  zyado     19251202  1730.115174  2018-04-27\n",
       "1939586  zyado  zyado      9314002   740.610294  2018-07-26\n",
       "\n",
       "[1939587 rows x 5 columns]"
      ]
     },
     "execution_count": 5,
     "metadata": {},
     "output_type": "execute_result"
    }
   ],
   "source": [
    "flows = pq.read_table(\"data/flows.parquet\")\n",
    "flows_df = flows.to_pandas()\n",
    "\n",
    "flows_df"
   ]
  },
  {
   "cell_type": "markdown",
   "metadata": {},
   "source": [
    "### Country Codes"
   ]
  },
  {
   "cell_type": "code",
   "execution_count": 6,
   "metadata": {},
   "outputs": [
    {
     "data": {
      "text/html": [
       "<div>\n",
       "<style scoped>\n",
       "    .dataframe tbody tr th:only-of-type {\n",
       "        vertical-align: middle;\n",
       "    }\n",
       "\n",
       "    .dataframe tbody tr th {\n",
       "        vertical-align: top;\n",
       "    }\n",
       "\n",
       "    .dataframe thead th {\n",
       "        text-align: right;\n",
       "    }\n",
       "</style>\n",
       "<table border=\"1\" class=\"dataframe\">\n",
       "  <thead>\n",
       "    <tr style=\"text-align: right;\">\n",
       "      <th></th>\n",
       "      <th>name</th>\n",
       "      <th>alpha-2</th>\n",
       "      <th>alpha-3</th>\n",
       "      <th>country-code</th>\n",
       "      <th>iso_3166-2</th>\n",
       "      <th>region</th>\n",
       "      <th>sub-region</th>\n",
       "      <th>intermediate-region</th>\n",
       "      <th>region-code</th>\n",
       "      <th>sub-region-code</th>\n",
       "      <th>intermediate-region-code</th>\n",
       "    </tr>\n",
       "  </thead>\n",
       "  <tbody>\n",
       "    <tr>\n",
       "      <th>0</th>\n",
       "      <td>Afghanistan</td>\n",
       "      <td>AF</td>\n",
       "      <td>AFG</td>\n",
       "      <td>4</td>\n",
       "      <td>ISO 3166-2:AF</td>\n",
       "      <td>Asia</td>\n",
       "      <td>Southern Asia</td>\n",
       "      <td>NaN</td>\n",
       "      <td>142.0</td>\n",
       "      <td>34.0</td>\n",
       "      <td>NaN</td>\n",
       "    </tr>\n",
       "    <tr>\n",
       "      <th>1</th>\n",
       "      <td>Åland Islands</td>\n",
       "      <td>AX</td>\n",
       "      <td>ALA</td>\n",
       "      <td>248</td>\n",
       "      <td>ISO 3166-2:AX</td>\n",
       "      <td>Europe</td>\n",
       "      <td>Northern Europe</td>\n",
       "      <td>NaN</td>\n",
       "      <td>150.0</td>\n",
       "      <td>154.0</td>\n",
       "      <td>NaN</td>\n",
       "    </tr>\n",
       "    <tr>\n",
       "      <th>2</th>\n",
       "      <td>Albania</td>\n",
       "      <td>AL</td>\n",
       "      <td>ALB</td>\n",
       "      <td>8</td>\n",
       "      <td>ISO 3166-2:AL</td>\n",
       "      <td>Europe</td>\n",
       "      <td>Southern Europe</td>\n",
       "      <td>NaN</td>\n",
       "      <td>150.0</td>\n",
       "      <td>39.0</td>\n",
       "      <td>NaN</td>\n",
       "    </tr>\n",
       "    <tr>\n",
       "      <th>3</th>\n",
       "      <td>Algeria</td>\n",
       "      <td>DZ</td>\n",
       "      <td>DZA</td>\n",
       "      <td>12</td>\n",
       "      <td>ISO 3166-2:DZ</td>\n",
       "      <td>Africa</td>\n",
       "      <td>Northern Africa</td>\n",
       "      <td>NaN</td>\n",
       "      <td>2.0</td>\n",
       "      <td>15.0</td>\n",
       "      <td>NaN</td>\n",
       "    </tr>\n",
       "    <tr>\n",
       "      <th>4</th>\n",
       "      <td>American Samoa</td>\n",
       "      <td>AS</td>\n",
       "      <td>ASM</td>\n",
       "      <td>16</td>\n",
       "      <td>ISO 3166-2:AS</td>\n",
       "      <td>Oceania</td>\n",
       "      <td>Polynesia</td>\n",
       "      <td>NaN</td>\n",
       "      <td>9.0</td>\n",
       "      <td>61.0</td>\n",
       "      <td>NaN</td>\n",
       "    </tr>\n",
       "  </tbody>\n",
       "</table>\n",
       "</div>"
      ],
      "text/plain": [
       "             name alpha-2 alpha-3  country-code     iso_3166-2   region  \\\n",
       "0     Afghanistan      AF     AFG             4  ISO 3166-2:AF     Asia   \n",
       "1   Åland Islands      AX     ALA           248  ISO 3166-2:AX   Europe   \n",
       "2         Albania      AL     ALB             8  ISO 3166-2:AL   Europe   \n",
       "3         Algeria      DZ     DZA            12  ISO 3166-2:DZ   Africa   \n",
       "4  American Samoa      AS     ASM            16  ISO 3166-2:AS  Oceania   \n",
       "\n",
       "        sub-region intermediate-region  region-code  sub-region-code  \\\n",
       "0    Southern Asia                 NaN        142.0             34.0   \n",
       "1  Northern Europe                 NaN        150.0            154.0   \n",
       "2  Southern Europe                 NaN        150.0             39.0   \n",
       "3  Northern Africa                 NaN          2.0             15.0   \n",
       "4        Polynesia                 NaN          9.0             61.0   \n",
       "\n",
       "   intermediate-region-code  \n",
       "0                       NaN  \n",
       "1                       NaN  \n",
       "2                       NaN  \n",
       "3                       NaN  \n",
       "4                       NaN  "
      ]
     },
     "metadata": {},
     "output_type": "display_data"
    }
   ],
   "source": [
    "# Load country codes (source: https://github.com/lukes/ISO-3166-Countries-with-Regional-Codes)\n",
    "country_codes = pd.read_csv('data/country_codes.csv')\n",
    "\n",
    "display(country_codes.head())"
   ]
  },
  {
   "cell_type": "markdown",
   "metadata": {},
   "source": [
    "### GDP (PPP) Data"
   ]
  },
  {
   "cell_type": "code",
   "execution_count": 7,
   "metadata": {},
   "outputs": [
    {
     "data": {
      "text/html": [
       "<div>\n",
       "<style scoped>\n",
       "    .dataframe tbody tr th:only-of-type {\n",
       "        vertical-align: middle;\n",
       "    }\n",
       "\n",
       "    .dataframe tbody tr th {\n",
       "        vertical-align: top;\n",
       "    }\n",
       "\n",
       "    .dataframe thead th {\n",
       "        text-align: right;\n",
       "    }\n",
       "</style>\n",
       "<table border=\"1\" class=\"dataframe\">\n",
       "  <thead>\n",
       "    <tr style=\"text-align: right;\">\n",
       "      <th></th>\n",
       "      <th>Country Name</th>\n",
       "      <th>Country Code</th>\n",
       "      <th>Indicator Name</th>\n",
       "      <th>Indicator Code</th>\n",
       "      <th>1960</th>\n",
       "      <th>1961</th>\n",
       "      <th>1962</th>\n",
       "      <th>1963</th>\n",
       "      <th>1964</th>\n",
       "      <th>1965</th>\n",
       "      <th>...</th>\n",
       "      <th>2014</th>\n",
       "      <th>2015</th>\n",
       "      <th>2016</th>\n",
       "      <th>2017</th>\n",
       "      <th>2018</th>\n",
       "      <th>2019</th>\n",
       "      <th>2020</th>\n",
       "      <th>2021</th>\n",
       "      <th>2022</th>\n",
       "      <th>Unnamed: 67</th>\n",
       "    </tr>\n",
       "  </thead>\n",
       "  <tbody>\n",
       "    <tr>\n",
       "      <th>0</th>\n",
       "      <td>Aruba</td>\n",
       "      <td>ABW</td>\n",
       "      <td>GDP per capita, PPP (current international $)</td>\n",
       "      <td>NY.GDP.PCAP.PP.CD</td>\n",
       "      <td>NaN</td>\n",
       "      <td>NaN</td>\n",
       "      <td>NaN</td>\n",
       "      <td>NaN</td>\n",
       "      <td>NaN</td>\n",
       "      <td>NaN</td>\n",
       "      <td>...</td>\n",
       "      <td>36846.848285</td>\n",
       "      <td>37343.912963</td>\n",
       "      <td>37583.840323</td>\n",
       "      <td>38865.188195</td>\n",
       "      <td>41679.238190</td>\n",
       "      <td>42501.641554</td>\n",
       "      <td>34971.009913</td>\n",
       "      <td>42698.359872</td>\n",
       "      <td>NaN</td>\n",
       "      <td>NaN</td>\n",
       "    </tr>\n",
       "    <tr>\n",
       "      <th>1</th>\n",
       "      <td>Africa Eastern and Southern</td>\n",
       "      <td>AFE</td>\n",
       "      <td>GDP per capita, PPP (current international $)</td>\n",
       "      <td>NY.GDP.PCAP.PP.CD</td>\n",
       "      <td>NaN</td>\n",
       "      <td>NaN</td>\n",
       "      <td>NaN</td>\n",
       "      <td>NaN</td>\n",
       "      <td>NaN</td>\n",
       "      <td>NaN</td>\n",
       "      <td>...</td>\n",
       "      <td>3470.550675</td>\n",
       "      <td>3498.125396</td>\n",
       "      <td>3591.099809</td>\n",
       "      <td>3635.564622</td>\n",
       "      <td>3724.868177</td>\n",
       "      <td>3777.972368</td>\n",
       "      <td>3621.058106</td>\n",
       "      <td>3839.470058</td>\n",
       "      <td>NaN</td>\n",
       "      <td>NaN</td>\n",
       "    </tr>\n",
       "    <tr>\n",
       "      <th>2</th>\n",
       "      <td>Afghanistan</td>\n",
       "      <td>AFG</td>\n",
       "      <td>GDP per capita, PPP (current international $)</td>\n",
       "      <td>NY.GDP.PCAP.PP.CD</td>\n",
       "      <td>NaN</td>\n",
       "      <td>NaN</td>\n",
       "      <td>NaN</td>\n",
       "      <td>NaN</td>\n",
       "      <td>NaN</td>\n",
       "      <td>NaN</td>\n",
       "      <td>...</td>\n",
       "      <td>2110.829568</td>\n",
       "      <td>2128.125938</td>\n",
       "      <td>2023.834656</td>\n",
       "      <td>2096.093111</td>\n",
       "      <td>2109.929296</td>\n",
       "      <td>2167.704111</td>\n",
       "      <td>2076.138380</td>\n",
       "      <td>1665.805842</td>\n",
       "      <td>NaN</td>\n",
       "      <td>NaN</td>\n",
       "    </tr>\n",
       "    <tr>\n",
       "      <th>3</th>\n",
       "      <td>Africa Western and Central</td>\n",
       "      <td>AFW</td>\n",
       "      <td>GDP per capita, PPP (current international $)</td>\n",
       "      <td>NY.GDP.PCAP.PP.CD</td>\n",
       "      <td>NaN</td>\n",
       "      <td>NaN</td>\n",
       "      <td>NaN</td>\n",
       "      <td>NaN</td>\n",
       "      <td>NaN</td>\n",
       "      <td>NaN</td>\n",
       "      <td>...</td>\n",
       "      <td>4143.177054</td>\n",
       "      <td>4075.994459</td>\n",
       "      <td>3998.951876</td>\n",
       "      <td>4045.303263</td>\n",
       "      <td>4160.540965</td>\n",
       "      <td>4264.731035</td>\n",
       "      <td>4174.504565</td>\n",
       "      <td>4409.450961</td>\n",
       "      <td>NaN</td>\n",
       "      <td>NaN</td>\n",
       "    </tr>\n",
       "    <tr>\n",
       "      <th>4</th>\n",
       "      <td>Angola</td>\n",
       "      <td>AGO</td>\n",
       "      <td>GDP per capita, PPP (current international $)</td>\n",
       "      <td>NY.GDP.PCAP.PP.CD</td>\n",
       "      <td>NaN</td>\n",
       "      <td>NaN</td>\n",
       "      <td>NaN</td>\n",
       "      <td>NaN</td>\n",
       "      <td>NaN</td>\n",
       "      <td>NaN</td>\n",
       "      <td>...</td>\n",
       "      <td>8123.048065</td>\n",
       "      <td>7274.090475</td>\n",
       "      <td>7027.146634</td>\n",
       "      <td>7216.061373</td>\n",
       "      <td>7042.923829</td>\n",
       "      <td>6881.076241</td>\n",
       "      <td>6362.636076</td>\n",
       "      <td>6491.125578</td>\n",
       "      <td>NaN</td>\n",
       "      <td>NaN</td>\n",
       "    </tr>\n",
       "  </tbody>\n",
       "</table>\n",
       "<p>5 rows × 68 columns</p>\n",
       "</div>"
      ],
      "text/plain": [
       "                  Country Name Country Code  \\\n",
       "0                        Aruba          ABW   \n",
       "1  Africa Eastern and Southern          AFE   \n",
       "2                  Afghanistan          AFG   \n",
       "3   Africa Western and Central          AFW   \n",
       "4                       Angola          AGO   \n",
       "\n",
       "                                  Indicator Name     Indicator Code  1960  \\\n",
       "0  GDP per capita, PPP (current international $)  NY.GDP.PCAP.PP.CD   NaN   \n",
       "1  GDP per capita, PPP (current international $)  NY.GDP.PCAP.PP.CD   NaN   \n",
       "2  GDP per capita, PPP (current international $)  NY.GDP.PCAP.PP.CD   NaN   \n",
       "3  GDP per capita, PPP (current international $)  NY.GDP.PCAP.PP.CD   NaN   \n",
       "4  GDP per capita, PPP (current international $)  NY.GDP.PCAP.PP.CD   NaN   \n",
       "\n",
       "   1961  1962  1963  1964  1965  ...          2014          2015  \\\n",
       "0   NaN   NaN   NaN   NaN   NaN  ...  36846.848285  37343.912963   \n",
       "1   NaN   NaN   NaN   NaN   NaN  ...   3470.550675   3498.125396   \n",
       "2   NaN   NaN   NaN   NaN   NaN  ...   2110.829568   2128.125938   \n",
       "3   NaN   NaN   NaN   NaN   NaN  ...   4143.177054   4075.994459   \n",
       "4   NaN   NaN   NaN   NaN   NaN  ...   8123.048065   7274.090475   \n",
       "\n",
       "           2016          2017          2018          2019          2020  \\\n",
       "0  37583.840323  38865.188195  41679.238190  42501.641554  34971.009913   \n",
       "1   3591.099809   3635.564622   3724.868177   3777.972368   3621.058106   \n",
       "2   2023.834656   2096.093111   2109.929296   2167.704111   2076.138380   \n",
       "3   3998.951876   4045.303263   4160.540965   4264.731035   4174.504565   \n",
       "4   7027.146634   7216.061373   7042.923829   6881.076241   6362.636076   \n",
       "\n",
       "           2021  2022  Unnamed: 67  \n",
       "0  42698.359872   NaN          NaN  \n",
       "1   3839.470058   NaN          NaN  \n",
       "2   1665.805842   NaN          NaN  \n",
       "3   4409.450961   NaN          NaN  \n",
       "4   6491.125578   NaN          NaN  \n",
       "\n",
       "[5 rows x 68 columns]"
      ]
     },
     "metadata": {},
     "output_type": "display_data"
    },
    {
     "data": {
      "text/html": [
       "<div>\n",
       "<style scoped>\n",
       "    .dataframe tbody tr th:only-of-type {\n",
       "        vertical-align: middle;\n",
       "    }\n",
       "\n",
       "    .dataframe tbody tr th {\n",
       "        vertical-align: top;\n",
       "    }\n",
       "\n",
       "    .dataframe thead th {\n",
       "        text-align: right;\n",
       "    }\n",
       "</style>\n",
       "<table border=\"1\" class=\"dataframe\">\n",
       "  <thead>\n",
       "    <tr style=\"text-align: right;\">\n",
       "      <th></th>\n",
       "      <th>Country Code</th>\n",
       "      <th>Region</th>\n",
       "      <th>IncomeGroup</th>\n",
       "      <th>SpecialNotes</th>\n",
       "      <th>TableName</th>\n",
       "      <th>Unnamed: 5</th>\n",
       "    </tr>\n",
       "  </thead>\n",
       "  <tbody>\n",
       "    <tr>\n",
       "      <th>0</th>\n",
       "      <td>ABW</td>\n",
       "      <td>Latin America &amp; Caribbean</td>\n",
       "      <td>High income</td>\n",
       "      <td>NaN</td>\n",
       "      <td>Aruba</td>\n",
       "      <td>NaN</td>\n",
       "    </tr>\n",
       "    <tr>\n",
       "      <th>1</th>\n",
       "      <td>AFE</td>\n",
       "      <td>NaN</td>\n",
       "      <td>NaN</td>\n",
       "      <td>26 countries, stretching from the Red Sea in t...</td>\n",
       "      <td>Africa Eastern and Southern</td>\n",
       "      <td>NaN</td>\n",
       "    </tr>\n",
       "    <tr>\n",
       "      <th>2</th>\n",
       "      <td>AFG</td>\n",
       "      <td>South Asia</td>\n",
       "      <td>Low income</td>\n",
       "      <td>The reporting period for national accounts dat...</td>\n",
       "      <td>Afghanistan</td>\n",
       "      <td>NaN</td>\n",
       "    </tr>\n",
       "    <tr>\n",
       "      <th>3</th>\n",
       "      <td>AFW</td>\n",
       "      <td>NaN</td>\n",
       "      <td>NaN</td>\n",
       "      <td>22 countries, stretching from the westernmost ...</td>\n",
       "      <td>Africa Western and Central</td>\n",
       "      <td>NaN</td>\n",
       "    </tr>\n",
       "    <tr>\n",
       "      <th>4</th>\n",
       "      <td>AGO</td>\n",
       "      <td>Sub-Saharan Africa</td>\n",
       "      <td>Lower middle income</td>\n",
       "      <td>The World Bank systematically assesses the app...</td>\n",
       "      <td>Angola</td>\n",
       "      <td>NaN</td>\n",
       "    </tr>\n",
       "  </tbody>\n",
       "</table>\n",
       "</div>"
      ],
      "text/plain": [
       "  Country Code                     Region          IncomeGroup  \\\n",
       "0          ABW  Latin America & Caribbean          High income   \n",
       "1          AFE                        NaN                  NaN   \n",
       "2          AFG                 South Asia           Low income   \n",
       "3          AFW                        NaN                  NaN   \n",
       "4          AGO         Sub-Saharan Africa  Lower middle income   \n",
       "\n",
       "                                        SpecialNotes  \\\n",
       "0                                                NaN   \n",
       "1  26 countries, stretching from the Red Sea in t...   \n",
       "2  The reporting period for national accounts dat...   \n",
       "3  22 countries, stretching from the westernmost ...   \n",
       "4  The World Bank systematically assesses the app...   \n",
       "\n",
       "                     TableName  Unnamed: 5  \n",
       "0                        Aruba         NaN  \n",
       "1  Africa Eastern and Southern         NaN  \n",
       "2                  Afghanistan         NaN  \n",
       "3   Africa Western and Central         NaN  \n",
       "4                       Angola         NaN  "
      ]
     },
     "metadata": {},
     "output_type": "display_data"
    }
   ],
   "source": [
    "# Load GDP data (PPP) (Source: https://data.worldbank.org/indicator/NY.GDP.PCAP.PP.CD)\n",
    "gdp = pd.read_csv('data/gdp.csv', skiprows=3)\n",
    "gdp_meta = pd.read_csv('data/gdp_meta.csv')\n",
    "\n",
    "display(gdp.head())\n",
    "display(gdp_meta.head())"
   ]
  },
  {
   "cell_type": "markdown",
   "metadata": {},
   "source": [
    "### Overall BTC Trading Volume"
   ]
  },
  {
   "cell_type": "code",
   "execution_count": 8,
   "metadata": {},
   "outputs": [
    {
     "data": {
      "text/html": [
       "<div>\n",
       "<style scoped>\n",
       "    .dataframe tbody tr th:only-of-type {\n",
       "        vertical-align: middle;\n",
       "    }\n",
       "\n",
       "    .dataframe tbody tr th {\n",
       "        vertical-align: top;\n",
       "    }\n",
       "\n",
       "    .dataframe thead th {\n",
       "        text-align: right;\n",
       "    }\n",
       "</style>\n",
       "<table border=\"1\" class=\"dataframe\">\n",
       "  <thead>\n",
       "    <tr style=\"text-align: right;\">\n",
       "      <th></th>\n",
       "      <th>Time</th>\n",
       "      <th>price</th>\n",
       "      <th>volume</th>\n",
       "      <th>year</th>\n",
       "    </tr>\n",
       "  </thead>\n",
       "  <tbody>\n",
       "    <tr>\n",
       "      <th>0</th>\n",
       "      <td>2010-07-01 00:00:00+00:00</td>\n",
       "      <td>0.064460</td>\n",
       "      <td>1.966753e+03</td>\n",
       "      <td>2010</td>\n",
       "    </tr>\n",
       "    <tr>\n",
       "      <th>1</th>\n",
       "      <td>2010-08-01 00:00:00+00:00</td>\n",
       "      <td>0.064572</td>\n",
       "      <td>1.428969e+04</td>\n",
       "      <td>2010</td>\n",
       "    </tr>\n",
       "    <tr>\n",
       "      <th>2</th>\n",
       "      <td>2010-09-01 00:00:00+00:00</td>\n",
       "      <td>0.061903</td>\n",
       "      <td>1.344608e+04</td>\n",
       "      <td>2010</td>\n",
       "    </tr>\n",
       "    <tr>\n",
       "      <th>3</th>\n",
       "      <td>2010-10-01 00:00:00+00:00</td>\n",
       "      <td>0.108899</td>\n",
       "      <td>1.173847e+05</td>\n",
       "      <td>2010</td>\n",
       "    </tr>\n",
       "    <tr>\n",
       "      <th>4</th>\n",
       "      <td>2010-11-01 00:00:00+00:00</td>\n",
       "      <td>0.258841</td>\n",
       "      <td>2.237274e+05</td>\n",
       "      <td>2010</td>\n",
       "    </tr>\n",
       "    <tr>\n",
       "      <th>...</th>\n",
       "      <td>...</td>\n",
       "      <td>...</td>\n",
       "      <td>...</td>\n",
       "      <td>...</td>\n",
       "    </tr>\n",
       "    <tr>\n",
       "      <th>150</th>\n",
       "      <td>2023-01-01 00:00:00+00:00</td>\n",
       "      <td>20415.513027</td>\n",
       "      <td>2.299786e+10</td>\n",
       "      <td>2023</td>\n",
       "    </tr>\n",
       "    <tr>\n",
       "      <th>151</th>\n",
       "      <td>2023-02-01 00:00:00+00:00</td>\n",
       "      <td>23743.338494</td>\n",
       "      <td>1.333384e+10</td>\n",
       "      <td>2023</td>\n",
       "    </tr>\n",
       "    <tr>\n",
       "      <th>152</th>\n",
       "      <td>2023-03-01 00:00:00+00:00</td>\n",
       "      <td>25618.094071</td>\n",
       "      <td>2.468627e+10</td>\n",
       "      <td>2023</td>\n",
       "    </tr>\n",
       "    <tr>\n",
       "      <th>153</th>\n",
       "      <td>2023-04-01 00:00:00+00:00</td>\n",
       "      <td>29181.453834</td>\n",
       "      <td>1.686690e+10</td>\n",
       "      <td>2023</td>\n",
       "    </tr>\n",
       "    <tr>\n",
       "      <th>154</th>\n",
       "      <td>2023-05-01 00:00:00+00:00</td>\n",
       "      <td>27586.248919</td>\n",
       "      <td>1.452529e+10</td>\n",
       "      <td>2023</td>\n",
       "    </tr>\n",
       "  </tbody>\n",
       "</table>\n",
       "<p>155 rows × 4 columns</p>\n",
       "</div>"
      ],
      "text/plain": [
       "                         Time         price        volume  year\n",
       "0   2010-07-01 00:00:00+00:00      0.064460  1.966753e+03  2010\n",
       "1   2010-08-01 00:00:00+00:00      0.064572  1.428969e+04  2010\n",
       "2   2010-09-01 00:00:00+00:00      0.061903  1.344608e+04  2010\n",
       "3   2010-10-01 00:00:00+00:00      0.108899  1.173847e+05  2010\n",
       "4   2010-11-01 00:00:00+00:00      0.258841  2.237274e+05  2010\n",
       "..                        ...           ...           ...   ...\n",
       "150 2023-01-01 00:00:00+00:00  20415.513027  2.299786e+10  2023\n",
       "151 2023-02-01 00:00:00+00:00  23743.338494  1.333384e+10  2023\n",
       "152 2023-03-01 00:00:00+00:00  25618.094071  2.468627e+10  2023\n",
       "153 2023-04-01 00:00:00+00:00  29181.453834  1.686690e+10  2023\n",
       "154 2023-05-01 00:00:00+00:00  27586.248919  1.452529e+10  2023\n",
       "\n",
       "[155 rows x 4 columns]"
      ]
     },
     "metadata": {},
     "output_type": "display_data"
    }
   ],
   "source": [
    "trading_volume = pd.read_csv('data/bitcoin_trading_volume.csv')\n",
    "trading_volume.Time = pd.to_datetime(trading_volume.Time)\n",
    "trading_volume['year'] = trading_volume.Time.dt.year\n",
    "\n",
    "display(trading_volume)"
   ]
  },
  {
   "cell_type": "markdown",
   "metadata": {},
   "source": [
    "### Population data"
   ]
  },
  {
   "cell_type": "code",
   "execution_count": 9,
   "metadata": {},
   "outputs": [
    {
     "data": {
      "text/html": [
       "<div>\n",
       "<style scoped>\n",
       "    .dataframe tbody tr th:only-of-type {\n",
       "        vertical-align: middle;\n",
       "    }\n",
       "\n",
       "    .dataframe tbody tr th {\n",
       "        vertical-align: top;\n",
       "    }\n",
       "\n",
       "    .dataframe thead th {\n",
       "        text-align: right;\n",
       "    }\n",
       "</style>\n",
       "<table border=\"1\" class=\"dataframe\">\n",
       "  <thead>\n",
       "    <tr style=\"text-align: right;\">\n",
       "      <th></th>\n",
       "      <th>Country Name</th>\n",
       "      <th>Country Code</th>\n",
       "      <th>Indicator Name</th>\n",
       "      <th>Indicator Code</th>\n",
       "      <th>1960</th>\n",
       "      <th>1961</th>\n",
       "      <th>1962</th>\n",
       "      <th>1963</th>\n",
       "      <th>1964</th>\n",
       "      <th>1965</th>\n",
       "      <th>...</th>\n",
       "      <th>2014</th>\n",
       "      <th>2015</th>\n",
       "      <th>2016</th>\n",
       "      <th>2017</th>\n",
       "      <th>2018</th>\n",
       "      <th>2019</th>\n",
       "      <th>2020</th>\n",
       "      <th>2021</th>\n",
       "      <th>2022</th>\n",
       "      <th>Unnamed: 67</th>\n",
       "    </tr>\n",
       "  </thead>\n",
       "  <tbody>\n",
       "    <tr>\n",
       "      <th>0</th>\n",
       "      <td>Aruba</td>\n",
       "      <td>ABW</td>\n",
       "      <td>Population, total</td>\n",
       "      <td>SP.POP.TOTL</td>\n",
       "      <td>54608.0</td>\n",
       "      <td>55811.0</td>\n",
       "      <td>56682.0</td>\n",
       "      <td>57475.0</td>\n",
       "      <td>58178.0</td>\n",
       "      <td>58782.0</td>\n",
       "      <td>...</td>\n",
       "      <td>103594.0</td>\n",
       "      <td>104257.0</td>\n",
       "      <td>104874.0</td>\n",
       "      <td>105439.0</td>\n",
       "      <td>105962.0</td>\n",
       "      <td>106442.0</td>\n",
       "      <td>106585.0</td>\n",
       "      <td>106537.0</td>\n",
       "      <td>NaN</td>\n",
       "      <td>NaN</td>\n",
       "    </tr>\n",
       "    <tr>\n",
       "      <th>1</th>\n",
       "      <td>Africa Eastern and Southern</td>\n",
       "      <td>AFE</td>\n",
       "      <td>Population, total</td>\n",
       "      <td>SP.POP.TOTL</td>\n",
       "      <td>130692579.0</td>\n",
       "      <td>134169237.0</td>\n",
       "      <td>137835590.0</td>\n",
       "      <td>141630546.0</td>\n",
       "      <td>145605995.0</td>\n",
       "      <td>149742351.0</td>\n",
       "      <td>...</td>\n",
       "      <td>583650827.0</td>\n",
       "      <td>600008150.0</td>\n",
       "      <td>616377331.0</td>\n",
       "      <td>632746296.0</td>\n",
       "      <td>649756874.0</td>\n",
       "      <td>667242712.0</td>\n",
       "      <td>685112705.0</td>\n",
       "      <td>702976832.0</td>\n",
       "      <td>NaN</td>\n",
       "      <td>NaN</td>\n",
       "    </tr>\n",
       "    <tr>\n",
       "      <th>2</th>\n",
       "      <td>Afghanistan</td>\n",
       "      <td>AFG</td>\n",
       "      <td>Population, total</td>\n",
       "      <td>SP.POP.TOTL</td>\n",
       "      <td>8622466.0</td>\n",
       "      <td>8790140.0</td>\n",
       "      <td>8969047.0</td>\n",
       "      <td>9157465.0</td>\n",
       "      <td>9355514.0</td>\n",
       "      <td>9565147.0</td>\n",
       "      <td>...</td>\n",
       "      <td>32716210.0</td>\n",
       "      <td>33753499.0</td>\n",
       "      <td>34636207.0</td>\n",
       "      <td>35643418.0</td>\n",
       "      <td>36686784.0</td>\n",
       "      <td>37769499.0</td>\n",
       "      <td>38972230.0</td>\n",
       "      <td>40099462.0</td>\n",
       "      <td>NaN</td>\n",
       "      <td>NaN</td>\n",
       "    </tr>\n",
       "    <tr>\n",
       "      <th>3</th>\n",
       "      <td>Africa Western and Central</td>\n",
       "      <td>AFW</td>\n",
       "      <td>Population, total</td>\n",
       "      <td>SP.POP.TOTL</td>\n",
       "      <td>97256290.0</td>\n",
       "      <td>99314028.0</td>\n",
       "      <td>101445032.0</td>\n",
       "      <td>103667517.0</td>\n",
       "      <td>105959979.0</td>\n",
       "      <td>108336203.0</td>\n",
       "      <td>...</td>\n",
       "      <td>397855507.0</td>\n",
       "      <td>408690375.0</td>\n",
       "      <td>419778384.0</td>\n",
       "      <td>431138704.0</td>\n",
       "      <td>442646825.0</td>\n",
       "      <td>454306063.0</td>\n",
       "      <td>466189102.0</td>\n",
       "      <td>478185907.0</td>\n",
       "      <td>NaN</td>\n",
       "      <td>NaN</td>\n",
       "    </tr>\n",
       "    <tr>\n",
       "      <th>4</th>\n",
       "      <td>Angola</td>\n",
       "      <td>AGO</td>\n",
       "      <td>Population, total</td>\n",
       "      <td>SP.POP.TOTL</td>\n",
       "      <td>5357195.0</td>\n",
       "      <td>5441333.0</td>\n",
       "      <td>5521400.0</td>\n",
       "      <td>5599827.0</td>\n",
       "      <td>5673199.0</td>\n",
       "      <td>5736582.0</td>\n",
       "      <td>...</td>\n",
       "      <td>27128337.0</td>\n",
       "      <td>28127721.0</td>\n",
       "      <td>29154746.0</td>\n",
       "      <td>30208628.0</td>\n",
       "      <td>31273533.0</td>\n",
       "      <td>32353588.0</td>\n",
       "      <td>33428486.0</td>\n",
       "      <td>34503774.0</td>\n",
       "      <td>NaN</td>\n",
       "      <td>NaN</td>\n",
       "    </tr>\n",
       "  </tbody>\n",
       "</table>\n",
       "<p>5 rows × 68 columns</p>\n",
       "</div>"
      ],
      "text/plain": [
       "                  Country Name Country Code     Indicator Name Indicator Code  \\\n",
       "0                        Aruba          ABW  Population, total    SP.POP.TOTL   \n",
       "1  Africa Eastern and Southern          AFE  Population, total    SP.POP.TOTL   \n",
       "2                  Afghanistan          AFG  Population, total    SP.POP.TOTL   \n",
       "3   Africa Western and Central          AFW  Population, total    SP.POP.TOTL   \n",
       "4                       Angola          AGO  Population, total    SP.POP.TOTL   \n",
       "\n",
       "          1960         1961         1962         1963         1964  \\\n",
       "0      54608.0      55811.0      56682.0      57475.0      58178.0   \n",
       "1  130692579.0  134169237.0  137835590.0  141630546.0  145605995.0   \n",
       "2    8622466.0    8790140.0    8969047.0    9157465.0    9355514.0   \n",
       "3   97256290.0   99314028.0  101445032.0  103667517.0  105959979.0   \n",
       "4    5357195.0    5441333.0    5521400.0    5599827.0    5673199.0   \n",
       "\n",
       "          1965  ...         2014         2015         2016         2017  \\\n",
       "0      58782.0  ...     103594.0     104257.0     104874.0     105439.0   \n",
       "1  149742351.0  ...  583650827.0  600008150.0  616377331.0  632746296.0   \n",
       "2    9565147.0  ...   32716210.0   33753499.0   34636207.0   35643418.0   \n",
       "3  108336203.0  ...  397855507.0  408690375.0  419778384.0  431138704.0   \n",
       "4    5736582.0  ...   27128337.0   28127721.0   29154746.0   30208628.0   \n",
       "\n",
       "          2018         2019         2020         2021  2022  Unnamed: 67  \n",
       "0     105962.0     106442.0     106585.0     106537.0   NaN          NaN  \n",
       "1  649756874.0  667242712.0  685112705.0  702976832.0   NaN          NaN  \n",
       "2   36686784.0   37769499.0   38972230.0   40099462.0   NaN          NaN  \n",
       "3  442646825.0  454306063.0  466189102.0  478185907.0   NaN          NaN  \n",
       "4   31273533.0   32353588.0   33428486.0   34503774.0   NaN          NaN  \n",
       "\n",
       "[5 rows x 68 columns]"
      ]
     },
     "metadata": {},
     "output_type": "display_data"
    }
   ],
   "source": [
    "# Load Population data (Source: https://data.worldbank.org/indicator/SP.POP.TOTL)\n",
    "population = pd.read_csv('data/population.csv', skiprows=3)\n",
    "\n",
    "display(population.head())"
   ]
  },
  {
   "cell_type": "markdown",
   "metadata": {},
   "source": [
    "### Tax Haven data"
   ]
  },
  {
   "cell_type": "code",
   "execution_count": 10,
   "metadata": {},
   "outputs": [
    {
     "name": "stdout",
     "output_type": "stream",
     "text": [
      "Shape 77\n"
     ]
    },
    {
     "data": {
      "text/html": [
       "<div>\n",
       "<style scoped>\n",
       "    .dataframe tbody tr th:only-of-type {\n",
       "        vertical-align: middle;\n",
       "    }\n",
       "\n",
       "    .dataframe tbody tr th {\n",
       "        vertical-align: top;\n",
       "    }\n",
       "\n",
       "    .dataframe thead th {\n",
       "        text-align: right;\n",
       "    }\n",
       "</style>\n",
       "<table border=\"1\" class=\"dataframe\">\n",
       "  <thead>\n",
       "    <tr style=\"text-align: right;\">\n",
       "      <th></th>\n",
       "      <th>Country</th>\n",
       "      <th>Haven Score</th>\n",
       "    </tr>\n",
       "  </thead>\n",
       "  <tbody>\n",
       "    <tr>\n",
       "      <th>0</th>\n",
       "      <td>Andorra</td>\n",
       "      <td>65.175</td>\n",
       "    </tr>\n",
       "    <tr>\n",
       "      <th>1</th>\n",
       "      <td>Anguilla</td>\n",
       "      <td>100.000</td>\n",
       "    </tr>\n",
       "    <tr>\n",
       "      <th>2</th>\n",
       "      <td>Aruba</td>\n",
       "      <td>67.245</td>\n",
       "    </tr>\n",
       "    <tr>\n",
       "      <th>3</th>\n",
       "      <td>Austria</td>\n",
       "      <td>53.645</td>\n",
       "    </tr>\n",
       "    <tr>\n",
       "      <th>4</th>\n",
       "      <td>Bahamas</td>\n",
       "      <td>100.000</td>\n",
       "    </tr>\n",
       "  </tbody>\n",
       "</table>\n",
       "</div>"
      ],
      "text/plain": [
       "    Country  Haven Score\n",
       "0   Andorra       65.175\n",
       "1  Anguilla      100.000\n",
       "2     Aruba       67.245\n",
       "3   Austria       53.645\n",
       "4   Bahamas      100.000"
      ]
     },
     "metadata": {},
     "output_type": "display_data"
    }
   ],
   "source": [
    "# Load tax haven data (Source: https://www.taxjustice.net)\n",
    "cthi_2021 = pd.read_csv('data/cthi_2021.csv', sep=';')[['Country', 'Haven Score']]\n",
    "cthi_2019 = pd.read_csv('data/cthi_2019.csv', sep=';')[['Country', 'Haven Score']]\n",
    "cthi_2019['Haven Score'] = cthi_2019['Haven Score'].str.replace(',', '.').astype('float')\n",
    "cthi_2021['Haven Score'] = cthi_2021['Haven Score'].str.replace(',', '.').astype('float')\n",
    "\n",
    "# If both datapoints are available for a country we average over the 2021 and 2019 score\n",
    "\n",
    "cthi = pd.merge(cthi_2019, cthi_2021, on='Country', how='outer')\n",
    "print(f'Shape {cthi.shape[0]}')\n",
    "cthi['Haven Score'] = cthi[['Haven Score_x', 'Haven Score_y']].mean(axis=1, skipna=True).fillna(0)\n",
    "cthi.drop(columns=['Haven Score_x', 'Haven Score_y'], inplace=True)\n",
    "\n",
    "display(cthi.head())"
   ]
  },
  {
   "cell_type": "markdown",
   "metadata": {},
   "source": [
    "### Corruption data"
   ]
  },
  {
   "cell_type": "code",
   "execution_count": 11,
   "metadata": {},
   "outputs": [
    {
     "data": {
      "text/html": [
       "<div>\n",
       "<style scoped>\n",
       "    .dataframe tbody tr th:only-of-type {\n",
       "        vertical-align: middle;\n",
       "    }\n",
       "\n",
       "    .dataframe tbody tr th {\n",
       "        vertical-align: top;\n",
       "    }\n",
       "\n",
       "    .dataframe thead th {\n",
       "        text-align: right;\n",
       "    }\n",
       "</style>\n",
       "<table border=\"1\" class=\"dataframe\">\n",
       "  <thead>\n",
       "    <tr style=\"text-align: right;\">\n",
       "      <th></th>\n",
       "      <th>Year</th>\n",
       "      <th>Country</th>\n",
       "      <th>CPI Score</th>\n",
       "      <th>Rank</th>\n",
       "      <th>Number of Sources</th>\n",
       "      <th>Minimum score</th>\n",
       "      <th>Maximum score</th>\n",
       "      <th>Standard Error</th>\n",
       "      <th>90% Confidence Interval (Higher bound)</th>\n",
       "      <th>90% Confidence Interval (Lower bound)</th>\n",
       "      <th>...</th>\n",
       "      <th>WJP</th>\n",
       "      <th>ISO3</th>\n",
       "      <th>Region</th>\n",
       "      <th>WB Code</th>\n",
       "      <th>OECD</th>\n",
       "      <th>G20</th>\n",
       "      <th>BRICS</th>\n",
       "      <th>EU</th>\n",
       "      <th>Arab states</th>\n",
       "      <th>IFS Code</th>\n",
       "    </tr>\n",
       "  </thead>\n",
       "  <tbody>\n",
       "    <tr>\n",
       "      <th>0</th>\n",
       "      <td>2010</td>\n",
       "      <td>Denmark</td>\n",
       "      <td>93.0</td>\n",
       "      <td>1</td>\n",
       "      <td>6</td>\n",
       "      <td>89.0</td>\n",
       "      <td>95.0</td>\n",
       "      <td>2.0</td>\n",
       "      <td>94.0</td>\n",
       "      <td>91.0</td>\n",
       "      <td>...</td>\n",
       "      <td>NaN</td>\n",
       "      <td>DNK</td>\n",
       "      <td>WE/EU</td>\n",
       "      <td>DNK</td>\n",
       "      <td>y</td>\n",
       "      <td>NaN</td>\n",
       "      <td>NaN</td>\n",
       "      <td>y</td>\n",
       "      <td>NaN</td>\n",
       "      <td>128.0</td>\n",
       "    </tr>\n",
       "    <tr>\n",
       "      <th>1</th>\n",
       "      <td>2010</td>\n",
       "      <td>New Zealand</td>\n",
       "      <td>93.0</td>\n",
       "      <td>1</td>\n",
       "      <td>6</td>\n",
       "      <td>89.0</td>\n",
       "      <td>95.0</td>\n",
       "      <td>2.0</td>\n",
       "      <td>95.0</td>\n",
       "      <td>92.0</td>\n",
       "      <td>...</td>\n",
       "      <td>NaN</td>\n",
       "      <td>NZL</td>\n",
       "      <td>AP</td>\n",
       "      <td>NZL</td>\n",
       "      <td>y</td>\n",
       "      <td>NaN</td>\n",
       "      <td>NaN</td>\n",
       "      <td>NaN</td>\n",
       "      <td>NaN</td>\n",
       "      <td>196.0</td>\n",
       "    </tr>\n",
       "    <tr>\n",
       "      <th>2</th>\n",
       "      <td>2010</td>\n",
       "      <td>Singapore</td>\n",
       "      <td>93.0</td>\n",
       "      <td>1</td>\n",
       "      <td>9</td>\n",
       "      <td>89.0</td>\n",
       "      <td>95.0</td>\n",
       "      <td>2.0</td>\n",
       "      <td>94.0</td>\n",
       "      <td>92.0</td>\n",
       "      <td>...</td>\n",
       "      <td>NaN</td>\n",
       "      <td>SGP</td>\n",
       "      <td>AP</td>\n",
       "      <td>SGP</td>\n",
       "      <td>NaN</td>\n",
       "      <td>NaN</td>\n",
       "      <td>NaN</td>\n",
       "      <td>NaN</td>\n",
       "      <td>NaN</td>\n",
       "      <td>576.0</td>\n",
       "    </tr>\n",
       "    <tr>\n",
       "      <th>3</th>\n",
       "      <td>2010</td>\n",
       "      <td>Finland</td>\n",
       "      <td>92.0</td>\n",
       "      <td>4</td>\n",
       "      <td>6</td>\n",
       "      <td>89.0</td>\n",
       "      <td>95.0</td>\n",
       "      <td>2.0</td>\n",
       "      <td>93.0</td>\n",
       "      <td>91.0</td>\n",
       "      <td>...</td>\n",
       "      <td>NaN</td>\n",
       "      <td>FIN</td>\n",
       "      <td>WE/EU</td>\n",
       "      <td>FIN</td>\n",
       "      <td>y</td>\n",
       "      <td>NaN</td>\n",
       "      <td>NaN</td>\n",
       "      <td>y</td>\n",
       "      <td>NaN</td>\n",
       "      <td>172.0</td>\n",
       "    </tr>\n",
       "    <tr>\n",
       "      <th>4</th>\n",
       "      <td>2010</td>\n",
       "      <td>Sweden</td>\n",
       "      <td>92.0</td>\n",
       "      <td>4</td>\n",
       "      <td>6</td>\n",
       "      <td>89.0</td>\n",
       "      <td>95.0</td>\n",
       "      <td>2.0</td>\n",
       "      <td>94.0</td>\n",
       "      <td>91.0</td>\n",
       "      <td>...</td>\n",
       "      <td>NaN</td>\n",
       "      <td>SWE</td>\n",
       "      <td>WE/EU</td>\n",
       "      <td>SWE</td>\n",
       "      <td>y</td>\n",
       "      <td>NaN</td>\n",
       "      <td>NaN</td>\n",
       "      <td>y</td>\n",
       "      <td>NaN</td>\n",
       "      <td>144.0</td>\n",
       "    </tr>\n",
       "  </tbody>\n",
       "</table>\n",
       "<p>5 rows × 34 columns</p>\n",
       "</div>"
      ],
      "text/plain": [
       "   Year      Country  CPI Score  Rank  Number of Sources  Minimum score  \\\n",
       "0  2010      Denmark       93.0     1                  6           89.0   \n",
       "1  2010  New Zealand       93.0     1                  6           89.0   \n",
       "2  2010    Singapore       93.0     1                  9           89.0   \n",
       "3  2010      Finland       92.0     4                  6           89.0   \n",
       "4  2010       Sweden       92.0     4                  6           89.0   \n",
       "\n",
       "   Maximum score  Standard Error  90% Confidence Interval (Higher bound)  \\\n",
       "0           95.0             2.0                                    94.0   \n",
       "1           95.0             2.0                                    95.0   \n",
       "2           95.0             2.0                                    94.0   \n",
       "3           95.0             2.0                                    93.0   \n",
       "4           95.0             2.0                                    94.0   \n",
       "\n",
       "   90% Confidence Interval (Lower bound)  ...  WJP  ISO3  Region  WB Code  \\\n",
       "0                                   91.0  ...  NaN   DNK   WE/EU      DNK   \n",
       "1                                   92.0  ...  NaN   NZL      AP      NZL   \n",
       "2                                   92.0  ...  NaN   SGP      AP      SGP   \n",
       "3                                   91.0  ...  NaN   FIN   WE/EU      FIN   \n",
       "4                                   91.0  ...  NaN   SWE   WE/EU      SWE   \n",
       "\n",
       "   OECD  G20  BRICS   EU  Arab states  IFS Code  \n",
       "0     y  NaN    NaN    y          NaN     128.0  \n",
       "1     y  NaN    NaN  NaN          NaN     196.0  \n",
       "2   NaN  NaN    NaN  NaN          NaN     576.0  \n",
       "3     y  NaN    NaN    y          NaN     172.0  \n",
       "4     y  NaN    NaN    y          NaN     144.0  \n",
       "\n",
       "[5 rows x 34 columns]"
      ]
     },
     "metadata": {},
     "output_type": "display_data"
    }
   ],
   "source": [
    "# Load Corruption Perception data (Source: https://www.transparency.org via https://www.kaggle.com/datasets/jeegarmaru/corruption-perceptions-index-for-10-years?select=merged_cpi_data.csv)\n",
    "cpi = pd.read_csv('data/cpi_data.csv')\n",
    "\n",
    "display(cpi.head())"
   ]
  },
  {
   "cell_type": "markdown",
   "metadata": {},
   "source": [
    "# Data exploration"
   ]
  },
  {
   "cell_type": "markdown",
   "metadata": {},
   "source": [
    "Inspect general information about the flow dataset"
   ]
  },
  {
   "cell_type": "code",
   "execution_count": 12,
   "metadata": {},
   "outputs": [
    {
     "name": "stdout",
     "output_type": "stream",
     "text": [
      "Number of rows in the flow dataset 1939587\n",
      "First flow: 2011-05-13, last flow: 2023-04-12\n",
      "Entity Count: 290\n"
     ]
    }
   ],
   "source": [
    "print(f'Number of rows in the flow dataset {flows_df.shape[0]}')\n",
    "print(f'First flow: {flows_df.date.min()}, last flow: {flows_df.date.max()}')\n",
    "\n",
    "common_values = flows_df.src_id.value_counts().index.union(flows_df.dst_id.value_counts().index)\n",
    "print(f\"Entity Count: {len(common_values)}\")\n",
    "\n",
    "\n",
    "\n",
    "# TODO RETHINK THIS\n",
    "'''\n",
    "filtered_flows_df = flows_df.loc[flows_df.src_id != flows_df.dst_id]\n",
    "\n",
    "print(f'Number of rows with different src/dst  the flow dataset {filtered_flows_df.shape[0]}')\n",
    "\n",
    "sum_before = int(flows_df[\"value_USD\"].sum() / MRD)\n",
    "sum_after = int(filtered_flows_df[\"value_USD\"].sum() / MRD)\n",
    "\n",
    "count_before = flows_df[\"value_USD\"].count()\n",
    "count_after = filtered_flows_df[\"value_USD\"].count()\n",
    "\n",
    "print(f'Filtering trimmed the dataset from {sum_before} MRD USD to {sum_after} MRD USD ({100*(sum_after/sum_before)}% left)')\n",
    "print(f'Filtering trimmed the dataset from {count_before} TX  to {count_after} TX  ({100*(count_after/count_before)}% left)')\n",
    "'''\n",
    "\n",
    "\n",
    "filtered_flows_df = flows_df"
   ]
  },
  {
   "cell_type": "code",
   "execution_count": 13,
   "metadata": {},
   "outputs": [
    {
     "name": "stdout",
     "output_type": "stream",
     "text": [
      "Category distribution\n"
     ]
    },
    {
     "data": {
      "image/png": "[encoded data removed]",
      "text/plain": [
       "<Figure size 500x500 with 1 Axes>"
      ]
     },
     "metadata": {},
     "output_type": "display_data"
    }
   ],
   "source": [
    "print('Category distribution')\n",
    "counts = actors_df.categories.value_counts()\n",
    "#print(counts)\n",
    "\n",
    "values = actors_df.categories.unique()\n",
    "actual_values = {}\n",
    "for value in values:\n",
    "    for v in value.split(\", \"):\n",
    "        if not v in actual_values:\n",
    "            actual_values[v] =0\n",
    "        actual_values[v] = actual_values[v]+counts[value]\n",
    "\n",
    "#print(actual_values)\n",
    "\n",
    "plt.figure(figsize=(5, 5)) \n",
    "plt.bar(actual_values.keys(), actual_values.values())\n",
    "plt.xlabel('Number of jurisdictions')\n",
    "plt.ylabel('Category')\n",
    "plt.title('Distribution of catagory tags')\n",
    "plt.tick_params(axis='x', rotation=60)\n",
    "plt.show()"
   ]
  },
  {
   "cell_type": "markdown",
   "metadata": {},
   "source": [
    "Lets see how the jurisdictions are \"distributed\""
   ]
  },
  {
   "cell_type": "code",
   "execution_count": 14,
   "metadata": {},
   "outputs": [
    {
     "data": {
      "image/png": "[encoded data removed]",
      "text/plain": [
       "<Figure size 500x500 with 1 Axes>"
      ]
     },
     "metadata": {},
     "output_type": "display_data"
    },
    {
     "data": {
      "text/plain": [
       "jurisdictions\n",
       "1     261\n",
       "2      13\n",
       "3       3\n",
       "16      1\n",
       "Name: count, dtype: int64"
      ]
     },
     "execution_count": 14,
     "metadata": {},
     "output_type": "execute_result"
    }
   ],
   "source": [
    "# Compute the comma count for each value in the \"jurisdictions\" column\n",
    "all_actors_in_flow_data = flows_df.src_id.value_counts().index.union(flows_df.dst_id.value_counts().index)\n",
    "filtered_actors = actors_df[actors_df.id.str.lower().isin(all_actors_in_flow_data)]\n",
    "comma_count_stats = filtered_actors['jurisdictions'].apply(lambda x: str(x).count(',')+1).value_counts().sort_index()\n",
    "\n",
    "plt.figure(figsize=(5, 5)) \n",
    "plt.bar(comma_count_stats.index, comma_count_stats.values)\n",
    "plt.xlabel('Number of jurisdictions')\n",
    "plt.ylabel('Number of Entities')\n",
    "plt.xticks(range(1, max(comma_count_stats.index) + 1), range(1, max(comma_count_stats.index) + 1))\n",
    "plt.title('Distribution of Jurisdiction tags')\n",
    "plt.show()\n",
    "\n",
    "comma_count_stats"
   ]
  },
  {
   "cell_type": "code",
   "execution_count": 15,
   "metadata": {},
   "outputs": [
    {
     "data": {
      "image/png": "[encoded data removed]",
      "text/plain": [
       "<Figure size 500x500 with 1 Axes>"
      ]
     },
     "metadata": {},
     "output_type": "display_data"
    }
   ],
   "source": [
    "# Check distribution of jurisdictions\n",
    "actors_jurisdictions = filtered_actors.assign(jurisdictions=filtered_actors.jurisdictions.str.split(','))\n",
    "actors_jurisdictions = actors_jurisdictions.explode('jurisdictions')\n",
    "jurisdiction_distribution = actors_jurisdictions.jurisdictions.value_counts().head(20)\n",
    "\n",
    "plt.figure(figsize=(5, 5)) \n",
    "plt.barh(jurisdiction_distribution.index[::-1], jurisdiction_distribution.values[::-1])\n",
    "plt.xlabel('Number of Entities')\n",
    "plt.ylabel('Country')\n",
    "#plt.xticks(range(1, 25), range(1, 25))\n",
    "plt.title('Top 20 Countries by Entities')\n",
    "plt.show()"
   ]
  },
  {
   "cell_type": "markdown",
   "metadata": {},
   "source": [
    "In which timeframe was the flow data collected?"
   ]
  },
  {
   "cell_type": "code",
   "execution_count": 16,
   "metadata": {},
   "outputs": [
    {
     "name": "stdout",
     "output_type": "stream",
     "text": [
      "Flow data recorded from 2011-05-13 to 2023-04-12\n"
     ]
    }
   ],
   "source": [
    "# Flow data from - to\n",
    "print(f'Flow data recorded from {flows_df.date.min()} to {flows_df.date.max()}')"
   ]
  },
  {
   "cell_type": "code",
   "execution_count": 17,
   "metadata": {},
   "outputs": [
    {
     "name": "stdout",
     "output_type": "stream",
     "text": [
      "Flows before merging actor data 1939587\n",
      "Flows after merging actor data 1904481\n"
     ]
    },
    {
     "data": {
      "text/html": [
       "<div>\n",
       "<style scoped>\n",
       "    .dataframe tbody tr th:only-of-type {\n",
       "        vertical-align: middle;\n",
       "    }\n",
       "\n",
       "    .dataframe tbody tr th {\n",
       "        vertical-align: top;\n",
       "    }\n",
       "\n",
       "    .dataframe thead th {\n",
       "        text-align: right;\n",
       "    }\n",
       "</style>\n",
       "<table border=\"1\" class=\"dataframe\">\n",
       "  <thead>\n",
       "    <tr style=\"text-align: right;\">\n",
       "      <th></th>\n",
       "      <th>src_id</th>\n",
       "      <th>dst_id</th>\n",
       "      <th>value_asset</th>\n",
       "      <th>value_USD</th>\n",
       "      <th>date</th>\n",
       "      <th>src_uri</th>\n",
       "      <th>src_label</th>\n",
       "      <th>src_jurisdictions</th>\n",
       "      <th>src_categories</th>\n",
       "      <th>dst_uri</th>\n",
       "      <th>dst_label</th>\n",
       "      <th>dst_jurisdictions</th>\n",
       "      <th>dst_categories</th>\n",
       "    </tr>\n",
       "  </thead>\n",
       "  <tbody>\n",
       "    <tr>\n",
       "      <th>0</th>\n",
       "      <td>1coin</td>\n",
       "      <td>1coin</td>\n",
       "      <td>36870000</td>\n",
       "      <td>243.755870</td>\n",
       "      <td>2014-03-03</td>\n",
       "      <td>1coin.io</td>\n",
       "      <td>1Coin</td>\n",
       "      <td>CA, US</td>\n",
       "      <td>exchange</td>\n",
       "      <td>1coin.io</td>\n",
       "      <td>1Coin</td>\n",
       "      <td>CA, US</td>\n",
       "      <td>exchange</td>\n",
       "    </tr>\n",
       "    <tr>\n",
       "      <th>1</th>\n",
       "      <td>1coin</td>\n",
       "      <td>1coin</td>\n",
       "      <td>380120000</td>\n",
       "      <td>2378.899210</td>\n",
       "      <td>2014-03-10</td>\n",
       "      <td>1coin.io</td>\n",
       "      <td>1Coin</td>\n",
       "      <td>CA, US</td>\n",
       "      <td>exchange</td>\n",
       "      <td>1coin.io</td>\n",
       "      <td>1Coin</td>\n",
       "      <td>CA, US</td>\n",
       "      <td>exchange</td>\n",
       "    </tr>\n",
       "    <tr>\n",
       "      <th>2</th>\n",
       "      <td>1coin</td>\n",
       "      <td>1coin</td>\n",
       "      <td>429150403</td>\n",
       "      <td>2738.687542</td>\n",
       "      <td>2014-03-13</td>\n",
       "      <td>1coin.io</td>\n",
       "      <td>1Coin</td>\n",
       "      <td>CA, US</td>\n",
       "      <td>exchange</td>\n",
       "      <td>1coin.io</td>\n",
       "      <td>1Coin</td>\n",
       "      <td>CA, US</td>\n",
       "      <td>exchange</td>\n",
       "    </tr>\n",
       "    <tr>\n",
       "      <th>3</th>\n",
       "      <td>1coin</td>\n",
       "      <td>1coin</td>\n",
       "      <td>333900098</td>\n",
       "      <td>2092.574397</td>\n",
       "      <td>2014-03-14</td>\n",
       "      <td>1coin.io</td>\n",
       "      <td>1Coin</td>\n",
       "      <td>CA, US</td>\n",
       "      <td>exchange</td>\n",
       "      <td>1coin.io</td>\n",
       "      <td>1Coin</td>\n",
       "      <td>CA, US</td>\n",
       "      <td>exchange</td>\n",
       "    </tr>\n",
       "    <tr>\n",
       "      <th>4</th>\n",
       "      <td>1coin</td>\n",
       "      <td>1coin</td>\n",
       "      <td>779334803</td>\n",
       "      <td>4938.373652</td>\n",
       "      <td>2014-03-15</td>\n",
       "      <td>1coin.io</td>\n",
       "      <td>1Coin</td>\n",
       "      <td>CA, US</td>\n",
       "      <td>exchange</td>\n",
       "      <td>1coin.io</td>\n",
       "      <td>1Coin</td>\n",
       "      <td>CA, US</td>\n",
       "      <td>exchange</td>\n",
       "    </tr>\n",
       "  </tbody>\n",
       "</table>\n",
       "</div>"
      ],
      "text/plain": [
       "  src_id dst_id  value_asset    value_USD        date   src_uri src_label  \\\n",
       "0  1coin  1coin     36870000   243.755870  2014-03-03  1coin.io     1Coin   \n",
       "1  1coin  1coin    380120000  2378.899210  2014-03-10  1coin.io     1Coin   \n",
       "2  1coin  1coin    429150403  2738.687542  2014-03-13  1coin.io     1Coin   \n",
       "3  1coin  1coin    333900098  2092.574397  2014-03-14  1coin.io     1Coin   \n",
       "4  1coin  1coin    779334803  4938.373652  2014-03-15  1coin.io     1Coin   \n",
       "\n",
       "  src_jurisdictions src_categories   dst_uri dst_label dst_jurisdictions  \\\n",
       "0            CA, US       exchange  1coin.io     1Coin            CA, US   \n",
       "1            CA, US       exchange  1coin.io     1Coin            CA, US   \n",
       "2            CA, US       exchange  1coin.io     1Coin            CA, US   \n",
       "3            CA, US       exchange  1coin.io     1Coin            CA, US   \n",
       "4            CA, US       exchange  1coin.io     1Coin            CA, US   \n",
       "\n",
       "  dst_categories  \n",
       "0       exchange  \n",
       "1       exchange  \n",
       "2       exchange  \n",
       "3       exchange  \n",
       "4       exchange  "
      ]
     },
     "metadata": {},
     "output_type": "display_data"
    }
   ],
   "source": [
    "print(f'Flows before merging actor data {flows_df.shape[0]}')\n",
    "merged_df = pd.merge(filtered_flows_df, actors_df.add_prefix('src_'), on='src_id', how='inner')\n",
    "merged_df = pd.merge(merged_df, actors_df.add_prefix('dst_'), on='dst_id', how='inner')\n",
    "print(f'Flows after merging actor data {merged_df.shape[0]}')\n",
    "display(merged_df.head())"
   ]
  },
  {
   "cell_type": "code",
   "execution_count": 18,
   "metadata": {},
   "outputs": [],
   "source": [
    "# merge in btc course data\n",
    "merged_df = pd.merge(merged_df,btc_price_data,on=\"date\",how='inner')"
   ]
  },
  {
   "cell_type": "code",
   "execution_count": 19,
   "metadata": {},
   "outputs": [],
   "source": [
    "# Types\n",
    "merged_df['date'] = pd.to_datetime(merged_df['date'])"
   ]
  },
  {
   "cell_type": "markdown",
   "metadata": {},
   "source": [
    "lets see how much of the traffic is from or to binance"
   ]
  },
  {
   "cell_type": "code",
   "execution_count": 20,
   "metadata": {},
   "outputs": [
    {
     "data": {
      "text/html": [
       "<div>\n",
       "<style scoped>\n",
       "    .dataframe tbody tr th:only-of-type {\n",
       "        vertical-align: middle;\n",
       "    }\n",
       "\n",
       "    .dataframe tbody tr th {\n",
       "        vertical-align: top;\n",
       "    }\n",
       "\n",
       "    .dataframe thead th {\n",
       "        text-align: right;\n",
       "    }\n",
       "</style>\n",
       "<table border=\"1\" class=\"dataframe\">\n",
       "  <thead>\n",
       "    <tr style=\"text-align: right;\">\n",
       "      <th></th>\n",
       "      <th>value_usd_with</th>\n",
       "      <th>value_usd_without</th>\n",
       "      <th>binance portion</th>\n",
       "    </tr>\n",
       "    <tr>\n",
       "      <th>year</th>\n",
       "      <th></th>\n",
       "      <th></th>\n",
       "      <th></th>\n",
       "    </tr>\n",
       "  </thead>\n",
       "  <tbody>\n",
       "    <tr>\n",
       "      <th>2011</th>\n",
       "      <td>1.345420e+04</td>\n",
       "      <td>1.345420e+04</td>\n",
       "      <td>0.000000</td>\n",
       "    </tr>\n",
       "    <tr>\n",
       "      <th>2012</th>\n",
       "      <td>3.172178e+05</td>\n",
       "      <td>3.172178e+05</td>\n",
       "      <td>0.000000</td>\n",
       "    </tr>\n",
       "    <tr>\n",
       "      <th>2013</th>\n",
       "      <td>4.137246e+07</td>\n",
       "      <td>4.137246e+07</td>\n",
       "      <td>0.000000</td>\n",
       "    </tr>\n",
       "    <tr>\n",
       "      <th>2014</th>\n",
       "      <td>3.008547e+08</td>\n",
       "      <td>3.008547e+08</td>\n",
       "      <td>0.000000</td>\n",
       "    </tr>\n",
       "    <tr>\n",
       "      <th>2015</th>\n",
       "      <td>8.015531e+08</td>\n",
       "      <td>8.015531e+08</td>\n",
       "      <td>0.000000</td>\n",
       "    </tr>\n",
       "    <tr>\n",
       "      <th>2016</th>\n",
       "      <td>1.853461e+09</td>\n",
       "      <td>1.853461e+09</td>\n",
       "      <td>0.000000</td>\n",
       "    </tr>\n",
       "    <tr>\n",
       "      <th>2017</th>\n",
       "      <td>1.606032e+10</td>\n",
       "      <td>1.447801e+10</td>\n",
       "      <td>9.852298</td>\n",
       "    </tr>\n",
       "    <tr>\n",
       "      <th>2018</th>\n",
       "      <td>2.139878e+10</td>\n",
       "      <td>1.502060e+10</td>\n",
       "      <td>29.806291</td>\n",
       "    </tr>\n",
       "    <tr>\n",
       "      <th>2019</th>\n",
       "      <td>2.866707e+10</td>\n",
       "      <td>2.417080e+10</td>\n",
       "      <td>15.684417</td>\n",
       "    </tr>\n",
       "    <tr>\n",
       "      <th>2020</th>\n",
       "      <td>4.159369e+10</td>\n",
       "      <td>2.928045e+10</td>\n",
       "      <td>29.603633</td>\n",
       "    </tr>\n",
       "    <tr>\n",
       "      <th>2021</th>\n",
       "      <td>2.804199e+11</td>\n",
       "      <td>2.379458e+11</td>\n",
       "      <td>15.146611</td>\n",
       "    </tr>\n",
       "    <tr>\n",
       "      <th>2022</th>\n",
       "      <td>9.719403e+10</td>\n",
       "      <td>7.925441e+10</td>\n",
       "      <td>18.457538</td>\n",
       "    </tr>\n",
       "    <tr>\n",
       "      <th>2023</th>\n",
       "      <td>7.719186e+09</td>\n",
       "      <td>3.588323e+09</td>\n",
       "      <td>53.514233</td>\n",
       "    </tr>\n",
       "  </tbody>\n",
       "</table>\n",
       "</div>"
      ],
      "text/plain": [
       "      value_usd_with  value_usd_without  binance portion\n",
       "year                                                    \n",
       "2011    1.345420e+04       1.345420e+04         0.000000\n",
       "2012    3.172178e+05       3.172178e+05         0.000000\n",
       "2013    4.137246e+07       4.137246e+07         0.000000\n",
       "2014    3.008547e+08       3.008547e+08         0.000000\n",
       "2015    8.015531e+08       8.015531e+08         0.000000\n",
       "2016    1.853461e+09       1.853461e+09         0.000000\n",
       "2017    1.606032e+10       1.447801e+10         9.852298\n",
       "2018    2.139878e+10       1.502060e+10        29.806291\n",
       "2019    2.866707e+10       2.417080e+10        15.684417\n",
       "2020    4.159369e+10       2.928045e+10        29.603633\n",
       "2021    2.804199e+11       2.379458e+11        15.146611\n",
       "2022    9.719403e+10       7.925441e+10        18.457538\n",
       "2023    7.719186e+09       3.588323e+09        53.514233"
      ]
     },
     "metadata": {},
     "output_type": "display_data"
    },
    {
     "data": {
      "image/png": "[encoded data removed]",
      "text/plain": [
       "<Figure size 640x480 with 1 Axes>"
      ]
     },
     "metadata": {},
     "output_type": "display_data"
    }
   ],
   "source": [
    "# calc overall traffic per year\n",
    "yearly = merged_df.groupby([\"year\"])[\"value_USD\"].sum().reset_index()\n",
    "yearly.rename(columns={\"value_USD\":\"value_usd_with\"},inplace=True)\n",
    "\n",
    "yearly_without_binance = merged_df[merged_df[\"src_label\"].str.contains(\"inance\") == False]\n",
    "yearly_without_binance = yearly_without_binance[yearly_without_binance[\"dst_label\"].str.contains(\"inance\") == False]\n",
    "\n",
    "yearly[\"value_usd_without\"] = yearly_without_binance.groupby([\"year\"])[\"value_USD\"].sum().reset_index()[\"value_USD\"]\n",
    "yearly[\"binance portion\"] = (1-(yearly[\"value_usd_without\"]/yearly[\"value_usd_with\"]))*100\n",
    "\n",
    "yearly.set_index('year',inplace=True)\n",
    "display(yearly)\n",
    "\n",
    "\n",
    "\n",
    "# Create a figure and axes\n",
    "fig, ax = plt.subplots()\n",
    "\n",
    "# Plot the data\n",
    "ax.plot(yearly.index, yearly['binance portion'], color='blue',marker=\"x\",linestyle=\"dashdot\",label=\"BTC FLOW\")\n",
    "\n",
    "# Set labels and title\n",
    "ax.set_xlabel('Year')\n",
    "ax.set_ylabel('Portion of Binance Traffic [%]')\n",
    "ax.set_title('Portion of Binance Traffic over the years')\n",
    "\n",
    "# Display the plot\n",
    "plt.show()\n"
   ]
  },
  {
   "cell_type": "code",
   "execution_count": 155,
   "metadata": {},
   "outputs": [
    {
     "data": {
      "text/plain": [
       "'\\nyearly_flow = yearly.copy()\\nvolume_year = trading_volume.groupby([\"year\"])[\\'volume\\'].sum().reset_index()\\nmerged_volume = pd.merge(yearly_flow, volume_year, on=\\'year\\', how=\\'inner\\').reset_index()\\n\\ndisplay(merged_volume)\\n\\nfig, ax = plt.subplots()\\nbottom = np.zeros(3)\\nwidth=0.8\\n\\nfor yearly_volume in merged_volume.iterrows():\\n    year = yearly_volume[1].year\\n    value_flow = yearly_volume[1].value_usd_with\\n    relative_value_flow = value_flow / volume\\n    volume = yearly_volume[1].volume\\n    ax.bar(year, relative_value_flow, width, label=year, bottom=0, color=\\'blue\\')\\n    ax.bar(year, 1 - relative_value_flow, width, label=year, bottom=relative_value_flow, color=\\'gray\\')\\n\\nax.set_title(\"Share of overall trading volume captured\")\\n\\nplt.show()\\n'"
      ]
     },
     "execution_count": 155,
     "metadata": {},
     "output_type": "execute_result"
    }
   ],
   "source": [
    "# Compare value per year with overall BTC trading volume\n",
    "# TODO FIX THIS\n",
    "# NameError: name 'volume' is not defined\n",
    "'''\n",
    "yearly_flow = yearly.copy()\n",
    "volume_year = trading_volume.groupby([\"year\"])['volume'].sum().reset_index()\n",
    "merged_volume = pd.merge(yearly_flow, volume_year, on='year', how='inner').reset_index()\n",
    "\n",
    "display(merged_volume)\n",
    "\n",
    "fig, ax = plt.subplots()\n",
    "bottom = np.zeros(3)\n",
    "width=0.8\n",
    "\n",
    "for yearly_volume in merged_volume.iterrows():\n",
    "    year = yearly_volume[1].year\n",
    "    value_flow = yearly_volume[1].value_usd_with\n",
    "    relative_value_flow = value_flow / volume\n",
    "    volume = yearly_volume[1].volume\n",
    "    ax.bar(year, relative_value_flow, width, label=year, bottom=0, color='blue')\n",
    "    ax.bar(year, 1 - relative_value_flow, width, label=year, bottom=relative_value_flow, color='gray')\n",
    "\n",
    "ax.set_title(\"Share of overall trading volume captured\")\n",
    "\n",
    "plt.show()\n",
    "'''"
   ]
  },
  {
   "cell_type": "code",
   "execution_count": 23,
   "metadata": {},
   "outputs": [
    {
     "name": "stdout",
     "output_type": "stream",
     "text": [
      "small sanity check here \n",
      "merged sum 496.0505513644367\n",
      "expanded sum 101.09756828896663\n",
      "dst sum 101.09756828896658\n",
      "src sum 101.09756828896658\n"
     ]
    },
    {
     "data": {
      "text/html": [
       "<div>\n",
       "<style scoped>\n",
       "    .dataframe tbody tr th:only-of-type {\n",
       "        vertical-align: middle;\n",
       "    }\n",
       "\n",
       "    .dataframe tbody tr th {\n",
       "        vertical-align: top;\n",
       "    }\n",
       "\n",
       "    .dataframe thead th {\n",
       "        text-align: right;\n",
       "    }\n",
       "</style>\n",
       "<table border=\"1\" class=\"dataframe\">\n",
       "  <thead>\n",
       "    <tr style=\"text-align: right;\">\n",
       "      <th></th>\n",
       "      <th>year</th>\n",
       "      <th>jurisdictions</th>\n",
       "      <th>value_USD</th>\n",
       "      <th>value_asset</th>\n",
       "      <th>value_BTC</th>\n",
       "      <th>src_label</th>\n",
       "      <th>dst_label</th>\n",
       "    </tr>\n",
       "  </thead>\n",
       "  <tbody>\n",
       "    <tr>\n",
       "      <th>0</th>\n",
       "      <td>2011</td>\n",
       "      <td>AT</td>\n",
       "      <td>3.304020e+02</td>\n",
       "      <td>1.049084e+10</td>\n",
       "      <td>96.264235</td>\n",
       "      <td>Btc-EBtc-EBtc-E</td>\n",
       "      <td>VirwoxVirwoxVirwox</td>\n",
       "    </tr>\n",
       "    <tr>\n",
       "      <th>1</th>\n",
       "      <td>2011</td>\n",
       "      <td>AU</td>\n",
       "      <td>1.065674e+03</td>\n",
       "      <td>3.370600e+10</td>\n",
       "      <td>337.981765</td>\n",
       "      <td>bitcoin.deVircurexVircurexVircurexVircurexCavi...</td>\n",
       "      <td>Btc-EBtc-EBtc-EBtc-EBtc-EBtc-EBtc-EBtc-EBtc-E</td>\n",
       "    </tr>\n",
       "    <tr>\n",
       "      <th>2</th>\n",
       "      <td>2011</td>\n",
       "      <td>BZ</td>\n",
       "      <td>1.498380e+01</td>\n",
       "      <td>3.796239e+08</td>\n",
       "      <td>3.275647</td>\n",
       "      <td>Btc-EVircurexVircurex</td>\n",
       "      <td>VircurexVircurexVircurex</td>\n",
       "    </tr>\n",
       "    <tr>\n",
       "      <th>3</th>\n",
       "      <td>2011</td>\n",
       "      <td>CA</td>\n",
       "      <td>4.165230e+02</td>\n",
       "      <td>1.049526e+10</td>\n",
       "      <td>94.021394</td>\n",
       "      <td>Btc-EBtc-EBtc-EBtc-E</td>\n",
       "      <td>CavirtexCavirtexCavirtexCavirtex</td>\n",
       "    </tr>\n",
       "    <tr>\n",
       "      <th>4</th>\n",
       "      <td>2011</td>\n",
       "      <td>CN</td>\n",
       "      <td>1.498380e+01</td>\n",
       "      <td>3.796239e+08</td>\n",
       "      <td>3.275647</td>\n",
       "      <td>Btc-EVircurexVircurex</td>\n",
       "      <td>VircurexVircurexVircurex</td>\n",
       "    </tr>\n",
       "    <tr>\n",
       "      <th>...</th>\n",
       "      <td>...</td>\n",
       "      <td>...</td>\n",
       "      <td>...</td>\n",
       "      <td>...</td>\n",
       "      <td>...</td>\n",
       "      <td>...</td>\n",
       "      <td>...</td>\n",
       "    </tr>\n",
       "    <tr>\n",
       "      <th>528</th>\n",
       "      <td>2023</td>\n",
       "      <td>TW</td>\n",
       "      <td>9.015657e+05</td>\n",
       "      <td>3.509036e+09</td>\n",
       "      <td>37.076293</td>\n",
       "      <td>Binance (US, DEX)Binance (US, DEX)Binance (US,...</td>\n",
       "      <td>Max MaicoinMax MaicoinMax MaicoinMax MaicoinMa...</td>\n",
       "    </tr>\n",
       "    <tr>\n",
       "      <th>529</th>\n",
       "      <td>2023</td>\n",
       "      <td>US</td>\n",
       "      <td>5.620639e+08</td>\n",
       "      <td>2.423262e+12</td>\n",
       "      <td>25323.154648</td>\n",
       "      <td>Binance (US, DEX)Binance (US, DEX)Binance (US,...</td>\n",
       "      <td>Binance (US, DEX)Binance (US, DEX)Binance (US,...</td>\n",
       "    </tr>\n",
       "    <tr>\n",
       "      <th>530</th>\n",
       "      <td>2023</td>\n",
       "      <td>VG</td>\n",
       "      <td>1.220807e+06</td>\n",
       "      <td>4.633253e+09</td>\n",
       "      <td>48.120400</td>\n",
       "      <td>Binance (US, DEX)Binance (US, DEX)Binance (US,...</td>\n",
       "      <td>LBankLBankLBankLBankLBankLBankLBankLBankLBankL...</td>\n",
       "    </tr>\n",
       "    <tr>\n",
       "      <th>531</th>\n",
       "      <td>2023</td>\n",
       "      <td>VN</td>\n",
       "      <td>1.785469e+03</td>\n",
       "      <td>7.432757e+06</td>\n",
       "      <td>0.079321</td>\n",
       "      <td>Binance (US, DEX)Binance (US, DEX)Binance (US,...</td>\n",
       "      <td>VindaxVindaxVindaxVindaxVindaxVindaxVindaxVind...</td>\n",
       "    </tr>\n",
       "    <tr>\n",
       "      <th>532</th>\n",
       "      <td>2023</td>\n",
       "      <td>ZA</td>\n",
       "      <td>2.208960e+08</td>\n",
       "      <td>9.478141e+11</td>\n",
       "      <td>9909.197016</td>\n",
       "      <td>Binance (US, DEX)Binance (US, DEX)Binance (US,...</td>\n",
       "      <td>Binance (US, DEX)Binance (US, DEX)Binance (US,...</td>\n",
       "    </tr>\n",
       "  </tbody>\n",
       "</table>\n",
       "<p>533 rows × 7 columns</p>\n",
       "</div>"
      ],
      "text/plain": [
       "     year jurisdictions     value_USD   value_asset     value_BTC  \\\n",
       "0    2011            AT  3.304020e+02  1.049084e+10     96.264235   \n",
       "1    2011            AU  1.065674e+03  3.370600e+10    337.981765   \n",
       "2    2011            BZ  1.498380e+01  3.796239e+08      3.275647   \n",
       "3    2011            CA  4.165230e+02  1.049526e+10     94.021394   \n",
       "4    2011            CN  1.498380e+01  3.796239e+08      3.275647   \n",
       "..    ...           ...           ...           ...           ...   \n",
       "528  2023            TW  9.015657e+05  3.509036e+09     37.076293   \n",
       "529  2023            US  5.620639e+08  2.423262e+12  25323.154648   \n",
       "530  2023            VG  1.220807e+06  4.633253e+09     48.120400   \n",
       "531  2023            VN  1.785469e+03  7.432757e+06      0.079321   \n",
       "532  2023            ZA  2.208960e+08  9.478141e+11   9909.197016   \n",
       "\n",
       "                                             src_label  \\\n",
       "0                                      Btc-EBtc-EBtc-E   \n",
       "1    bitcoin.deVircurexVircurexVircurexVircurexCavi...   \n",
       "2                                Btc-EVircurexVircurex   \n",
       "3                                 Btc-EBtc-EBtc-EBtc-E   \n",
       "4                                Btc-EVircurexVircurex   \n",
       "..                                                 ...   \n",
       "528  Binance (US, DEX)Binance (US, DEX)Binance (US,...   \n",
       "529  Binance (US, DEX)Binance (US, DEX)Binance (US,...   \n",
       "530  Binance (US, DEX)Binance (US, DEX)Binance (US,...   \n",
       "531  Binance (US, DEX)Binance (US, DEX)Binance (US,...   \n",
       "532  Binance (US, DEX)Binance (US, DEX)Binance (US,...   \n",
       "\n",
       "                                             dst_label  \n",
       "0                                   VirwoxVirwoxVirwox  \n",
       "1        Btc-EBtc-EBtc-EBtc-EBtc-EBtc-EBtc-EBtc-EBtc-E  \n",
       "2                             VircurexVircurexVircurex  \n",
       "3                     CavirtexCavirtexCavirtexCavirtex  \n",
       "4                             VircurexVircurexVircurex  \n",
       "..                                                 ...  \n",
       "528  Max MaicoinMax MaicoinMax MaicoinMax MaicoinMa...  \n",
       "529  Binance (US, DEX)Binance (US, DEX)Binance (US,...  \n",
       "530  LBankLBankLBankLBankLBankLBankLBankLBankLBankL...  \n",
       "531  VindaxVindaxVindaxVindaxVindaxVindaxVindaxVind...  \n",
       "532  Binance (US, DEX)Binance (US, DEX)Binance (US,...  \n",
       "\n",
       "[533 rows x 7 columns]"
      ]
     },
     "metadata": {},
     "output_type": "display_data"
    },
    {
     "data": {
      "text/html": [
       "<div>\n",
       "<style scoped>\n",
       "    .dataframe tbody tr th:only-of-type {\n",
       "        vertical-align: middle;\n",
       "    }\n",
       "\n",
       "    .dataframe tbody tr th {\n",
       "        vertical-align: top;\n",
       "    }\n",
       "\n",
       "    .dataframe thead th {\n",
       "        text-align: right;\n",
       "    }\n",
       "</style>\n",
       "<table border=\"1\" class=\"dataframe\">\n",
       "  <thead>\n",
       "    <tr style=\"text-align: right;\">\n",
       "      <th></th>\n",
       "      <th>year</th>\n",
       "      <th>jurisdictions</th>\n",
       "      <th>value_USD</th>\n",
       "      <th>value_asset</th>\n",
       "      <th>value_BTC</th>\n",
       "      <th>src_label</th>\n",
       "      <th>dst_label</th>\n",
       "    </tr>\n",
       "  </thead>\n",
       "  <tbody>\n",
       "    <tr>\n",
       "      <th>0</th>\n",
       "      <td>2011</td>\n",
       "      <td>AT</td>\n",
       "      <td>2.778538e+03</td>\n",
       "      <td>7.049400e+10</td>\n",
       "      <td>609.227868</td>\n",
       "      <td>VirwoxVirwox</td>\n",
       "      <td>BtccTheRockTrading</td>\n",
       "    </tr>\n",
       "    <tr>\n",
       "      <th>1</th>\n",
       "      <td>2011</td>\n",
       "      <td>AU</td>\n",
       "      <td>8.976231e+02</td>\n",
       "      <td>2.575297e+10</td>\n",
       "      <td>230.117138</td>\n",
       "      <td>Btc-EBtc-EBtc-EBtc-EBtc-EBtc-EBtc-EBtc-EBtc-EB...</td>\n",
       "      <td>CavirtexCavirtexBtccVircurexVircurexVirwoxBitc...</td>\n",
       "    </tr>\n",
       "    <tr>\n",
       "      <th>2</th>\n",
       "      <td>2011</td>\n",
       "      <td>BZ</td>\n",
       "      <td>7.378865e+01</td>\n",
       "      <td>1.777978e+09</td>\n",
       "      <td>15.476436</td>\n",
       "      <td>VircurexVircurexVircurexVircurex</td>\n",
       "      <td>Btc-EVircurexBtc-EVircurex</td>\n",
       "    </tr>\n",
       "    <tr>\n",
       "      <th>3</th>\n",
       "      <td>2011</td>\n",
       "      <td>CA</td>\n",
       "      <td>5.101930e+01</td>\n",
       "      <td>1.701000e+09</td>\n",
       "      <td>14.056460</td>\n",
       "      <td>CavirtexCavirtexCavirtexCavirtexCavirtex</td>\n",
       "      <td>BitcoinicaBtc-EBtc-EBitcoinicaBitcoinica</td>\n",
       "    </tr>\n",
       "    <tr>\n",
       "      <th>4</th>\n",
       "      <td>2011</td>\n",
       "      <td>CN</td>\n",
       "      <td>7.378865e+01</td>\n",
       "      <td>1.777978e+09</td>\n",
       "      <td>15.476436</td>\n",
       "      <td>VircurexVircurexVircurexVircurex</td>\n",
       "      <td>Btc-EVircurexBtc-EVircurex</td>\n",
       "    </tr>\n",
       "    <tr>\n",
       "      <th>...</th>\n",
       "      <td>...</td>\n",
       "      <td>...</td>\n",
       "      <td>...</td>\n",
       "      <td>...</td>\n",
       "      <td>...</td>\n",
       "      <td>...</td>\n",
       "      <td>...</td>\n",
       "    </tr>\n",
       "    <tr>\n",
       "      <th>505</th>\n",
       "      <td>2023</td>\n",
       "      <td>TR</td>\n",
       "      <td>1.538532e+07</td>\n",
       "      <td>7.013529e+10</td>\n",
       "      <td>733.712939</td>\n",
       "      <td>BtcTurk PROBtcTurk PROBtcTurk PROBtcTurk PROBt...</td>\n",
       "      <td>BiboxBinance (US, DEX)Binance (US, DEX)Binance...</td>\n",
       "    </tr>\n",
       "    <tr>\n",
       "      <th>506</th>\n",
       "      <td>2023</td>\n",
       "      <td>TW</td>\n",
       "      <td>4.401535e+06</td>\n",
       "      <td>1.815027e+10</td>\n",
       "      <td>184.821881</td>\n",
       "      <td>Max MaicoinMax MaicoinMax MaicoinMax MaicoinMa...</td>\n",
       "      <td>MEXC GlobalBinance (US, DEX)Binance (US, DEX)B...</td>\n",
       "    </tr>\n",
       "    <tr>\n",
       "      <th>507</th>\n",
       "      <td>2023</td>\n",
       "      <td>US</td>\n",
       "      <td>3.448535e+08</td>\n",
       "      <td>1.492664e+12</td>\n",
       "      <td>15636.918037</td>\n",
       "      <td>Binance (US, DEX)CoinbaseBinance (US, DEX)Coin...</td>\n",
       "      <td>CexCexHuobiHuobiHuobiBinance (US, DEX)Binance ...</td>\n",
       "    </tr>\n",
       "    <tr>\n",
       "      <th>508</th>\n",
       "      <td>2023</td>\n",
       "      <td>VG</td>\n",
       "      <td>5.766492e+04</td>\n",
       "      <td>2.493717e+08</td>\n",
       "      <td>2.537573</td>\n",
       "      <td>BKEXBKEXBKEXBKEXBKEXBKEXBKEXBKEXBKEXBKEXBKEXBK...</td>\n",
       "      <td>CoinbaseCoinbaseBinance (US, DEX)Binance (US, ...</td>\n",
       "    </tr>\n",
       "    <tr>\n",
       "      <th>509</th>\n",
       "      <td>2023</td>\n",
       "      <td>ZA</td>\n",
       "      <td>2.219716e+08</td>\n",
       "      <td>9.537938e+11</td>\n",
       "      <td>9974.735687</td>\n",
       "      <td>Binance (US, DEX)Binance (US, DEX)ValrBinance ...</td>\n",
       "      <td>CexHuobiHuobiBinance (US, DEX)Binance (US, DEX...</td>\n",
       "    </tr>\n",
       "  </tbody>\n",
       "</table>\n",
       "<p>510 rows × 7 columns</p>\n",
       "</div>"
      ],
      "text/plain": [
       "     year jurisdictions     value_USD   value_asset     value_BTC  \\\n",
       "0    2011            AT  2.778538e+03  7.049400e+10    609.227868   \n",
       "1    2011            AU  8.976231e+02  2.575297e+10    230.117138   \n",
       "2    2011            BZ  7.378865e+01  1.777978e+09     15.476436   \n",
       "3    2011            CA  5.101930e+01  1.701000e+09     14.056460   \n",
       "4    2011            CN  7.378865e+01  1.777978e+09     15.476436   \n",
       "..    ...           ...           ...           ...           ...   \n",
       "505  2023            TR  1.538532e+07  7.013529e+10    733.712939   \n",
       "506  2023            TW  4.401535e+06  1.815027e+10    184.821881   \n",
       "507  2023            US  3.448535e+08  1.492664e+12  15636.918037   \n",
       "508  2023            VG  5.766492e+04  2.493717e+08      2.537573   \n",
       "509  2023            ZA  2.219716e+08  9.537938e+11   9974.735687   \n",
       "\n",
       "                                             src_label  \\\n",
       "0                                         VirwoxVirwox   \n",
       "1    Btc-EBtc-EBtc-EBtc-EBtc-EBtc-EBtc-EBtc-EBtc-EB...   \n",
       "2                     VircurexVircurexVircurexVircurex   \n",
       "3             CavirtexCavirtexCavirtexCavirtexCavirtex   \n",
       "4                     VircurexVircurexVircurexVircurex   \n",
       "..                                                 ...   \n",
       "505  BtcTurk PROBtcTurk PROBtcTurk PROBtcTurk PROBt...   \n",
       "506  Max MaicoinMax MaicoinMax MaicoinMax MaicoinMa...   \n",
       "507  Binance (US, DEX)CoinbaseBinance (US, DEX)Coin...   \n",
       "508  BKEXBKEXBKEXBKEXBKEXBKEXBKEXBKEXBKEXBKEXBKEXBK...   \n",
       "509  Binance (US, DEX)Binance (US, DEX)ValrBinance ...   \n",
       "\n",
       "                                             dst_label  \n",
       "0                                   BtccTheRockTrading  \n",
       "1    CavirtexCavirtexBtccVircurexVircurexVirwoxBitc...  \n",
       "2                           Btc-EVircurexBtc-EVircurex  \n",
       "3             BitcoinicaBtc-EBtc-EBitcoinicaBitcoinica  \n",
       "4                           Btc-EVircurexBtc-EVircurex  \n",
       "..                                                 ...  \n",
       "505  BiboxBinance (US, DEX)Binance (US, DEX)Binance...  \n",
       "506  MEXC GlobalBinance (US, DEX)Binance (US, DEX)B...  \n",
       "507  CexCexHuobiHuobiHuobiBinance (US, DEX)Binance ...  \n",
       "508  CoinbaseCoinbaseBinance (US, DEX)Binance (US, ...  \n",
       "509  CexHuobiHuobiBinance (US, DEX)Binance (US, DEX...  \n",
       "\n",
       "[510 rows x 7 columns]"
      ]
     },
     "metadata": {},
     "output_type": "display_data"
    }
   ],
   "source": [
    "# Transform jurisdiction string into list element\n",
    "expanded_df = merged_df.copy()\n",
    "expanded_df.src_jurisdictions = expanded_df.src_jurisdictions.fillna(\"\")\n",
    "expanded_df.dst_jurisdictions = expanded_df.dst_jurisdictions.fillna(\"\")\n",
    "expanded_df = expanded_df.assign(src_jurisdictions=expanded_df.src_jurisdictions.str.split(','))\n",
    "expanded_df = expanded_df.assign(dst_jurisdictions=expanded_df.dst_jurisdictions.str.split(','))\n",
    "\n",
    "# Split up amounts by number of src and dst countries\n",
    "expanded_df['value_asset'] = expanded_df.apply(lambda row: row['value_asset'] / max(len(row.src_jurisdictions) * len(row.dst_jurisdictions), 1) , axis=1)\n",
    "expanded_df['value_USD'] = expanded_df.apply(lambda row: row['value_USD'] / max(len(row.src_jurisdictions) * len(row.dst_jurisdictions), 1), axis=1)\n",
    "\n",
    "# Create separate columns for each jurisdiction (if we want to split the amounts we have to split amount before)\n",
    "expanded_df = expanded_df.explode('dst_jurisdictions')\n",
    "expanded_df = expanded_df.explode('src_jurisdictions')\n",
    "\n",
    "# Strip whitespace\n",
    "expanded_df.dst_jurisdictions = expanded_df.dst_jurisdictions.str.strip()\n",
    "expanded_df.src_jurisdictions = expanded_df.src_jurisdictions.str.strip()\n",
    "# Remove flows which aren't x-border\n",
    "expanded_df = expanded_df[expanded_df['dst_jurisdictions'] != expanded_df['src_jurisdictions']]\n",
    "\n",
    "#display(merged_df.groupby(['year', 'dst_jurisdictions'])[\"open\"].max())\n",
    "# divide by btc value\n",
    "# Do we really need this? Isn't value_asset already the number of tokens?\n",
    "expanded_df[\"value_BTC\"] = expanded_df[\"value_USD\"] / expanded_df[\"high\"]\n",
    "\n",
    "# Group by year and juristicion\n",
    "# those are the aggregated recievers\n",
    "dst_amounts = expanded_df.groupby(['year', 'dst_jurisdictions'])[['value_USD', 'value_asset', 'value_BTC',\"src_label\",\"dst_label\"]].sum().reset_index()\n",
    "dst_amounts = dst_amounts.rename(columns={\"dst_jurisdictions\":\"jurisdictions\"})\n",
    "\n",
    "# this are the aggregated \"spenders\"\n",
    "src_amounts = expanded_df.groupby(['year', 'src_jurisdictions'])[['value_USD', 'value_asset', 'value_BTC',\"src_label\",\"dst_label\"]].sum().reset_index()\n",
    "src_amounts = src_amounts.rename(columns={\"src_jurisdictions\":\"jurisdictions\"})\n",
    "\n",
    "print(\"small sanity check here \")\n",
    "print(\"merged sum \"+str(merged_df[\"value_USD\"].sum()/MRD))\n",
    "print(\"expanded sum \"+str(expanded_df[\"value_USD\"].sum()/MRD))\n",
    "print(\"dst sum \"+str(dst_amounts[\"value_USD\"].sum()/MRD))\n",
    "print(\"src sum \"+str(src_amounts[\"value_USD\"].sum()/MRD))\n",
    "\n",
    "display(dst_amounts)\n",
    "display(src_amounts)"
   ]
  },
  {
   "cell_type": "code",
   "execution_count": 24,
   "metadata": {},
   "outputs": [
    {
     "name": "stdout",
     "output_type": "stream",
     "text": [
      "Number of rows in the flow dataset 295758\n"
     ]
    }
   ],
   "source": [
    "# Number of flows after merging and filtering for different locations\n",
    "print(f'Number of rows in the flow dataset {merged_df.shape[0]}')"
   ]
  },
  {
   "cell_type": "markdown",
   "metadata": {},
   "source": [
    "### Frequency of jurisidictions in the flow data"
   ]
  },
  {
   "cell_type": "code",
   "execution_count": 25,
   "metadata": {},
   "outputs": [
    {
     "data": {
      "image/png": "[encoded data removed]",
      "text/plain": [
       "<Figure size 640x480 with 1 Axes>"
      ]
     },
     "metadata": {},
     "output_type": "display_data"
    },
    {
     "data": {
      "text/html": [
       "<div>\n",
       "<style scoped>\n",
       "    .dataframe tbody tr th:only-of-type {\n",
       "        vertical-align: middle;\n",
       "    }\n",
       "\n",
       "    .dataframe tbody tr th {\n",
       "        vertical-align: top;\n",
       "    }\n",
       "\n",
       "    .dataframe thead th {\n",
       "        text-align: right;\n",
       "    }\n",
       "</style>\n",
       "<table border=\"1\" class=\"dataframe\">\n",
       "  <thead>\n",
       "    <tr style=\"text-align: right;\">\n",
       "      <th></th>\n",
       "      <th>count_x</th>\n",
       "      <th>count_y</th>\n",
       "    </tr>\n",
       "    <tr>\n",
       "      <th>jurisdictions</th>\n",
       "      <th></th>\n",
       "      <th></th>\n",
       "    </tr>\n",
       "  </thead>\n",
       "  <tbody>\n",
       "    <tr>\n",
       "      <th>BZ</th>\n",
       "      <td>13</td>\n",
       "      <td>13</td>\n",
       "    </tr>\n",
       "    <tr>\n",
       "      <th>CA</th>\n",
       "      <td>13</td>\n",
       "      <td>13</td>\n",
       "    </tr>\n",
       "    <tr>\n",
       "      <th>DE</th>\n",
       "      <td>13</td>\n",
       "      <td>12</td>\n",
       "    </tr>\n",
       "    <tr>\n",
       "      <th>GB</th>\n",
       "      <td>13</td>\n",
       "      <td>13</td>\n",
       "    </tr>\n",
       "    <tr>\n",
       "      <th>AU</th>\n",
       "      <td>13</td>\n",
       "      <td>13</td>\n",
       "    </tr>\n",
       "    <tr>\n",
       "      <th>...</th>\n",
       "      <td>...</td>\n",
       "      <td>...</td>\n",
       "    </tr>\n",
       "    <tr>\n",
       "      <th>AZ</th>\n",
       "      <td>4</td>\n",
       "      <td>5</td>\n",
       "    </tr>\n",
       "    <tr>\n",
       "      <th>GI</th>\n",
       "      <td>3</td>\n",
       "      <td>5</td>\n",
       "    </tr>\n",
       "    <tr>\n",
       "      <th>GE</th>\n",
       "      <td>3</td>\n",
       "      <td>3</td>\n",
       "    </tr>\n",
       "    <tr>\n",
       "      <th>BE</th>\n",
       "      <td>1</td>\n",
       "      <td>1</td>\n",
       "    </tr>\n",
       "    <tr>\n",
       "      <th>IN</th>\n",
       "      <td>1</td>\n",
       "      <td>1</td>\n",
       "    </tr>\n",
       "  </tbody>\n",
       "</table>\n",
       "<p>62 rows × 2 columns</p>\n",
       "</div>"
      ],
      "text/plain": [
       "               count_x  count_y\n",
       "jurisdictions                  \n",
       "BZ                  13       13\n",
       "CA                  13       13\n",
       "DE                  13       12\n",
       "GB                  13       13\n",
       "AU                  13       13\n",
       "...                ...      ...\n",
       "AZ                   4        5\n",
       "GI                   3        5\n",
       "GE                   3        3\n",
       "BE                   1        1\n",
       "IN                   1        1\n",
       "\n",
       "[62 rows x 2 columns]"
      ]
     },
     "metadata": {},
     "output_type": "display_data"
    },
    {
     "data": {
      "text/html": [
       "<div>\n",
       "<style scoped>\n",
       "    .dataframe tbody tr th:only-of-type {\n",
       "        vertical-align: middle;\n",
       "    }\n",
       "\n",
       "    .dataframe tbody tr th {\n",
       "        vertical-align: top;\n",
       "    }\n",
       "\n",
       "    .dataframe thead th {\n",
       "        text-align: right;\n",
       "    }\n",
       "</style>\n",
       "<table border=\"1\" class=\"dataframe\">\n",
       "  <thead>\n",
       "    <tr style=\"text-align: right;\">\n",
       "      <th></th>\n",
       "      <th>count_x</th>\n",
       "      <th>count_y</th>\n",
       "    </tr>\n",
       "    <tr>\n",
       "      <th>jurisdictions</th>\n",
       "      <th></th>\n",
       "      <th></th>\n",
       "    </tr>\n",
       "  </thead>\n",
       "  <tbody>\n",
       "    <tr>\n",
       "      <th>BZ</th>\n",
       "      <td>13</td>\n",
       "      <td>13</td>\n",
       "    </tr>\n",
       "    <tr>\n",
       "      <th>GB</th>\n",
       "      <td>13</td>\n",
       "      <td>13</td>\n",
       "    </tr>\n",
       "    <tr>\n",
       "      <th>AU</th>\n",
       "      <td>13</td>\n",
       "      <td>13</td>\n",
       "    </tr>\n",
       "    <tr>\n",
       "      <th>CA</th>\n",
       "      <td>13</td>\n",
       "      <td>13</td>\n",
       "    </tr>\n",
       "    <tr>\n",
       "      <th>DE</th>\n",
       "      <td>13</td>\n",
       "      <td>12</td>\n",
       "    </tr>\n",
       "    <tr>\n",
       "      <th>...</th>\n",
       "      <td>...</td>\n",
       "      <td>...</td>\n",
       "    </tr>\n",
       "    <tr>\n",
       "      <th>AZ</th>\n",
       "      <td>4</td>\n",
       "      <td>5</td>\n",
       "    </tr>\n",
       "    <tr>\n",
       "      <th>GI</th>\n",
       "      <td>3</td>\n",
       "      <td>5</td>\n",
       "    </tr>\n",
       "    <tr>\n",
       "      <th>GE</th>\n",
       "      <td>3</td>\n",
       "      <td>3</td>\n",
       "    </tr>\n",
       "    <tr>\n",
       "      <th>BE</th>\n",
       "      <td>1</td>\n",
       "      <td>1</td>\n",
       "    </tr>\n",
       "    <tr>\n",
       "      <th>IN</th>\n",
       "      <td>1</td>\n",
       "      <td>1</td>\n",
       "    </tr>\n",
       "  </tbody>\n",
       "</table>\n",
       "<p>62 rows × 2 columns</p>\n",
       "</div>"
      ],
      "text/plain": [
       "               count_x  count_y\n",
       "jurisdictions                  \n",
       "BZ                  13       13\n",
       "GB                  13       13\n",
       "AU                  13       13\n",
       "CA                  13       13\n",
       "DE                  13       12\n",
       "...                ...      ...\n",
       "AZ                   4        5\n",
       "GI                   3        5\n",
       "GE                   3        3\n",
       "BE                   1        1\n",
       "IN                   1        1\n",
       "\n",
       "[62 rows x 2 columns]"
      ]
     },
     "metadata": {},
     "output_type": "display_data"
    },
    {
     "data": {
      "text/html": [
       "<div>\n",
       "<style scoped>\n",
       "    .dataframe tbody tr th:only-of-type {\n",
       "        vertical-align: middle;\n",
       "    }\n",
       "\n",
       "    .dataframe tbody tr th {\n",
       "        vertical-align: top;\n",
       "    }\n",
       "\n",
       "    .dataframe thead th {\n",
       "        text-align: right;\n",
       "    }\n",
       "</style>\n",
       "<table border=\"1\" class=\"dataframe\">\n",
       "  <thead>\n",
       "    <tr style=\"text-align: right;\">\n",
       "      <th></th>\n",
       "      <th>count_x</th>\n",
       "      <th>count_y</th>\n",
       "    </tr>\n",
       "    <tr>\n",
       "      <th>jurisdictions</th>\n",
       "      <th></th>\n",
       "      <th></th>\n",
       "    </tr>\n",
       "  </thead>\n",
       "  <tbody>\n",
       "    <tr>\n",
       "      <th>BZ</th>\n",
       "      <td>13</td>\n",
       "      <td>13</td>\n",
       "    </tr>\n",
       "    <tr>\n",
       "      <th>GB</th>\n",
       "      <td>13</td>\n",
       "      <td>13</td>\n",
       "    </tr>\n",
       "    <tr>\n",
       "      <th>AU</th>\n",
       "      <td>13</td>\n",
       "      <td>13</td>\n",
       "    </tr>\n",
       "    <tr>\n",
       "      <th>SK</th>\n",
       "      <td>12</td>\n",
       "      <td>13</td>\n",
       "    </tr>\n",
       "    <tr>\n",
       "      <th>IT</th>\n",
       "      <td>12</td>\n",
       "      <td>13</td>\n",
       "    </tr>\n",
       "    <tr>\n",
       "      <th>...</th>\n",
       "      <td>...</td>\n",
       "      <td>...</td>\n",
       "    </tr>\n",
       "    <tr>\n",
       "      <th>IL</th>\n",
       "      <td>4</td>\n",
       "      <td>4</td>\n",
       "    </tr>\n",
       "    <tr>\n",
       "      <th>GE</th>\n",
       "      <td>3</td>\n",
       "      <td>3</td>\n",
       "    </tr>\n",
       "    <tr>\n",
       "      <th>IE</th>\n",
       "      <td>4</td>\n",
       "      <td>2</td>\n",
       "    </tr>\n",
       "    <tr>\n",
       "      <th>BE</th>\n",
       "      <td>1</td>\n",
       "      <td>1</td>\n",
       "    </tr>\n",
       "    <tr>\n",
       "      <th>IN</th>\n",
       "      <td>1</td>\n",
       "      <td>1</td>\n",
       "    </tr>\n",
       "  </tbody>\n",
       "</table>\n",
       "<p>62 rows × 2 columns</p>\n",
       "</div>"
      ],
      "text/plain": [
       "               count_x  count_y\n",
       "jurisdictions                  \n",
       "BZ                  13       13\n",
       "GB                  13       13\n",
       "AU                  13       13\n",
       "SK                  12       13\n",
       "IT                  12       13\n",
       "...                ...      ...\n",
       "IL                   4        4\n",
       "GE                   3        3\n",
       "IE                   4        2\n",
       "BE                   1        1\n",
       "IN                   1        1\n",
       "\n",
       "[62 rows x 2 columns]"
      ]
     },
     "metadata": {},
     "output_type": "display_data"
    },
    {
     "data": {
      "text/plain": [
       "jurisdictions\n",
       "BZ    13\n",
       "CA    13\n",
       "DE    13\n",
       "GB    13\n",
       "AU    13\n",
       "AT    12\n",
       "CN    12\n",
       "NZ    12\n",
       "SK    12\n",
       "IT    12\n",
       "Name: count, dtype: int64"
      ]
     },
     "metadata": {},
     "output_type": "display_data"
    },
    {
     "data": {
      "text/plain": [
       "jurisdictions\n",
       "BZ    13\n",
       "CA    13\n",
       "AU    13\n",
       "GB    13\n",
       "IT    13\n",
       "SK    13\n",
       "AT    12\n",
       "BR    12\n",
       "VG    12\n",
       "DE    12\n",
       "Name: count, dtype: int64"
      ]
     },
     "metadata": {},
     "output_type": "display_data"
    },
    {
     "data": {
      "text/plain": [
       "PearsonRResult(statistic=0.9228245811700984, pvalue=1.5391578879961347e-26)"
      ]
     },
     "metadata": {},
     "output_type": "display_data"
    }
   ],
   "source": [
    "src_juri_freq = src_amounts.jurisdictions.value_counts()\n",
    "dst_juri_freq = dst_amounts.jurisdictions.value_counts()\n",
    "merged_freq = pd.merge(src_juri_freq, dst_juri_freq, left_index=True, right_index=True, how='inner')\n",
    "\n",
    "plt.scatter(x=merged_freq.count_x, y=merged_freq.count_y)\n",
    "plt.xlabel('No of Outgoing Txs')\n",
    "plt.ylabel('No of Incoming Txs')\n",
    "plt.title('Outcoming vs Incoming Txs')\n",
    "plt.grid(True)\n",
    "line = np.linspace(min(merged_freq.count_x), max(merged_freq.count_y), 100)\n",
    "plt.plot(line, line, color='r', linestyle='--')\n",
    "plt.savefig('distribute.png')\n",
    "plt.show()\n",
    "\n",
    "display(merged_freq)\n",
    "display(merged_freq.sort_values(by='count_x', ascending=False))\n",
    "display(merged_freq.sort_values(by='count_y', ascending=False))\n",
    "display(src_juri_freq.head(10))\n",
    "display(dst_juri_freq.head(10))\n",
    "\n",
    "corr = pearsonr(merged_freq.count_x, merged_freq.count_y)\n",
    "display(corr)\n"
   ]
  },
  {
   "cell_type": "code",
   "execution_count": 26,
   "metadata": {},
   "outputs": [
    {
     "data": {
      "image/png": "[encoded data removed]",
      "text/plain": [
       "<Figure size 500x500 with 1 Axes>"
      ]
     },
     "metadata": {},
     "output_type": "display_data"
    }
   ],
   "source": [
    "# Plot top 20 in terms of incoming tx\n",
    "top20_src = src_juri_freq.head(20)\n",
    "plt.figure(figsize=(5, 5)) \n",
    "plt.barh(top20_src.index[::-1], top20_src.values[::-1])\n",
    "plt.xlabel('Number of Outgoing TXs')\n",
    "plt.ylabel('Country')\n",
    "#plt.xticks(range(1, 25), range(1, 25))\n",
    "plt.title('Top 20 Countries by Outgoing TXs')\n",
    "plt.savefig('outgoing_top20.png')\n",
    "plt.show()"
   ]
  },
  {
   "cell_type": "code",
   "execution_count": 160,
   "metadata": {},
   "outputs": [
    {
     "data": {
      "text/plain": [
       "\"\\nsrc_juri_sum = merged_df.groupby('src_jurisdictions')['src_value_USD'].sum()\\ndst_juri_sum = merged_df.groupby('dst_jurisdictions')['dst_value_USD'].sum()\\nmerged_sum = pd.merge(src_juri_sum, dst_juri_sum, left_index=True, right_index=True, how='inner')\\nfig, ax = plt.subplots()\\nscatter = ax.scatter(x=merged_sum.src_value_USD, y=merged_sum.dst_value_USD)\\nplt.xlabel('USD value of Outgoing Txs')\\nplt.ylabel('USD value of Incoming Txs')\\nplt.title('Outcoming vs Incoming Txs USD value')\\nplt.grid(True)\\n\\nline = np.linspace(min(merged_sum.src_value_USD), max(merged_sum.dst_value_USD), 100)\\nplt.plot(line, line, color='r', linestyle='--')\\nplt.show()\\n\\ndisplay(merged_sum.sort_values(by='src_value_USD', ascending=False))\\ndisplay(merged_sum.sort_values(by='dst_value_USD', ascending=False))\\n\\ncorr = pearsonr(merged_sum.src_value_USD, merged_sum.dst_value_USD)\\ndisplay(corr)\\n\""
      ]
     },
     "execution_count": 160,
     "metadata": {},
     "output_type": "execute_result"
    }
   ],
   "source": [
    "# Total value of incoming / outgoing tx\n",
    "# TODO UNITS ON AXED also maybe scale to BN USD? \n",
    "# TODO FIX THIS? (is there even any value in this?)\n",
    "\n",
    "'''\n",
    "src_juri_sum = merged_df.groupby('src_jurisdictions')['src_value_USD'].sum()\n",
    "dst_juri_sum = merged_df.groupby('dst_jurisdictions')['dst_value_USD'].sum()\n",
    "merged_sum = pd.merge(src_juri_sum, dst_juri_sum, left_index=True, right_index=True, how='inner')\n",
    "fig, ax = plt.subplots()\n",
    "scatter = ax.scatter(x=merged_sum.src_value_USD, y=merged_sum.dst_value_USD)\n",
    "plt.xlabel('USD value of Outgoing Txs')\n",
    "plt.ylabel('USD value of Incoming Txs')\n",
    "plt.title('Outcoming vs Incoming Txs USD value')\n",
    "plt.grid(True)\n",
    "\n",
    "line = np.linspace(min(merged_sum.src_value_USD), max(merged_sum.dst_value_USD), 100)\n",
    "plt.plot(line, line, color='r', linestyle='--')\n",
    "plt.show()\n",
    "\n",
    "display(merged_sum.sort_values(by='src_value_USD', ascending=False))\n",
    "display(merged_sum.sort_values(by='dst_value_USD', ascending=False))\n",
    "\n",
    "corr = pearsonr(merged_sum.src_value_USD, merged_sum.dst_value_USD)\n",
    "display(corr)\n",
    "'''"
   ]
  },
  {
   "cell_type": "markdown",
   "metadata": {},
   "source": [
    "### Trading Pairs frequency"
   ]
  },
  {
   "cell_type": "code",
   "execution_count": 27,
   "metadata": {},
   "outputs": [
    {
     "data": {
      "text/plain": [
       "<Axes: ylabel='trading_pairs'>"
      ]
     },
     "execution_count": 27,
     "metadata": {},
     "output_type": "execute_result"
    },
    {
     "data": {
      "image/png": "[encoded data removed]",
      "text/plain": [
       "<Figure size 500x500 with 1 Axes>"
      ]
     },
     "metadata": {},
     "output_type": "display_data"
    }
   ],
   "source": [
    "merged_df['trading_pairs'] = merged_df['src_jurisdictions'] + '->' + merged_df['dst_jurisdictions']\n",
    "\n",
    "merged_df.trading_pairs.value_counts().head(20)[::-1].plot.barh(figsize=(5, 5))"
   ]
  },
  {
   "cell_type": "code",
   "execution_count": 49,
   "metadata": {},
   "outputs": [
    {
     "name": "stdout",
     "output_type": "stream",
     "text": [
      "39\n"
     ]
    },
    {
     "data": {
      "application/vnd.plotly.v1+json": {
       "config": {
        "plotlyServerURL": "https://plot.ly"
       },
       "data": [
        {
         "link": {
          "source": [
           0,
           60,
           41,
           54,
           57,
           42,
           40,
           58,
           63,
           30,
           1,
           31,
           4,
           53,
           27,
           15,
           9,
           61,
           52,
           13,
           6,
           17,
           38,
           45,
           22,
           59,
           14,
           50,
           62,
           5,
           34,
           32,
           3,
           36,
           28,
           23,
           26,
           20,
           18
          ],
          "target": [
           103,
           103,
           103,
           103,
           103,
           103,
           103,
           103,
           103,
           103,
           103,
           103,
           103,
           103,
           103,
           103,
           103,
           103,
           103,
           103,
           103,
           103,
           103,
           103,
           103,
           103,
           103,
           103,
           103,
           103,
           103,
           103,
           103,
           103,
           103,
           103,
           103,
           103,
           103
          ],
          "value": [
           3365563.5299765654,
           591907862.6893994,
           270702670.2598699,
           2104794.575153415,
           577364410.5340399,
           576351752.3197726,
           1104915.66600492,
           576686344.3328927,
           5758136.15565987,
           14702432.226080615,
           576351752.3197726,
           14849756.497019019,
           11621942.809382591,
           576351752.3197726,
           577360320.3025731,
           747579479.5091877,
           12433131.54586256,
           365445040.44305414,
           12655273.98232612,
           576562184.2430793,
           13752784.254854525,
           18429664.827689063,
           638649523.5496223,
           576351752.3197726,
           576796313.7152607,
           636227845.7908511,
           44936507.47223738,
           37270430.01969059,
           577741843.7952946,
           62271382.63260882,
           576351752.3197726,
           6888868.625239324,
           2337724641.2959266,
           144639929.98153424,
           1934828.43245205,
           14993506.181300942,
           31584890.334117305,
           20218182.922665928,
           586889885.774193
          ]
         },
         "node": {
          "color": "gray",
          "label": [
           "",
           "CY",
           "NO",
           "SC",
           "EE",
           "PA",
           "JP",
           "IL",
           "GI",
           "GE",
           "IN",
           "BZ",
           "AZ",
           "IT",
           "MX",
           "GB",
           "KN",
           "KR",
           "ZA",
           "AR",
           "VG",
           "CZ",
           "LT",
           "TH",
           "NG",
           "VC",
           "TR",
           "FR",
           "SK",
           "PT",
           "CN",
           "DE",
           "RU",
           "DK",
           "PL",
           "IR",
           "SG",
           "LU",
           "KY",
           "US",
           "BR",
           "AG",
           "BH",
           "BS",
           "FI",
           "KZ",
           "TW",
           "BE",
           "VU",
           "HR",
           "NL",
           "IE",
           "ID",
           "ES",
           "AT",
           "MH",
           "VN",
           "AU",
           "CA",
           "MT",
           "AE",
           "HK",
           "NZ",
           "CH",
           "",
           "CY",
           "NO",
           "SC",
           "EE",
           "PA",
           "JP",
           "IL",
           "GI",
           "GE",
           "IN",
           "BZ",
           "AZ",
           "IT",
           "MX",
           "GB",
           "KN",
           "KR",
           "ZA",
           "AR",
           "VG",
           "CZ",
           "LT",
           "TH",
           "NG",
           "VC",
           "TR",
           "FR",
           "SK",
           "PT",
           "CN",
           "DE",
           "RU",
           "DK",
           "PL",
           "IR",
           "SG",
           "LU",
           "KY",
           "US",
           "BR",
           "AG",
           "BH",
           "BS",
           "FI",
           "KZ",
           "TW",
           "BE",
           "VU",
           "HR",
           "NL",
           "IE",
           "ID",
           "ES",
           "AT",
           "MH",
           "VN",
           "AU",
           "CA",
           "MT",
           "AE",
           "HK",
           "NZ",
           "CH"
          ],
          "line": {
           "color": "black",
           "width": 0.5
          },
          "pad": 15,
          "thickness": 20
         },
         "type": "sankey"
        }
       ],
       "layout": {
        "font": {
         "size": 10
        },
        "template": {
         "data": {
          "bar": [
           {
            "error_x": {
             "color": "#2a3f5f"
            },
            "error_y": {
             "color": "#2a3f5f"
            },
            "marker": {
             "line": {
              "color": "#E5ECF6",
              "width": 0.5
             },
             "pattern": {
              "fillmode": "overlay",
              "size": 10,
              "solidity": 0.2
             }
            },
            "type": "bar"
           }
          ],
          "barpolar": [
           {
            "marker": {
             "line": {
              "color": "#E5ECF6",
              "width": 0.5
             },
             "pattern": {
              "fillmode": "overlay",
              "size": 10,
              "solidity": 0.2
             }
            },
            "type": "barpolar"
           }
          ],
          "carpet": [
           {
            "aaxis": {
             "endlinecolor": "#2a3f5f",
             "gridcolor": "white",
             "linecolor": "white",
             "minorgridcolor": "white",
             "startlinecolor": "#2a3f5f"
            },
            "baxis": {
             "endlinecolor": "#2a3f5f",
             "gridcolor": "white",
             "linecolor": "white",
             "minorgridcolor": "white",
             "startlinecolor": "#2a3f5f"
            },
            "type": "carpet"
           }
          ],
          "choropleth": [
           {
            "colorbar": {
             "outlinewidth": 0,
             "ticks": ""
            },
            "type": "choropleth"
           }
          ],
          "contour": [
           {
            "colorbar": {
             "outlinewidth": 0,
             "ticks": ""
            },
            "colorscale": [
             [
              0,
              "#0d0887"
             ],
             [
              0.1111111111111111,
              "#46039f"
             ],
             [
              0.2222222222222222,
              "#7201a8"
             ],
             [
              0.3333333333333333,
              "#9c179e"
             ],
             [
              0.4444444444444444,
              "#bd3786"
             ],
             [
              0.5555555555555556,
              "#d8576b"
             ],
             [
              0.6666666666666666,
              "#ed7953"
             ],
             [
              0.7777777777777778,
              "#fb9f3a"
             ],
             [
              0.8888888888888888,
              "#fdca26"
             ],
             [
              1,
              "#f0f921"
             ]
            ],
            "type": "contour"
           }
          ],
          "contourcarpet": [
           {
            "colorbar": {
             "outlinewidth": 0,
             "ticks": ""
            },
            "type": "contourcarpet"
           }
          ],
          "heatmap": [
           {
            "colorbar": {
             "outlinewidth": 0,
             "ticks": ""
            },
            "colorscale": [
             [
              0,
              "#0d0887"
             ],
             [
              0.1111111111111111,
              "#46039f"
             ],
             [
              0.2222222222222222,
              "#7201a8"
             ],
             [
              0.3333333333333333,
              "#9c179e"
             ],
             [
              0.4444444444444444,
              "#bd3786"
             ],
             [
              0.5555555555555556,
              "#d8576b"
             ],
             [
              0.6666666666666666,
              "#ed7953"
             ],
             [
              0.7777777777777778,
              "#fb9f3a"
             ],
             [
              0.8888888888888888,
              "#fdca26"
             ],
             [
              1,
              "#f0f921"
             ]
            ],
            "type": "heatmap"
           }
          ],
          "heatmapgl": [
           {
            "colorbar": {
             "outlinewidth": 0,
             "ticks": ""
            },
            "colorscale": [
             [
              0,
              "#0d0887"
             ],
             [
              0.1111111111111111,
              "#46039f"
             ],
             [
              0.2222222222222222,
              "#7201a8"
             ],
             [
              0.3333333333333333,
              "#9c179e"
             ],
             [
              0.4444444444444444,
              "#bd3786"
             ],
             [
              0.5555555555555556,
              "#d8576b"
             ],
             [
              0.6666666666666666,
              "#ed7953"
             ],
             [
              0.7777777777777778,
              "#fb9f3a"
             ],
             [
              0.8888888888888888,
              "#fdca26"
             ],
             [
              1,
              "#f0f921"
             ]
            ],
            "type": "heatmapgl"
           }
          ],
          "histogram": [
           {
            "marker": {
             "pattern": {
              "fillmode": "overlay",
              "size": 10,
              "solidity": 0.2
             }
            },
            "type": "histogram"
           }
          ],
          "histogram2d": [
           {
            "colorbar": {
             "outlinewidth": 0,
             "ticks": ""
            },
            "colorscale": [
             [
              0,
              "#0d0887"
             ],
             [
              0.1111111111111111,
              "#46039f"
             ],
             [
              0.2222222222222222,
              "#7201a8"
             ],
             [
              0.3333333333333333,
              "#9c179e"
             ],
             [
              0.4444444444444444,
              "#bd3786"
             ],
             [
              0.5555555555555556,
              "#d8576b"
             ],
             [
              0.6666666666666666,
              "#ed7953"
             ],
             [
              0.7777777777777778,
              "#fb9f3a"
             ],
             [
              0.8888888888888888,
              "#fdca26"
             ],
             [
              1,
              "#f0f921"
             ]
            ],
            "type": "histogram2d"
           }
          ],
          "histogram2dcontour": [
           {
            "colorbar": {
             "outlinewidth": 0,
             "ticks": ""
            },
            "colorscale": [
             [
              0,
              "#0d0887"
             ],
             [
              0.1111111111111111,
              "#46039f"
             ],
             [
              0.2222222222222222,
              "#7201a8"
             ],
             [
              0.3333333333333333,
              "#9c179e"
             ],
             [
              0.4444444444444444,
              "#bd3786"
             ],
             [
              0.5555555555555556,
              "#d8576b"
             ],
             [
              0.6666666666666666,
              "#ed7953"
             ],
             [
              0.7777777777777778,
              "#fb9f3a"
             ],
             [
              0.8888888888888888,
              "#fdca26"
             ],
             [
              1,
              "#f0f921"
             ]
            ],
            "type": "histogram2dcontour"
           }
          ],
          "mesh3d": [
           {
            "colorbar": {
             "outlinewidth": 0,
             "ticks": ""
            },
            "type": "mesh3d"
           }
          ],
          "parcoords": [
           {
            "line": {
             "colorbar": {
              "outlinewidth": 0,
              "ticks": ""
             }
            },
            "type": "parcoords"
           }
          ],
          "pie": [
           {
            "automargin": true,
            "type": "pie"
           }
          ],
          "scatter": [
           {
            "fillpattern": {
             "fillmode": "overlay",
             "size": 10,
             "solidity": 0.2
            },
            "type": "scatter"
           }
          ],
          "scatter3d": [
           {
            "line": {
             "colorbar": {
              "outlinewidth": 0,
              "ticks": ""
             }
            },
            "marker": {
             "colorbar": {
              "outlinewidth": 0,
              "ticks": ""
             }
            },
            "type": "scatter3d"
           }
          ],
          "scattercarpet": [
           {
            "marker": {
             "colorbar": {
              "outlinewidth": 0,
              "ticks": ""
             }
            },
            "type": "scattercarpet"
           }
          ],
          "scattergeo": [
           {
            "marker": {
             "colorbar": {
              "outlinewidth": 0,
              "ticks": ""
             }
            },
            "type": "scattergeo"
           }
          ],
          "scattergl": [
           {
            "marker": {
             "colorbar": {
              "outlinewidth": 0,
              "ticks": ""
             }
            },
            "type": "scattergl"
           }
          ],
          "scattermapbox": [
           {
            "marker": {
             "colorbar": {
              "outlinewidth": 0,
              "ticks": ""
             }
            },
            "type": "scattermapbox"
           }
          ],
          "scatterpolar": [
           {
            "marker": {
             "colorbar": {
              "outlinewidth": 0,
              "ticks": ""
             }
            },
            "type": "scatterpolar"
           }
          ],
          "scatterpolargl": [
           {
            "marker": {
             "colorbar": {
              "outlinewidth": 0,
              "ticks": ""
             }
            },
            "type": "scatterpolargl"
           }
          ],
          "scatterternary": [
           {
            "marker": {
             "colorbar": {
              "outlinewidth": 0,
              "ticks": ""
             }
            },
            "type": "scatterternary"
           }
          ],
          "surface": [
           {
            "colorbar": {
             "outlinewidth": 0,
             "ticks": ""
            },
            "colorscale": [
             [
              0,
              "#0d0887"
             ],
             [
              0.1111111111111111,
              "#46039f"
             ],
             [
              0.2222222222222222,
              "#7201a8"
             ],
             [
              0.3333333333333333,
              "#9c179e"
             ],
             [
              0.4444444444444444,
              "#bd3786"
             ],
             [
              0.5555555555555556,
              "#d8576b"
             ],
             [
              0.6666666666666666,
              "#ed7953"
             ],
             [
              0.7777777777777778,
              "#fb9f3a"
             ],
             [
              0.8888888888888888,
              "#fdca26"
             ],
             [
              1,
              "#f0f921"
             ]
            ],
            "type": "surface"
           }
          ],
          "table": [
           {
            "cells": {
             "fill": {
              "color": "#EBF0F8"
             },
             "line": {
              "color": "white"
             }
            },
            "header": {
             "fill": {
              "color": "#C8D4E3"
             },
             "line": {
              "color": "white"
             }
            },
            "type": "table"
           }
          ]
         },
         "layout": {
          "annotationdefaults": {
           "arrowcolor": "#2a3f5f",
           "arrowhead": 0,
           "arrowwidth": 1
          },
          "autotypenumbers": "strict",
          "coloraxis": {
           "colorbar": {
            "outlinewidth": 0,
            "ticks": ""
           }
          },
          "colorscale": {
           "diverging": [
            [
             0,
             "#8e0152"
            ],
            [
             0.1,
             "#c51b7d"
            ],
            [
             0.2,
             "#de77ae"
            ],
            [
             0.3,
             "#f1b6da"
            ],
            [
             0.4,
             "#fde0ef"
            ],
            [
             0.5,
             "#f7f7f7"
            ],
            [
             0.6,
             "#e6f5d0"
            ],
            [
             0.7,
             "#b8e186"
            ],
            [
             0.8,
             "#7fbc41"
            ],
            [
             0.9,
             "#4d9221"
            ],
            [
             1,
             "#276419"
            ]
           ],
           "sequential": [
            [
             0,
             "#0d0887"
            ],
            [
             0.1111111111111111,
             "#46039f"
            ],
            [
             0.2222222222222222,
             "#7201a8"
            ],
            [
             0.3333333333333333,
             "#9c179e"
            ],
            [
             0.4444444444444444,
             "#bd3786"
            ],
            [
             0.5555555555555556,
             "#d8576b"
            ],
            [
             0.6666666666666666,
             "#ed7953"
            ],
            [
             0.7777777777777778,
             "#fb9f3a"
            ],
            [
             0.8888888888888888,
             "#fdca26"
            ],
            [
             1,
             "#f0f921"
            ]
           ],
           "sequentialminus": [
            [
             0,
             "#0d0887"
            ],
            [
             0.1111111111111111,
             "#46039f"
            ],
            [
             0.2222222222222222,
             "#7201a8"
            ],
            [
             0.3333333333333333,
             "#9c179e"
            ],
            [
             0.4444444444444444,
             "#bd3786"
            ],
            [
             0.5555555555555556,
             "#d8576b"
            ],
            [
             0.6666666666666666,
             "#ed7953"
            ],
            [
             0.7777777777777778,
             "#fb9f3a"
            ],
            [
             0.8888888888888888,
             "#fdca26"
            ],
            [
             1,
             "#f0f921"
            ]
           ]
          },
          "colorway": [
           "#636efa",
           "#EF553B",
           "#00cc96",
           "#ab63fa",
           "#FFA15A",
           "#19d3f3",
           "#FF6692",
           "#B6E880",
           "#FF97FF",
           "#FECB52"
          ],
          "font": {
           "color": "#2a3f5f"
          },
          "geo": {
           "bgcolor": "white",
           "lakecolor": "white",
           "landcolor": "#E5ECF6",
           "showlakes": true,
           "showland": true,
           "subunitcolor": "white"
          },
          "hoverlabel": {
           "align": "left"
          },
          "hovermode": "closest",
          "mapbox": {
           "style": "light"
          },
          "paper_bgcolor": "white",
          "plot_bgcolor": "#E5ECF6",
          "polar": {
           "angularaxis": {
            "gridcolor": "white",
            "linecolor": "white",
            "ticks": ""
           },
           "bgcolor": "#E5ECF6",
           "radialaxis": {
            "gridcolor": "white",
            "linecolor": "white",
            "ticks": ""
           }
          },
          "scene": {
           "xaxis": {
            "backgroundcolor": "#E5ECF6",
            "gridcolor": "white",
            "gridwidth": 2,
            "linecolor": "white",
            "showbackground": true,
            "ticks": "",
            "zerolinecolor": "white"
           },
           "yaxis": {
            "backgroundcolor": "#E5ECF6",
            "gridcolor": "white",
            "gridwidth": 2,
            "linecolor": "white",
            "showbackground": true,
            "ticks": "",
            "zerolinecolor": "white"
           },
           "zaxis": {
            "backgroundcolor": "#E5ECF6",
            "gridcolor": "white",
            "gridwidth": 2,
            "linecolor": "white",
            "showbackground": true,
            "ticks": "",
            "zerolinecolor": "white"
           }
          },
          "shapedefaults": {
           "line": {
            "color": "#2a3f5f"
           }
          },
          "ternary": {
           "aaxis": {
            "gridcolor": "white",
            "linecolor": "white",
            "ticks": ""
           },
           "baxis": {
            "gridcolor": "white",
            "linecolor": "white",
            "ticks": ""
           },
           "bgcolor": "#E5ECF6",
           "caxis": {
            "gridcolor": "white",
            "linecolor": "white",
            "ticks": ""
           }
          },
          "title": {
           "x": 0.05
          },
          "xaxis": {
           "automargin": true,
           "gridcolor": "white",
           "linecolor": "white",
           "ticks": "",
           "title": {
            "standoff": 15
           },
           "zerolinecolor": "white",
           "zerolinewidth": 2
          },
          "yaxis": {
           "automargin": true,
           "gridcolor": "white",
           "linecolor": "white",
           "ticks": "",
           "title": {
            "standoff": 15
           },
           "zerolinecolor": "white",
           "zerolinewidth": 2
          }
         }
        },
        "title": {
         "text": "Crypto Flow"
        }
       }
      },
      "text/html": [
       "<div>                            <div id=\"5dffccf1-caff-454e-ad0a-7fe13058cb50\" class=\"plotly-graph-div\" style=\"height:525px; width:100%;\"></div>            <script type=\"text/javascript\">                require([\"plotly\"], function(Plotly) {                    window.PLOTLYENV=window.PLOTLYENV || {};                                    if (document.getElementById(\"5dffccf1-caff-454e-ad0a-7fe13058cb50\")) {                    Plotly.newPlot(                        \"5dffccf1-caff-454e-ad0a-7fe13058cb50\",                        [{\"link\":{\"source\":[0,60,41,54,57,42,40,58,63,30,1,31,4,53,27,15,9,61,52,13,6,17,38,45,22,59,14,50,62,5,34,32,3,36,28,23,26,20,18],\"target\":[103,103,103,103,103,103,103,103,103,103,103,103,103,103,103,103,103,103,103,103,103,103,103,103,103,103,103,103,103,103,103,103,103,103,103,103,103,103,103],\"value\":[3365563.5299765654,591907862.6893994,270702670.2598699,2104794.575153415,577364410.5340399,576351752.3197726,1104915.66600492,576686344.3328927,5758136.15565987,14702432.226080615,576351752.3197726,14849756.497019019,11621942.809382591,576351752.3197726,577360320.3025731,747579479.5091877,12433131.54586256,365445040.44305414,12655273.98232612,576562184.2430793,13752784.254854525,18429664.827689063,638649523.5496223,576351752.3197726,576796313.7152607,636227845.7908511,44936507.47223738,37270430.01969059,577741843.7952946,62271382.63260882,576351752.3197726,6888868.625239324,2337724641.2959266,144639929.98153424,1934828.43245205,14993506.181300942,31584890.334117305,20218182.922665928,586889885.774193]},\"node\":{\"color\":\"gray\",\"label\":[\"\",\"CY\",\"NO\",\"SC\",\"EE\",\"PA\",\"JP\",\"IL\",\"GI\",\"GE\",\"IN\",\"BZ\",\"AZ\",\"IT\",\"MX\",\"GB\",\"KN\",\"KR\",\"ZA\",\"AR\",\"VG\",\"CZ\",\"LT\",\"TH\",\"NG\",\"VC\",\"TR\",\"FR\",\"SK\",\"PT\",\"CN\",\"DE\",\"RU\",\"DK\",\"PL\",\"IR\",\"SG\",\"LU\",\"KY\",\"US\",\"BR\",\"AG\",\"BH\",\"BS\",\"FI\",\"KZ\",\"TW\",\"BE\",\"VU\",\"HR\",\"NL\",\"IE\",\"ID\",\"ES\",\"AT\",\"MH\",\"VN\",\"AU\",\"CA\",\"MT\",\"AE\",\"HK\",\"NZ\",\"CH\",\"\",\"CY\",\"NO\",\"SC\",\"EE\",\"PA\",\"JP\",\"IL\",\"GI\",\"GE\",\"IN\",\"BZ\",\"AZ\",\"IT\",\"MX\",\"GB\",\"KN\",\"KR\",\"ZA\",\"AR\",\"VG\",\"CZ\",\"LT\",\"TH\",\"NG\",\"VC\",\"TR\",\"FR\",\"SK\",\"PT\",\"CN\",\"DE\",\"RU\",\"DK\",\"PL\",\"IR\",\"SG\",\"LU\",\"KY\",\"US\",\"BR\",\"AG\",\"BH\",\"BS\",\"FI\",\"KZ\",\"TW\",\"BE\",\"VU\",\"HR\",\"NL\",\"IE\",\"ID\",\"ES\",\"AT\",\"MH\",\"VN\",\"AU\",\"CA\",\"MT\",\"AE\",\"HK\",\"NZ\",\"CH\"],\"line\":{\"color\":\"black\",\"width\":0.5},\"pad\":15,\"thickness\":20},\"type\":\"sankey\"}],                        {\"template\":{\"data\":{\"histogram2dcontour\":[{\"type\":\"histogram2dcontour\",\"colorbar\":{\"outlinewidth\":0,\"ticks\":\"\"},\"colorscale\":[[0.0,\"#0d0887\"],[0.1111111111111111,\"#46039f\"],[0.2222222222222222,\"#7201a8\"],[0.3333333333333333,\"#9c179e\"],[0.4444444444444444,\"#bd3786\"],[0.5555555555555556,\"#d8576b\"],[0.6666666666666666,\"#ed7953\"],[0.7777777777777778,\"#fb9f3a\"],[0.8888888888888888,\"#fdca26\"],[1.0,\"#f0f921\"]]}],\"choropleth\":[{\"type\":\"choropleth\",\"colorbar\":{\"outlinewidth\":0,\"ticks\":\"\"}}],\"histogram2d\":[{\"type\":\"histogram2d\",\"colorbar\":{\"outlinewidth\":0,\"ticks\":\"\"},\"colorscale\":[[0.0,\"#0d0887\"],[0.1111111111111111,\"#46039f\"],[0.2222222222222222,\"#7201a8\"],[0.3333333333333333,\"#9c179e\"],[0.4444444444444444,\"#bd3786\"],[0.5555555555555556,\"#d8576b\"],[0.6666666666666666,\"#ed7953\"],[0.7777777777777778,\"#fb9f3a\"],[0.8888888888888888,\"#fdca26\"],[1.0,\"#f0f921\"]]}],\"heatmap\":[{\"type\":\"heatmap\",\"colorbar\":{\"outlinewidth\":0,\"ticks\":\"\"},\"colorscale\":[[0.0,\"#0d0887\"],[0.1111111111111111,\"#46039f\"],[0.2222222222222222,\"#7201a8\"],[0.3333333333333333,\"#9c179e\"],[0.4444444444444444,\"#bd3786\"],[0.5555555555555556,\"#d8576b\"],[0.6666666666666666,\"#ed7953\"],[0.7777777777777778,\"#fb9f3a\"],[0.8888888888888888,\"#fdca26\"],[1.0,\"#f0f921\"]]}],\"heatmapgl\":[{\"type\":\"heatmapgl\",\"colorbar\":{\"outlinewidth\":0,\"ticks\":\"\"},\"colorscale\":[[0.0,\"#0d0887\"],[0.1111111111111111,\"#46039f\"],[0.2222222222222222,\"#7201a8\"],[0.3333333333333333,\"#9c179e\"],[0.4444444444444444,\"#bd3786\"],[0.5555555555555556,\"#d8576b\"],[0.6666666666666666,\"#ed7953\"],[0.7777777777777778,\"#fb9f3a\"],[0.8888888888888888,\"#fdca26\"],[1.0,\"#f0f921\"]]}],\"contourcarpet\":[{\"type\":\"contourcarpet\",\"colorbar\":{\"outlinewidth\":0,\"ticks\":\"\"}}],\"contour\":[{\"type\":\"contour\",\"colorbar\":{\"outlinewidth\":0,\"ticks\":\"\"},\"colorscale\":[[0.0,\"#0d0887\"],[0.1111111111111111,\"#46039f\"],[0.2222222222222222,\"#7201a8\"],[0.3333333333333333,\"#9c179e\"],[0.4444444444444444,\"#bd3786\"],[0.5555555555555556,\"#d8576b\"],[0.6666666666666666,\"#ed7953\"],[0.7777777777777778,\"#fb9f3a\"],[0.8888888888888888,\"#fdca26\"],[1.0,\"#f0f921\"]]}],\"surface\":[{\"type\":\"surface\",\"colorbar\":{\"outlinewidth\":0,\"ticks\":\"\"},\"colorscale\":[[0.0,\"#0d0887\"],[0.1111111111111111,\"#46039f\"],[0.2222222222222222,\"#7201a8\"],[0.3333333333333333,\"#9c179e\"],[0.4444444444444444,\"#bd3786\"],[0.5555555555555556,\"#d8576b\"],[0.6666666666666666,\"#ed7953\"],[0.7777777777777778,\"#fb9f3a\"],[0.8888888888888888,\"#fdca26\"],[1.0,\"#f0f921\"]]}],\"mesh3d\":[{\"type\":\"mesh3d\",\"colorbar\":{\"outlinewidth\":0,\"ticks\":\"\"}}],\"scatter\":[{\"fillpattern\":{\"fillmode\":\"overlay\",\"size\":10,\"solidity\":0.2},\"type\":\"scatter\"}],\"parcoords\":[{\"type\":\"parcoords\",\"line\":{\"colorbar\":{\"outlinewidth\":0,\"ticks\":\"\"}}}],\"scatterpolargl\":[{\"type\":\"scatterpolargl\",\"marker\":{\"colorbar\":{\"outlinewidth\":0,\"ticks\":\"\"}}}],\"bar\":[{\"error_x\":{\"color\":\"#2a3f5f\"},\"error_y\":{\"color\":\"#2a3f5f\"},\"marker\":{\"line\":{\"color\":\"#E5ECF6\",\"width\":0.5},\"pattern\":{\"fillmode\":\"overlay\",\"size\":10,\"solidity\":0.2}},\"type\":\"bar\"}],\"scattergeo\":[{\"type\":\"scattergeo\",\"marker\":{\"colorbar\":{\"outlinewidth\":0,\"ticks\":\"\"}}}],\"scatterpolar\":[{\"type\":\"scatterpolar\",\"marker\":{\"colorbar\":{\"outlinewidth\":0,\"ticks\":\"\"}}}],\"histogram\":[{\"marker\":{\"pattern\":{\"fillmode\":\"overlay\",\"size\":10,\"solidity\":0.2}},\"type\":\"histogram\"}],\"scattergl\":[{\"type\":\"scattergl\",\"marker\":{\"colorbar\":{\"outlinewidth\":0,\"ticks\":\"\"}}}],\"scatter3d\":[{\"type\":\"scatter3d\",\"line\":{\"colorbar\":{\"outlinewidth\":0,\"ticks\":\"\"}},\"marker\":{\"colorbar\":{\"outlinewidth\":0,\"ticks\":\"\"}}}],\"scattermapbox\":[{\"type\":\"scattermapbox\",\"marker\":{\"colorbar\":{\"outlinewidth\":0,\"ticks\":\"\"}}}],\"scatterternary\":[{\"type\":\"scatterternary\",\"marker\":{\"colorbar\":{\"outlinewidth\":0,\"ticks\":\"\"}}}],\"scattercarpet\":[{\"type\":\"scattercarpet\",\"marker\":{\"colorbar\":{\"outlinewidth\":0,\"ticks\":\"\"}}}],\"carpet\":[{\"aaxis\":{\"endlinecolor\":\"#2a3f5f\",\"gridcolor\":\"white\",\"linecolor\":\"white\",\"minorgridcolor\":\"white\",\"startlinecolor\":\"#2a3f5f\"},\"baxis\":{\"endlinecolor\":\"#2a3f5f\",\"gridcolor\":\"white\",\"linecolor\":\"white\",\"minorgridcolor\":\"white\",\"startlinecolor\":\"#2a3f5f\"},\"type\":\"carpet\"}],\"table\":[{\"cells\":{\"fill\":{\"color\":\"#EBF0F8\"},\"line\":{\"color\":\"white\"}},\"header\":{\"fill\":{\"color\":\"#C8D4E3\"},\"line\":{\"color\":\"white\"}},\"type\":\"table\"}],\"barpolar\":[{\"marker\":{\"line\":{\"color\":\"#E5ECF6\",\"width\":0.5},\"pattern\":{\"fillmode\":\"overlay\",\"size\":10,\"solidity\":0.2}},\"type\":\"barpolar\"}],\"pie\":[{\"automargin\":true,\"type\":\"pie\"}]},\"layout\":{\"autotypenumbers\":\"strict\",\"colorway\":[\"#636efa\",\"#EF553B\",\"#00cc96\",\"#ab63fa\",\"#FFA15A\",\"#19d3f3\",\"#FF6692\",\"#B6E880\",\"#FF97FF\",\"#FECB52\"],\"font\":{\"color\":\"#2a3f5f\"},\"hovermode\":\"closest\",\"hoverlabel\":{\"align\":\"left\"},\"paper_bgcolor\":\"white\",\"plot_bgcolor\":\"#E5ECF6\",\"polar\":{\"bgcolor\":\"#E5ECF6\",\"angularaxis\":{\"gridcolor\":\"white\",\"linecolor\":\"white\",\"ticks\":\"\"},\"radialaxis\":{\"gridcolor\":\"white\",\"linecolor\":\"white\",\"ticks\":\"\"}},\"ternary\":{\"bgcolor\":\"#E5ECF6\",\"aaxis\":{\"gridcolor\":\"white\",\"linecolor\":\"white\",\"ticks\":\"\"},\"baxis\":{\"gridcolor\":\"white\",\"linecolor\":\"white\",\"ticks\":\"\"},\"caxis\":{\"gridcolor\":\"white\",\"linecolor\":\"white\",\"ticks\":\"\"}},\"coloraxis\":{\"colorbar\":{\"outlinewidth\":0,\"ticks\":\"\"}},\"colorscale\":{\"sequential\":[[0.0,\"#0d0887\"],[0.1111111111111111,\"#46039f\"],[0.2222222222222222,\"#7201a8\"],[0.3333333333333333,\"#9c179e\"],[0.4444444444444444,\"#bd3786\"],[0.5555555555555556,\"#d8576b\"],[0.6666666666666666,\"#ed7953\"],[0.7777777777777778,\"#fb9f3a\"],[0.8888888888888888,\"#fdca26\"],[1.0,\"#f0f921\"]],\"sequentialminus\":[[0.0,\"#0d0887\"],[0.1111111111111111,\"#46039f\"],[0.2222222222222222,\"#7201a8\"],[0.3333333333333333,\"#9c179e\"],[0.4444444444444444,\"#bd3786\"],[0.5555555555555556,\"#d8576b\"],[0.6666666666666666,\"#ed7953\"],[0.7777777777777778,\"#fb9f3a\"],[0.8888888888888888,\"#fdca26\"],[1.0,\"#f0f921\"]],\"diverging\":[[0,\"#8e0152\"],[0.1,\"#c51b7d\"],[0.2,\"#de77ae\"],[0.3,\"#f1b6da\"],[0.4,\"#fde0ef\"],[0.5,\"#f7f7f7\"],[0.6,\"#e6f5d0\"],[0.7,\"#b8e186\"],[0.8,\"#7fbc41\"],[0.9,\"#4d9221\"],[1,\"#276419\"]]},\"xaxis\":{\"gridcolor\":\"white\",\"linecolor\":\"white\",\"ticks\":\"\",\"title\":{\"standoff\":15},\"zerolinecolor\":\"white\",\"automargin\":true,\"zerolinewidth\":2},\"yaxis\":{\"gridcolor\":\"white\",\"linecolor\":\"white\",\"ticks\":\"\",\"title\":{\"standoff\":15},\"zerolinecolor\":\"white\",\"automargin\":true,\"zerolinewidth\":2},\"scene\":{\"xaxis\":{\"backgroundcolor\":\"#E5ECF6\",\"gridcolor\":\"white\",\"linecolor\":\"white\",\"showbackground\":true,\"ticks\":\"\",\"zerolinecolor\":\"white\",\"gridwidth\":2},\"yaxis\":{\"backgroundcolor\":\"#E5ECF6\",\"gridcolor\":\"white\",\"linecolor\":\"white\",\"showbackground\":true,\"ticks\":\"\",\"zerolinecolor\":\"white\",\"gridwidth\":2},\"zaxis\":{\"backgroundcolor\":\"#E5ECF6\",\"gridcolor\":\"white\",\"linecolor\":\"white\",\"showbackground\":true,\"ticks\":\"\",\"zerolinecolor\":\"white\",\"gridwidth\":2}},\"shapedefaults\":{\"line\":{\"color\":\"#2a3f5f\"}},\"annotationdefaults\":{\"arrowcolor\":\"#2a3f5f\",\"arrowhead\":0,\"arrowwidth\":1},\"geo\":{\"bgcolor\":\"white\",\"landcolor\":\"#E5ECF6\",\"subunitcolor\":\"white\",\"showland\":true,\"showlakes\":true,\"lakecolor\":\"white\"},\"title\":{\"x\":0.05},\"mapbox\":{\"style\":\"light\"}}},\"title\":{\"text\":\"Crypto Flow\"},\"font\":{\"size\":10}},                        {\"responsive\": true}                    ).then(function(){\n",
       "                            \n",
       "var gd = document.getElementById('5dffccf1-caff-454e-ad0a-7fe13058cb50');\n",
       "var x = new MutationObserver(function (mutations, observer) {{\n",
       "        var display = window.getComputedStyle(gd).display;\n",
       "        if (!display || display === 'none') {{\n",
       "            console.log([gd, 'removed!']);\n",
       "            Plotly.purge(gd);\n",
       "            observer.disconnect();\n",
       "        }}\n",
       "}});\n",
       "\n",
       "// Listen for the removal of the full notebook cells\n",
       "var notebookContainer = gd.closest('#notebook-container');\n",
       "if (notebookContainer) {{\n",
       "    x.observe(notebookContainer, {childList: true});\n",
       "}}\n",
       "\n",
       "// Listen for the clearing of the current output cell\n",
       "var outputEl = gd.closest('.output');\n",
       "if (outputEl) {{\n",
       "    x.observe(outputEl, {childList: true});\n",
       "}}\n",
       "\n",
       "                        })                };                });            </script>        </div>"
      ]
     },
     "metadata": {},
     "output_type": "display_data"
    }
   ],
   "source": [
    "# This shows via Sankey diagram the crypto trading flow between different jurisdictions\n",
    "pairs = expanded_df.copy()\n",
    "grouped_df = pairs.groupby(['src_jurisdictions', 'dst_jurisdictions'])['value_USD'].sum()\n",
    "src_countries = list(grouped_df.index.get_level_values(0).unique())\n",
    "dst_countries = list(grouped_df.index.get_level_values(1).unique())\n",
    "all_countries = list(set(src_countries + dst_countries))\n",
    "\n",
    "countries_index = {}\n",
    "for i, country in enumerate(all_countries):\n",
    "    countries_index[country] = i\n",
    "\n",
    "sources = []\n",
    "target = []\n",
    "values = []\n",
    "for element in grouped_df.index:\n",
    "    src = element[0]\n",
    "    dst = element[1]\n",
    "    value = grouped_df[element]\n",
    "    \n",
    "    #if value > 5000000000:\n",
    "    if dst == 'US' and value > 1000000:\n",
    "        sources.append(countries_index[src])\n",
    "        target.append(countries_index[dst] + len(countries_index))\n",
    "        values.append(value)\n",
    "\n",
    "print(len(values))\n",
    "# Sankey Diagram\n",
    "fig = go.Figure(data=[go.Sankey(\n",
    "    node = dict(\n",
    "      pad = 15,\n",
    "      thickness = 20,\n",
    "      line = dict(color = \"black\", width = 0.5),\n",
    "      label = all_countries + all_countries,\n",
    "      color = \"gray\"\n",
    "    ),\n",
    "    link = dict(\n",
    "      source = sources, # indices correspond to labels, eg A1, A2, A1, B1, ...\n",
    "      target = target,\n",
    "      value = values\n",
    "  ))])\n",
    "\n",
    "fig.update_layout(title_text=\"Crypto Flow\", font_size=10)\n",
    "fig.show()"
   ]
  },
  {
   "cell_type": "code",
   "execution_count": 54,
   "metadata": {},
   "outputs": [
    {
     "data": {
      "text/html": [
       "<div>\n",
       "<style scoped>\n",
       "    .dataframe tbody tr th:only-of-type {\n",
       "        vertical-align: middle;\n",
       "    }\n",
       "\n",
       "    .dataframe tbody tr th {\n",
       "        vertical-align: top;\n",
       "    }\n",
       "\n",
       "    .dataframe thead th {\n",
       "        text-align: right;\n",
       "    }\n",
       "</style>\n",
       "<table border=\"1\" class=\"dataframe\">\n",
       "  <thead>\n",
       "    <tr style=\"text-align: right;\">\n",
       "      <th></th>\n",
       "      <th>src_id</th>\n",
       "      <th>dst_id</th>\n",
       "      <th>value_asset</th>\n",
       "      <th>value_USD</th>\n",
       "      <th>date</th>\n",
       "      <th>src_uri</th>\n",
       "      <th>src_label</th>\n",
       "      <th>src_jurisdictions</th>\n",
       "      <th>src_categories</th>\n",
       "      <th>dst_uri</th>\n",
       "      <th>...</th>\n",
       "      <th>src_alpha-2</th>\n",
       "      <th>src_alpha-3</th>\n",
       "      <th>src_country-code</th>\n",
       "      <th>src_iso_3166-2</th>\n",
       "      <th>src_region</th>\n",
       "      <th>src_sub-region</th>\n",
       "      <th>src_intermediate-region</th>\n",
       "      <th>src_region-code</th>\n",
       "      <th>src_sub-region-code</th>\n",
       "      <th>src_intermediate-region-code</th>\n",
       "    </tr>\n",
       "  </thead>\n",
       "  <tbody>\n",
       "    <tr>\n",
       "      <th>0</th>\n",
       "      <td>1coin</td>\n",
       "      <td>1coin</td>\n",
       "      <td>8.347502e+07</td>\n",
       "      <td>523.143599</td>\n",
       "      <td>2014-03-14</td>\n",
       "      <td>1coin.io</td>\n",
       "      <td>1Coin</td>\n",
       "      <td>US</td>\n",
       "      <td>exchange</td>\n",
       "      <td>1coin.io</td>\n",
       "      <td>...</td>\n",
       "      <td>US</td>\n",
       "      <td>USA</td>\n",
       "      <td>840</td>\n",
       "      <td>ISO 3166-2:US</td>\n",
       "      <td>Americas</td>\n",
       "      <td>Northern America</td>\n",
       "      <td>NaN</td>\n",
       "      <td>19.0</td>\n",
       "      <td>21.0</td>\n",
       "      <td>NaN</td>\n",
       "    </tr>\n",
       "    <tr>\n",
       "      <th>1</th>\n",
       "      <td>cryptsy</td>\n",
       "      <td>bitfinex</td>\n",
       "      <td>1.298855e+08</td>\n",
       "      <td>814.000978</td>\n",
       "      <td>2014-03-14</td>\n",
       "      <td>cryptsy.com</td>\n",
       "      <td>Cryptsy</td>\n",
       "      <td>US</td>\n",
       "      <td>exchange</td>\n",
       "      <td>bitfinex.com</td>\n",
       "      <td>...</td>\n",
       "      <td>US</td>\n",
       "      <td>USA</td>\n",
       "      <td>840</td>\n",
       "      <td>ISO 3166-2:US</td>\n",
       "      <td>Americas</td>\n",
       "      <td>Northern America</td>\n",
       "      <td>NaN</td>\n",
       "      <td>19.0</td>\n",
       "      <td>21.0</td>\n",
       "      <td>NaN</td>\n",
       "    </tr>\n",
       "    <tr>\n",
       "      <th>2</th>\n",
       "      <td>kraken</td>\n",
       "      <td>bitfinex</td>\n",
       "      <td>7.678250e+08</td>\n",
       "      <td>4812.011049</td>\n",
       "      <td>2014-03-14</td>\n",
       "      <td>kraken.com</td>\n",
       "      <td>Kraken</td>\n",
       "      <td>US</td>\n",
       "      <td>exchange, organization</td>\n",
       "      <td>bitfinex.com</td>\n",
       "      <td>...</td>\n",
       "      <td>US</td>\n",
       "      <td>USA</td>\n",
       "      <td>840</td>\n",
       "      <td>ISO 3166-2:US</td>\n",
       "      <td>Americas</td>\n",
       "      <td>Northern America</td>\n",
       "      <td>NaN</td>\n",
       "      <td>19.0</td>\n",
       "      <td>21.0</td>\n",
       "      <td>NaN</td>\n",
       "    </tr>\n",
       "    <tr>\n",
       "      <th>3</th>\n",
       "      <td>cryptsy</td>\n",
       "      <td>bitstamp</td>\n",
       "      <td>1.011032e+09</td>\n",
       "      <td>6336.204465</td>\n",
       "      <td>2014-03-14</td>\n",
       "      <td>cryptsy.com</td>\n",
       "      <td>Cryptsy</td>\n",
       "      <td>US</td>\n",
       "      <td>exchange</td>\n",
       "      <td>bitstamp.net</td>\n",
       "      <td>...</td>\n",
       "      <td>US</td>\n",
       "      <td>USA</td>\n",
       "      <td>840</td>\n",
       "      <td>ISO 3166-2:US</td>\n",
       "      <td>Americas</td>\n",
       "      <td>Northern America</td>\n",
       "      <td>NaN</td>\n",
       "      <td>19.0</td>\n",
       "      <td>21.0</td>\n",
       "      <td>NaN</td>\n",
       "    </tr>\n",
       "    <tr>\n",
       "      <th>4</th>\n",
       "      <td>orderbook</td>\n",
       "      <td>bitstamp</td>\n",
       "      <td>6.000000e+09</td>\n",
       "      <td>37602.404598</td>\n",
       "      <td>2014-03-14</td>\n",
       "      <td>orderbook.net</td>\n",
       "      <td>Orderbook</td>\n",
       "      <td>US</td>\n",
       "      <td>exchange</td>\n",
       "      <td>bitstamp.net</td>\n",
       "      <td>...</td>\n",
       "      <td>US</td>\n",
       "      <td>USA</td>\n",
       "      <td>840</td>\n",
       "      <td>ISO 3166-2:US</td>\n",
       "      <td>Americas</td>\n",
       "      <td>Northern America</td>\n",
       "      <td>NaN</td>\n",
       "      <td>19.0</td>\n",
       "      <td>21.0</td>\n",
       "      <td>NaN</td>\n",
       "    </tr>\n",
       "    <tr>\n",
       "      <th>...</th>\n",
       "      <td>...</td>\n",
       "      <td>...</td>\n",
       "      <td>...</td>\n",
       "      <td>...</td>\n",
       "      <td>...</td>\n",
       "      <td>...</td>\n",
       "      <td>...</td>\n",
       "      <td>...</td>\n",
       "      <td>...</td>\n",
       "      <td>...</td>\n",
       "      <td>...</td>\n",
       "      <td>...</td>\n",
       "      <td>...</td>\n",
       "      <td>...</td>\n",
       "      <td>...</td>\n",
       "      <td>...</td>\n",
       "      <td>...</td>\n",
       "      <td>...</td>\n",
       "      <td>...</td>\n",
       "      <td>...</td>\n",
       "      <td>...</td>\n",
       "    </tr>\n",
       "    <tr>\n",
       "      <th>1013731</th>\n",
       "      <td>swapzone</td>\n",
       "      <td>binance</td>\n",
       "      <td>6.483743e+07</td>\n",
       "      <td>18370.423030</td>\n",
       "      <td>2023-04-09</td>\n",
       "      <td>swapzone.io</td>\n",
       "      <td>Swapzone</td>\n",
       "      <td>GE</td>\n",
       "      <td>defi_dex, exchange</td>\n",
       "      <td>binance.com</td>\n",
       "      <td>...</td>\n",
       "      <td>GE</td>\n",
       "      <td>GEO</td>\n",
       "      <td>268</td>\n",
       "      <td>ISO 3166-2:GE</td>\n",
       "      <td>Asia</td>\n",
       "      <td>Western Asia</td>\n",
       "      <td>NaN</td>\n",
       "      <td>142.0</td>\n",
       "      <td>145.0</td>\n",
       "      <td>NaN</td>\n",
       "    </tr>\n",
       "    <tr>\n",
       "      <th>1013732</th>\n",
       "      <td>swapzone</td>\n",
       "      <td>binance</td>\n",
       "      <td>6.483743e+07</td>\n",
       "      <td>18370.423030</td>\n",
       "      <td>2023-04-09</td>\n",
       "      <td>swapzone.io</td>\n",
       "      <td>Swapzone</td>\n",
       "      <td>GE</td>\n",
       "      <td>defi_dex, exchange</td>\n",
       "      <td>binance.com</td>\n",
       "      <td>...</td>\n",
       "      <td>GE</td>\n",
       "      <td>GEO</td>\n",
       "      <td>268</td>\n",
       "      <td>ISO 3166-2:GE</td>\n",
       "      <td>Asia</td>\n",
       "      <td>Western Asia</td>\n",
       "      <td>NaN</td>\n",
       "      <td>142.0</td>\n",
       "      <td>145.0</td>\n",
       "      <td>NaN</td>\n",
       "    </tr>\n",
       "    <tr>\n",
       "      <th>1013733</th>\n",
       "      <td>swapzone</td>\n",
       "      <td>binance</td>\n",
       "      <td>6.483743e+07</td>\n",
       "      <td>18370.423030</td>\n",
       "      <td>2023-04-09</td>\n",
       "      <td>swapzone.io</td>\n",
       "      <td>Swapzone</td>\n",
       "      <td>GE</td>\n",
       "      <td>defi_dex, exchange</td>\n",
       "      <td>binance.com</td>\n",
       "      <td>...</td>\n",
       "      <td>GE</td>\n",
       "      <td>GEO</td>\n",
       "      <td>268</td>\n",
       "      <td>ISO 3166-2:GE</td>\n",
       "      <td>Asia</td>\n",
       "      <td>Western Asia</td>\n",
       "      <td>NaN</td>\n",
       "      <td>142.0</td>\n",
       "      <td>145.0</td>\n",
       "      <td>NaN</td>\n",
       "    </tr>\n",
       "    <tr>\n",
       "      <th>1013734</th>\n",
       "      <td>swapzone</td>\n",
       "      <td>binance</td>\n",
       "      <td>6.483743e+07</td>\n",
       "      <td>18370.423030</td>\n",
       "      <td>2023-04-09</td>\n",
       "      <td>swapzone.io</td>\n",
       "      <td>Swapzone</td>\n",
       "      <td>GE</td>\n",
       "      <td>defi_dex, exchange</td>\n",
       "      <td>binance.com</td>\n",
       "      <td>...</td>\n",
       "      <td>GE</td>\n",
       "      <td>GEO</td>\n",
       "      <td>268</td>\n",
       "      <td>ISO 3166-2:GE</td>\n",
       "      <td>Asia</td>\n",
       "      <td>Western Asia</td>\n",
       "      <td>NaN</td>\n",
       "      <td>142.0</td>\n",
       "      <td>145.0</td>\n",
       "      <td>NaN</td>\n",
       "    </tr>\n",
       "    <tr>\n",
       "      <th>1013735</th>\n",
       "      <td>swapzone</td>\n",
       "      <td>binance</td>\n",
       "      <td>6.483743e+07</td>\n",
       "      <td>18370.423030</td>\n",
       "      <td>2023-04-09</td>\n",
       "      <td>swapzone.io</td>\n",
       "      <td>Swapzone</td>\n",
       "      <td>GE</td>\n",
       "      <td>defi_dex, exchange</td>\n",
       "      <td>binance.com</td>\n",
       "      <td>...</td>\n",
       "      <td>GE</td>\n",
       "      <td>GEO</td>\n",
       "      <td>268</td>\n",
       "      <td>ISO 3166-2:GE</td>\n",
       "      <td>Asia</td>\n",
       "      <td>Western Asia</td>\n",
       "      <td>NaN</td>\n",
       "      <td>142.0</td>\n",
       "      <td>145.0</td>\n",
       "      <td>NaN</td>\n",
       "    </tr>\n",
       "  </tbody>\n",
       "</table>\n",
       "<p>1013736 rows × 27 columns</p>\n",
       "</div>"
      ],
      "text/plain": [
       "            src_id    dst_id   value_asset     value_USD       date  \\\n",
       "0            1coin     1coin  8.347502e+07    523.143599 2014-03-14   \n",
       "1          cryptsy  bitfinex  1.298855e+08    814.000978 2014-03-14   \n",
       "2           kraken  bitfinex  7.678250e+08   4812.011049 2014-03-14   \n",
       "3          cryptsy  bitstamp  1.011032e+09   6336.204465 2014-03-14   \n",
       "4        orderbook  bitstamp  6.000000e+09  37602.404598 2014-03-14   \n",
       "...            ...       ...           ...           ...        ...   \n",
       "1013731   swapzone   binance  6.483743e+07  18370.423030 2023-04-09   \n",
       "1013732   swapzone   binance  6.483743e+07  18370.423030 2023-04-09   \n",
       "1013733   swapzone   binance  6.483743e+07  18370.423030 2023-04-09   \n",
       "1013734   swapzone   binance  6.483743e+07  18370.423030 2023-04-09   \n",
       "1013735   swapzone   binance  6.483743e+07  18370.423030 2023-04-09   \n",
       "\n",
       "               src_uri  src_label src_jurisdictions          src_categories  \\\n",
       "0             1coin.io      1Coin                US                exchange   \n",
       "1          cryptsy.com    Cryptsy                US                exchange   \n",
       "2           kraken.com     Kraken                US  exchange, organization   \n",
       "3          cryptsy.com    Cryptsy                US                exchange   \n",
       "4        orderbook.net  Orderbook                US                exchange   \n",
       "...                ...        ...               ...                     ...   \n",
       "1013731    swapzone.io   Swapzone                GE      defi_dex, exchange   \n",
       "1013732    swapzone.io   Swapzone                GE      defi_dex, exchange   \n",
       "1013733    swapzone.io   Swapzone                GE      defi_dex, exchange   \n",
       "1013734    swapzone.io   Swapzone                GE      defi_dex, exchange   \n",
       "1013735    swapzone.io   Swapzone                GE      defi_dex, exchange   \n",
       "\n",
       "              dst_uri  ... src_alpha-2 src_alpha-3 src_country-code  \\\n",
       "0            1coin.io  ...          US         USA              840   \n",
       "1        bitfinex.com  ...          US         USA              840   \n",
       "2        bitfinex.com  ...          US         USA              840   \n",
       "3        bitstamp.net  ...          US         USA              840   \n",
       "4        bitstamp.net  ...          US         USA              840   \n",
       "...               ...  ...         ...         ...              ...   \n",
       "1013731   binance.com  ...          GE         GEO              268   \n",
       "1013732   binance.com  ...          GE         GEO              268   \n",
       "1013733   binance.com  ...          GE         GEO              268   \n",
       "1013734   binance.com  ...          GE         GEO              268   \n",
       "1013735   binance.com  ...          GE         GEO              268   \n",
       "\n",
       "         src_iso_3166-2  src_region    src_sub-region src_intermediate-region  \\\n",
       "0         ISO 3166-2:US    Americas  Northern America                     NaN   \n",
       "1         ISO 3166-2:US    Americas  Northern America                     NaN   \n",
       "2         ISO 3166-2:US    Americas  Northern America                     NaN   \n",
       "3         ISO 3166-2:US    Americas  Northern America                     NaN   \n",
       "4         ISO 3166-2:US    Americas  Northern America                     NaN   \n",
       "...                 ...         ...               ...                     ...   \n",
       "1013731   ISO 3166-2:GE        Asia      Western Asia                     NaN   \n",
       "1013732   ISO 3166-2:GE        Asia      Western Asia                     NaN   \n",
       "1013733   ISO 3166-2:GE        Asia      Western Asia                     NaN   \n",
       "1013734   ISO 3166-2:GE        Asia      Western Asia                     NaN   \n",
       "1013735   ISO 3166-2:GE        Asia      Western Asia                     NaN   \n",
       "\n",
       "        src_region-code src_sub-region-code  src_intermediate-region-code  \n",
       "0                  19.0                21.0                           NaN  \n",
       "1                  19.0                21.0                           NaN  \n",
       "2                  19.0                21.0                           NaN  \n",
       "3                  19.0                21.0                           NaN  \n",
       "4                  19.0                21.0                           NaN  \n",
       "...                 ...                 ...                           ...  \n",
       "1013731           142.0               145.0                           NaN  \n",
       "1013732           142.0               145.0                           NaN  \n",
       "1013733           142.0               145.0                           NaN  \n",
       "1013734           142.0               145.0                           NaN  \n",
       "1013735           142.0               145.0                           NaN  \n",
       "\n",
       "[1013736 rows x 27 columns]"
      ]
     },
     "execution_count": 54,
     "metadata": {},
     "output_type": "execute_result"
    }
   ],
   "source": [
    "expanded_df"
   ]
  },
  {
   "cell_type": "code",
   "execution_count": 64,
   "metadata": {},
   "outputs": [
    {
     "data": {
      "application/vnd.plotly.v1+json": {
       "config": {
        "plotlyServerURL": "https://plot.ly"
       },
       "data": [
        {
         "link": {
          "source": [
           0,
           0,
           0,
           0,
           0,
           4,
           4,
           4,
           4,
           4,
           2,
           2,
           2,
           2,
           2,
           1,
           1,
           1,
           1,
           1,
           3,
           3,
           3,
           3,
           3
          ],
          "target": [
           5,
           9,
           7,
           6,
           8,
           5,
           9,
           7,
           6,
           8,
           5,
           9,
           7,
           6,
           8,
           5,
           9,
           7,
           6,
           8,
           5,
           9,
           7,
           6,
           8
          ],
          "value": [
           842435001.0854516,
           5397148387.399818,
           3932561895.2625437,
           3939405665.838738,
           1211003546.5985475,
           2921478552.9340515,
           4036413136.870239,
           5469587599.523941,
           7048157860.979701,
           1790253677.8458545,
           2881623914.5319004,
           6525379668.006509,
           4492446261.974566,
           7367305071.394679,
           2153238176.81887,
           3475299334.4555626,
           8984388176.376215,
           8101256971.3761215,
           8039118344.804351,
           3035784606.685642,
           1065645860.5029789,
           2421806749.8192277,
           2385196506.800864,
           3031744639.005359,
           485470065.86716723
          ]
         },
         "node": {
          "color": [
           "gray",
           "green",
           "blue",
           "red",
           "yellow",
           "gray",
           "green",
           "blue",
           "red",
           "yellow"
          ],
          "label": [
           "Africa",
           "Europe",
           "Asia",
           "Oceania",
           "Americas",
           "Africa",
           "Europe",
           "Asia",
           "Oceania",
           "Americas"
          ],
          "line": {
           "color": "black",
           "width": 0.5
          },
          "pad": 15,
          "thickness": 20
         },
         "type": "sankey"
        }
       ],
       "layout": {
        "font": {
         "size": 10
        },
        "template": {
         "data": {
          "bar": [
           {
            "error_x": {
             "color": "#2a3f5f"
            },
            "error_y": {
             "color": "#2a3f5f"
            },
            "marker": {
             "line": {
              "color": "#E5ECF6",
              "width": 0.5
             },
             "pattern": {
              "fillmode": "overlay",
              "size": 10,
              "solidity": 0.2
             }
            },
            "type": "bar"
           }
          ],
          "barpolar": [
           {
            "marker": {
             "line": {
              "color": "#E5ECF6",
              "width": 0.5
             },
             "pattern": {
              "fillmode": "overlay",
              "size": 10,
              "solidity": 0.2
             }
            },
            "type": "barpolar"
           }
          ],
          "carpet": [
           {
            "aaxis": {
             "endlinecolor": "#2a3f5f",
             "gridcolor": "white",
             "linecolor": "white",
             "minorgridcolor": "white",
             "startlinecolor": "#2a3f5f"
            },
            "baxis": {
             "endlinecolor": "#2a3f5f",
             "gridcolor": "white",
             "linecolor": "white",
             "minorgridcolor": "white",
             "startlinecolor": "#2a3f5f"
            },
            "type": "carpet"
           }
          ],
          "choropleth": [
           {
            "colorbar": {
             "outlinewidth": 0,
             "ticks": ""
            },
            "type": "choropleth"
           }
          ],
          "contour": [
           {
            "colorbar": {
             "outlinewidth": 0,
             "ticks": ""
            },
            "colorscale": [
             [
              0,
              "#0d0887"
             ],
             [
              0.1111111111111111,
              "#46039f"
             ],
             [
              0.2222222222222222,
              "#7201a8"
             ],
             [
              0.3333333333333333,
              "#9c179e"
             ],
             [
              0.4444444444444444,
              "#bd3786"
             ],
             [
              0.5555555555555556,
              "#d8576b"
             ],
             [
              0.6666666666666666,
              "#ed7953"
             ],
             [
              0.7777777777777778,
              "#fb9f3a"
             ],
             [
              0.8888888888888888,
              "#fdca26"
             ],
             [
              1,
              "#f0f921"
             ]
            ],
            "type": "contour"
           }
          ],
          "contourcarpet": [
           {
            "colorbar": {
             "outlinewidth": 0,
             "ticks": ""
            },
            "type": "contourcarpet"
           }
          ],
          "heatmap": [
           {
            "colorbar": {
             "outlinewidth": 0,
             "ticks": ""
            },
            "colorscale": [
             [
              0,
              "#0d0887"
             ],
             [
              0.1111111111111111,
              "#46039f"
             ],
             [
              0.2222222222222222,
              "#7201a8"
             ],
             [
              0.3333333333333333,
              "#9c179e"
             ],
             [
              0.4444444444444444,
              "#bd3786"
             ],
             [
              0.5555555555555556,
              "#d8576b"
             ],
             [
              0.6666666666666666,
              "#ed7953"
             ],
             [
              0.7777777777777778,
              "#fb9f3a"
             ],
             [
              0.8888888888888888,
              "#fdca26"
             ],
             [
              1,
              "#f0f921"
             ]
            ],
            "type": "heatmap"
           }
          ],
          "heatmapgl": [
           {
            "colorbar": {
             "outlinewidth": 0,
             "ticks": ""
            },
            "colorscale": [
             [
              0,
              "#0d0887"
             ],
             [
              0.1111111111111111,
              "#46039f"
             ],
             [
              0.2222222222222222,
              "#7201a8"
             ],
             [
              0.3333333333333333,
              "#9c179e"
             ],
             [
              0.4444444444444444,
              "#bd3786"
             ],
             [
              0.5555555555555556,
              "#d8576b"
             ],
             [
              0.6666666666666666,
              "#ed7953"
             ],
             [
              0.7777777777777778,
              "#fb9f3a"
             ],
             [
              0.8888888888888888,
              "#fdca26"
             ],
             [
              1,
              "#f0f921"
             ]
            ],
            "type": "heatmapgl"
           }
          ],
          "histogram": [
           {
            "marker": {
             "pattern": {
              "fillmode": "overlay",
              "size": 10,
              "solidity": 0.2
             }
            },
            "type": "histogram"
           }
          ],
          "histogram2d": [
           {
            "colorbar": {
             "outlinewidth": 0,
             "ticks": ""
            },
            "colorscale": [
             [
              0,
              "#0d0887"
             ],
             [
              0.1111111111111111,
              "#46039f"
             ],
             [
              0.2222222222222222,
              "#7201a8"
             ],
             [
              0.3333333333333333,
              "#9c179e"
             ],
             [
              0.4444444444444444,
              "#bd3786"
             ],
             [
              0.5555555555555556,
              "#d8576b"
             ],
             [
              0.6666666666666666,
              "#ed7953"
             ],
             [
              0.7777777777777778,
              "#fb9f3a"
             ],
             [
              0.8888888888888888,
              "#fdca26"
             ],
             [
              1,
              "#f0f921"
             ]
            ],
            "type": "histogram2d"
           }
          ],
          "histogram2dcontour": [
           {
            "colorbar": {
             "outlinewidth": 0,
             "ticks": ""
            },
            "colorscale": [
             [
              0,
              "#0d0887"
             ],
             [
              0.1111111111111111,
              "#46039f"
             ],
             [
              0.2222222222222222,
              "#7201a8"
             ],
             [
              0.3333333333333333,
              "#9c179e"
             ],
             [
              0.4444444444444444,
              "#bd3786"
             ],
             [
              0.5555555555555556,
              "#d8576b"
             ],
             [
              0.6666666666666666,
              "#ed7953"
             ],
             [
              0.7777777777777778,
              "#fb9f3a"
             ],
             [
              0.8888888888888888,
              "#fdca26"
             ],
             [
              1,
              "#f0f921"
             ]
            ],
            "type": "histogram2dcontour"
           }
          ],
          "mesh3d": [
           {
            "colorbar": {
             "outlinewidth": 0,
             "ticks": ""
            },
            "type": "mesh3d"
           }
          ],
          "parcoords": [
           {
            "line": {
             "colorbar": {
              "outlinewidth": 0,
              "ticks": ""
             }
            },
            "type": "parcoords"
           }
          ],
          "pie": [
           {
            "automargin": true,
            "type": "pie"
           }
          ],
          "scatter": [
           {
            "fillpattern": {
             "fillmode": "overlay",
             "size": 10,
             "solidity": 0.2
            },
            "type": "scatter"
           }
          ],
          "scatter3d": [
           {
            "line": {
             "colorbar": {
              "outlinewidth": 0,
              "ticks": ""
             }
            },
            "marker": {
             "colorbar": {
              "outlinewidth": 0,
              "ticks": ""
             }
            },
            "type": "scatter3d"
           }
          ],
          "scattercarpet": [
           {
            "marker": {
             "colorbar": {
              "outlinewidth": 0,
              "ticks": ""
             }
            },
            "type": "scattercarpet"
           }
          ],
          "scattergeo": [
           {
            "marker": {
             "colorbar": {
              "outlinewidth": 0,
              "ticks": ""
             }
            },
            "type": "scattergeo"
           }
          ],
          "scattergl": [
           {
            "marker": {
             "colorbar": {
              "outlinewidth": 0,
              "ticks": ""
             }
            },
            "type": "scattergl"
           }
          ],
          "scattermapbox": [
           {
            "marker": {
             "colorbar": {
              "outlinewidth": 0,
              "ticks": ""
             }
            },
            "type": "scattermapbox"
           }
          ],
          "scatterpolar": [
           {
            "marker": {
             "colorbar": {
              "outlinewidth": 0,
              "ticks": ""
             }
            },
            "type": "scatterpolar"
           }
          ],
          "scatterpolargl": [
           {
            "marker": {
             "colorbar": {
              "outlinewidth": 0,
              "ticks": ""
             }
            },
            "type": "scatterpolargl"
           }
          ],
          "scatterternary": [
           {
            "marker": {
             "colorbar": {
              "outlinewidth": 0,
              "ticks": ""
             }
            },
            "type": "scatterternary"
           }
          ],
          "surface": [
           {
            "colorbar": {
             "outlinewidth": 0,
             "ticks": ""
            },
            "colorscale": [
             [
              0,
              "#0d0887"
             ],
             [
              0.1111111111111111,
              "#46039f"
             ],
             [
              0.2222222222222222,
              "#7201a8"
             ],
             [
              0.3333333333333333,
              "#9c179e"
             ],
             [
              0.4444444444444444,
              "#bd3786"
             ],
             [
              0.5555555555555556,
              "#d8576b"
             ],
             [
              0.6666666666666666,
              "#ed7953"
             ],
             [
              0.7777777777777778,
              "#fb9f3a"
             ],
             [
              0.8888888888888888,
              "#fdca26"
             ],
             [
              1,
              "#f0f921"
             ]
            ],
            "type": "surface"
           }
          ],
          "table": [
           {
            "cells": {
             "fill": {
              "color": "#EBF0F8"
             },
             "line": {
              "color": "white"
             }
            },
            "header": {
             "fill": {
              "color": "#C8D4E3"
             },
             "line": {
              "color": "white"
             }
            },
            "type": "table"
           }
          ]
         },
         "layout": {
          "annotationdefaults": {
           "arrowcolor": "#2a3f5f",
           "arrowhead": 0,
           "arrowwidth": 1
          },
          "autotypenumbers": "strict",
          "coloraxis": {
           "colorbar": {
            "outlinewidth": 0,
            "ticks": ""
           }
          },
          "colorscale": {
           "diverging": [
            [
             0,
             "#8e0152"
            ],
            [
             0.1,
             "#c51b7d"
            ],
            [
             0.2,
             "#de77ae"
            ],
            [
             0.3,
             "#f1b6da"
            ],
            [
             0.4,
             "#fde0ef"
            ],
            [
             0.5,
             "#f7f7f7"
            ],
            [
             0.6,
             "#e6f5d0"
            ],
            [
             0.7,
             "#b8e186"
            ],
            [
             0.8,
             "#7fbc41"
            ],
            [
             0.9,
             "#4d9221"
            ],
            [
             1,
             "#276419"
            ]
           ],
           "sequential": [
            [
             0,
             "#0d0887"
            ],
            [
             0.1111111111111111,
             "#46039f"
            ],
            [
             0.2222222222222222,
             "#7201a8"
            ],
            [
             0.3333333333333333,
             "#9c179e"
            ],
            [
             0.4444444444444444,
             "#bd3786"
            ],
            [
             0.5555555555555556,
             "#d8576b"
            ],
            [
             0.6666666666666666,
             "#ed7953"
            ],
            [
             0.7777777777777778,
             "#fb9f3a"
            ],
            [
             0.8888888888888888,
             "#fdca26"
            ],
            [
             1,
             "#f0f921"
            ]
           ],
           "sequentialminus": [
            [
             0,
             "#0d0887"
            ],
            [
             0.1111111111111111,
             "#46039f"
            ],
            [
             0.2222222222222222,
             "#7201a8"
            ],
            [
             0.3333333333333333,
             "#9c179e"
            ],
            [
             0.4444444444444444,
             "#bd3786"
            ],
            [
             0.5555555555555556,
             "#d8576b"
            ],
            [
             0.6666666666666666,
             "#ed7953"
            ],
            [
             0.7777777777777778,
             "#fb9f3a"
            ],
            [
             0.8888888888888888,
             "#fdca26"
            ],
            [
             1,
             "#f0f921"
            ]
           ]
          },
          "colorway": [
           "#636efa",
           "#EF553B",
           "#00cc96",
           "#ab63fa",
           "#FFA15A",
           "#19d3f3",
           "#FF6692",
           "#B6E880",
           "#FF97FF",
           "#FECB52"
          ],
          "font": {
           "color": "#2a3f5f"
          },
          "geo": {
           "bgcolor": "white",
           "lakecolor": "white",
           "landcolor": "#E5ECF6",
           "showlakes": true,
           "showland": true,
           "subunitcolor": "white"
          },
          "hoverlabel": {
           "align": "left"
          },
          "hovermode": "closest",
          "mapbox": {
           "style": "light"
          },
          "paper_bgcolor": "white",
          "plot_bgcolor": "#E5ECF6",
          "polar": {
           "angularaxis": {
            "gridcolor": "white",
            "linecolor": "white",
            "ticks": ""
           },
           "bgcolor": "#E5ECF6",
           "radialaxis": {
            "gridcolor": "white",
            "linecolor": "white",
            "ticks": ""
           }
          },
          "scene": {
           "xaxis": {
            "backgroundcolor": "#E5ECF6",
            "gridcolor": "white",
            "gridwidth": 2,
            "linecolor": "white",
            "showbackground": true,
            "ticks": "",
            "zerolinecolor": "white"
           },
           "yaxis": {
            "backgroundcolor": "#E5ECF6",
            "gridcolor": "white",
            "gridwidth": 2,
            "linecolor": "white",
            "showbackground": true,
            "ticks": "",
            "zerolinecolor": "white"
           },
           "zaxis": {
            "backgroundcolor": "#E5ECF6",
            "gridcolor": "white",
            "gridwidth": 2,
            "linecolor": "white",
            "showbackground": true,
            "ticks": "",
            "zerolinecolor": "white"
           }
          },
          "shapedefaults": {
           "line": {
            "color": "#2a3f5f"
           }
          },
          "ternary": {
           "aaxis": {
            "gridcolor": "white",
            "linecolor": "white",
            "ticks": ""
           },
           "baxis": {
            "gridcolor": "white",
            "linecolor": "white",
            "ticks": ""
           },
           "bgcolor": "#E5ECF6",
           "caxis": {
            "gridcolor": "white",
            "linecolor": "white",
            "ticks": ""
           }
          },
          "title": {
           "x": 0.05
          },
          "xaxis": {
           "automargin": true,
           "gridcolor": "white",
           "linecolor": "white",
           "ticks": "",
           "title": {
            "standoff": 15
           },
           "zerolinecolor": "white",
           "zerolinewidth": 2
          },
          "yaxis": {
           "automargin": true,
           "gridcolor": "white",
           "linecolor": "white",
           "ticks": "",
           "title": {
            "standoff": 15
           },
           "zerolinecolor": "white",
           "zerolinewidth": 2
          }
         }
        },
        "title": {
         "text": "Regional Crypto Flow"
        }
       }
      },
      "text/html": [
       "<div>                            <div id=\"e98f2dee-8928-460f-b8e2-537736ccec3a\" class=\"plotly-graph-div\" style=\"height:525px; width:100%;\"></div>            <script type=\"text/javascript\">                require([\"plotly\"], function(Plotly) {                    window.PLOTLYENV=window.PLOTLYENV || {};                                    if (document.getElementById(\"e98f2dee-8928-460f-b8e2-537736ccec3a\")) {                    Plotly.newPlot(                        \"e98f2dee-8928-460f-b8e2-537736ccec3a\",                        [{\"link\":{\"source\":[0,0,0,0,0,4,4,4,4,4,2,2,2,2,2,1,1,1,1,1,3,3,3,3,3],\"target\":[5,9,7,6,8,5,9,7,6,8,5,9,7,6,8,5,9,7,6,8,5,9,7,6,8],\"value\":[842435001.0854516,5397148387.399818,3932561895.2625437,3939405665.838738,1211003546.5985475,2921478552.9340515,4036413136.870239,5469587599.523941,7048157860.979701,1790253677.8458545,2881623914.5319004,6525379668.006509,4492446261.974566,7367305071.394679,2153238176.81887,3475299334.4555626,8984388176.376215,8101256971.3761215,8039118344.804351,3035784606.685642,1065645860.5029789,2421806749.8192277,2385196506.800864,3031744639.005359,485470065.86716723]},\"node\":{\"color\":[\"gray\",\"green\",\"blue\",\"red\",\"yellow\",\"gray\",\"green\",\"blue\",\"red\",\"yellow\"],\"label\":[\"Africa\",\"Europe\",\"Asia\",\"Oceania\",\"Americas\",\"Africa\",\"Europe\",\"Asia\",\"Oceania\",\"Americas\"],\"line\":{\"color\":\"black\",\"width\":0.5},\"pad\":15,\"thickness\":20},\"type\":\"sankey\"}],                        {\"template\":{\"data\":{\"histogram2dcontour\":[{\"type\":\"histogram2dcontour\",\"colorbar\":{\"outlinewidth\":0,\"ticks\":\"\"},\"colorscale\":[[0.0,\"#0d0887\"],[0.1111111111111111,\"#46039f\"],[0.2222222222222222,\"#7201a8\"],[0.3333333333333333,\"#9c179e\"],[0.4444444444444444,\"#bd3786\"],[0.5555555555555556,\"#d8576b\"],[0.6666666666666666,\"#ed7953\"],[0.7777777777777778,\"#fb9f3a\"],[0.8888888888888888,\"#fdca26\"],[1.0,\"#f0f921\"]]}],\"choropleth\":[{\"type\":\"choropleth\",\"colorbar\":{\"outlinewidth\":0,\"ticks\":\"\"}}],\"histogram2d\":[{\"type\":\"histogram2d\",\"colorbar\":{\"outlinewidth\":0,\"ticks\":\"\"},\"colorscale\":[[0.0,\"#0d0887\"],[0.1111111111111111,\"#46039f\"],[0.2222222222222222,\"#7201a8\"],[0.3333333333333333,\"#9c179e\"],[0.4444444444444444,\"#bd3786\"],[0.5555555555555556,\"#d8576b\"],[0.6666666666666666,\"#ed7953\"],[0.7777777777777778,\"#fb9f3a\"],[0.8888888888888888,\"#fdca26\"],[1.0,\"#f0f921\"]]}],\"heatmap\":[{\"type\":\"heatmap\",\"colorbar\":{\"outlinewidth\":0,\"ticks\":\"\"},\"colorscale\":[[0.0,\"#0d0887\"],[0.1111111111111111,\"#46039f\"],[0.2222222222222222,\"#7201a8\"],[0.3333333333333333,\"#9c179e\"],[0.4444444444444444,\"#bd3786\"],[0.5555555555555556,\"#d8576b\"],[0.6666666666666666,\"#ed7953\"],[0.7777777777777778,\"#fb9f3a\"],[0.8888888888888888,\"#fdca26\"],[1.0,\"#f0f921\"]]}],\"heatmapgl\":[{\"type\":\"heatmapgl\",\"colorbar\":{\"outlinewidth\":0,\"ticks\":\"\"},\"colorscale\":[[0.0,\"#0d0887\"],[0.1111111111111111,\"#46039f\"],[0.2222222222222222,\"#7201a8\"],[0.3333333333333333,\"#9c179e\"],[0.4444444444444444,\"#bd3786\"],[0.5555555555555556,\"#d8576b\"],[0.6666666666666666,\"#ed7953\"],[0.7777777777777778,\"#fb9f3a\"],[0.8888888888888888,\"#fdca26\"],[1.0,\"#f0f921\"]]}],\"contourcarpet\":[{\"type\":\"contourcarpet\",\"colorbar\":{\"outlinewidth\":0,\"ticks\":\"\"}}],\"contour\":[{\"type\":\"contour\",\"colorbar\":{\"outlinewidth\":0,\"ticks\":\"\"},\"colorscale\":[[0.0,\"#0d0887\"],[0.1111111111111111,\"#46039f\"],[0.2222222222222222,\"#7201a8\"],[0.3333333333333333,\"#9c179e\"],[0.4444444444444444,\"#bd3786\"],[0.5555555555555556,\"#d8576b\"],[0.6666666666666666,\"#ed7953\"],[0.7777777777777778,\"#fb9f3a\"],[0.8888888888888888,\"#fdca26\"],[1.0,\"#f0f921\"]]}],\"surface\":[{\"type\":\"surface\",\"colorbar\":{\"outlinewidth\":0,\"ticks\":\"\"},\"colorscale\":[[0.0,\"#0d0887\"],[0.1111111111111111,\"#46039f\"],[0.2222222222222222,\"#7201a8\"],[0.3333333333333333,\"#9c179e\"],[0.4444444444444444,\"#bd3786\"],[0.5555555555555556,\"#d8576b\"],[0.6666666666666666,\"#ed7953\"],[0.7777777777777778,\"#fb9f3a\"],[0.8888888888888888,\"#fdca26\"],[1.0,\"#f0f921\"]]}],\"mesh3d\":[{\"type\":\"mesh3d\",\"colorbar\":{\"outlinewidth\":0,\"ticks\":\"\"}}],\"scatter\":[{\"fillpattern\":{\"fillmode\":\"overlay\",\"size\":10,\"solidity\":0.2},\"type\":\"scatter\"}],\"parcoords\":[{\"type\":\"parcoords\",\"line\":{\"colorbar\":{\"outlinewidth\":0,\"ticks\":\"\"}}}],\"scatterpolargl\":[{\"type\":\"scatterpolargl\",\"marker\":{\"colorbar\":{\"outlinewidth\":0,\"ticks\":\"\"}}}],\"bar\":[{\"error_x\":{\"color\":\"#2a3f5f\"},\"error_y\":{\"color\":\"#2a3f5f\"},\"marker\":{\"line\":{\"color\":\"#E5ECF6\",\"width\":0.5},\"pattern\":{\"fillmode\":\"overlay\",\"size\":10,\"solidity\":0.2}},\"type\":\"bar\"}],\"scattergeo\":[{\"type\":\"scattergeo\",\"marker\":{\"colorbar\":{\"outlinewidth\":0,\"ticks\":\"\"}}}],\"scatterpolar\":[{\"type\":\"scatterpolar\",\"marker\":{\"colorbar\":{\"outlinewidth\":0,\"ticks\":\"\"}}}],\"histogram\":[{\"marker\":{\"pattern\":{\"fillmode\":\"overlay\",\"size\":10,\"solidity\":0.2}},\"type\":\"histogram\"}],\"scattergl\":[{\"type\":\"scattergl\",\"marker\":{\"colorbar\":{\"outlinewidth\":0,\"ticks\":\"\"}}}],\"scatter3d\":[{\"type\":\"scatter3d\",\"line\":{\"colorbar\":{\"outlinewidth\":0,\"ticks\":\"\"}},\"marker\":{\"colorbar\":{\"outlinewidth\":0,\"ticks\":\"\"}}}],\"scattermapbox\":[{\"type\":\"scattermapbox\",\"marker\":{\"colorbar\":{\"outlinewidth\":0,\"ticks\":\"\"}}}],\"scatterternary\":[{\"type\":\"scatterternary\",\"marker\":{\"colorbar\":{\"outlinewidth\":0,\"ticks\":\"\"}}}],\"scattercarpet\":[{\"type\":\"scattercarpet\",\"marker\":{\"colorbar\":{\"outlinewidth\":0,\"ticks\":\"\"}}}],\"carpet\":[{\"aaxis\":{\"endlinecolor\":\"#2a3f5f\",\"gridcolor\":\"white\",\"linecolor\":\"white\",\"minorgridcolor\":\"white\",\"startlinecolor\":\"#2a3f5f\"},\"baxis\":{\"endlinecolor\":\"#2a3f5f\",\"gridcolor\":\"white\",\"linecolor\":\"white\",\"minorgridcolor\":\"white\",\"startlinecolor\":\"#2a3f5f\"},\"type\":\"carpet\"}],\"table\":[{\"cells\":{\"fill\":{\"color\":\"#EBF0F8\"},\"line\":{\"color\":\"white\"}},\"header\":{\"fill\":{\"color\":\"#C8D4E3\"},\"line\":{\"color\":\"white\"}},\"type\":\"table\"}],\"barpolar\":[{\"marker\":{\"line\":{\"color\":\"#E5ECF6\",\"width\":0.5},\"pattern\":{\"fillmode\":\"overlay\",\"size\":10,\"solidity\":0.2}},\"type\":\"barpolar\"}],\"pie\":[{\"automargin\":true,\"type\":\"pie\"}]},\"layout\":{\"autotypenumbers\":\"strict\",\"colorway\":[\"#636efa\",\"#EF553B\",\"#00cc96\",\"#ab63fa\",\"#FFA15A\",\"#19d3f3\",\"#FF6692\",\"#B6E880\",\"#FF97FF\",\"#FECB52\"],\"font\":{\"color\":\"#2a3f5f\"},\"hovermode\":\"closest\",\"hoverlabel\":{\"align\":\"left\"},\"paper_bgcolor\":\"white\",\"plot_bgcolor\":\"#E5ECF6\",\"polar\":{\"bgcolor\":\"#E5ECF6\",\"angularaxis\":{\"gridcolor\":\"white\",\"linecolor\":\"white\",\"ticks\":\"\"},\"radialaxis\":{\"gridcolor\":\"white\",\"linecolor\":\"white\",\"ticks\":\"\"}},\"ternary\":{\"bgcolor\":\"#E5ECF6\",\"aaxis\":{\"gridcolor\":\"white\",\"linecolor\":\"white\",\"ticks\":\"\"},\"baxis\":{\"gridcolor\":\"white\",\"linecolor\":\"white\",\"ticks\":\"\"},\"caxis\":{\"gridcolor\":\"white\",\"linecolor\":\"white\",\"ticks\":\"\"}},\"coloraxis\":{\"colorbar\":{\"outlinewidth\":0,\"ticks\":\"\"}},\"colorscale\":{\"sequential\":[[0.0,\"#0d0887\"],[0.1111111111111111,\"#46039f\"],[0.2222222222222222,\"#7201a8\"],[0.3333333333333333,\"#9c179e\"],[0.4444444444444444,\"#bd3786\"],[0.5555555555555556,\"#d8576b\"],[0.6666666666666666,\"#ed7953\"],[0.7777777777777778,\"#fb9f3a\"],[0.8888888888888888,\"#fdca26\"],[1.0,\"#f0f921\"]],\"sequentialminus\":[[0.0,\"#0d0887\"],[0.1111111111111111,\"#46039f\"],[0.2222222222222222,\"#7201a8\"],[0.3333333333333333,\"#9c179e\"],[0.4444444444444444,\"#bd3786\"],[0.5555555555555556,\"#d8576b\"],[0.6666666666666666,\"#ed7953\"],[0.7777777777777778,\"#fb9f3a\"],[0.8888888888888888,\"#fdca26\"],[1.0,\"#f0f921\"]],\"diverging\":[[0,\"#8e0152\"],[0.1,\"#c51b7d\"],[0.2,\"#de77ae\"],[0.3,\"#f1b6da\"],[0.4,\"#fde0ef\"],[0.5,\"#f7f7f7\"],[0.6,\"#e6f5d0\"],[0.7,\"#b8e186\"],[0.8,\"#7fbc41\"],[0.9,\"#4d9221\"],[1,\"#276419\"]]},\"xaxis\":{\"gridcolor\":\"white\",\"linecolor\":\"white\",\"ticks\":\"\",\"title\":{\"standoff\":15},\"zerolinecolor\":\"white\",\"automargin\":true,\"zerolinewidth\":2},\"yaxis\":{\"gridcolor\":\"white\",\"linecolor\":\"white\",\"ticks\":\"\",\"title\":{\"standoff\":15},\"zerolinecolor\":\"white\",\"automargin\":true,\"zerolinewidth\":2},\"scene\":{\"xaxis\":{\"backgroundcolor\":\"#E5ECF6\",\"gridcolor\":\"white\",\"linecolor\":\"white\",\"showbackground\":true,\"ticks\":\"\",\"zerolinecolor\":\"white\",\"gridwidth\":2},\"yaxis\":{\"backgroundcolor\":\"#E5ECF6\",\"gridcolor\":\"white\",\"linecolor\":\"white\",\"showbackground\":true,\"ticks\":\"\",\"zerolinecolor\":\"white\",\"gridwidth\":2},\"zaxis\":{\"backgroundcolor\":\"#E5ECF6\",\"gridcolor\":\"white\",\"linecolor\":\"white\",\"showbackground\":true,\"ticks\":\"\",\"zerolinecolor\":\"white\",\"gridwidth\":2}},\"shapedefaults\":{\"line\":{\"color\":\"#2a3f5f\"}},\"annotationdefaults\":{\"arrowcolor\":\"#2a3f5f\",\"arrowhead\":0,\"arrowwidth\":1},\"geo\":{\"bgcolor\":\"white\",\"landcolor\":\"#E5ECF6\",\"subunitcolor\":\"white\",\"showland\":true,\"showlakes\":true,\"lakecolor\":\"white\"},\"title\":{\"x\":0.05},\"mapbox\":{\"style\":\"light\"}}},\"title\":{\"text\":\"Regional Crypto Flow\"},\"font\":{\"size\":10}},                        {\"responsive\": true}                    ).then(function(){\n",
       "                            \n",
       "var gd = document.getElementById('e98f2dee-8928-460f-b8e2-537736ccec3a');\n",
       "var x = new MutationObserver(function (mutations, observer) {{\n",
       "        var display = window.getComputedStyle(gd).display;\n",
       "        if (!display || display === 'none') {{\n",
       "            console.log([gd, 'removed!']);\n",
       "            Plotly.purge(gd);\n",
       "            observer.disconnect();\n",
       "        }}\n",
       "}});\n",
       "\n",
       "// Listen for the removal of the full notebook cells\n",
       "var notebookContainer = gd.closest('#notebook-container');\n",
       "if (notebookContainer) {{\n",
       "    x.observe(notebookContainer, {childList: true});\n",
       "}}\n",
       "\n",
       "// Listen for the clearing of the current output cell\n",
       "var outputEl = gd.closest('.output');\n",
       "if (outputEl) {{\n",
       "    x.observe(outputEl, {childList: true});\n",
       "}}\n",
       "\n",
       "                        })                };                });            </script>        </div>"
      ]
     },
     "metadata": {},
     "output_type": "display_data"
    }
   ],
   "source": [
    "# Show flows by continent\n",
    "pairs = pd.merge(expanded_df, country_codes.add_prefix('src_'), left_on='src_jurisdictions', right_on='src_alpha-2', how='inner')\n",
    "pairs = pd.merge(pairs, country_codes.add_prefix('dst_'), left_on='dst_jurisdictions', right_on='dst_alpha-2', how='inner')\n",
    "grouped_df = pairs.groupby(['src_region', 'dst_region'])['value_USD'].sum()\n",
    "src_regions = list(grouped_df.index.get_level_values(0).unique())\n",
    "dst_regions = list(grouped_df.index.get_level_values(1).unique())\n",
    "all_regions = list(set(src_regions + dst_regions))\n",
    "\n",
    "regions_index = {}\n",
    "for i, region in enumerate(all_regions):\n",
    "    regions_index[region] = i\n",
    "\n",
    "sources = []\n",
    "target = []\n",
    "values = []\n",
    "for element in grouped_df.index:\n",
    "    src = element[0]\n",
    "    dst = element[1]\n",
    "    value = grouped_df[element]\n",
    "    \n",
    "    sources.append(regions_index[src])\n",
    "    target.append(regions_index[dst] + len(regions_index))\n",
    "    values.append(value)\n",
    "\n",
    "# Sankey Diagram\n",
    "fig = go.Figure(data=[go.Sankey(\n",
    "    node = dict(\n",
    "      pad = 15,\n",
    "      thickness = 20,\n",
    "      line = dict(color = \"black\", width = 0.5),\n",
    "      label = all_regions + all_regions,\n",
    "      color = [\"gray\"]\n",
    "    ),\n",
    "    link = dict(\n",
    "      source = sources,\n",
    "      target = target,\n",
    "      value = values\n",
    "  ))])\n",
    "\n",
    "fig.update_layout(title_text=\"Regional Crypto Flow\", font_size=10)\n",
    "fig.show()"
   ]
  },
  {
   "cell_type": "markdown",
   "metadata": {},
   "source": [
    "### How does the general trend look like?"
   ]
  },
  {
   "cell_type": "code",
   "execution_count": 167,
   "metadata": {},
   "outputs": [
    {
     "data": {
      "image/png": "[encoded data removed]",
      "text/plain": [
       "<Figure size 640x480 with 2 Axes>"
      ]
     },
     "metadata": {},
     "output_type": "display_data"
    }
   ],
   "source": [
    "def test_plot(flow_data, btc_data):\n",
    "    _flow_data = flow_data.groupby('year')[\"value_USD\"].sum()/MRD\n",
    "    _btc_data = btc_data.groupby('year')[\"high\"].max()\n",
    "\n",
    "    fig, ax1 = plt.subplots()\n",
    "\n",
    "    # Plotting the bar plot\n",
    "    ax1.plot(_flow_data.index, _flow_data.values, color='blue',marker=\"x\",linestyle=\"dashdot\",label=\"USD FLOW\")\n",
    "    ax1.set_ylabel('Flow Values [MRD USD]')\n",
    "    ax2 = ax1.twinx()\n",
    "\n",
    "    # Plotting the line plot\n",
    "    ax2.plot(_flow_data.index, _btc_data.values, color='red', marker='o', linestyle=\"dashed\",label=\"BTC MARKET VALUE (YEARLY HIGH)\")\n",
    "    ax2.set_ylabel('BTC YEARLY HIGH [USD]')\n",
    "    ax1.set_xlabel('Years')\n",
    "    fig.legend(loc='upper left',ncol=1)\n",
    "\n",
    "    #plt.tight_layout()\n",
    "\n",
    "test_plot(src_amounts, btc_price_data)\n",
    "#test_plot(dst_amounts)"
   ]
  },
  {
   "cell_type": "markdown",
   "metadata": {},
   "source": [
    "looks like Flow value and the BTC market value correlate - does that mean that the amount of BTC flowing (=flow value/ btc market value) is constant? Lets see"
   ]
  },
  {
   "cell_type": "code",
   "execution_count": 168,
   "metadata": {},
   "outputs": [],
   "source": [
    "def test_plot2(flow_data,btc_data):\n",
    "    # TODO: can we use the assets or should we use BTC_value?\n",
    "    _flow_data = flow_data.groupby('year')[\"src_value_asset\"].sum()/1000000\n",
    "    _btc_data = btc_data.groupby('year')[\"high\"].max()\n",
    "\n",
    "    fig, ax1 = plt.subplots()\n",
    "\n",
    "    # Plotting the bar plot\n",
    "    ax1.plot(_flow_data.index, _flow_data.values, color='blue',marker=\"x\",linestyle=\"dashdot\",label=\"BTC FLOW\")\n",
    "    ax1.set_ylabel('Flow Values [MIO BTC]')\n",
    "    ax2 = ax1.twinx()\n",
    "\n",
    "    # Plotting the line plot\n",
    "    ax2.plot(_flow_data.index, _btc_data.values, color='red', marker='o', linestyle=\"dashed\",label=\"BTC MARKET VALUE (YEARLY HIGH)\")\n",
    "    ax2.set_ylabel('BTC YEARLY HIGH [USD]')\n",
    "    ax1.set_xlabel('Years')\n",
    "    fig.legend(loc='upper left',ncol=1)\n",
    "\n",
    "#test_plot2(src_amounts,btc_price_data)"
   ]
  },
  {
   "cell_type": "markdown",
   "metadata": {},
   "source": [
    "how are the flows distributed over the jurisdictions?"
   ]
  },
  {
   "cell_type": "code",
   "execution_count": 177,
   "metadata": {},
   "outputs": [
    {
     "name": "stdout",
     "output_type": "stream",
     "text": [
      "496.0505513644367\n",
      "496.05055136443667\n",
      "4.116758263151439\n"
     ]
    }
   ],
   "source": [
    "print(src_amounts[\"value_USD\"].sum()/MRD)\n",
    "print(dst_amounts[\"value_USD\"].sum()/MRD)\n",
    "print((src_amounts[\"value_USD\"] - dst_amounts[\"value_USD\"]).sum()/MRD)"
   ]
  },
  {
   "cell_type": "code",
   "execution_count": 189,
   "metadata": {},
   "outputs": [
    {
     "data": {
      "application/vnd.jupyter.widget-view+json": {
       "model_id": "efe48ebdcdf14498b1941a8b24224331",
       "version_major": 2,
       "version_minor": 0
      },
      "text/plain": [
       "interactive(children=(IntSlider(value=2017, description='year', max=2022, min=2012), Output()), _dom_classes=(…"
      ]
     },
     "metadata": {},
     "output_type": "display_data"
    },
    {
     "data": {
      "text/plain": [
       "<function __main__.plot_juri_bars(_data1, _data2, l1, l2, year, label)>"
      ]
     },
     "execution_count": 189,
     "metadata": {},
     "output_type": "execute_result"
    }
   ],
   "source": [
    "def plot_juri_bars(_data1,_data2,l1,l2,year,label):\n",
    "\n",
    "    #x = dst_amounts[\"jurisdictions\"].unique()\n",
    "    \n",
    "    data1 = _data1.copy()\n",
    "    data1 = data1.sort_values(\"jurisdictions\",ascending=False)\n",
    "    data1 = data1[data1[\"year\"]==year]\n",
    "    data1[\"value_USD\"] = (data1[\"value_USD\"]/data1[\"value_USD\"].sum())*100  #convert to % yearly flow\n",
    "    data1 = data1[data1[\"value_USD\"]>1]\n",
    "    plotable_data1 = [d for d in zip(data1['year'],data1['jurisdictions'], data1['value_USD']) if d[0] == year]\n",
    "\n",
    "    \n",
    "\n",
    "    #data2 = data2[data2[\"value_USD\"]>1]\n",
    "    data2 = _data2.copy()\n",
    "    data2 = data2.sort_values(\"jurisdictions\",ascending=False)\n",
    "    data2 = data2[data2[\"year\"]==year]\n",
    "    data2[\"value_USD\"] = (data2[\"value_USD\"]/data2[\"value_USD\"].sum())*100    #convert to % yearly flow\n",
    "    data2 = data2[data2[\"value_USD\"]>1]\n",
    "    plotable_data2 = [d for d in zip(data2['year'],data2['jurisdictions'], data2['value_USD']) if d[0] == year]\n",
    "\n",
    "    #display(filtered_data)\n",
    "    # Separate the x and y values\n",
    "    x1 = [d[1] for d in plotable_data1]\n",
    "    y1 = [d[2] for d in plotable_data1]\n",
    "\n",
    "    x2 = [d[1] for d in plotable_data1]\n",
    "    y2 = [d[2] for d in plotable_data1]\n",
    "\n",
    "    fig, (ax1,ax2)= plt.subplots(2,1,figsize=(10,5))\n",
    "\n",
    "    # Plot the bar chart\n",
    "    ax1.bar(x1, y1)\n",
    "    # Set labels and title\n",
    "    ax1.set_xlabel('Jurisdictions')\n",
    "    ax1.set_ylabel(f'{l1} % of yearly flow')\n",
    "\n",
    "    # Plot the bar chart\n",
    "    ax2.bar(x2, y2)\n",
    "    # Set labels and title\n",
    "    ax2.set_xlabel('Jurisdictions')\n",
    "    ax2.set_ylabel(f'{l2} % of yearly flow')\n",
    "\n",
    "    # Rotate x-axis labels for better visibility\n",
    "    ax1.tick_params(axis='x', rotation=90)\n",
    "    ax2.tick_params(axis='x', rotation=90)\n",
    "\n",
    "    # Add a label to the plot\n",
    "    plt.suptitle(label, fontsize=14)\n",
    "\n",
    "   \n",
    "    # Display the plot\n",
    "    plt.show()\n",
    "\n",
    "interact(plot_juri_bars,_data1=fixed(src_amounts),_data2=fixed(dst_amounts),l1=fixed(\"Source\"),l2=fixed(\"Destination\"),year=(2012,2022,1),label=fixed(\"Yearly flow values by jursidictions\"))"
   ]
  },
  {
   "cell_type": "markdown",
   "metadata": {},
   "source": [
    "they are all prettymuch \"the same\" - maybe because binance is in just those juris? lets see"
   ]
  },
  {
   "cell_type": "code",
   "execution_count": 191,
   "metadata": {},
   "outputs": [
    {
     "data": {
      "application/vnd.jupyter.widget-view+json": {
       "model_id": "524f2a0b53494b408c1bd2130b072249",
       "version_major": 2,
       "version_minor": 0
      },
      "text/plain": [
       "interactive(children=(IntSlider(value=2017, description='year', max=2022, min=2012), Output()), _dom_classes=(…"
      ]
     },
     "metadata": {},
     "output_type": "display_data"
    },
    {
     "data": {
      "text/plain": [
       "<function __main__.plot_juri_bars(_data1, _data2, l1, l2, year, label)>"
      ]
     },
     "execution_count": 191,
     "metadata": {},
     "output_type": "execute_result"
    }
   ],
   "source": [
    "src_filterd = src_amounts[src_amounts[\"src_label\"].str.contains(\"inance\") == False]\n",
    "src_filterd = src_filterd[src_filterd[\"dst_label\"].str.contains(\"inance\") == False]\n",
    "\n",
    "dst_filterd = dst_amounts[dst_amounts[\"src_label\"].str.contains(\"inance\") == False]\n",
    "dst_filterd = dst_filterd[dst_filterd[\"dst_label\"].str.contains(\"inance\") == False]\n",
    "\n",
    "\n",
    "interact(plot_juri_bars,_data1=fixed(src_filterd),_data2=fixed(dst_filterd),l1=fixed(\"Source\"),l2=fixed(\"Destination\"),year=(2012,2022,1),label=fixed(\"Yearly flow values by jursidictions without binance\"))"
   ]
  },
  {
   "cell_type": "code",
   "execution_count": null,
   "metadata": {},
   "outputs": [],
   "source": [
    "result = src_amounts.copy()\n",
    "result['value_USD'] = src_amounts['src_value_USD'].sub(dst_amounts['dst_value_USD'], axis=0)\n",
    "#interact(plot_juri_bars,data1=fixed(result),data2=fixed(result),l1=fixed(\"Source\"),l2=fixed(\"Destination\"),year=(2012,2022,1),label=fixed(\"Holdings by jurisdictions in\"))"
   ]
  },
  {
   "cell_type": "code",
   "execution_count": 235,
   "metadata": {},
   "outputs": [
    {
     "name": "stdout",
     "output_type": "stream",
     "text": [
      "Cutoff: 0.613895434311313\n"
     ]
    },
    {
     "data": {
      "image/png": "[encoded data removed]",
      "text/plain": [
       "<Figure size 1000x500 with 1 Axes>"
      ]
     },
     "metadata": {},
     "output_type": "display_data"
    }
   ],
   "source": [
    "result = src_amounts.copy()\n",
    "#TODO rethink here why seychells are so negative?? shouldnt they get all the value instead of losing it?\n",
    "result['value_USD'] = dst_amounts['value_USD'].sub(src_amounts['value_USD'], axis=0)\n",
    "\n",
    "result = result.groupby(['jurisdictions'])['value_USD'].sum().reset_index()\n",
    "result = result.sort_values(\"jurisdictions\",ascending=True)\n",
    "result[\"value_USD\"] = (result[\"value_USD\"] / result[\"value_USD\"].abs().sum())*100 #convert to %\n",
    "\n",
    "\n",
    "#filter out the top15\n",
    "top15_cutoff = float(result[\"value_USD\"].abs().nlargest(15).nsmallest(1).iloc[0])#\n",
    "#print(res[\"value_USD\"].abs().nlargest(15))\n",
    "print(\"Cutoff: \"+str(top15_cutoff))\n",
    "\n",
    "result = result[result[\"value_USD\"].abs()>=top15_cutoff]\n",
    "\n",
    "\n",
    "\n",
    "plt.figure(figsize=(10, 5))\n",
    "\n",
    "# Plot the bar chart\n",
    "bars = plt.bar(result['jurisdictions'], result['value_USD'])\n",
    "\n",
    "# Set labels and title\n",
    "plt.xlabel('Jurisdictions')\n",
    "plt.ylabel('Value % TOTAL FLOW')\n",
    "plt.title('Aggregated net flows by jurisdictions during the whole period')\n",
    "\n",
    "# Rotate x-axis labels for better visibility\n",
    "plt.xticks(rotation=45)\n",
    "plt.grid(True)\n",
    "\n",
    "# Color the bars based on a condition\n",
    "for bar, value in zip(bars, result['value_USD']):\n",
    "    if value < 0:\n",
    "        bar.set_color('red')\n",
    "    else:\n",
    "        bar.set_color('blue')\n",
    "\n",
    "# Display the plot\n",
    "plt.show()\n",
    "#display(result)"
   ]
  },
  {
   "cell_type": "code",
   "execution_count": 227,
   "metadata": {},
   "outputs": [
    {
     "data": {
      "application/vnd.jupyter.widget-view+json": {
       "model_id": "1e2049c75fe14ee3adb4323299c3928f",
       "version_major": 2,
       "version_minor": 0
      },
      "text/plain": [
       "interactive(children=(IntSlider(value=2017, description='year', max=2022, min=2012), Output()), _dom_classes=(…"
      ]
     },
     "metadata": {},
     "output_type": "display_data"
    },
    {
     "data": {
      "text/plain": [
       "<function __main__.plot_net_flows_by_year(src_amounts, dst_amounts, year)>"
      ]
     },
     "execution_count": 227,
     "metadata": {},
     "output_type": "execute_result"
    }
   ],
   "source": [
    "def plot_net_flows_by_year(src_amounts,dst_amounts,year):\n",
    "    _src_amounts = src_amounts.copy()[src_amounts[\"year\"]== year]\n",
    "    _dst_amounts = dst_amounts.copy()[dst_amounts[\"year\"]== year]\n",
    "\n",
    "    res = _dst_amounts\n",
    "    res[\"value_USD\"] = _dst_amounts['value_USD'].sub(_src_amounts['value_USD'], axis=0)\n",
    "    res = res.groupby(['jurisdictions'])['value_USD'].sum().reset_index()\n",
    "\n",
    "    res = res.sort_values(\"jurisdictions\",ascending=True)\n",
    "    res[\"value_USD\"] =  (res[\"value_USD\"] / res[\"value_USD\"].abs().sum())*100 #convert to %\n",
    "\n",
    "    #filter out the top15\n",
    "    top15_cutoff = float(res[\"value_USD\"].abs().nlargest(15).nsmallest(1).iloc[0])#\n",
    "    #print(res[\"value_USD\"].abs().nlargest(15))\n",
    "    print(\"Cutoff: \"+str(top15_cutoff))\n",
    "\n",
    "    res = res[res[\"value_USD\"].abs()>=top15_cutoff]\n",
    "    \n",
    "    plt.figure(figsize=(10, 5))\n",
    "\n",
    "    # Plot the bar chart\n",
    "    bars = plt.bar(res['jurisdictions'], res['value_USD'])\n",
    "\n",
    "    # Set labels and title\n",
    "    plt.xlabel('Jurisdictions')\n",
    "    plt.ylabel('Value % TOTAL FLOW')\n",
    "    plt.title('Aggregated net flows by jurisdictions ')\n",
    "\n",
    "    # Rotate x-axis labels for better visibility\n",
    "    plt.xticks(rotation=45)\n",
    "    plt.grid(True)\n",
    "\n",
    "    # Color the bars based on a condition\n",
    "    for bar, value in zip(bars, res['value_USD']):\n",
    "        if value < 0:\n",
    "            bar.set_color('red')\n",
    "        else:\n",
    "            bar.set_color('blue')\n",
    "\n",
    "    # Display the plot\n",
    "    plt.show()\n",
    "\n",
    "interact(plot_net_flows_by_year,src_amounts=fixed(src_amounts),dst_amounts=fixed(dst_amounts),year=(2012,2022,1))"
   ]
  },
  {
   "cell_type": "markdown",
   "metadata": {},
   "source": [
    "## What do the flows look like on a map?"
   ]
  },
  {
   "cell_type": "code",
   "execution_count": 239,
   "metadata": {},
   "outputs": [
    {
     "data": {
      "application/vnd.jupyter.widget-view+json": {
       "model_id": "92616308c464474e857fb614844ade36",
       "version_major": 2,
       "version_minor": 0
      },
      "text/plain": [
       "interactive(children=(IntSlider(value=2017, description='year', max=2022, min=2012), Output()), _dom_classes=(…"
      ]
     },
     "metadata": {},
     "output_type": "display_data"
    },
    {
     "data": {
      "text/plain": [
       "<function __main__.plot_net_flows_by_year_heatmap(src_amounts, dst_amounts, year)>"
      ]
     },
     "execution_count": 239,
     "metadata": {},
     "output_type": "execute_result"
    }
   ],
   "source": [
    "#TODO: fill in \"zeros\" for all the countries we dont have values so the map isnt so empty\n",
    "#TODO either make map bigger(prefered) or heatscale smaller\n",
    "def plot_net_flows_by_year_heatmap(src_amounts,dst_amounts,year):\n",
    "    _src_amounts = src_amounts.copy()[src_amounts[\"year\"]== year]\n",
    "    _dst_amounts = dst_amounts.copy()[dst_amounts[\"year\"]== year]\n",
    "\n",
    "    res = _dst_amounts\n",
    "    res[\"value_USD\"] = _dst_amounts['value_USD'].sub(_src_amounts['value_USD'], axis=0)\n",
    "    res = res.groupby(['jurisdictions'])['value_USD'].sum().reset_index()\n",
    "\n",
    "    res = res.sort_values(\"jurisdictions\",ascending=True)\n",
    "    res[\"value_USD\"] =  (res[\"value_USD\"] / res[\"value_USD\"].abs().sum())*100 #convert to %\n",
    "\n",
    "\n",
    "    res.rename(columns={'jurisdictions':'alpha-2'},inplace=True)\n",
    "    country_codes = pd.read_csv('data/country_codes.csv')\n",
    "    country_codes = country_codes[['alpha-2','alpha-3']]\n",
    "    c_merged_df= pd.merge(res, country_codes,on='alpha-2',how='inner')\n",
    "    c_merged_df.rename(columns={'alpha-2':'ISO'},inplace=True)\n",
    "\n",
    "    map_data = gpd.read_file('shapefile/World_Countries__Generalized_.shp')\n",
    "\n",
    "    c_merged_data = map_data.merge(c_merged_df, on='ISO')\n",
    "    fig, ax = plt.subplots(figsize=(10, 8))\n",
    "\n",
    "    c_merged_data.plot(column='value_USD', cmap='seismic_r', linewidth=0.8, ax=ax, edgecolor='0.8', legend=True)\n",
    "    ax.set_title('Holdings')\n",
    "    plt.xticks([])\n",
    "    plt.yticks([])\n",
    "    plt.title('Aggregated net flows by jurisdictions (in BN USD)')\n",
    "    plt.show()\n",
    "\n",
    "\n",
    "interact(plot_net_flows_by_year_heatmap,src_amounts=fixed(src_amounts),dst_amounts=fixed(dst_amounts),year=(2012,2022,1))"
   ]
  },
  {
   "cell_type": "markdown",
   "metadata": {},
   "source": [
    "# Correlations"
   ]
  },
  {
   "cell_type": "code",
   "execution_count": 240,
   "metadata": {},
   "outputs": [],
   "source": [
    "# Prepare Population\n",
    "population_country = pd.merge(population, country_codes, left_on='Country Code', right_on='alpha-3', how='inner')"
   ]
  },
  {
   "cell_type": "code",
   "execution_count": 242,
   "metadata": {},
   "outputs": [
    {
     "data": {
      "text/plain": [
       "\"\\nfig, ax = plt.subplots()\\nscatter = ax.scatter(x=np.log10(population_gdp.dst_value_USD), y=population_gdp['2021'])\\nplt.xlabel('Received USD')\\nplt.ylabel('Population')\\nplt.title('Population / Received USD')\\nplt.grid(True)\\n\\ncorr = pearsonr(population_gdp.dst_value_USD, population_gdp['2021'])\\ndisplay(corr)\\ncorr = spearmanr(population_gdp.dst_value_USD, population_gdp['2021'])\\ndisplay(corr)\\n\""
      ]
     },
     "execution_count": 242,
     "metadata": {},
     "output_type": "execute_result"
    }
   ],
   "source": [
    "#TODO FIX THIS\n",
    "#NameError: name 'population_country' is not defined\n",
    "\n",
    "flow_data = merged_df.copy()\n",
    "dst_juri_sum = merged_df.groupby('dst_jurisdictions')['value_USD'].sum()\n",
    "population_gdp = pd.merge(dst_juri_sum, population_country, left_on='dst_jurisdictions', right_on='alpha-2', how='inner')\n",
    "'''\n",
    "fig, ax = plt.subplots()\n",
    "scatter = ax.scatter(x=np.log10(population_gdp.dst_value_USD), y=population_gdp['2021'])\n",
    "plt.xlabel('Received USD')\n",
    "plt.ylabel('Population')\n",
    "plt.title('Population / Received USD')\n",
    "plt.grid(True)\n",
    "\n",
    "corr = pearsonr(population_gdp.dst_value_USD, population_gdp['2021'])\n",
    "display(corr)\n",
    "corr = spearmanr(population_gdp.dst_value_USD, population_gdp['2021'])\n",
    "display(corr)\n",
    "'''"
   ]
  },
  {
   "cell_type": "markdown",
   "metadata": {},
   "source": [
    "## TAX HAVEN VS RECIEVED"
   ]
  },
  {
   "cell_type": "code",
   "execution_count": 28,
   "metadata": {},
   "outputs": [],
   "source": [
    "# Prepare tax haven data\n",
    "cthi_country = pd.merge(cthi, country_codes, left_on='Country', right_on='name', how='inner')"
   ]
  },
  {
   "cell_type": "code",
   "execution_count": 31,
   "metadata": {},
   "outputs": [
    {
     "data": {
      "text/plain": [
       "PearsonRResult(statistic=0.1909516252523263, pvalue=0.2793524516249555)"
      ]
     },
     "metadata": {},
     "output_type": "display_data"
    },
    {
     "data": {
      "text/plain": [
       "SignificanceResult(statistic=0.14364303346197596, pvalue=0.41767443170376584)"
      ]
     },
     "metadata": {},
     "output_type": "display_data"
    },
    {
     "data": {
      "image/png": "[encoded data removed]",
      "text/plain": [
       "<Figure size 640x480 with 1 Axes>"
      ]
     },
     "metadata": {},
     "output_type": "display_data"
    }
   ],
   "source": [
    "# CTHI (Tax Haven Score)\n",
    "# TODO UNITS ON AXED also maybe scale to BN USD? \n",
    "flow_data = expanded_df.copy()\n",
    "dst_juri_sum = expanded_df.groupby('dst_jurisdictions')['value_USD'].sum()\n",
    "receivers_cthi = pd.merge(dst_juri_sum, cthi_country, left_on='dst_jurisdictions', right_on='alpha-2', how='inner')\n",
    "\n",
    "fig, ax = plt.subplots()\n",
    "scatter = ax.scatter(x=np.log10(receivers_cthi.value_USD), y=receivers_cthi['Haven Score'])\n",
    "plt.xlabel('Received USD')\n",
    "plt.ylabel('CTHI')\n",
    "plt.title('CTHI / Received USD')\n",
    "plt.grid(True)\n",
    "corr = pearsonr(receivers_cthi.value_USD, receivers_cthi['Haven Score'])\n",
    "display(corr)\n",
    "\n",
    "corr = spearmanr(receivers_cthi.value_USD, receivers_cthi['Haven Score'])\n",
    "display(corr)\n"
   ]
  },
  {
   "cell_type": "markdown",
   "metadata": {},
   "source": [
    "## TAX HAVEN VS SENT\n",
    "TODO"
   ]
  },
  {
   "cell_type": "markdown",
   "metadata": {},
   "source": [
    "## CORRUPTION VS RECIEVED"
   ]
  },
  {
   "cell_type": "code",
   "execution_count": 32,
   "metadata": {},
   "outputs": [],
   "source": [
    "# Prepare CPI\n",
    "cpi_country = pd.merge(cpi, country_codes, left_on='Country', right_on='name', how='inner')"
   ]
  },
  {
   "cell_type": "code",
   "execution_count": 35,
   "metadata": {},
   "outputs": [
    {
     "data": {
      "text/plain": [
       "PearsonRResult(statistic=0.0718168818314467, pvalue=0.11609993391764618)"
      ]
     },
     "metadata": {},
     "output_type": "display_data"
    },
    {
     "data": {
      "text/plain": [
       "SignificanceResult(statistic=0.018599120970286376, pvalue=0.6844053403455177)"
      ]
     },
     "metadata": {},
     "output_type": "display_data"
    },
    {
     "data": {
      "image/png": "[encoded data removed]",
      "text/plain": [
       "<Figure size 640x480 with 1 Axes>"
      ]
     },
     "metadata": {},
     "output_type": "display_data"
    }
   ],
   "source": [
    "# TODO UNITS ON AXED also maybe scale to BN USD? \n",
    "flow_data = expanded_df.copy()\n",
    "dst_juri_sum = expanded_df.groupby('dst_jurisdictions')['value_USD'].sum()\n",
    "receivers_cpi = pd.merge(dst_juri_sum, cpi_country, left_on='dst_jurisdictions', right_on='alpha-2', how='inner')\n",
    "\n",
    "fig, ax = plt.subplots()\n",
    "scatter = ax.scatter(x=np.log10(receivers_cpi.value_USD), y=receivers_cpi['CPI Score'])\n",
    "plt.xlabel('Received USD')\n",
    "plt.ylabel('CPI')\n",
    "plt.title('CPI / Received USD')\n",
    "plt.grid(True)\n",
    "\n",
    "corr = pearsonr(receivers_cpi.value_USD, receivers_cpi['CPI Score'])\n",
    "display(corr)\n",
    "corr = spearmanr(receivers_cpi.value_USD, receivers_cpi['CPI Score'])\n",
    "display(corr)"
   ]
  },
  {
   "cell_type": "markdown",
   "metadata": {},
   "source": [
    "## CORRUPTION VS SENT\n",
    "TODO"
   ]
  },
  {
   "cell_type": "markdown",
   "metadata": {},
   "source": [
    "## GDP VS RECIEVED"
   ]
  },
  {
   "cell_type": "code",
   "execution_count": 36,
   "metadata": {},
   "outputs": [],
   "source": [
    "# Prepare GDP\n",
    "gdp_country = pd.merge(gdp, country_codes, left_on='Country Code', right_on='alpha-3', how='inner')"
   ]
  },
  {
   "cell_type": "code",
   "execution_count": 45,
   "metadata": {},
   "outputs": [
    {
     "data": {
      "text/plain": [
       "PearsonRResult(statistic=0.269934100657503, pvalue=0.03699608040448263)"
      ]
     },
     "metadata": {},
     "output_type": "display_data"
    },
    {
     "data": {
      "text/plain": [
       "SignificanceResult(statistic=0.25119484311325785, pvalue=0.05286995479158175)"
      ]
     },
     "metadata": {},
     "output_type": "display_data"
    },
    {
     "data": {
      "image/png": "[encoded data removed]",
      "text/plain": [
       "<Figure size 640x480 with 1 Axes>"
      ]
     },
     "metadata": {},
     "output_type": "display_data"
    }
   ],
   "source": [
    "# TODO UNITS ON AXED also maybe scale to BN USD? \n",
    "\n",
    "flow_data = expanded_df.copy()\n",
    "dst_juri_sum = expanded_df.groupby('dst_jurisdictions')['value_USD'].sum()\n",
    "receivers_gdp = pd.merge(dst_juri_sum, gdp_country, left_on='dst_jurisdictions', right_on='alpha-2', how='inner')\n",
    "receivers_gdp = receivers_gdp.dropna(subset=['2021'])\n",
    "\n",
    "fig, ax = plt.subplots()\n",
    "scatter = ax.scatter(x=np.log10(receivers_gdp.value_USD), y=np.log10(receivers_gdp['2021']))\n",
    "plt.xlabel('Received USD')\n",
    "plt.ylabel('GDP')\n",
    "plt.title('GDP / Received USD')\n",
    "plt.grid(True)\n",
    "\n",
    "corr = pearsonr(receivers_gdp.value_USD, np.log10(receivers_gdp['2021']))\n",
    "display(corr)\n",
    "corr = spearmanr(receivers_gdp.value_USD, np.log10(receivers_gdp['2021']))\n",
    "display(corr)"
   ]
  },
  {
   "cell_type": "markdown",
   "metadata": {},
   "source": [
    "## GDP VS Sent\n",
    "TODO"
   ]
  },
  {
   "cell_type": "code",
   "execution_count": null,
   "metadata": {},
   "outputs": [],
   "source": []
  },
  {
   "cell_type": "code",
   "execution_count": null,
   "metadata": {},
   "outputs": [],
   "source": [
    "gdp_country['2021']"
   ]
  }
 ],
 "metadata": {
  "kernelspec": {
   "display_name": "Python 3 (ipykernel)",
   "language": "python",
   "name": "python3"
  },
  "language_info": {
   "codemirror_mode": {
    "name": "ipython",
    "version": 3
   },
   "file_extension": ".py",
   "mimetype": "text/x-python",
   "name": "python",
   "nbconvert_exporter": "python",
   "pygments_lexer": "ipython3",
   "version": "3.11.4"
  }
 },
 "nbformat": 4,
 "nbformat_minor": 2
}
