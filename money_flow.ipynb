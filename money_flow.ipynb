{
 "cells": [
  {
   "cell_type": "code",
   "execution_count": 1,
   "metadata": {},
   "outputs": [],
   "source": [
    "import json\n",
    "from pprint import pprint\n",
    "\n",
    "import graphsense\n",
    "from graphsense.api import addresses_api, blocks_api, entities_api, general_api, bulk_api"
   ]
  },
  {
   "cell_type": "code",
   "execution_count": 2,
   "metadata": {},
   "outputs": [],
   "source": [
    "f = open('config.json')\n",
    "config = json.load(f)\n",
    "f.close()\n",
    "\n",
    "configuration = graphsense.Configuration(\n",
    "    host = config['graphsense']['host'],\n",
    "    api_key = {'api_key': config['graphsense']['api_key']})\n",
    "\n",
    "CURRENCY = 'btc'"
   ]
  },
  {
   "attachments": {},
   "cell_type": "markdown",
   "metadata": {},
   "source": [
    "We can test whether or client works, by checking what data the GraphSense endpoint provides"
   ]
  },
  {
   "cell_type": "code",
   "execution_count": 3,
   "metadata": {},
   "outputs": [
    {
     "name": "stdout",
     "output_type": "stream",
     "text": [
      "{'currencies': [{'name': 'btc',\n",
      "                 'no_address_relations': 8010745903,\n",
      "                 'no_addresses': 1125436468,\n",
      "                 'no_blocks': 788209,\n",
      "                 'no_entities': 505293766,\n",
      "                 'no_labels': 11480,\n",
      "                 'no_tagged_addresses': 272511938,\n",
      "                 'no_txs': 831922060,\n",
      "                 'timestamp': 1683173699},\n",
      "                {'name': 'bch',\n",
      "                 'no_address_relations': 2423692626,\n",
      "                 'no_addresses': 337363140,\n",
      "                 'no_blocks': 791460,\n",
      "                 'no_entities': 151759141,\n",
      "                 'no_labels': 143,\n",
      "                 'no_tagged_addresses': 15063096,\n",
      "                 'no_txs': 366913515,\n",
      "                 'timestamp': 1683409678},\n",
      "                {'name': 'ltc',\n",
      "                 'no_address_relations': 1709118442,\n",
      "                 'no_addresses': 185503839,\n",
      "                 'no_blocks': 2469328,\n",
      "                 'no_entities': 78395402,\n",
      "                 'no_labels': 181,\n",
      "                 'no_tagged_addresses': 23742836,\n",
      "                 'no_txs': 153027570,\n",
      "                 'timestamp': 1683410285},\n",
      "                {'name': 'zec',\n",
      "                 'no_address_relations': 114081521,\n",
      "                 'no_addresses': 7698703,\n",
      "                 'no_blocks': 2077135,\n",
      "                 'no_entities': 3839973,\n",
      "                 'no_labels': 17,\n",
      "                 'no_tagged_addresses': 1032504,\n",
      "                 'no_txs': 12792441,\n",
      "                 'timestamp': 1683410359},\n",
      "                {'name': 'eth',\n",
      "                 'no_address_relations': 726555454,\n",
      "                 'no_addresses': 254901298,\n",
      "                 'no_blocks': 17204968,\n",
      "                 'no_entities': 0,\n",
      "                 'no_labels': 25289,\n",
      "                 'no_tagged_addresses': 249492,\n",
      "                 'no_txs': 1934952636,\n",
      "                 'timestamp': 1683417599}],\n",
      " 'request_timestamp': '2023-05-08 13:57:59',\n",
      " 'version': '1.3.0'}\n"
     ]
    }
   ],
   "source": [
    "with graphsense.ApiClient(configuration) as api_client:\n",
    "    api_instance = general_api.GeneralApi(api_client)\n",
    "    api_response = api_instance.get_statistics()\n",
    "    pprint(api_response)"
   ]
  }
 ],
 "metadata": {
  "kernelspec": {
   "display_name": "graphsense-python",
   "language": "python",
   "name": "python3"
  },
  "language_info": {
   "codemirror_mode": {
    "name": "ipython",
    "version": 3
   },
   "file_extension": ".py",
   "mimetype": "text/x-python",
   "name": "python",
   "nbconvert_exporter": "python",
   "pygments_lexer": "ipython3",
   "version": "3.11.3"
  },
  "orig_nbformat": 4
 },
 "nbformat": 4,
 "nbformat_minor": 2
}
