{
 "cells": [
  {
   "cell_type": "code",
   "execution_count": 22,
   "metadata": {},
   "outputs": [],
   "source": [
    "import json\n",
    "from pprint import pprint\n",
    "import yaml\n",
    "from yaml.loader import SafeLoader\n",
    "\n",
    "import graphsense\n",
    "from graphsense.api import addresses_api, blocks_api, entities_api, general_api, bulk_api, tags_api"
   ]
  },
  {
   "cell_type": "code",
   "execution_count": 13,
   "metadata": {},
   "outputs": [],
   "source": [
    "f = open('config.json')\n",
    "config = json.load(f)\n",
    "f.close()\n",
    "\n",
    "configuration = graphsense.Configuration(\n",
    "    host = config['graphsense']['host'],\n",
    "    api_key = {'api_key': config['graphsense']['api_key']})\n",
    "\n",
    "CURRENCY = 'btc'"
   ]
  },
  {
   "cell_type": "markdown",
   "metadata": {},
   "source": [
    "We can test whether or client works, by checking what data the GraphSense endpoint provides"
   ]
  },
  {
   "cell_type": "code",
   "execution_count": 10,
   "metadata": {},
   "outputs": [
    {
     "name": "stdout",
     "output_type": "stream",
     "text": [
      "{'currencies': [{'name': 'btc',\n",
      "                 'no_address_relations': 8045406609,\n",
      "                 'no_addresses': 1127517441,\n",
      "                 'no_blocks': 788996,\n",
      "                 'no_entities': 507374739,\n",
      "                 'no_labels': 11480,\n",
      "                 'no_tagged_addresses': 272513744,\n",
      "                 'no_txs': 835044061,\n",
      "                 'timestamp': 1683667252},\n",
      "                {'name': 'bch',\n",
      "                 'no_address_relations': 2425707186,\n",
      "                 'no_addresses': 337410756,\n",
      "                 'no_blocks': 791871,\n",
      "                 'no_entities': 151806757,\n",
      "                 'no_labels': 143,\n",
      "                 'no_tagged_addresses': 15063096,\n",
      "                 'no_txs': 366971904,\n",
      "                 'timestamp': 1683668242},\n",
      "                {'name': 'ltc',\n",
      "                 'no_address_relations': 1716614396,\n",
      "                 'no_addresses': 186605967,\n",
      "                 'no_blocks': 2470886,\n",
      "                 'no_entities': 79497530,\n",
      "                 'no_labels': 181,\n",
      "                 'no_tagged_addresses': 23742836,\n",
      "                 'no_txs': 154468941,\n",
      "                 'timestamp': 1683665395},\n",
      "                {'name': 'zec',\n",
      "                 'no_address_relations': 114268025,\n",
      "                 'no_addresses': 7706261,\n",
      "                 'no_blocks': 2080563,\n",
      "                 'no_entities': 3847531,\n",
      "                 'no_labels': 17,\n",
      "                 'no_tagged_addresses': 1032504,\n",
      "                 'no_txs': 12814038,\n",
      "                 'timestamp': 1683669567},\n",
      "                {'name': 'eth',\n",
      "                 'no_address_relations': 726555454,\n",
      "                 'no_addresses': 254901298,\n",
      "                 'no_blocks': 17226307,\n",
      "                 'no_entities': 0,\n",
      "                 'no_labels': 25289,\n",
      "                 'no_tagged_addresses': 249493,\n",
      "                 'no_txs': 1934952636,\n",
      "                 'timestamp': 1683676799}],\n",
      " 'request_timestamp': '2023-05-10 13:29:40',\n",
      " 'version': '1.3.0'}\n"
     ]
    }
   ],
   "source": [
    "with graphsense.ApiClient(configuration) as api_client:\n",
    "    api_instance = general_api.GeneralApi(api_client)\n",
    "    api_response = api_instance.get_statistics()\n",
    "    pprint(api_response)"
   ]
  },
  {
   "cell_type": "code",
   "execution_count": 17,
   "metadata": {},
   "outputs": [
    {
     "name": "stdout",
     "output_type": "stream",
     "text": [
      "[{'taxonomy': 'entity', 'uri': 'src/tagpack/db/entities.yaml'},\n",
      " {'taxonomy': 'abuse', 'uri': 'src/tagpack/db/abuses.yaml'},\n",
      " {'taxonomy': 'country', 'uri': 'src/tagpack/db/countries.csv'}]\n"
     ]
    }
   ],
   "source": [
    "# Show available Taxonomies\n",
    "with graphsense.ApiClient(configuration) as api_client:\n",
    "    api_instance = tags_api.TagsApi(api_client)\n",
    "    api_response = api_instance.list_taxonomies()\n",
    "    pprint(api_response)"
   ]
  },
  {
   "cell_type": "code",
   "execution_count": 28,
   "metadata": {},
   "outputs": [
    {
     "name": "stdout",
     "output_type": "stream",
     "text": [
      "Found 502 relevant actors\n"
     ]
    }
   ],
   "source": [
    "# Retrieve entities with country\n",
    "with open('graphsense.actorpack.yaml') as f:\n",
    "    actors = yaml.load(f, Loader=SafeLoader)['actors']\n",
    "    relevant_actors = set()\n",
    "    for actor in actors:\n",
    "        jurisdictions = actor.get('jurisdictions')\n",
    "        if not jurisdictions:\n",
    "            continue\n",
    "        relevant_actors.add(actor['id'])\n",
    "print(f'Found {len(relevant_actors)} relevant actors')\n",
    "print('Start retrieving entity information…')\n",
    "# for now take just random sample of 2 entities\n",
    "relevant_actors = random.sample(relevant_actors, 2)\n",
    "with graphsense.ApiClient(configuration) as api_client:\n",
    "    api_instance = entities_api.EntitiesApi(api_client)\n",
    "    for relevant_actor in relevant_actors:\n",
    "        # Create an instance of the API class\n",
    "        # TODO: get entities for actors\n",
    "        \n",
    "    \n",
    "    \n",
    "\n",
    "\n"
   ]
  }
 ],
 "metadata": {
  "kernelspec": {
   "display_name": "Python 3 (ipykernel)",
   "language": "python",
   "name": "python3"
  },
  "language_info": {
   "codemirror_mode": {
    "name": "ipython",
    "version": 3
   },
   "file_extension": ".py",
   "mimetype": "text/x-python",
   "name": "python",
   "nbconvert_exporter": "python",
   "pygments_lexer": "ipython3",
   "version": "3.9.13"
  }
 },
 "nbformat": 4,
 "nbformat_minor": 2
}
